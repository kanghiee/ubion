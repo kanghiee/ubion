{
 "cells": [
  {
   "cell_type": "code",
   "execution_count": 2,
   "metadata": {},
   "outputs": [],
   "source": [
    "from datetime import datetime\n",
    "import seaborn as sns\n",
    "import pandas as pd\n",
    "import numpy as np\n",
    "import matplotlib.pyplot as plt\n",
    "import platform\n",
    "plt.rcParams[\"font.family\"] = 'AppleGothic'  # 사용할 한글 폰트 설정"
   ]
  },
  {
   "cell_type": "code",
   "execution_count": null,
   "metadata": {},
   "outputs": [],
   "source": []
  },
  {
   "cell_type": "markdown",
   "metadata": {},
   "source": [
    "#### 예제\n",
    "1. csv폴더 안에 card 폴더에 있는 오프라인.csv 파일로드\n",
    "2. 컬럼의 이름을 변경- > ['기준년원','업종','성별','연령대','총이용건수','총이용금액]\n",
    "3. 결측치가 존재하는가?\n",
    "4. 기준년월 데이터를 시계열 데이터로 변경\n",
    "5. 남, 여 성별을 기준으로 연도별 건당 이용금액의 평균이 몇인가?\n"
   ]
  },
  {
   "cell_type": "code",
   "execution_count": 3,
   "metadata": {},
   "outputs": [],
   "source": [
    "# 1. csv폴더 안에 card 폴더에 있는 오프라인.csv 파일로드\n",
    "df= pd.read_csv('../csv/card/오프라인.csv', encoding = 'cp949')"
   ]
  },
  {
   "cell_type": "code",
   "execution_count": 4,
   "metadata": {},
   "outputs": [
    {
     "data": {
      "text/html": [
       "<div>\n",
       "<style scoped>\n",
       "    .dataframe tbody tr th:only-of-type {\n",
       "        vertical-align: middle;\n",
       "    }\n",
       "\n",
       "    .dataframe tbody tr th {\n",
       "        vertical-align: top;\n",
       "    }\n",
       "\n",
       "    .dataframe thead th {\n",
       "        text-align: right;\n",
       "    }\n",
       "</style>\n",
       "<table border=\"1\" class=\"dataframe\">\n",
       "  <thead>\n",
       "    <tr style=\"text-align: right;\">\n",
       "      <th></th>\n",
       "      <th>crym</th>\n",
       "      <th>tco_btc_nm</th>\n",
       "      <th>ma_fem_dc</th>\n",
       "      <th>agegrp_dc</th>\n",
       "      <th>tco_btc_u_ct</th>\n",
       "      <th>tco_btc_u_am</th>\n",
       "    </tr>\n",
       "  </thead>\n",
       "  <tbody>\n",
       "    <tr>\n",
       "      <th>0</th>\n",
       "      <td>201901</td>\n",
       "      <td>백화점</td>\n",
       "      <td>1</td>\n",
       "      <td>1</td>\n",
       "      <td>1</td>\n",
       "      <td>7.600000e+03</td>\n",
       "    </tr>\n",
       "    <tr>\n",
       "      <th>1</th>\n",
       "      <td>201901</td>\n",
       "      <td>백화점</td>\n",
       "      <td>1</td>\n",
       "      <td>10</td>\n",
       "      <td>379</td>\n",
       "      <td>1.945872e+07</td>\n",
       "    </tr>\n",
       "    <tr>\n",
       "      <th>2</th>\n",
       "      <td>201901</td>\n",
       "      <td>백화점</td>\n",
       "      <td>1</td>\n",
       "      <td>20</td>\n",
       "      <td>45173</td>\n",
       "      <td>4.747711e+09</td>\n",
       "    </tr>\n",
       "    <tr>\n",
       "      <th>3</th>\n",
       "      <td>201901</td>\n",
       "      <td>백화점</td>\n",
       "      <td>1</td>\n",
       "      <td>30</td>\n",
       "      <td>271858</td>\n",
       "      <td>2.791826e+10</td>\n",
       "    </tr>\n",
       "    <tr>\n",
       "      <th>4</th>\n",
       "      <td>201901</td>\n",
       "      <td>백화점</td>\n",
       "      <td>1</td>\n",
       "      <td>40</td>\n",
       "      <td>391109</td>\n",
       "      <td>3.791149e+10</td>\n",
       "    </tr>\n",
       "  </tbody>\n",
       "</table>\n",
       "</div>"
      ],
      "text/plain": [
       "     crym tco_btc_nm  ma_fem_dc  agegrp_dc  tco_btc_u_ct  tco_btc_u_am\n",
       "0  201901        백화점          1          1             1  7.600000e+03\n",
       "1  201901        백화점          1         10           379  1.945872e+07\n",
       "2  201901        백화점          1         20         45173  4.747711e+09\n",
       "3  201901        백화점          1         30        271858  2.791826e+10\n",
       "4  201901        백화점          1         40        391109  3.791149e+10"
      ]
     },
     "execution_count": 4,
     "metadata": {},
     "output_type": "execute_result"
    }
   ],
   "source": [
    "df.head()"
   ]
  },
  {
   "cell_type": "code",
   "execution_count": 5,
   "metadata": {},
   "outputs": [],
   "source": [
    "#c2. 컬럼의 이름을 변경- > ['기준년월','업종','성별','연령대','총이용건수','총이용금액']\n",
    "df.columns = ['기준년월','업종','성별','연령대','총이용건수','총이용금액']\n"
   ]
  },
  {
   "cell_type": "code",
   "execution_count": 6,
   "metadata": {},
   "outputs": [
    {
     "data": {
      "text/plain": [
       "기준년월     0\n",
       "업종       0\n",
       "성별       0\n",
       "연령대      0\n",
       "총이용건수    0\n",
       "총이용금액    0\n",
       "dtype: int64"
      ]
     },
     "execution_count": 6,
     "metadata": {},
     "output_type": "execute_result"
    }
   ],
   "source": [
    "#3. 결측치가 존재하는가?\n",
    "df.isna().sum()"
   ]
  },
  {
   "cell_type": "code",
   "execution_count": 7,
   "metadata": {},
   "outputs": [
    {
     "data": {
      "text/html": [
       "<div>\n",
       "<style scoped>\n",
       "    .dataframe tbody tr th:only-of-type {\n",
       "        vertical-align: middle;\n",
       "    }\n",
       "\n",
       "    .dataframe tbody tr th {\n",
       "        vertical-align: top;\n",
       "    }\n",
       "\n",
       "    .dataframe thead th {\n",
       "        text-align: right;\n",
       "    }\n",
       "</style>\n",
       "<table border=\"1\" class=\"dataframe\">\n",
       "  <thead>\n",
       "    <tr style=\"text-align: right;\">\n",
       "      <th></th>\n",
       "      <th>기준년월</th>\n",
       "      <th>업종</th>\n",
       "      <th>성별</th>\n",
       "      <th>연령대</th>\n",
       "      <th>총이용건수</th>\n",
       "      <th>총이용금액</th>\n",
       "      <th>Year</th>\n",
       "      <th>이용금액</th>\n",
       "    </tr>\n",
       "  </thead>\n",
       "  <tbody>\n",
       "    <tr>\n",
       "      <th>0</th>\n",
       "      <td>2019-01-01</td>\n",
       "      <td>백화점</td>\n",
       "      <td>남</td>\n",
       "      <td>1</td>\n",
       "      <td>1</td>\n",
       "      <td>7.600000e+03</td>\n",
       "      <td>2019</td>\n",
       "      <td>7600.000000</td>\n",
       "    </tr>\n",
       "    <tr>\n",
       "      <th>1</th>\n",
       "      <td>2019-01-01</td>\n",
       "      <td>백화점</td>\n",
       "      <td>남</td>\n",
       "      <td>10</td>\n",
       "      <td>379</td>\n",
       "      <td>1.945872e+07</td>\n",
       "      <td>2019</td>\n",
       "      <td>51342.269129</td>\n",
       "    </tr>\n",
       "    <tr>\n",
       "      <th>2</th>\n",
       "      <td>2019-01-01</td>\n",
       "      <td>백화점</td>\n",
       "      <td>남</td>\n",
       "      <td>20</td>\n",
       "      <td>45173</td>\n",
       "      <td>4.747711e+09</td>\n",
       "      <td>2019</td>\n",
       "      <td>105100.635357</td>\n",
       "    </tr>\n",
       "    <tr>\n",
       "      <th>3</th>\n",
       "      <td>2019-01-01</td>\n",
       "      <td>백화점</td>\n",
       "      <td>남</td>\n",
       "      <td>30</td>\n",
       "      <td>271858</td>\n",
       "      <td>2.791826e+10</td>\n",
       "      <td>2019</td>\n",
       "      <td>102694.279892</td>\n",
       "    </tr>\n",
       "    <tr>\n",
       "      <th>4</th>\n",
       "      <td>2019-01-01</td>\n",
       "      <td>백화점</td>\n",
       "      <td>남</td>\n",
       "      <td>40</td>\n",
       "      <td>391109</td>\n",
       "      <td>3.791149e+10</td>\n",
       "      <td>2019</td>\n",
       "      <td>96933.301601</td>\n",
       "    </tr>\n",
       "    <tr>\n",
       "      <th>...</th>\n",
       "      <td>...</td>\n",
       "      <td>...</td>\n",
       "      <td>...</td>\n",
       "      <td>...</td>\n",
       "      <td>...</td>\n",
       "      <td>...</td>\n",
       "      <td>...</td>\n",
       "      <td>...</td>\n",
       "    </tr>\n",
       "    <tr>\n",
       "      <th>2643</th>\n",
       "      <td>2021-09-01</td>\n",
       "      <td>편의점</td>\n",
       "      <td>여</td>\n",
       "      <td>50</td>\n",
       "      <td>844081</td>\n",
       "      <td>6.283353e+09</td>\n",
       "      <td>2021</td>\n",
       "      <td>7444.016988</td>\n",
       "    </tr>\n",
       "    <tr>\n",
       "      <th>2644</th>\n",
       "      <td>2021-09-01</td>\n",
       "      <td>편의점</td>\n",
       "      <td>여</td>\n",
       "      <td>60</td>\n",
       "      <td>243768</td>\n",
       "      <td>1.997442e+09</td>\n",
       "      <td>2021</td>\n",
       "      <td>8194.028646</td>\n",
       "    </tr>\n",
       "    <tr>\n",
       "      <th>2645</th>\n",
       "      <td>2021-09-01</td>\n",
       "      <td>편의점</td>\n",
       "      <td>여</td>\n",
       "      <td>70</td>\n",
       "      <td>40523</td>\n",
       "      <td>3.524203e+08</td>\n",
       "      <td>2021</td>\n",
       "      <td>8696.795894</td>\n",
       "    </tr>\n",
       "    <tr>\n",
       "      <th>2646</th>\n",
       "      <td>2021-09-01</td>\n",
       "      <td>편의점</td>\n",
       "      <td>여</td>\n",
       "      <td>80</td>\n",
       "      <td>6349</td>\n",
       "      <td>5.333488e+07</td>\n",
       "      <td>2021</td>\n",
       "      <td>8400.516932</td>\n",
       "    </tr>\n",
       "    <tr>\n",
       "      <th>2647</th>\n",
       "      <td>2021-09-01</td>\n",
       "      <td>편의점</td>\n",
       "      <td>여</td>\n",
       "      <td>90</td>\n",
       "      <td>273</td>\n",
       "      <td>2.619730e+06</td>\n",
       "      <td>2021</td>\n",
       "      <td>9596.080586</td>\n",
       "    </tr>\n",
       "  </tbody>\n",
       "</table>\n",
       "<p>2648 rows × 8 columns</p>\n",
       "</div>"
      ],
      "text/plain": [
       "           기준년월   업종 성별  연령대   총이용건수         총이용금액  Year           이용금액\n",
       "0    2019-01-01  백화점  남    1       1  7.600000e+03  2019    7600.000000\n",
       "1    2019-01-01  백화점  남   10     379  1.945872e+07  2019   51342.269129\n",
       "2    2019-01-01  백화점  남   20   45173  4.747711e+09  2019  105100.635357\n",
       "3    2019-01-01  백화점  남   30  271858  2.791826e+10  2019  102694.279892\n",
       "4    2019-01-01  백화점  남   40  391109  3.791149e+10  2019   96933.301601\n",
       "...         ...  ... ..  ...     ...           ...   ...            ...\n",
       "2643 2021-09-01  편의점  여   50  844081  6.283353e+09  2021    7444.016988\n",
       "2644 2021-09-01  편의점  여   60  243768  1.997442e+09  2021    8194.028646\n",
       "2645 2021-09-01  편의점  여   70   40523  3.524203e+08  2021    8696.795894\n",
       "2646 2021-09-01  편의점  여   80    6349  5.333488e+07  2021    8400.516932\n",
       "2647 2021-09-01  편의점  여   90     273  2.619730e+06  2021    9596.080586\n",
       "\n",
       "[2648 rows x 8 columns]"
      ]
     },
     "execution_count": 7,
     "metadata": {},
     "output_type": "execute_result"
    }
   ],
   "source": [
    "# 4. 기준년월 데이터를 시계열 데이터로 변경 및 \n",
    "#    성별 남,여 변경, 이용금액 파생변수생성\n",
    "df['성별'] = df['성별'].replace({1:'남',2:'여'})\n",
    "\n",
    "df['기준년월'] = pd.to_datetime(df['기준년월'],format = '%Y%m')\n",
    "\n",
    "df['Year'] = df['기준년월'].dt.strftime('%Y')\n",
    "\n",
    "df['이용금액'] = df['총이용금액'] / df['총이용건수']\n",
    "df"
   ]
  },
  {
   "cell_type": "code",
   "execution_count": 8,
   "metadata": {},
   "outputs": [
    {
     "data": {
      "text/html": [
       "<div>\n",
       "<style scoped>\n",
       "    .dataframe tbody tr th:only-of-type {\n",
       "        vertical-align: middle;\n",
       "    }\n",
       "\n",
       "    .dataframe tbody tr th {\n",
       "        vertical-align: top;\n",
       "    }\n",
       "\n",
       "    .dataframe thead th {\n",
       "        text-align: right;\n",
       "    }\n",
       "</style>\n",
       "<table border=\"1\" class=\"dataframe\">\n",
       "  <thead>\n",
       "    <tr style=\"text-align: right;\">\n",
       "      <th></th>\n",
       "      <th>기준년월</th>\n",
       "      <th>업종</th>\n",
       "      <th>성별</th>\n",
       "      <th>연령대</th>\n",
       "      <th>총이용건수</th>\n",
       "      <th>총이용금액</th>\n",
       "      <th>Year</th>\n",
       "      <th>이용금액</th>\n",
       "    </tr>\n",
       "  </thead>\n",
       "  <tbody>\n",
       "    <tr>\n",
       "      <th>0</th>\n",
       "      <td>2019-01-01</td>\n",
       "      <td>백화점</td>\n",
       "      <td>남</td>\n",
       "      <td>1</td>\n",
       "      <td>1</td>\n",
       "      <td>7.600000e+03</td>\n",
       "      <td>2019</td>\n",
       "      <td>7600.000000</td>\n",
       "    </tr>\n",
       "    <tr>\n",
       "      <th>1</th>\n",
       "      <td>2019-01-01</td>\n",
       "      <td>백화점</td>\n",
       "      <td>남</td>\n",
       "      <td>10</td>\n",
       "      <td>379</td>\n",
       "      <td>1.945872e+07</td>\n",
       "      <td>2019</td>\n",
       "      <td>51342.269129</td>\n",
       "    </tr>\n",
       "    <tr>\n",
       "      <th>2</th>\n",
       "      <td>2019-01-01</td>\n",
       "      <td>백화점</td>\n",
       "      <td>남</td>\n",
       "      <td>20</td>\n",
       "      <td>45173</td>\n",
       "      <td>4.747711e+09</td>\n",
       "      <td>2019</td>\n",
       "      <td>105100.635357</td>\n",
       "    </tr>\n",
       "    <tr>\n",
       "      <th>3</th>\n",
       "      <td>2019-01-01</td>\n",
       "      <td>백화점</td>\n",
       "      <td>남</td>\n",
       "      <td>30</td>\n",
       "      <td>271858</td>\n",
       "      <td>2.791826e+10</td>\n",
       "      <td>2019</td>\n",
       "      <td>102694.279892</td>\n",
       "    </tr>\n",
       "    <tr>\n",
       "      <th>4</th>\n",
       "      <td>2019-01-01</td>\n",
       "      <td>백화점</td>\n",
       "      <td>남</td>\n",
       "      <td>40</td>\n",
       "      <td>391109</td>\n",
       "      <td>3.791149e+10</td>\n",
       "      <td>2019</td>\n",
       "      <td>96933.301601</td>\n",
       "    </tr>\n",
       "    <tr>\n",
       "      <th>...</th>\n",
       "      <td>...</td>\n",
       "      <td>...</td>\n",
       "      <td>...</td>\n",
       "      <td>...</td>\n",
       "      <td>...</td>\n",
       "      <td>...</td>\n",
       "      <td>...</td>\n",
       "      <td>...</td>\n",
       "    </tr>\n",
       "    <tr>\n",
       "      <th>2643</th>\n",
       "      <td>2021-09-01</td>\n",
       "      <td>편의점</td>\n",
       "      <td>여</td>\n",
       "      <td>50</td>\n",
       "      <td>844081</td>\n",
       "      <td>6.283353e+09</td>\n",
       "      <td>2021</td>\n",
       "      <td>7444.016988</td>\n",
       "    </tr>\n",
       "    <tr>\n",
       "      <th>2644</th>\n",
       "      <td>2021-09-01</td>\n",
       "      <td>편의점</td>\n",
       "      <td>여</td>\n",
       "      <td>60</td>\n",
       "      <td>243768</td>\n",
       "      <td>1.997442e+09</td>\n",
       "      <td>2021</td>\n",
       "      <td>8194.028646</td>\n",
       "    </tr>\n",
       "    <tr>\n",
       "      <th>2645</th>\n",
       "      <td>2021-09-01</td>\n",
       "      <td>편의점</td>\n",
       "      <td>여</td>\n",
       "      <td>70</td>\n",
       "      <td>40523</td>\n",
       "      <td>3.524203e+08</td>\n",
       "      <td>2021</td>\n",
       "      <td>8696.795894</td>\n",
       "    </tr>\n",
       "    <tr>\n",
       "      <th>2646</th>\n",
       "      <td>2021-09-01</td>\n",
       "      <td>편의점</td>\n",
       "      <td>여</td>\n",
       "      <td>80</td>\n",
       "      <td>6349</td>\n",
       "      <td>5.333488e+07</td>\n",
       "      <td>2021</td>\n",
       "      <td>8400.516932</td>\n",
       "    </tr>\n",
       "    <tr>\n",
       "      <th>2647</th>\n",
       "      <td>2021-09-01</td>\n",
       "      <td>편의점</td>\n",
       "      <td>여</td>\n",
       "      <td>90</td>\n",
       "      <td>273</td>\n",
       "      <td>2.619730e+06</td>\n",
       "      <td>2021</td>\n",
       "      <td>9596.080586</td>\n",
       "    </tr>\n",
       "  </tbody>\n",
       "</table>\n",
       "<p>2648 rows × 8 columns</p>\n",
       "</div>"
      ],
      "text/plain": [
       "           기준년월   업종 성별  연령대   총이용건수         총이용금액  Year           이용금액\n",
       "0    2019-01-01  백화점  남    1       1  7.600000e+03  2019    7600.000000\n",
       "1    2019-01-01  백화점  남   10     379  1.945872e+07  2019   51342.269129\n",
       "2    2019-01-01  백화점  남   20   45173  4.747711e+09  2019  105100.635357\n",
       "3    2019-01-01  백화점  남   30  271858  2.791826e+10  2019  102694.279892\n",
       "4    2019-01-01  백화점  남   40  391109  3.791149e+10  2019   96933.301601\n",
       "...         ...  ... ..  ...     ...           ...   ...            ...\n",
       "2643 2021-09-01  편의점  여   50  844081  6.283353e+09  2021    7444.016988\n",
       "2644 2021-09-01  편의점  여   60  243768  1.997442e+09  2021    8194.028646\n",
       "2645 2021-09-01  편의점  여   70   40523  3.524203e+08  2021    8696.795894\n",
       "2646 2021-09-01  편의점  여   80    6349  5.333488e+07  2021    8400.516932\n",
       "2647 2021-09-01  편의점  여   90     273  2.619730e+06  2021    9596.080586\n",
       "\n",
       "[2648 rows x 8 columns]"
      ]
     },
     "execution_count": 8,
     "metadata": {},
     "output_type": "execute_result"
    }
   ],
   "source": [
    "df"
   ]
  },
  {
   "cell_type": "code",
   "execution_count": 9,
   "metadata": {},
   "outputs": [
    {
     "data": {
      "text/html": [
       "<div>\n",
       "<style scoped>\n",
       "    .dataframe tbody tr th:only-of-type {\n",
       "        vertical-align: middle;\n",
       "    }\n",
       "\n",
       "    .dataframe tbody tr th {\n",
       "        vertical-align: top;\n",
       "    }\n",
       "\n",
       "    .dataframe thead th {\n",
       "        text-align: right;\n",
       "    }\n",
       "</style>\n",
       "<table border=\"1\" class=\"dataframe\">\n",
       "  <thead>\n",
       "    <tr style=\"text-align: right;\">\n",
       "      <th></th>\n",
       "      <th></th>\n",
       "      <th>이용금액</th>\n",
       "    </tr>\n",
       "    <tr>\n",
       "      <th>Year</th>\n",
       "      <th>성별</th>\n",
       "      <th></th>\n",
       "    </tr>\n",
       "  </thead>\n",
       "  <tbody>\n",
       "    <tr>\n",
       "      <th rowspan=\"2\" valign=\"top\">2019</th>\n",
       "      <th>남</th>\n",
       "      <td>39184.35</td>\n",
       "    </tr>\n",
       "    <tr>\n",
       "      <th>여</th>\n",
       "      <td>38107.84</td>\n",
       "    </tr>\n",
       "    <tr>\n",
       "      <th rowspan=\"2\" valign=\"top\">2020</th>\n",
       "      <th>남</th>\n",
       "      <td>44009.59</td>\n",
       "    </tr>\n",
       "    <tr>\n",
       "      <th>여</th>\n",
       "      <td>41389.76</td>\n",
       "    </tr>\n",
       "    <tr>\n",
       "      <th rowspan=\"2\" valign=\"top\">2021</th>\n",
       "      <th>남</th>\n",
       "      <td>46948.32</td>\n",
       "    </tr>\n",
       "    <tr>\n",
       "      <th>여</th>\n",
       "      <td>43306.32</td>\n",
       "    </tr>\n",
       "  </tbody>\n",
       "</table>\n",
       "</div>"
      ],
      "text/plain": [
       "             이용금액\n",
       "Year 성별          \n",
       "2019 남   39184.35\n",
       "     여   38107.84\n",
       "2020 남   44009.59\n",
       "     여   41389.76\n",
       "2021 남   46948.32\n",
       "     여   43306.32"
      ]
     },
     "execution_count": 9,
     "metadata": {},
     "output_type": "execute_result"
    }
   ],
   "source": [
    "# group by 이용\n",
    "d1 = df[['Year','성별','이용금액']].groupby(['Year','성별']).agg('mean')\n",
    "d1['이용금액'] = round(d1['이용금액'],2)\n",
    "d1"
   ]
  },
  {
   "cell_type": "code",
   "execution_count": 10,
   "metadata": {},
   "outputs": [
    {
     "data": {
      "text/plain": [
       "<AxesSubplot:xlabel='Year,성별'>"
      ]
     },
     "execution_count": 10,
     "metadata": {},
     "output_type": "execute_result"
    },
    {
     "data": {
      "image/png": "[encoded data removed]",
      "text/plain": [
       "<Figure size 432x288 with 1 Axes>"
      ]
     },
     "metadata": {
      "needs_background": "light"
     },
     "output_type": "display_data"
    }
   ],
   "source": [
    "d1.plot(kind = 'bar')"
   ]
  },
  {
   "cell_type": "code",
   "execution_count": 11,
   "metadata": {},
   "outputs": [
    {
     "data": {
      "text/plain": [
       "<AxesSubplot:xlabel='Year'>"
      ]
     },
     "execution_count": 11,
     "metadata": {},
     "output_type": "execute_result"
    },
    {
     "data": {
      "image/png": "[encoded data removed]",
      "text/plain": [
       "<Figure size 432x288 with 1 Axes>"
      ]
     },
     "metadata": {
      "needs_background": "light"
     },
     "output_type": "display_data"
    }
   ],
   "source": [
    "# pivot_table 이용\n",
    "df_pivot = d1.pivot_table(\n",
    "    index = 'Year',\n",
    "    values = '이용금액',\n",
    "    aggfunc = 'mean',\n",
    "    columns='성별'\n",
    "\n",
    ")\n",
    "df_pivot.plot(kind='bar')"
   ]
  },
  {
   "cell_type": "code",
   "execution_count": 12,
   "metadata": {},
   "outputs": [],
   "source": [
    "import seaborn as sns"
   ]
  },
  {
   "cell_type": "code",
   "execution_count": 13,
   "metadata": {},
   "outputs": [],
   "source": [
    "d2 = d1.reset_index().copy()"
   ]
  },
  {
   "cell_type": "code",
   "execution_count": 14,
   "metadata": {},
   "outputs": [
    {
     "data": {
      "text/plain": [
       "<AxesSubplot:xlabel='Year', ylabel='이용금액'>"
      ]
     },
     "execution_count": 14,
     "metadata": {},
     "output_type": "execute_result"
    },
    {
     "data": {
      "image/png": "[encoded data removed]",
      "text/plain": [
       "<Figure size 432x288 with 1 Axes>"
      ]
     },
     "metadata": {
      "needs_background": "light"
     },
     "output_type": "display_data"
    }
   ],
   "source": [
    "# seaborn 이용\n",
    "sns.barplot( data = d2, x = 'Year', y = '이용금액', hue='성별')"
   ]
  },
  {
   "cell_type": "code",
   "execution_count": 15,
   "metadata": {},
   "outputs": [
    {
     "data": {
      "text/plain": [
       "<AxesSubplot:xlabel='Year'>"
      ]
     },
     "execution_count": 15,
     "metadata": {},
     "output_type": "execute_result"
    },
    {
     "data": {
      "image/png": "[encoded data removed]",
      "text/plain": [
       "<Figure size 432x288 with 1 Axes>"
      ]
     },
     "metadata": {
      "needs_background": "light"
     },
     "output_type": "display_data"
    }
   ],
   "source": [
    "# index를 column으로 이동 : unstack()\n",
    "d1.unstack().plot(kind='bar')"
   ]
  },
  {
   "cell_type": "code",
   "execution_count": 16,
   "metadata": {},
   "outputs": [
    {
     "data": {
      "text/plain": [
       "Year  성별      \n",
       "2019  남   이용금액    39184.35\n",
       "      여   이용금액    38107.84\n",
       "2020  남   이용금액    44009.59\n",
       "      여   이용금액    41389.76\n",
       "2021  남   이용금액    46948.32\n",
       "      여   이용금액    43306.32\n",
       "dtype: float64"
      ]
     },
     "execution_count": 16,
     "metadata": {},
     "output_type": "execute_result"
    }
   ],
   "source": [
    "# column을 index로 이동 : stack()\n",
    "d1.stack()"
   ]
  },
  {
   "cell_type": "code",
   "execution_count": 17,
   "metadata": {},
   "outputs": [],
   "source": [
    "## 컬럼의 데이터를 인덱스로 변경\n",
    "## 설정하다(set) + 인덱스(index) -> set_index()\n",
    "df.set_index('기준년월',inplace = True)"
   ]
  },
  {
   "cell_type": "code",
   "execution_count": 18,
   "metadata": {},
   "outputs": [
    {
     "data": {
      "text/plain": [
       "기준년월\n",
       "2019-01-01    8.717640e+11\n",
       "2019-02-01    7.755979e+11\n",
       "2019-03-01    9.027603e+11\n",
       "2019-04-01    8.850403e+11\n",
       "2019-05-01    9.427953e+11\n",
       "2019-06-01    8.651183e+11\n",
       "2019-07-01    8.757622e+11\n",
       "2019-08-01    8.504003e+11\n",
       "2019-09-01    9.243550e+11\n",
       "2019-10-01    9.305846e+11\n",
       "2019-11-01    9.497879e+11\n",
       "2019-12-01    9.788397e+11\n",
       "2020-01-01    8.988784e+11\n",
       "2020-02-01    7.081442e+11\n",
       "2020-03-01    7.232449e+11\n",
       "2020-04-01    7.884697e+11\n",
       "2020-05-01    8.671502e+11\n",
       "2020-06-01    8.476832e+11\n",
       "2020-07-01    7.958824e+11\n",
       "2020-08-01    8.421567e+11\n",
       "2020-09-01    8.638192e+11\n",
       "2020-10-01    9.075381e+11\n",
       "2020-11-01    9.155520e+11\n",
       "2020-12-01    8.032242e+11\n",
       "2021-01-01    8.091200e+11\n",
       "2021-02-01    7.698808e+11\n",
       "2021-03-01    8.747389e+11\n",
       "2021-04-01    8.403269e+11\n",
       "2021-05-01    9.169530e+11\n",
       "2021-06-01    8.168673e+11\n",
       "2021-07-01    7.840346e+11\n",
       "2021-08-01    8.560545e+11\n",
       "2021-09-01    8.163331e+11\n",
       "Name: 총이용금액, dtype: float64"
      ]
     },
     "execution_count": 18,
     "metadata": {},
     "output_type": "execute_result"
    }
   ],
   "source": [
    "## 기준년별 총 이용금액의 합계를 그래프로 시각화 \n",
    "df.groupby('기준년월').sum()['총이용금액']"
   ]
  },
  {
   "cell_type": "code",
   "execution_count": 24,
   "metadata": {},
   "outputs": [],
   "source": [
    "#그룹화\n",
    "group_data2 = df[['업종','총이용금액']].groupby(['기준년월','업종']).sum()"
   ]
  },
  {
   "cell_type": "code",
   "execution_count": 25,
   "metadata": {},
   "outputs": [
    {
     "data": {
      "text/html": [
       "<div>\n",
       "<style scoped>\n",
       "    .dataframe tbody tr th:only-of-type {\n",
       "        vertical-align: middle;\n",
       "    }\n",
       "\n",
       "    .dataframe tbody tr th {\n",
       "        vertical-align: top;\n",
       "    }\n",
       "\n",
       "    .dataframe thead th {\n",
       "        text-align: right;\n",
       "    }\n",
       "</style>\n",
       "<table border=\"1\" class=\"dataframe\">\n",
       "  <thead>\n",
       "    <tr style=\"text-align: right;\">\n",
       "      <th></th>\n",
       "      <th></th>\n",
       "      <th>총이용금액</th>\n",
       "    </tr>\n",
       "    <tr>\n",
       "      <th>기준년월</th>\n",
       "      <th>업종</th>\n",
       "      <th></th>\n",
       "    </tr>\n",
       "  </thead>\n",
       "  <tbody>\n",
       "    <tr>\n",
       "      <th rowspan=\"4\" valign=\"top\">2019-01-01</th>\n",
       "      <th>백화점</th>\n",
       "      <td>4.558955e+11</td>\n",
       "    </tr>\n",
       "    <tr>\n",
       "      <th>슈퍼마켓</th>\n",
       "      <td>1.736131e+11</td>\n",
       "    </tr>\n",
       "    <tr>\n",
       "      <th>편의점</th>\n",
       "      <td>4.408358e+10</td>\n",
       "    </tr>\n",
       "    <tr>\n",
       "      <th>할인점</th>\n",
       "      <td>1.981718e+11</td>\n",
       "    </tr>\n",
       "    <tr>\n",
       "      <th>2019-02-01</th>\n",
       "      <th>백화점</th>\n",
       "      <td>4.011916e+11</td>\n",
       "    </tr>\n",
       "    <tr>\n",
       "      <th>...</th>\n",
       "      <th>...</th>\n",
       "      <td>...</td>\n",
       "    </tr>\n",
       "    <tr>\n",
       "      <th>2021-08-01</th>\n",
       "      <th>할인점</th>\n",
       "      <td>1.884296e+11</td>\n",
       "    </tr>\n",
       "    <tr>\n",
       "      <th rowspan=\"4\" valign=\"top\">2021-09-01</th>\n",
       "      <th>백화점</th>\n",
       "      <td>4.220812e+11</td>\n",
       "    </tr>\n",
       "    <tr>\n",
       "      <th>슈퍼마켓</th>\n",
       "      <td>1.818095e+11</td>\n",
       "    </tr>\n",
       "    <tr>\n",
       "      <th>편의점</th>\n",
       "      <td>6.136282e+10</td>\n",
       "    </tr>\n",
       "    <tr>\n",
       "      <th>할인점</th>\n",
       "      <td>1.510796e+11</td>\n",
       "    </tr>\n",
       "  </tbody>\n",
       "</table>\n",
       "<p>132 rows × 1 columns</p>\n",
       "</div>"
      ],
      "text/plain": [
       "                        총이용금액\n",
       "기준년월       업종                \n",
       "2019-01-01 백화점   4.558955e+11\n",
       "           슈퍼마켓  1.736131e+11\n",
       "           편의점   4.408358e+10\n",
       "           할인점   1.981718e+11\n",
       "2019-02-01 백화점   4.011916e+11\n",
       "...                       ...\n",
       "2021-08-01 할인점   1.884296e+11\n",
       "2021-09-01 백화점   4.220812e+11\n",
       "           슈퍼마켓  1.818095e+11\n",
       "           편의점   6.136282e+10\n",
       "           할인점   1.510796e+11\n",
       "\n",
       "[132 rows x 1 columns]"
      ]
     },
     "execution_count": 25,
     "metadata": {},
     "output_type": "execute_result"
    }
   ],
   "source": [
    "group_data2"
   ]
  },
  {
   "cell_type": "code",
   "execution_count": 27,
   "metadata": {},
   "outputs": [
    {
     "data": {
      "text/plain": [
       "<AxesSubplot:xlabel='기준년월'>"
      ]
     },
     "execution_count": 27,
     "metadata": {},
     "output_type": "execute_result"
    },
    {
     "data": {
      "image/png": "[encoded data removed]",
      "text/plain": [
       "<Figure size 432x288 with 1 Axes>"
      ]
     },
     "metadata": {
      "needs_background": "light"
     },
     "output_type": "display_data"
    }
   ],
   "source": [
    "group_data2.unstack().plot()\n"
   ]
  },
  {
   "cell_type": "code",
   "execution_count": 21,
   "metadata": {},
   "outputs": [],
   "source": [
    "pivot_data2 = df.pivot_table(\n",
    "    index = '기준년월',\n",
    "    columns = '업종',\n",
    "    values = '총이용금액',\n",
    "    aggfunc='sum'\n",
    ")"
   ]
  },
  {
   "cell_type": "code",
   "execution_count": 22,
   "metadata": {},
   "outputs": [
    {
     "data": {
      "text/plain": [
       "<AxesSubplot:xlabel='기준년월'>"
      ]
     },
     "execution_count": 22,
     "metadata": {},
     "output_type": "execute_result"
    },
    {
     "data": {
      "text/plain": [
       "<Figure size 1440x720 with 0 Axes>"
      ]
     },
     "metadata": {},
     "output_type": "display_data"
    },
    {
     "data": {
      "image/png": "[encoded data removed]",
      "text/plain": [
       "<Figure size 432x288 with 1 Axes>"
      ]
     },
     "metadata": {
      "needs_background": "light"
     },
     "output_type": "display_data"
    }
   ],
   "source": [
    "plt.figure(figsize = (20,10))\n",
    "pivot_data2.plot()"
   ]
  }
 ],
 "metadata": {
  "kernelspec": {
   "display_name": "Python 3",
   "language": "python",
   "name": "python3"
  },
  "language_info": {
   "codemirror_mode": {
    "name": "ipython",
    "version": 3
   },
   "file_extension": ".py",
   "mimetype": "text/x-python",
   "name": "python",
   "nbconvert_exporter": "python",
   "pygments_lexer": "ipython3",
   "version": "3.9.7"
  }
 },
 "nbformat": 4,
 "nbformat_minor": 2
}
