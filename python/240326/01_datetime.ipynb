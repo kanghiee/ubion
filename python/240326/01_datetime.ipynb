{
 "cells": [
  {
   "cell_type": "code",
   "execution_count": 12,
   "metadata": {},
   "outputs": [],
   "source": [
    "from datetime import datetime\n",
    "import seaborn as sns\n",
    "import pandas as pd\n",
    "import numpy as np\n",
    "import matplotlib.pyplot as plt\n",
    "import platform\n",
    "plt.rcParams[\"font.family\"] = 'AppleGothic'  # 사용할 한글 폰트 설정"
   ]
  },
  {
   "cell_type": "code",
   "execution_count": 13,
   "metadata": {},
   "outputs": [
    {
     "name": "stdout",
     "output_type": "stream",
     "text": [
      "2024-03-26 09:45:10\n"
     ]
    }
   ],
   "source": [
    "# 문자열 데이터를 시계열 데이터로 변환(strptime)\n",
    "time_data = \"2024-03-26 09:45:10\"\n",
    "type(time_data)\n",
    "time = datetime.strptime(time_data, \"%Y-%m-%d %H:%M:%S\")\n",
    "print(time)"
   ]
  },
  {
   "cell_type": "code",
   "execution_count": 14,
   "metadata": {},
   "outputs": [
    {
     "name": "stdout",
     "output_type": "stream",
     "text": [
      "2024-03-01 00:00:00\n"
     ]
    }
   ],
   "source": [
    "time_data2 = \"2024년03월\"\n",
    "\n",
    "time2 = datetime.strptime(time_data2, \"%Y년%m월\")\n",
    "print(time2)"
   ]
  },
  {
   "cell_type": "code",
   "execution_count": 17,
   "metadata": {},
   "outputs": [
    {
     "data": {
      "text/plain": [
       "'2024년 03월 26일 09시 03분 1711413910초 Tuesday'"
      ]
     },
     "execution_count": 17,
     "metadata": {},
     "output_type": "execute_result"
    }
   ],
   "source": [
    "## 시계열 데이터를 문자열 데이터로 변환(strftime)\n",
    "time.strftime('%Y년 %m월 %d일 %H시 %m분 %s초 %A')"
   ]
  },
  {
   "cell_type": "code",
   "execution_count": 16,
   "metadata": {},
   "outputs": [
    {
     "data": {
      "text/plain": [
       "'Friday'"
      ]
     },
     "execution_count": 16,
     "metadata": {},
     "output_type": "execute_result"
    }
   ],
   "source": [
    "time2.strftime('%A')"
   ]
  },
  {
   "cell_type": "markdown",
   "metadata": {},
   "source": [
    "#### datetime에서 사용되는 format\n",
    "- %Y : 년도 전체를 표기 ('2024')\n",
    "- %y : 년도를 축약해서 표기 ('24')\n",
    "- %m : 월을 숫자로 표기 ('01')\n",
    "- %B : 월의 이름 ('March)\n",
    "- %b : 축약된 월의 이름 ('Mar)\n",
    "- %d : 일을 숫자로 표기 ('26')\n",
    "- %H : 24시를 기준으로 표기('18') 저녁 6시 -> 18\n",
    "- %I : 12시를 기준으로 표기('06') 저녁 6시 -> 06\n",
    "- %M : 분을 표기\n",
    "- %S : 초를 표기\n",
    "- %P : AM/PM 표기\n",
    "- %A : 요일의 이름을 표기 ('Friday')\n",
    "- %a : 요일의 이름을 축약해서 표기 ('Fri')\n",
    "- %w : 요일을 숫자로 표기(0:일요일, 1:월요일, ... , 6:토요일)"
   ]
  },
  {
   "cell_type": "code",
   "execution_count": 18,
   "metadata": {},
   "outputs": [
    {
     "data": {
      "text/plain": [
       "Timedelta('1 days 00:00:00')"
      ]
     },
     "execution_count": 18,
     "metadata": {},
     "output_type": "execute_result"
    }
   ],
   "source": [
    "pd.Timedelta(days=1)"
   ]
  },
  {
   "cell_type": "code",
   "execution_count": 19,
   "metadata": {},
   "outputs": [
    {
     "data": {
      "text/plain": [
       "Timestamp('2024-03-26 00:00:00')"
      ]
     },
     "execution_count": 19,
     "metadata": {},
     "output_type": "execute_result"
    }
   ],
   "source": [
    "pd.Timestamp(year = 2024, month = 3, day = 26)"
   ]
  },
  {
   "cell_type": "code",
   "execution_count": 60,
   "metadata": {},
   "outputs": [
    {
     "data": {
      "text/plain": [
       "Timestamp('2024-03-26 00:00:00')"
      ]
     },
     "execution_count": 60,
     "metadata": {},
     "output_type": "execute_result"
    }
   ],
   "source": [
    "# 문자열을 시계열 변경\n",
    "time_data3 = \"2024-03-26\"\n",
    "pd.to_datetime(time_data3)"
   ]
  },
  {
   "cell_type": "code",
   "execution_count": 67,
   "metadata": {},
   "outputs": [
    {
     "data": {
      "text/plain": [
       "Timestamp('2024-03-01 00:00:00')"
      ]
     },
     "execution_count": 67,
     "metadata": {},
     "output_type": "execute_result"
    }
   ],
   "source": [
    "time_data4 = '2024년 3월'\n",
    "pd.to_datetime(time_data4, format = '%Y년 %m월')"
   ]
  },
  {
   "cell_type": "code",
   "execution_count": 70,
   "metadata": {},
   "outputs": [
    {
     "data": {
      "text/plain": [
       "Timestamp('2024-11-30 16:30:00')"
      ]
     },
     "execution_count": 70,
     "metadata": {},
     "output_type": "execute_result"
    }
   ],
   "source": [
    "time_data5 = \"16:30:00 30-11-24\"\n",
    "pd.to_datetime(time_data5)"
   ]
  },
  {
   "cell_type": "code",
   "execution_count": null,
   "metadata": {},
   "outputs": [],
   "source": []
  }
 ],
 "metadata": {
  "kernelspec": {
   "display_name": "Python 3",
   "language": "python",
   "name": "python3"
  },
  "language_info": {
   "codemirror_mode": {
    "name": "ipython",
    "version": 3
   },
   "file_extension": ".py",
   "mimetype": "text/x-python",
   "name": "python",
   "nbconvert_exporter": "python",
   "pygments_lexer": "ipython3",
   "version": "3.9.7"
  }
 },
 "nbformat": 4,
 "nbformat_minor": 2
}
