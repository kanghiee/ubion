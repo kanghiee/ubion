{
 "cells": [
  {
   "cell_type": "code",
   "execution_count": 6,
   "metadata": {},
   "outputs": [],
   "source": [
    "#class 선언\n",
    "class Test_Class():\n",
    "    # 생성자 함수(초기화 함수)\n",
    "    # class가 생성이 될 때 최초로 한 번만 실행이 되는 함수\n",
    "    # 일반적으로는 class 안에서 사용할\n",
    "    # self변수에 데이터를 대입하기 위해 사용\n",
    "    def __init__(self, input_a, input_b):\n",
    "        # self.변수 생성\n",
    "        self.a = input_a\n",
    "        self.b = input_b"
   ]
  },
  {
   "cell_type": "code",
   "execution_count": 13,
   "metadata": {},
   "outputs": [],
   "source": [
    "## class 생성\n",
    "a_class = Test_Class(10, 'test')"
   ]
  },
  {
   "cell_type": "code",
   "execution_count": 14,
   "metadata": {},
   "outputs": [
    {
     "name": "stdout",
     "output_type": "stream",
     "text": [
      "<__main__.Test_Class object at 0x7fdaf8d17730>\n",
      "10\n",
      "test\n"
     ]
    }
   ],
   "source": [
    "## a_class 안에 있는 a라는 변수와 b라는 변수를 호출\n",
    "print(a_class)\n",
    "print(a_class.a)\n",
    "print(a_class.b)"
   ]
  },
  {
   "cell_type": "code",
   "execution_count": 15,
   "metadata": {},
   "outputs": [],
   "source": [
    "b_class = Test_Class(30,3.1)"
   ]
  },
  {
   "cell_type": "code",
   "execution_count": 18,
   "metadata": {},
   "outputs": [
    {
     "name": "stdout",
     "output_type": "stream",
     "text": [
      "<__main__.Test_Class object at 0x7fdac08dd970>\n",
      "30\n",
      "3.1\n"
     ]
    }
   ],
   "source": [
    "print(b_class)\n",
    "print(b_class.a)\n",
    "print(b_class.b)"
   ]
  },
  {
   "cell_type": "code",
   "execution_count": 5,
   "metadata": {},
   "outputs": [],
   "source": [
    "class Calculate():\n",
    "    def __init__(self, input_x, input_y):\n",
    "        self.x = input_x\n",
    "        self.y = input_y\n",
    "    # 두 개의 self.x와 self.y의 합을 되돌려 주는 함수\n",
    "    def add(self):\n",
    "        result = self.x + self.y\n",
    "        return result\n",
    "    # 두 개의 self.x와 self.y의 차를 되돌려 주는 함수\n",
    "    def subtract(self):\n",
    "        result = self.x - self.y\n",
    "        return result"
   ]
  },
  {
   "cell_type": "code",
   "execution_count": 6,
   "metadata": {},
   "outputs": [],
   "source": [
    "# c_class라는 공간에 x라는 변수를 생성하여 10을 대입하고\n",
    "# y라는 변수를 생성하여 5라는 데이터를 대입\n",
    "c_class = Calculate(10,5)\n",
    "d_class = Calculate(20,9)"
   ]
  },
  {
   "cell_type": "code",
   "execution_count": 7,
   "metadata": {},
   "outputs": [
    {
     "name": "stdout",
     "output_type": "stream",
     "text": [
      "10\n",
      "20\n"
     ]
    }
   ],
   "source": [
    "print(c_class.x)\n",
    "print(d_class.x)"
   ]
  },
  {
   "cell_type": "code",
   "execution_count": 11,
   "metadata": {},
   "outputs": [
    {
     "name": "stdout",
     "output_type": "stream",
     "text": [
      "15\n"
     ]
    }
   ],
   "source": [
    "# c_class 안에 있는 add() 함수를 호출\n",
    "# add(): 자기자신안에 있는 x와 y를 더해서 결과를 되돌려준다.\n",
    "#        self.x -> 10, self.y -> 5\n",
    "print(c_class.add())"
   ]
  },
  {
   "cell_type": "code",
   "execution_count": 13,
   "metadata": {},
   "outputs": [
    {
     "name": "stdout",
     "output_type": "stream",
     "text": [
      "29\n"
     ]
    }
   ],
   "source": [
    "# d_class 안에 있는 add() 함수를 호출\n",
    "# self.x -> 20, self.y -> 9\n",
    "print(d_class.add())"
   ]
  },
  {
   "cell_type": "code",
   "execution_count": 14,
   "metadata": {},
   "outputs": [
    {
     "name": "stdout",
     "output_type": "stream",
     "text": [
      "5\n",
      "11\n"
     ]
    }
   ],
   "source": [
    "print(c_class.subtract())\n",
    "print(d_class.subtract())"
   ]
  },
  {
   "cell_type": "code",
   "execution_count": null,
   "metadata": {},
   "outputs": [],
   "source": []
  }
 ],
 "metadata": {
  "kernelspec": {
   "display_name": "Python 3",
   "language": "python",
   "name": "python3"
  },
  "language_info": {
   "codemirror_mode": {
    "name": "ipython",
    "version": 3
   },
   "file_extension": ".py",
   "mimetype": "text/x-python",
   "name": "python",
   "nbconvert_exporter": "python",
   "pygments_lexer": "ipython3",
   "version": "3.9.7"
  }
 },
 "nbformat": 4,
 "nbformat_minor": 2
}
