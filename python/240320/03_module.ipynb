{
 "cells": [
  {
   "cell_type": "code",
   "execution_count": 1,
   "metadata": {},
   "outputs": [],
   "source": [
    "import database as db"
   ]
  },
  {
   "cell_type": "code",
   "execution_count": 2,
   "metadata": {},
   "outputs": [],
   "source": [
    "# database라는 모듈 안에 있는 MyDB Class 생성\n",
    "db1 = db.MyDB()"
   ]
  },
  {
   "cell_type": "code",
   "execution_count": 3,
   "metadata": {},
   "outputs": [
    {
     "data": {
      "text/plain": [
       "[{'transaction_id': 'T0000000116',\n",
       "  'price': 210000,\n",
       "  'payment_date': '2019-02-01 02:47:23',\n",
       "  'customer_id': 'IK452215'},\n",
       " {'transaction_id': 'T0000000117',\n",
       "  'price': 170000,\n",
       "  'payment_date': '2019-02-01 04:33:46',\n",
       "  'customer_id': 'PL542865'},\n",
       " {'transaction_id': 'T0000000118',\n",
       "  'price': 120000,\n",
       "  'payment_date': '2019-02-01 04:36:50',\n",
       "  'customer_id': 'GD372798'}]"
      ]
     },
     "execution_count": 3,
     "metadata": {},
     "output_type": "execute_result"
    }
   ],
   "source": [
    "select1 = \"\"\"\n",
    "    select * from tran_1 limit 3\n",
    "\"\"\"\n",
    "db1.sql_query(select1)"
   ]
  },
  {
   "cell_type": "code",
   "execution_count": 4,
   "metadata": {},
   "outputs": [],
   "source": [
    "## 커스텀하게 만든 모듈을 어떤 파일에서는 사용이 가능하게 하려면\n",
    "## python내의 환경변수를 확인\n",
    "import sys"
   ]
  },
  {
   "cell_type": "code",
   "execution_count": 5,
   "metadata": {},
   "outputs": [
    {
     "data": {
      "text/plain": [
       "['/Users/kang_hiee/Documents/강희/유비온/문병선 교수님 파이썬/python/240320',\n",
       " '/Users/kang_hiee/opt/anaconda3/lib/python39.zip',\n",
       " '/Users/kang_hiee/opt/anaconda3/lib/python3.9',\n",
       " '/Users/kang_hiee/opt/anaconda3/lib/python3.9/lib-dynload',\n",
       " '',\n",
       " '/Users/kang_hiee/.local/lib/python3.9/site-packages',\n",
       " '/Users/kang_hiee/opt/anaconda3/lib/python3.9/site-packages',\n",
       " '/Users/kang_hiee/opt/anaconda3/lib/python3.9/site-packages/aeosa',\n",
       " '/Users/kang_hiee/opt/anaconda3/lib/python3.9/site-packages/locket-0.2.1-py3.9.egg',\n",
       " '/Users/kang_hiee/opt/anaconda3/lib/python3.9/site-packages/IPython/extensions',\n",
       " '/Users/kang_hiee/.ipython']"
      ]
     },
     "execution_count": 5,
     "metadata": {},
     "output_type": "execute_result"
    }
   ],
   "source": [
    "# 환경 변수를 출력\n",
    "sys.path"
   ]
  },
  {
   "cell_type": "code",
   "execution_count": null,
   "metadata": {},
   "outputs": [],
   "source": []
  },
  {
   "cell_type": "code",
   "execution_count": null,
   "metadata": {},
   "outputs": [],
   "source": []
  }
 ],
 "metadata": {
  "kernelspec": {
   "display_name": "Python 3",
   "language": "python",
   "name": "python3"
  },
  "language_info": {
   "codemirror_mode": {
    "name": "ipython",
    "version": 3
   },
   "file_extension": ".py",
   "mimetype": "text/x-python",
   "name": "python",
   "nbconvert_exporter": "python",
   "pygments_lexer": "ipython3",
   "version": "3.9.7"
  }
 },
 "nbformat": 4,
 "nbformat_minor": 2
}
