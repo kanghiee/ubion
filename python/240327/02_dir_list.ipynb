{
 "cells": [
  {
   "cell_type": "code",
   "execution_count": 3,
   "metadata": {},
   "outputs": [],
   "source": [
    "from datetime import datetime\n",
    "import seaborn as sns\n",
    "import pandas as pd\n",
    "import numpy as np\n",
    "import matplotlib.pyplot as plt\n",
    "import platform\n",
    "from datetime import datetime\n",
    "import warnings\n",
    "import os\n",
    "import glob\n",
    "warnings.filterwarnings(\"ignore\")\n",
    "plt.rcParams[\"font.family\"] = 'AppleGothic'  # 사용할 한글 폰트 설정"
   ]
  },
  {
   "cell_type": "markdown",
   "metadata": {},
   "source": [
    "## 특정 경로에 있는 파일의 목록을 로드\n",
    "1. 일반적으로 방법 -> 상대경로, 절대경로를 이용해서 파일을 하나씩 로드\n",
    "2. 특정 경로에 있는 파일의 목록(list)을 기준으로 데이터 로드\n",
    "    - os 라이브러리 이용하는 방법\n",
    "    - glob 라이브러리 이용하는 방법\n",
    "3. 파일의 목록을 기준으로 데이터를 for문을 이용해서 로드\n"
   ]
  },
  {
   "cell_type": "code",
   "execution_count": 49,
   "metadata": {},
   "outputs": [
    {
     "data": {
      "text/plain": [
       "['201702_expense_list.csv',\n",
       " '201709_expense_list.csv',\n",
       " '201712_expense_list.csv',\n",
       " '201706_expense_list.csv',\n",
       " '201703_expense_list.csv',\n",
       " '201708_expense_list.csv',\n",
       " '201707_expense_list.csv',\n",
       " '201704_expense_list.csv',\n",
       " '201710_expense_list.csv',\n",
       " '201701_expense_list.csv',\n",
       " '201705_expense_list.csv',\n",
       " '201711_expense_list.csv']"
      ]
     },
     "execution_count": 49,
     "metadata": {},
     "output_type": "execute_result"
    }
   ],
   "source": [
    "## csv 폴더 안에 있는 2017 폴더에 있는 데이터들을 로드\n",
    "\n",
    "# os 라이브러리를 이용하여 파일의 목록을 가져온다.\n",
    "# 목록(list) + 파일의 목록을 보는 명령어(dir)\n",
    "os.listdir('../csv/2017')\n"
   ]
  },
  {
   "cell_type": "code",
   "execution_count": 50,
   "metadata": {},
   "outputs": [],
   "source": [
    "file_path = '../csv/2017/'\n",
    "file_list = os.listdir(file_path)"
   ]
  },
  {
   "cell_type": "code",
   "execution_count": 51,
   "metadata": {},
   "outputs": [
    {
     "data": {
      "text/html": [
       "<div>\n",
       "<style scoped>\n",
       "    .dataframe tbody tr th:only-of-type {\n",
       "        vertical-align: middle;\n",
       "    }\n",
       "\n",
       "    .dataframe tbody tr th {\n",
       "        vertical-align: top;\n",
       "    }\n",
       "\n",
       "    .dataframe thead th {\n",
       "        text-align: right;\n",
       "    }\n",
       "</style>\n",
       "<table border=\"1\" class=\"dataframe\">\n",
       "  <thead>\n",
       "    <tr style=\"text-align: right;\">\n",
       "      <th></th>\n",
       "      <th>nid</th>\n",
       "      <th>title</th>\n",
       "      <th>url</th>\n",
       "      <th>dept_nm_lvl_1</th>\n",
       "      <th>dept_nm_lvl_2</th>\n",
       "      <th>dept_nm_lvl_3</th>\n",
       "      <th>dept_nm_lvl_4</th>\n",
       "      <th>dept_nm_lvl_5</th>\n",
       "      <th>exec_yr</th>\n",
       "      <th>exec_month</th>\n",
       "      <th>expense_budget</th>\n",
       "      <th>expense_execution</th>\n",
       "      <th>category</th>\n",
       "      <th>dept_nm_full</th>\n",
       "      <th>exec_dt</th>\n",
       "      <th>exec_loc</th>\n",
       "      <th>exec_purpose</th>\n",
       "      <th>target_nm</th>\n",
       "      <th>payment_method</th>\n",
       "      <th>exec_amount</th>\n",
       "    </tr>\n",
       "  </thead>\n",
       "  <tbody>\n",
       "    <tr>\n",
       "      <th>0</th>\n",
       "      <td>11527154</td>\n",
       "      <td>2017년 2월 시의회사무처 보건복지전문위원실 업무추진비 집행내역</td>\n",
       "      <td>http://opengov.seoul.go.kr/public/11527154</td>\n",
       "      <td>의회사무처</td>\n",
       "      <td>보건복지전문위원실</td>\n",
       "      <td>NaN</td>\n",
       "      <td>NaN</td>\n",
       "      <td>NaN</td>\n",
       "      <td>2017</td>\n",
       "      <td>2</td>\n",
       "      <td>NaN</td>\n",
       "      <td>NaN</td>\n",
       "      <td>NaN</td>\n",
       "      <td>시의회사무처 보건복지전문위원실</td>\n",
       "      <td>2017-02-23 12:54</td>\n",
       "      <td>（주）스타벅스커피코 (중구 소공로)</td>\n",
       "      <td>제272회 임시회 현장방문 논의 간담회</td>\n",
       "      <td>수석전문위원 외 5명</td>\n",
       "      <td>카드</td>\n",
       "      <td>30000</td>\n",
       "    </tr>\n",
       "  </tbody>\n",
       "</table>\n",
       "</div>"
      ],
      "text/plain": [
       "        nid                                 title  \\\n",
       "0  11527154  2017년 2월 시의회사무처 보건복지전문위원실 업무추진비 집행내역   \n",
       "\n",
       "                                          url dept_nm_lvl_1 dept_nm_lvl_2  \\\n",
       "0  http://opengov.seoul.go.kr/public/11527154         의회사무처     보건복지전문위원실   \n",
       "\n",
       "  dept_nm_lvl_3 dept_nm_lvl_4 dept_nm_lvl_5  exec_yr  exec_month  \\\n",
       "0           NaN           NaN           NaN     2017           2   \n",
       "\n",
       "   expense_budget  expense_execution category      dept_nm_full  \\\n",
       "0             NaN                NaN      NaN  시의회사무처 보건복지전문위원실   \n",
       "\n",
       "            exec_dt             exec_loc           exec_purpose    target_nm  \\\n",
       "0  2017-02-23 12:54  （주）스타벅스커피코 (중구 소공로)  제272회 임시회 현장방문 논의 간담회  수석전문위원 외 5명   \n",
       "\n",
       "  payment_method  exec_amount  \n",
       "0             카드        30000  "
      ]
     },
     "execution_count": 51,
     "metadata": {},
     "output_type": "execute_result"
    }
   ],
   "source": [
    "pd.read_csv(file_path + file_list[0]).head(1)"
   ]
  },
  {
   "cell_type": "code",
   "execution_count": 52,
   "metadata": {},
   "outputs": [
    {
     "data": {
      "text/html": [
       "<div>\n",
       "<style scoped>\n",
       "    .dataframe tbody tr th:only-of-type {\n",
       "        vertical-align: middle;\n",
       "    }\n",
       "\n",
       "    .dataframe tbody tr th {\n",
       "        vertical-align: top;\n",
       "    }\n",
       "\n",
       "    .dataframe thead th {\n",
       "        text-align: right;\n",
       "    }\n",
       "</style>\n",
       "<table border=\"1\" class=\"dataframe\">\n",
       "  <thead>\n",
       "    <tr style=\"text-align: right;\">\n",
       "      <th></th>\n",
       "    </tr>\n",
       "  </thead>\n",
       "  <tbody>\n",
       "  </tbody>\n",
       "</table>\n",
       "</div>"
      ],
      "text/plain": [
       "Empty DataFrame\n",
       "Columns: []\n",
       "Index: []"
      ]
     },
     "execution_count": 52,
     "metadata": {},
     "output_type": "execute_result"
    }
   ],
   "source": [
    "result = pd.DataFrame()\n",
    "result"
   ]
  },
  {
   "cell_type": "code",
   "execution_count": 53,
   "metadata": {},
   "outputs": [],
   "source": [
    "for file in file_list:\n",
    "    df = pd.read_csv(file_path + file)\n",
    "    # result와 df를 유니언 결합하여 result 담아준다\n",
    "    result = pd.concat([result, df], axis=0, ignore_index = True)"
   ]
  },
  {
   "cell_type": "code",
   "execution_count": 54,
   "metadata": {},
   "outputs": [
    {
     "name": "stdout",
     "output_type": "stream",
     "text": [
      "<class 'pandas.core.frame.DataFrame'>\n",
      "RangeIndex: 70132 entries, 0 to 70131\n",
      "Data columns (total 20 columns):\n",
      " #   Column             Non-Null Count  Dtype  \n",
      "---  ------             --------------  -----  \n",
      " 0   nid                70132 non-null  int64  \n",
      " 1   title              70132 non-null  object \n",
      " 2   url                70132 non-null  object \n",
      " 3   dept_nm_lvl_1      70132 non-null  object \n",
      " 4   dept_nm_lvl_2      70074 non-null  object \n",
      " 5   dept_nm_lvl_3      61262 non-null  object \n",
      " 6   dept_nm_lvl_4      17939 non-null  object \n",
      " 7   dept_nm_lvl_5      3474 non-null   object \n",
      " 8   exec_yr            70132 non-null  int64  \n",
      " 9   exec_month         70132 non-null  int64  \n",
      " 10  expense_budget     3108 non-null   float64\n",
      " 11  expense_execution  2805 non-null   float64\n",
      " 12  category           1259 non-null   object \n",
      " 13  dept_nm_full       70053 non-null  object \n",
      " 14  exec_dt            70132 non-null  object \n",
      " 15  exec_loc           69360 non-null  object \n",
      " 16  exec_purpose       70110 non-null  object \n",
      " 17  target_nm          69597 non-null  object \n",
      " 18  payment_method     69929 non-null  object \n",
      " 19  exec_amount        70132 non-null  int64  \n",
      "dtypes: float64(2), int64(4), object(14)\n",
      "memory usage: 10.7+ MB\n"
     ]
    }
   ],
   "source": [
    "result.info()"
   ]
  },
  {
   "cell_type": "code",
   "execution_count": 59,
   "metadata": {},
   "outputs": [],
   "source": [
    "file_path2 = '../csv/2019/'\n",
    "file_list2 = os.listdir(file_path2)\n",
    "result2 = pd.DataFrame() \n",
    "file_list2\n",
    "for file in file_list2:\n",
    "    df = pd.read_json(file_path2 + file)\n",
    "    #result와 df를 유니언 결합하여 result 담아준다\n",
    "    result2 = pd.concat([result2, df], axis=0, ignore_index = True)"
   ]
  },
  {
   "cell_type": "code",
   "execution_count": 60,
   "metadata": {},
   "outputs": [
    {
     "name": "stdout",
     "output_type": "stream",
     "text": [
      "<class 'pandas.core.frame.DataFrame'>\n",
      "RangeIndex: 74207 entries, 0 to 74206\n",
      "Data columns (total 20 columns):\n",
      " #   Column             Non-Null Count  Dtype  \n",
      "---  ------             --------------  -----  \n",
      " 0   nid                74207 non-null  int64  \n",
      " 1   title              74207 non-null  object \n",
      " 2   url                74207 non-null  object \n",
      " 3   dept_nm_lvl_1      74207 non-null  object \n",
      " 4   dept_nm_lvl_2      74207 non-null  object \n",
      " 5   dept_nm_lvl_3      74207 non-null  object \n",
      " 6   dept_nm_lvl_4      74207 non-null  object \n",
      " 7   dept_nm_lvl_5      74207 non-null  object \n",
      " 8   exec_yr            74207 non-null  int64  \n",
      " 9   exec_month         74207 non-null  int64  \n",
      " 10  expense_budget     2075 non-null   float64\n",
      " 11  expense_execution  1598 non-null   float64\n",
      " 12  category           74028 non-null  object \n",
      " 13  dept_nm_full       74207 non-null  object \n",
      " 14  exec_dt            74207 non-null  object \n",
      " 15  exec_loc           74207 non-null  object \n",
      " 16  exec_purpose       74207 non-null  object \n",
      " 17  target_nm          74207 non-null  object \n",
      " 18  payment_method     74207 non-null  object \n",
      " 19  exec_amount        74207 non-null  int64  \n",
      "dtypes: float64(2), int64(4), object(14)\n",
      "memory usage: 11.3+ MB\n"
     ]
    }
   ],
   "source": [
    "result2.info()"
   ]
  },
  {
   "cell_type": "code",
   "execution_count": 72,
   "metadata": {},
   "outputs": [
    {
     "name": "stdout",
     "output_type": "stream",
     "text": [
      "<class 'pandas.core.frame.DataFrame'>\n",
      "RangeIndex: 83819 entries, 0 to 83818\n",
      "Data columns (total 21 columns):\n",
      " #   Column             Non-Null Count  Dtype  \n",
      "---  ------             --------------  -----  \n",
      " 0   nid                83819 non-null  int64  \n",
      " 1   title              83819 non-null  object \n",
      " 2   url                83819 non-null  object \n",
      " 3   dept_nm_lvl_1      83819 non-null  object \n",
      " 4   dept_nm_lvl_2      83819 non-null  object \n",
      " 5   dept_nm_lvl_3      67930 non-null  object \n",
      " 6   dept_nm_lvl_4      24831 non-null  object \n",
      " 7   dept_nm_lvl_5      1473 non-null   object \n",
      " 8   exec_yr            83819 non-null  int64  \n",
      " 9   exec_month         83819 non-null  int64  \n",
      " 10  expense_budget     60524 non-null  float64\n",
      " 11  expense_execution  60524 non-null  float64\n",
      " 12  category           980 non-null    object \n",
      " 13  dept_nm_full       83819 non-null  object \n",
      " 14  exec_dt            83819 non-null  object \n",
      " 15  exec_loc           83185 non-null  object \n",
      " 16  exec_purpose       83819 non-null  object \n",
      " 17  target_nm          83467 non-null  object \n",
      " 18  payment_method     83819 non-null  object \n",
      " 19  exec_amount        83819 non-null  int64  \n",
      " 20  bimok              18427 non-null  object \n",
      "dtypes: float64(2), int64(4), object(15)\n",
      "memory usage: 13.4+ MB\n"
     ]
    }
   ],
   "source": [
    "file_path3 = '../csv/2021/'\n",
    "file_list3 = os.listdir(file_path3)\n",
    "result_csv = pd.DataFrame() \n",
    "result_json = pd.DataFrame() \n",
    "result_xml = pd.DataFrame()\n",
    "result_xlsx = pd.DataFrame()\n",
    "\n",
    "file_list2\n",
    "for file in file_list3:\n",
    "    if file.split('.')[-1] in ['xlsx','xls']:\n",
    "        df_xlsx = pd.read_excel(file_path3 + file)\n",
    "        result_xlsx = pd.concat([result_xlsx, df_xlsx], axis = 0, ignore_index = True)\n",
    "    elif file.split('.')[-1] == 'xml':\n",
    "        df_xml = pd.read_xml(file_path3 + file)\n",
    "        result_xml = pd.concat([result_xml, df_xml], axis = 0, ignore_index = True)\n",
    "    elif file.split('.')[-1] == 'json':\n",
    "        df_json = pd.read_json(file_path3 + file)\n",
    "        result_json = pd.concat([result_json, df_json], axis = 0, ignore_index = True)\n",
    "    else:\n",
    "        df_csv = pd.read_csv(file_path3 + file)\n",
    "        result_csv= pd.concat([result_csv, df_csv], axis = 0, ignore_index = True)\n",
    "\n",
    "\n",
    "    "
   ]
  },
  {
   "cell_type": "code",
   "execution_count": 80,
   "metadata": {},
   "outputs": [],
   "source": [
    "file_path3 = '../csv/2021/'\n",
    "file_list3 = os.listdir(file_path3)\n",
    "result_csv = pd.DataFrame() \n",
    "result_json = pd.DataFrame() \n",
    "result_xml = pd.DataFrame()\n",
    "result_xlsx = pd.DataFrame()\n",
    "\n",
    "file_list2\n",
    "for file in file_list3:\n",
    "    if 'xlsx' in file:\n",
    "        df_xlsx = pd.read_excel(file_path3 + file)\n",
    "        result_xlsx = pd.concat([result_xlsx, df_xlsx], axis = 0, ignore_index = True)\n",
    "    elif 'xml' in file:\n",
    "        df_xml = pd.read_xml(file_path3 + file)\n",
    "        result_xml = pd.concat([result_xml, df_xml], axis = 0, ignore_index = True)\n",
    "    elif 'json' in file:\n",
    "        df_json = pd.read_json(file_path3 + file)\n",
    "        result_json = pd.concat([result_json, df_json], axis = 0, ignore_index = True)\n",
    "    else:\n",
    "        df_csv = pd.read_csv(file_path3 + file)\n",
    "        result_csv= pd.concat([result_csv, df_csv], axis = 0, ignore_index = True)\n",
    "\n",
    "\n",
    "    "
   ]
  },
  {
   "cell_type": "code",
   "execution_count": null,
   "metadata": {},
   "outputs": [],
   "source": []
  },
  {
   "cell_type": "code",
   "execution_count": 84,
   "metadata": {},
   "outputs": [],
   "source": [
    "file_name, file_end = os.path.splitext(file_list[0])"
   ]
  },
  {
   "cell_type": "code",
   "execution_count": 86,
   "metadata": {},
   "outputs": [
    {
     "data": {
      "text/plain": [
       "'201702_expense_list'"
      ]
     },
     "execution_count": 86,
     "metadata": {},
     "output_type": "execute_result"
    }
   ],
   "source": [
    "file_name"
   ]
  },
  {
   "cell_type": "code",
   "execution_count": 87,
   "metadata": {},
   "outputs": [
    {
     "data": {
      "text/plain": [
       "'.csv'"
      ]
     },
     "execution_count": 87,
     "metadata": {},
     "output_type": "execute_result"
    }
   ],
   "source": [
    "file_end"
   ]
  },
  {
   "cell_type": "code",
   "execution_count": 100,
   "metadata": {},
   "outputs": [],
   "source": [
    "globals()['a'] = 10"
   ]
  },
  {
   "cell_type": "code",
   "execution_count": 101,
   "metadata": {},
   "outputs": [
    {
     "name": "stdout",
     "output_type": "stream",
     "text": [
      "10\n"
     ]
    }
   ],
   "source": [
    "print(a)"
   ]
  },
  {
   "cell_type": "code",
   "execution_count": 128,
   "metadata": {},
   "outputs": [],
   "source": [
    "## 2021 폴더에 있는 파일들을 각각 다른 변수에 저장\n",
    "file_path = \"../csv/2021/\"\n",
    "file_list = os.listdir(file_path)\n",
    "\n",
    "for file in file_list:\n",
    "\n",
    "    # 사용할 변수의 이름\n",
    "    name, end  = os.path.splitext(file)\n",
    "    end = end[1:]\n",
    "    if end == 'csv':\n",
    "        df  = pd.read_csv(file_path + file)\n",
    "    elif end == 'json':\n",
    "        df = pd.read_json(file_path + file)\n",
    "    elif end == 'xml':\n",
    "        df = pd.read_xml(file_path + file)\n",
    "    elif end in ['xlsx','xls']:\n",
    "        df = pd.read_excel(file_path + file)\n",
    "    else:\n",
    "        continue\n",
    "    globals()[f\"{name}_{end}\"] = df.copy()\n",
    "# .csv에서 .을 제외하고 출력하기 위해\n",
    "#print(end[1:])\n",
    "#print(end.lstrip('.'))\n",
    "#print(end.replace('.',''))"
   ]
  },
  {
   "cell_type": "code",
   "execution_count": 159,
   "metadata": {},
   "outputs": [],
   "source": [
    "## 지정된 경로에 파일들을 하나의 데이터프레임으로 \n",
    "# 결합하여 되돌려주는 함수 생성\n",
    "# 매개변수? -> 경로, 확장자명\n",
    "\n",
    "def data_load(_path, _end = 'csv'):\n",
    "    file_list = os.listdir(_path)\n",
    "    # 비어있는 데이터프레임 생성\n",
    "    result = pd.DataFrame()\n",
    "    _path = _path + '/'\n",
    "    for file in file_list:\n",
    "        if file.endswith(_end):\n",
    "            if _end =='csv':\n",
    "                df = pd.read_csv(_path + file)\n",
    "            elif _end == 'xml':\n",
    "                df = pd.read_xml(_path + file)\n",
    "            elif _end == 'json':\n",
    "                df = pd.read_json(_path + file)\n",
    "            elif _end in ['xlsx','xls']:\n",
    "                df = pd.read_excel(_path + file)\n",
    "            else:\n",
    "                return '지원하는 확장자가 아닙니다.'\n",
    "            # df를 result에 유니언 결합\n",
    "            result = pd.concat([result, df],\n",
    "                             axis=0, ignore_index=True)\n",
    "    return result"
   ]
  },
  {
   "cell_type": "code",
   "execution_count": 2,
   "metadata": {},
   "outputs": [],
   "source": [
    "#data_load('../csv/2017')\n"
   ]
  },
  {
   "cell_type": "code",
   "execution_count": null,
   "metadata": {},
   "outputs": [],
   "source": []
  },
  {
   "cell_type": "code",
   "execution_count": 9,
   "metadata": {},
   "outputs": [
    {
     "name": "stdout",
     "output_type": "stream",
     "text": [
      "['customer_master.csv', 'class_master.csv', 'use_log.csv', 'campaign_master.csv']\n",
      "['../csv/2021/202105_expense_list.json', '../csv/2021/202104_expense_list.json', '../csv/2021/202101_expense_list.json', '../csv/2021/202107_expense_list.json', '../csv/2021/202102_expense_list.json', '../csv/2021/202106_expense_list.json', '../csv/2021/202103_expense_list.json', '../csv/2021/202112_expense_list.json', '../csv/2021/202108_expense_list.json', '../csv/2021/202111_expense_list.json', '../csv/2021/202109_expense_list.json', '../csv/2021/202110_expense_list.json']\n"
     ]
    }
   ],
   "source": [
    "## os 라이브러리 이용하여 파일을 목록\n",
    "print(\n",
    "    os.listdir('../csv/num_3')\n",
    ")\n",
    "\n",
    "## glob 라이브러리 이용하여 파일의 목록 \n",
    "print(\n",
    "    glob.glob('../csv/2021/*.json')\n",
    ")"
   ]
  },
  {
   "cell_type": "code",
   "execution_count": 10,
   "metadata": {},
   "outputs": [
    {
     "data": {
      "text/plain": [
       "['../csv/num_3/customer_master.csv',\n",
       " '../csv/num_3/class_master.csv',\n",
       " '../csv/num_3/use_log.csv',\n",
       " '../csv/num_3/campaign_master.csv']"
      ]
     },
     "execution_count": 10,
     "metadata": {},
     "output_type": "execute_result"
    }
   ],
   "source": [
    "file_list = glob.glob('../csv/num_3/*.csv')\n",
    "file_list"
   ]
  },
  {
   "cell_type": "code",
   "execution_count": 27,
   "metadata": {},
   "outputs": [
    {
     "name": "stdout",
     "output_type": "stream",
     "text": [
      "customer_master\n",
      "class_master\n",
      "use_log\n",
      "campaign_master\n"
     ]
    }
   ],
   "source": [
    "for file in file_list:\n",
    "    #print(file)\n",
    "    #df = pd.read_csv(file)\n",
    "    #print(file.split('/')[-1])\n",
    "    ## 경로와 파일을 나눠준다\n",
    "    folder, name = os.path.split(file)\n",
    "    #print(folder, name)\n",
    "    head, tail = os.path.splitext(name)\n",
    "    print(head)\n",
    "    #print(head,' ', tail)\n",
    "    globals()[f\"{head}\"] = pd.read_csv(file)\n",
    "    ## 첫번째 반복 :  head -> campaign_master, tail -> .csv\n",
    "    ##             f\"{head}\" -> \"campaign_master\", globals()['campaign_master]\n",
    "    ##             campaign_master = pd.read_csv('../csv/num3/campaign_master.csv)\n",
    "    ## 두번째 반복 : head -> class_master, tail -> .csv\n",
    "    ##            f\"{head}\" -> \"class_master\", globals(['class_master])\n",
    "    ##            class_master = pd.read_csv('../csv/num3/class_master)\n",
    "#df"
   ]
  },
  {
   "cell_type": "code",
   "execution_count": 28,
   "metadata": {},
   "outputs": [
    {
     "data": {
      "text/html": [
       "<div>\n",
       "<style scoped>\n",
       "    .dataframe tbody tr th:only-of-type {\n",
       "        vertical-align: middle;\n",
       "    }\n",
       "\n",
       "    .dataframe tbody tr th {\n",
       "        vertical-align: top;\n",
       "    }\n",
       "\n",
       "    .dataframe thead th {\n",
       "        text-align: right;\n",
       "    }\n",
       "</style>\n",
       "<table border=\"1\" class=\"dataframe\">\n",
       "  <thead>\n",
       "    <tr style=\"text-align: right;\">\n",
       "      <th></th>\n",
       "      <th>class</th>\n",
       "      <th>class_name</th>\n",
       "      <th>price</th>\n",
       "    </tr>\n",
       "  </thead>\n",
       "  <tbody>\n",
       "    <tr>\n",
       "      <th>0</th>\n",
       "      <td>C01</td>\n",
       "      <td>0_종일</td>\n",
       "      <td>10500</td>\n",
       "    </tr>\n",
       "    <tr>\n",
       "      <th>1</th>\n",
       "      <td>C02</td>\n",
       "      <td>1_주간</td>\n",
       "      <td>7500</td>\n",
       "    </tr>\n",
       "    <tr>\n",
       "      <th>2</th>\n",
       "      <td>C03</td>\n",
       "      <td>2_야간</td>\n",
       "      <td>6000</td>\n",
       "    </tr>\n",
       "  </tbody>\n",
       "</table>\n",
       "</div>"
      ],
      "text/plain": [
       "  class class_name  price\n",
       "0   C01       0_종일  10500\n",
       "1   C02       1_주간   7500\n",
       "2   C03       2_야간   6000"
      ]
     },
     "execution_count": 28,
     "metadata": {},
     "output_type": "execute_result"
    }
   ],
   "source": [
    "class_master"
   ]
  },
  {
   "cell_type": "code",
   "execution_count": 33,
   "metadata": {},
   "outputs": [],
   "source": [
    "## 특정 경로에 있는 파일의 목록들을 각가 파일의 이름으로 전역변수를 생성하여 저장하는 함수 생성\n",
    "## 매개변수 : 경로\n",
    "def data_load2(_path):\n",
    "    # 입력받은 경로를 기준으로 파일의 목록을 모두 로드한다.\n",
    "    file_list = glob.glob(_path + \"/*.*\")\n",
    "    # 반복 실행 file_list를 이용하여\n",
    "    for file in file_list: \n",
    "        # 경로와 파일명을 나눠준다\n",
    "        folder, name = os.path.split(file)\n",
    "        # 파일명에서 이름과 확장자를 나눠준다\n",
    "        head, tail = os.path.splitext(name)\n",
    "        # tail의 형태는? \".확장자\"\n",
    "        if tail == '.csv':\n",
    "            df = globals()[f\"{head}\"] = pd.read_csv(file)\n",
    "        elif tail == '.json':\n",
    "            df = globals()[f\"{head}\"] = pd.read_json(file)\n",
    "        elif tail == '.xml':\n",
    "            df = globals()[f\"{head}\"] = pd.read_xml(file)\n",
    "        elif tail in ['.xlsx','.xls']:\n",
    "            df = globals()[f\"{head}\"] = pd.read_exccel(file)\n",
    "        else:\n",
    "            print('지원하지 않는 확장자 파일')\n",
    "            continue\n",
    "        globals()[f\"{head}\"] = df.copy()\n",
    "        print(f\"{head} 전역변수 저장 완료\")\n",
    "    return \"파일의 목록 저장완료\"\n",
    "\n",
    "\n",
    "\n",
    "\n"
   ]
  },
  {
   "cell_type": "code",
   "execution_count": 35,
   "metadata": {},
   "outputs": [
    {
     "name": "stdout",
     "output_type": "stream",
     "text": [
      "customer_master 전역변수 저장 완료\n",
      "class_master 전역변수 저장 완료\n",
      "use_log 전역변수 저장 완료\n",
      "campaign_master 전역변수 저장 완료\n"
     ]
    },
    {
     "data": {
      "text/plain": [
       "'파일의 목록 저장완료'"
      ]
     },
     "execution_count": 35,
     "metadata": {},
     "output_type": "execute_result"
    }
   ],
   "source": [
    "data_load2('../csv/num_3')"
   ]
  },
  {
   "cell_type": "code",
   "execution_count": 47,
   "metadata": {},
   "outputs": [],
   "source": [
    "## 파일을 데이터프레임으로 로드하는 함수를 하나 생성\n",
    "## 매개변수 1개 : 상대경로 | 절대경로, encoding = 'utf-8'\n",
    "def read_df(_path, _encoding = 'utf-8' ):\n",
    "    # 입력받은 데이터에서 확장자를 분리해준다.\n",
    "    head, tail = os.path.splitext(_path)\n",
    "    print(tail)\n",
    "    if tail == '.csv':\n",
    "        df = pd.read_csv(_path, encoding = _encoding)\n",
    "    elif tail == '.json':\n",
    "        df = pd.read_json(_path, encoding = _encoding)\n",
    "    elif tail == '.xml':\n",
    "        df = pd.read_xml(_path, encoding = _encoding)\n",
    "    elif tail in ['.xlsx','.xls']:\n",
    "        df = pd.read_excel(_path)\n",
    "    else:\n",
    "        df = pd.DataFrame()\n",
    "    return df"
   ]
  },
  {
   "cell_type": "code",
   "execution_count": 48,
   "metadata": {},
   "outputs": [
    {
     "name": "stdout",
     "output_type": "stream",
     "text": [
      ".csv\n"
     ]
    },
    {
     "data": {
      "text/html": [
       "<div>\n",
       "<style scoped>\n",
       "    .dataframe tbody tr th:only-of-type {\n",
       "        vertical-align: middle;\n",
       "    }\n",
       "\n",
       "    .dataframe tbody tr th {\n",
       "        vertical-align: top;\n",
       "    }\n",
       "\n",
       "    .dataframe thead th {\n",
       "        text-align: right;\n",
       "    }\n",
       "</style>\n",
       "<table border=\"1\" class=\"dataframe\">\n",
       "  <thead>\n",
       "    <tr style=\"text-align: right;\">\n",
       "      <th></th>\n",
       "      <th>구분</th>\n",
       "      <th>사고(건)</th>\n",
       "      <th>사망(명)</th>\n",
       "      <th>부상(명)</th>\n",
       "    </tr>\n",
       "  </thead>\n",
       "  <tbody>\n",
       "    <tr>\n",
       "      <th>0</th>\n",
       "      <td>2014년1월</td>\n",
       "      <td>169</td>\n",
       "      <td>7</td>\n",
       "      <td>347</td>\n",
       "    </tr>\n",
       "    <tr>\n",
       "      <th>1</th>\n",
       "      <td>2014년2월</td>\n",
       "      <td>145</td>\n",
       "      <td>3</td>\n",
       "      <td>268</td>\n",
       "    </tr>\n",
       "    <tr>\n",
       "      <th>2</th>\n",
       "      <td>2014년3월</td>\n",
       "      <td>206</td>\n",
       "      <td>12</td>\n",
       "      <td>358</td>\n",
       "    </tr>\n",
       "    <tr>\n",
       "      <th>3</th>\n",
       "      <td>2014년4월</td>\n",
       "      <td>182</td>\n",
       "      <td>4</td>\n",
       "      <td>360</td>\n",
       "    </tr>\n",
       "    <tr>\n",
       "      <th>4</th>\n",
       "      <td>2014년5월</td>\n",
       "      <td>218</td>\n",
       "      <td>17</td>\n",
       "      <td>474</td>\n",
       "    </tr>\n",
       "    <tr>\n",
       "      <th>5</th>\n",
       "      <td>2014년6월</td>\n",
       "      <td>233</td>\n",
       "      <td>13</td>\n",
       "      <td>457</td>\n",
       "    </tr>\n",
       "    <tr>\n",
       "      <th>6</th>\n",
       "      <td>2014년7월</td>\n",
       "      <td>229</td>\n",
       "      <td>14</td>\n",
       "      <td>431</td>\n",
       "    </tr>\n",
       "    <tr>\n",
       "      <th>7</th>\n",
       "      <td>2014년8월</td>\n",
       "      <td>222</td>\n",
       "      <td>9</td>\n",
       "      <td>447</td>\n",
       "    </tr>\n",
       "    <tr>\n",
       "      <th>8</th>\n",
       "      <td>2014년9월</td>\n",
       "      <td>225</td>\n",
       "      <td>15</td>\n",
       "      <td>430</td>\n",
       "    </tr>\n",
       "    <tr>\n",
       "      <th>9</th>\n",
       "      <td>2014년10월</td>\n",
       "      <td>210</td>\n",
       "      <td>14</td>\n",
       "      <td>392</td>\n",
       "    </tr>\n",
       "    <tr>\n",
       "      <th>10</th>\n",
       "      <td>2014년11월</td>\n",
       "      <td>209</td>\n",
       "      <td>10</td>\n",
       "      <td>386</td>\n",
       "    </tr>\n",
       "    <tr>\n",
       "      <th>11</th>\n",
       "      <td>2014년12월</td>\n",
       "      <td>178</td>\n",
       "      <td>12</td>\n",
       "      <td>329</td>\n",
       "    </tr>\n",
       "  </tbody>\n",
       "</table>\n",
       "</div>"
      ],
      "text/plain": [
       "          구분  사고(건)  사망(명)  부상(명)\n",
       "0    2014년1월    169      7    347\n",
       "1    2014년2월    145      3    268\n",
       "2    2014년3월    206     12    358\n",
       "3    2014년4월    182      4    360\n",
       "4    2014년5월    218     17    474\n",
       "5    2014년6월    233     13    457\n",
       "6    2014년7월    229     14    431\n",
       "7    2014년8월    222      9    447\n",
       "8    2014년9월    225     15    430\n",
       "9   2014년10월    210     14    392\n",
       "10  2014년11월    209     10    386\n",
       "11  2014년12월    178     12    329"
      ]
     },
     "execution_count": 48,
     "metadata": {},
     "output_type": "execute_result"
    }
   ],
   "source": [
    "read_df('../csv/2014.csv', 'cp949')"
   ]
  },
  {
   "cell_type": "code",
   "execution_count": null,
   "metadata": {},
   "outputs": [],
   "source": []
  }
 ],
 "metadata": {
  "kernelspec": {
   "display_name": "Python 3",
   "language": "python",
   "name": "python3"
  },
  "language_info": {
   "codemirror_mode": {
    "name": "ipython",
    "version": 3
   },
   "file_extension": ".py",
   "mimetype": "text/x-python",
   "name": "python",
   "nbconvert_exporter": "python",
   "pygments_lexer": "ipython3",
   "version": "3.9.7"
  }
 },
 "nbformat": 4,
 "nbformat_minor": 2
}
