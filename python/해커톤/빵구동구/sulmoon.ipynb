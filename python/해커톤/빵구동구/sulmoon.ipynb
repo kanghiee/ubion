{
 "cells": [
  {
   "cell_type": "code",
   "execution_count": 23,
   "metadata": {},
   "outputs": [],
   "source": [
    "import pandas as pd\n",
    "import numpy as np"
   ]
  },
  {
   "cell_type": "code",
   "execution_count": 68,
   "metadata": {},
   "outputs": [],
   "source": [
    "df = pd.read_excel('/Users/kang_hiee/Documents/GitHub/ubion/python/해커톤/빵구동구/빵구동구 설문지(응답) .xlsx')\n",
    "daejun = pd.read_excel('/Users/kang_hiee/Documents/GitHub/ubion/python/해커톤/빵구동구/대전동구_인구분포.xlsx')"
   ]
  },
  {
   "cell_type": "markdown",
   "metadata": {},
   "source": [
    "# 연령대 별 알게된 경로"
   ]
  },
  {
   "cell_type": "code",
   "execution_count": 69,
   "metadata": {},
   "outputs": [],
   "source": [
    "df2 = df.groupby(['연령대','알게된 경로']).size().to_frame()"
   ]
  },
  {
   "cell_type": "code",
   "execution_count": 70,
   "metadata": {},
   "outputs": [
    {
     "data": {
      "text/html": [
       "<div>\n",
       "<style scoped>\n",
       "    .dataframe tbody tr th:only-of-type {\n",
       "        vertical-align: middle;\n",
       "    }\n",
       "\n",
       "    .dataframe tbody tr th {\n",
       "        vertical-align: top;\n",
       "    }\n",
       "\n",
       "    .dataframe thead th {\n",
       "        text-align: right;\n",
       "    }\n",
       "</style>\n",
       "<table border=\"1\" class=\"dataframe\">\n",
       "  <thead>\n",
       "    <tr style=\"text-align: right;\">\n",
       "      <th></th>\n",
       "      <th>연령대</th>\n",
       "      <th>알게된 경로</th>\n",
       "      <th>0</th>\n",
       "    </tr>\n",
       "  </thead>\n",
       "  <tbody>\n",
       "    <tr>\n",
       "      <th>0</th>\n",
       "      <td>0~19</td>\n",
       "      <td>sns광고</td>\n",
       "      <td>9</td>\n",
       "    </tr>\n",
       "    <tr>\n",
       "      <th>1</th>\n",
       "      <td>0~19</td>\n",
       "      <td>지인 추천</td>\n",
       "      <td>2</td>\n",
       "    </tr>\n",
       "    <tr>\n",
       "      <th>2</th>\n",
       "      <td>20~40</td>\n",
       "      <td>sns광고</td>\n",
       "      <td>8</td>\n",
       "    </tr>\n",
       "    <tr>\n",
       "      <th>3</th>\n",
       "      <td>20~40</td>\n",
       "      <td>웹사이트</td>\n",
       "      <td>4</td>\n",
       "    </tr>\n",
       "    <tr>\n",
       "      <th>4</th>\n",
       "      <td>20~40</td>\n",
       "      <td>지역 미디어</td>\n",
       "      <td>1</td>\n",
       "    </tr>\n",
       "    <tr>\n",
       "      <th>5</th>\n",
       "      <td>20~40</td>\n",
       "      <td>지인 추천</td>\n",
       "      <td>6</td>\n",
       "    </tr>\n",
       "    <tr>\n",
       "      <th>6</th>\n",
       "      <td>20~40</td>\n",
       "      <td>포스터</td>\n",
       "      <td>1</td>\n",
       "    </tr>\n",
       "    <tr>\n",
       "      <th>7</th>\n",
       "      <td>40~60</td>\n",
       "      <td>sns광고</td>\n",
       "      <td>1</td>\n",
       "    </tr>\n",
       "    <tr>\n",
       "      <th>8</th>\n",
       "      <td>40~60</td>\n",
       "      <td>웹사이트</td>\n",
       "      <td>1</td>\n",
       "    </tr>\n",
       "    <tr>\n",
       "      <th>9</th>\n",
       "      <td>40~60</td>\n",
       "      <td>지인 추천</td>\n",
       "      <td>10</td>\n",
       "    </tr>\n",
       "  </tbody>\n",
       "</table>\n",
       "</div>"
      ],
      "text/plain": [
       "     연령대  알게된 경로   0\n",
       "0   0~19   sns광고   9\n",
       "1   0~19   지인 추천   2\n",
       "2  20~40   sns광고   8\n",
       "3  20~40    웹사이트   4\n",
       "4  20~40  지역 미디어   1\n",
       "5  20~40   지인 추천   6\n",
       "6  20~40     포스터   1\n",
       "7  40~60   sns광고   1\n",
       "8  40~60    웹사이트   1\n",
       "9  40~60   지인 추천  10"
      ]
     },
     "execution_count": 70,
     "metadata": {},
     "output_type": "execute_result"
    }
   ],
   "source": [
    "df2.reset_index()"
   ]
  },
  {
   "cell_type": "code",
   "execution_count": 71,
   "metadata": {},
   "outputs": [],
   "source": [
    "df2.rename(columns={0:'cnt'}, inplace = True)"
   ]
  },
  {
   "cell_type": "code",
   "execution_count": 72,
   "metadata": {},
   "outputs": [
    {
     "data": {
      "image/png": "[encoded data removed]",
      "text/plain": [
       "<Figure size 1000x600 with 1 Axes>"
      ]
     },
     "metadata": {},
     "output_type": "display_data"
    }
   ],
   "source": [
    "import seaborn as sns\n",
    "import pandas as pd\n",
    "import numpy as np\n",
    "import matplotlib.pyplot as plt\n",
    "import platform\n",
    "plt.rcParams[\"font.family\"] = 'AppleGothic'  # 사용할 한글 폰트 설정\n",
    "# 시각화\n",
    "plt.figure(figsize=(10, 6))\n",
    "sns.barplot(data=df2.reset_index(), x = '연령대', y = 'cnt', hue = '알게된 경로')\n",
    "plt.show()"
   ]
  },
  {
   "cell_type": "code",
   "execution_count": 15,
   "metadata": {},
   "outputs": [],
   "source": [
    "df2.reset_index(inplace =True)"
   ]
  },
  {
   "cell_type": "code",
   "execution_count": 17,
   "metadata": {},
   "outputs": [
    {
     "data": {
      "text/html": [
       "<div>\n",
       "<style scoped>\n",
       "    .dataframe tbody tr th:only-of-type {\n",
       "        vertical-align: middle;\n",
       "    }\n",
       "\n",
       "    .dataframe tbody tr th {\n",
       "        vertical-align: top;\n",
       "    }\n",
       "\n",
       "    .dataframe thead th {\n",
       "        text-align: right;\n",
       "    }\n",
       "</style>\n",
       "<table border=\"1\" class=\"dataframe\">\n",
       "  <thead>\n",
       "    <tr style=\"text-align: right;\">\n",
       "      <th></th>\n",
       "      <th>연령대</th>\n",
       "      <th>알게된 경로</th>\n",
       "      <th>cnt</th>\n",
       "    </tr>\n",
       "  </thead>\n",
       "  <tbody>\n",
       "    <tr>\n",
       "      <th>0</th>\n",
       "      <td>0~19</td>\n",
       "      <td>sns광고</td>\n",
       "      <td>9</td>\n",
       "    </tr>\n",
       "    <tr>\n",
       "      <th>1</th>\n",
       "      <td>0~19</td>\n",
       "      <td>지인 추천</td>\n",
       "      <td>2</td>\n",
       "    </tr>\n",
       "    <tr>\n",
       "      <th>2</th>\n",
       "      <td>20~30</td>\n",
       "      <td>sns광고</td>\n",
       "      <td>8</td>\n",
       "    </tr>\n",
       "    <tr>\n",
       "      <th>3</th>\n",
       "      <td>20~30</td>\n",
       "      <td>웹사이트</td>\n",
       "      <td>4</td>\n",
       "    </tr>\n",
       "    <tr>\n",
       "      <th>4</th>\n",
       "      <td>20~30</td>\n",
       "      <td>지역 미디어</td>\n",
       "      <td>1</td>\n",
       "    </tr>\n",
       "    <tr>\n",
       "      <th>5</th>\n",
       "      <td>20~30</td>\n",
       "      <td>지인 추천</td>\n",
       "      <td>6</td>\n",
       "    </tr>\n",
       "    <tr>\n",
       "      <th>6</th>\n",
       "      <td>20~30</td>\n",
       "      <td>포스터</td>\n",
       "      <td>1</td>\n",
       "    </tr>\n",
       "    <tr>\n",
       "      <th>7</th>\n",
       "      <td>40~60</td>\n",
       "      <td>sns광고</td>\n",
       "      <td>1</td>\n",
       "    </tr>\n",
       "    <tr>\n",
       "      <th>8</th>\n",
       "      <td>40~60</td>\n",
       "      <td>웹사이트</td>\n",
       "      <td>1</td>\n",
       "    </tr>\n",
       "    <tr>\n",
       "      <th>9</th>\n",
       "      <td>40~60</td>\n",
       "      <td>지인 추천</td>\n",
       "      <td>10</td>\n",
       "    </tr>\n",
       "  </tbody>\n",
       "</table>\n",
       "</div>"
      ],
      "text/plain": [
       "     연령대  알게된 경로  cnt\n",
       "0   0~19   sns광고    9\n",
       "1   0~19   지인 추천    2\n",
       "2  20~30   sns광고    8\n",
       "3  20~30    웹사이트    4\n",
       "4  20~30  지역 미디어    1\n",
       "5  20~30   지인 추천    6\n",
       "6  20~30     포스터    1\n",
       "7  40~60   sns광고    1\n",
       "8  40~60    웹사이트    1\n",
       "9  40~60   지인 추천   10"
      ]
     },
     "execution_count": 17,
     "metadata": {},
     "output_type": "execute_result"
    }
   ],
   "source": [
    "df2"
   ]
  },
  {
   "cell_type": "code",
   "execution_count": null,
   "metadata": {},
   "outputs": [],
   "source": [
    "# 젋은 나이대는 sns광고를 통해 이 축제를 알게 됐으며\n",
    "# 나이가 있는 중장년층은 주변 지인으로부터 소식을 전해들어서 알게되셨다.\n",
    "# max_expected_route = df2.loc[df2.groupby(['연령대'])[['알게된 경로','cnt']]]\n",
    "# max_expected_route"
   ]
  },
  {
   "cell_type": "markdown",
   "metadata": {},
   "source": [
    "# 설문조사자 거주지"
   ]
  },
  {
   "cell_type": "code",
   "execution_count": 48,
   "metadata": {},
   "outputs": [],
   "source": [
    "dff = df.groupby(['거주지역']).size().to_frame()\n",
    "dff.rename(columns={0:'cnt'},inplace=True)"
   ]
  },
  {
   "cell_type": "code",
   "execution_count": 49,
   "metadata": {},
   "outputs": [
    {
     "data": {
      "text/html": [
       "<div>\n",
       "<style scoped>\n",
       "    .dataframe tbody tr th:only-of-type {\n",
       "        vertical-align: middle;\n",
       "    }\n",
       "\n",
       "    .dataframe tbody tr th {\n",
       "        vertical-align: top;\n",
       "    }\n",
       "\n",
       "    .dataframe thead th {\n",
       "        text-align: right;\n",
       "    }\n",
       "</style>\n",
       "<table border=\"1\" class=\"dataframe\">\n",
       "  <thead>\n",
       "    <tr style=\"text-align: right;\">\n",
       "      <th></th>\n",
       "      <th>cnt</th>\n",
       "    </tr>\n",
       "    <tr>\n",
       "      <th>거주지역</th>\n",
       "      <th></th>\n",
       "    </tr>\n",
       "  </thead>\n",
       "  <tbody>\n",
       "    <tr>\n",
       "      <th>대전</th>\n",
       "      <td>26</td>\n",
       "    </tr>\n",
       "    <tr>\n",
       "      <th>타지역</th>\n",
       "      <td>17</td>\n",
       "    </tr>\n",
       "  </tbody>\n",
       "</table>\n",
       "</div>"
      ],
      "text/plain": [
       "      cnt\n",
       "거주지역     \n",
       "대전     26\n",
       "타지역    17"
      ]
     },
     "execution_count": 49,
     "metadata": {},
     "output_type": "execute_result"
    }
   ],
   "source": [
    "dff"
   ]
  },
  {
   "cell_type": "code",
   "execution_count": 51,
   "metadata": {},
   "outputs": [
    {
     "data": {
      "text/plain": [
       "<Axes: xlabel='거주지역', ylabel='cnt'>"
      ]
     },
     "execution_count": 51,
     "metadata": {},
     "output_type": "execute_result"
    },
    {
     "data": {
      "image/png": "[encoded data removed]",
      "text/plain": [
       "<Figure size 640x480 with 1 Axes>"
      ]
     },
     "metadata": {},
     "output_type": "display_data"
    }
   ],
   "source": [
    "sns.barplot(data=dff, x = dff.index,y = 'cnt')"
   ]
  },
  {
   "cell_type": "code",
   "execution_count": 40,
   "metadata": {},
   "outputs": [],
   "source": [
    "df_guzu = df.groupby(['연령대','거주지역']).size().to_frame()\n",
    "df_guzu.reset_index(inplace=True)\n",
    "df_guzu.rename(columns={0:'cnt'}, inplace =True)"
   ]
  },
  {
   "cell_type": "code",
   "execution_count": 45,
   "metadata": {},
   "outputs": [
    {
     "data": {
      "text/plain": [
       "<Axes: xlabel='연령대', ylabel='cnt'>"
      ]
     },
     "execution_count": 45,
     "metadata": {},
     "output_type": "execute_result"
    },
    {
     "data": {
      "image/png": "[encoded data removed]",
      "text/plain": [
       "<Figure size 640x480 with 1 Axes>"
      ]
     },
     "metadata": {},
     "output_type": "display_data"
    }
   ],
   "source": [
    "sns.barplot(data = df_guzu, x = '연령대', y = 'cnt', hue = '거주지역')"
   ]
  },
  {
   "cell_type": "markdown",
   "metadata": {},
   "source": [
    "# 대전 동구 연령대별 인구분포"
   ]
  },
  {
   "cell_type": "code",
   "execution_count": 73,
   "metadata": {},
   "outputs": [],
   "source": [
    "daejun = pd.read_excel('/Users/kang_hiee/Documents/GitHub/ubion/python/해커톤/빵구동구/대전동구_인구분포.xlsx')"
   ]
  },
  {
   "cell_type": "code",
   "execution_count": 74,
   "metadata": {},
   "outputs": [
    {
     "data": {
      "text/html": [
       "<div>\n",
       "<style scoped>\n",
       "    .dataframe tbody tr th:only-of-type {\n",
       "        vertical-align: middle;\n",
       "    }\n",
       "\n",
       "    .dataframe tbody tr th {\n",
       "        vertical-align: top;\n",
       "    }\n",
       "\n",
       "    .dataframe thead th {\n",
       "        text-align: right;\n",
       "    }\n",
       "</style>\n",
       "<table border=\"1\" class=\"dataframe\">\n",
       "  <thead>\n",
       "    <tr style=\"text-align: right;\">\n",
       "      <th></th>\n",
       "      <th>행정기관코드</th>\n",
       "      <th>행정기관</th>\n",
       "      <th>연령구간인구수</th>\n",
       "      <th>0~19세</th>\n",
       "      <th>20~40세</th>\n",
       "      <th>40~60세</th>\n",
       "    </tr>\n",
       "  </thead>\n",
       "  <tbody>\n",
       "    <tr>\n",
       "      <th>0</th>\n",
       "      <td>3011000000</td>\n",
       "      <td>대전광역시 동구</td>\n",
       "      <td>149988</td>\n",
       "      <td>30760</td>\n",
       "      <td>52080</td>\n",
       "      <td>67148</td>\n",
       "    </tr>\n",
       "  </tbody>\n",
       "</table>\n",
       "</div>"
      ],
      "text/plain": [
       "       행정기관코드       행정기관  연령구간인구수  0~19세  20~40세  40~60세\n",
       "0  3011000000  대전광역시 동구    149988  30760   52080   67148"
      ]
     },
     "execution_count": 74,
     "metadata": {},
     "output_type": "execute_result"
    }
   ],
   "source": [
    "daejun"
   ]
  },
  {
   "cell_type": "code",
   "execution_count": null,
   "metadata": {},
   "outputs": [],
   "source": []
  },
  {
   "cell_type": "code",
   "execution_count": null,
   "metadata": {},
   "outputs": [],
   "source": []
  },
  {
   "cell_type": "code",
   "execution_count": null,
   "metadata": {},
   "outputs": [],
   "source": []
  },
  {
   "cell_type": "code",
   "execution_count": null,
   "metadata": {},
   "outputs": [],
   "source": []
  },
  {
   "cell_type": "code",
   "execution_count": null,
   "metadata": {},
   "outputs": [],
   "source": []
  },
  {
   "cell_type": "code",
   "execution_count": null,
   "metadata": {},
   "outputs": [],
   "source": []
  },
  {
   "cell_type": "markdown",
   "metadata": {},
   "source": [
    "# 연령대별 '2023년 동구동락 축제 경험이 여부'"
   ]
  },
  {
   "cell_type": "code",
   "execution_count": 169,
   "metadata": {},
   "outputs": [],
   "source": [
    "df3 = df.groupby(['연령대','성별','2023년 동구동락 축제 경험이 있으신가요']).size().to_frame()"
   ]
  },
  {
   "cell_type": "code",
   "execution_count": 170,
   "metadata": {},
   "outputs": [],
   "source": [
    "df3.rename(columns={0:'cnt'},inplace=True)"
   ]
  },
  {
   "cell_type": "code",
   "execution_count": 171,
   "metadata": {},
   "outputs": [],
   "source": [
    "df3.reset_index(inplace=True)"
   ]
  },
  {
   "cell_type": "code",
   "execution_count": 172,
   "metadata": {},
   "outputs": [
    {
     "data": {
      "text/html": [
       "<div>\n",
       "<style scoped>\n",
       "    .dataframe tbody tr th:only-of-type {\n",
       "        vertical-align: middle;\n",
       "    }\n",
       "\n",
       "    .dataframe tbody tr th {\n",
       "        vertical-align: top;\n",
       "    }\n",
       "\n",
       "    .dataframe thead th {\n",
       "        text-align: right;\n",
       "    }\n",
       "</style>\n",
       "<table border=\"1\" class=\"dataframe\">\n",
       "  <thead>\n",
       "    <tr style=\"text-align: right;\">\n",
       "      <th></th>\n",
       "      <th>연령대</th>\n",
       "      <th>성별</th>\n",
       "      <th>2023년 동구동락 축제 경험이 있으신가요</th>\n",
       "      <th>cnt</th>\n",
       "    </tr>\n",
       "  </thead>\n",
       "  <tbody>\n",
       "    <tr>\n",
       "      <th>0</th>\n",
       "      <td>0~19</td>\n",
       "      <td>남</td>\n",
       "      <td>네</td>\n",
       "      <td>3</td>\n",
       "    </tr>\n",
       "    <tr>\n",
       "      <th>1</th>\n",
       "      <td>0~19</td>\n",
       "      <td>남</td>\n",
       "      <td>아니요</td>\n",
       "      <td>2</td>\n",
       "    </tr>\n",
       "    <tr>\n",
       "      <th>2</th>\n",
       "      <td>0~19</td>\n",
       "      <td>여</td>\n",
       "      <td>네</td>\n",
       "      <td>5</td>\n",
       "    </tr>\n",
       "    <tr>\n",
       "      <th>3</th>\n",
       "      <td>0~19</td>\n",
       "      <td>여</td>\n",
       "      <td>아니요</td>\n",
       "      <td>1</td>\n",
       "    </tr>\n",
       "    <tr>\n",
       "      <th>4</th>\n",
       "      <td>20~30</td>\n",
       "      <td>남</td>\n",
       "      <td>네</td>\n",
       "      <td>2</td>\n",
       "    </tr>\n",
       "    <tr>\n",
       "      <th>5</th>\n",
       "      <td>20~30</td>\n",
       "      <td>남</td>\n",
       "      <td>아니요</td>\n",
       "      <td>14</td>\n",
       "    </tr>\n",
       "    <tr>\n",
       "      <th>6</th>\n",
       "      <td>20~30</td>\n",
       "      <td>여</td>\n",
       "      <td>아니요</td>\n",
       "      <td>4</td>\n",
       "    </tr>\n",
       "    <tr>\n",
       "      <th>7</th>\n",
       "      <td>40~60</td>\n",
       "      <td>남</td>\n",
       "      <td>아니요</td>\n",
       "      <td>8</td>\n",
       "    </tr>\n",
       "    <tr>\n",
       "      <th>8</th>\n",
       "      <td>40~60</td>\n",
       "      <td>여</td>\n",
       "      <td>아니요</td>\n",
       "      <td>4</td>\n",
       "    </tr>\n",
       "  </tbody>\n",
       "</table>\n",
       "</div>"
      ],
      "text/plain": [
       "     연령대 성별 2023년 동구동락 축제 경험이 있으신가요  cnt\n",
       "0   0~19  남                       네    3\n",
       "1   0~19  남                     아니요    2\n",
       "2   0~19  여                       네    5\n",
       "3   0~19  여                     아니요    1\n",
       "4  20~30  남                       네    2\n",
       "5  20~30  남                     아니요   14\n",
       "6  20~30  여                     아니요    4\n",
       "7  40~60  남                     아니요    8\n",
       "8  40~60  여                     아니요    4"
      ]
     },
     "execution_count": 172,
     "metadata": {},
     "output_type": "execute_result"
    }
   ],
   "source": [
    "df3"
   ]
  },
  {
   "cell_type": "code",
   "execution_count": 173,
   "metadata": {},
   "outputs": [
    {
     "data": {
      "text/plain": [
       "<Axes: xlabel='연령대', ylabel='cnt'>"
      ]
     },
     "execution_count": 173,
     "metadata": {},
     "output_type": "execute_result"
    },
    {
     "data": {
      "image/png": "[encoded data removed]",
      "text/plain": [
       "<Figure size 640x480 with 1 Axes>"
      ]
     },
     "metadata": {},
     "output_type": "display_data"
    }
   ],
   "source": [
    "sns.barplot(data = df3, x = '연령대',y = 'cnt', hue = '2023년 동구동락 축제 경험이 있으신가요')"
   ]
  },
  {
   "cell_type": "markdown",
   "metadata": {},
   "source": [
    "# 연령대별 가장 기대하는 프로그램"
   ]
  },
  {
   "cell_type": "code",
   "execution_count": 78,
   "metadata": {},
   "outputs": [
    {
     "data": {
      "text/html": [
       "<div>\n",
       "<style scoped>\n",
       "    .dataframe tbody tr th:only-of-type {\n",
       "        vertical-align: middle;\n",
       "    }\n",
       "\n",
       "    .dataframe tbody tr th {\n",
       "        vertical-align: top;\n",
       "    }\n",
       "\n",
       "    .dataframe thead th {\n",
       "        text-align: right;\n",
       "    }\n",
       "</style>\n",
       "<table border=\"1\" class=\"dataframe\">\n",
       "  <thead>\n",
       "    <tr style=\"text-align: right;\">\n",
       "      <th></th>\n",
       "      <th>연령대</th>\n",
       "      <th>다음 축제 프로그램중 가장 기대되는 프로그램은?</th>\n",
       "      <th>cnt</th>\n",
       "    </tr>\n",
       "  </thead>\n",
       "  <tbody>\n",
       "    <tr>\n",
       "      <th>0</th>\n",
       "      <td>0~19</td>\n",
       "      <td>연예인 무대, 푸드트럭</td>\n",
       "      <td>10</td>\n",
       "    </tr>\n",
       "    <tr>\n",
       "      <th>1</th>\n",
       "      <td>0~19</td>\n",
       "      <td>푸드트럭</td>\n",
       "      <td>1</td>\n",
       "    </tr>\n",
       "    <tr>\n",
       "      <th>2</th>\n",
       "      <td>20~40</td>\n",
       "      <td>연예인 무대</td>\n",
       "      <td>8</td>\n",
       "    </tr>\n",
       "    <tr>\n",
       "      <th>3</th>\n",
       "      <td>20~40</td>\n",
       "      <td>연예인 무대, 푸드트럭</td>\n",
       "      <td>2</td>\n",
       "    </tr>\n",
       "    <tr>\n",
       "      <th>4</th>\n",
       "      <td>20~40</td>\n",
       "      <td>연예인 무대, 푸드트럭, _x0008_EDM파티</td>\n",
       "      <td>2</td>\n",
       "    </tr>\n",
       "    <tr>\n",
       "      <th>5</th>\n",
       "      <td>20~40</td>\n",
       "      <td>연예인 무대, 푸드트럭, 현장 이벤트(쿠킹클래스, 김동구 찾기(김동구 티 입은 사람...</td>\n",
       "      <td>2</td>\n",
       "    </tr>\n",
       "    <tr>\n",
       "      <th>6</th>\n",
       "      <td>20~40</td>\n",
       "      <td>푸드트럭</td>\n",
       "      <td>1</td>\n",
       "    </tr>\n",
       "    <tr>\n",
       "      <th>7</th>\n",
       "      <td>20~40</td>\n",
       "      <td>푸드트럭, _x0008_EDM파티</td>\n",
       "      <td>3</td>\n",
       "    </tr>\n",
       "    <tr>\n",
       "      <th>8</th>\n",
       "      <td>20~40</td>\n",
       "      <td>현장 이벤트(쿠킹클래스, 김동구 찾기(김동구 티 입은 사람 찾기))</td>\n",
       "      <td>2</td>\n",
       "    </tr>\n",
       "    <tr>\n",
       "      <th>9</th>\n",
       "      <td>40~60</td>\n",
       "      <td>연예인 무대, 푸드트럭, _x0008_EDM파티</td>\n",
       "      <td>1</td>\n",
       "    </tr>\n",
       "    <tr>\n",
       "      <th>10</th>\n",
       "      <td>40~60</td>\n",
       "      <td>연예인 무대, 현장 이벤트(쿠킹클래스, 김동구 찾기(김동구 티 입은 사람 찾기))</td>\n",
       "      <td>7</td>\n",
       "    </tr>\n",
       "    <tr>\n",
       "      <th>11</th>\n",
       "      <td>40~60</td>\n",
       "      <td>현장 이벤트(쿠킹클래스, 김동구 찾기(김동구 티 입은 사람 찾기))</td>\n",
       "      <td>4</td>\n",
       "    </tr>\n",
       "  </tbody>\n",
       "</table>\n",
       "</div>"
      ],
      "text/plain": [
       "      연령대                         다음 축제 프로그램중 가장 기대되는 프로그램은?  cnt\n",
       "0    0~19                                       연예인 무대, 푸드트럭   10\n",
       "1    0~19                                               푸드트럭    1\n",
       "2   20~40                                             연예인 무대    8\n",
       "3   20~40                                       연예인 무대, 푸드트럭    2\n",
       "4   20~40                         연예인 무대, 푸드트럭, _x0008_EDM파티    2\n",
       "5   20~40  연예인 무대, 푸드트럭, 현장 이벤트(쿠킹클래스, 김동구 찾기(김동구 티 입은 사람...    2\n",
       "6   20~40                                               푸드트럭    1\n",
       "7   20~40                                 푸드트럭, _x0008_EDM파티    3\n",
       "8   20~40              현장 이벤트(쿠킹클래스, 김동구 찾기(김동구 티 입은 사람 찾기))    2\n",
       "9   40~60                         연예인 무대, 푸드트럭, _x0008_EDM파티    1\n",
       "10  40~60      연예인 무대, 현장 이벤트(쿠킹클래스, 김동구 찾기(김동구 티 입은 사람 찾기))    7\n",
       "11  40~60              현장 이벤트(쿠킹클래스, 김동구 찾기(김동구 티 입은 사람 찾기))    4"
      ]
     },
     "execution_count": 78,
     "metadata": {},
     "output_type": "execute_result"
    }
   ],
   "source": [
    "df4 = df.groupby(['연령대','다음 축제 프로그램중 가장 기대되는 프로그램은?']).size().to_frame().reset_index()\n",
    "df4.rename(columns = {0:'cnt'}, inplace = True)\n",
    "df4"
   ]
  },
  {
   "cell_type": "code",
   "execution_count": 79,
   "metadata": {},
   "outputs": [
    {
     "data": {
      "text/html": [
       "<div>\n",
       "<style scoped>\n",
       "    .dataframe tbody tr th:only-of-type {\n",
       "        vertical-align: middle;\n",
       "    }\n",
       "\n",
       "    .dataframe tbody tr th {\n",
       "        vertical-align: top;\n",
       "    }\n",
       "\n",
       "    .dataframe thead th {\n",
       "        text-align: right;\n",
       "    }\n",
       "</style>\n",
       "<table border=\"1\" class=\"dataframe\">\n",
       "  <thead>\n",
       "    <tr style=\"text-align: right;\">\n",
       "      <th></th>\n",
       "      <th>연령대</th>\n",
       "      <th>다음 축제 프로그램중 가장 기대되는 프로그램은?</th>\n",
       "      <th>cnt</th>\n",
       "    </tr>\n",
       "  </thead>\n",
       "  <tbody>\n",
       "    <tr>\n",
       "      <th>0</th>\n",
       "      <td>0~19</td>\n",
       "      <td>연예인 무대, 푸드트럭</td>\n",
       "      <td>10</td>\n",
       "    </tr>\n",
       "    <tr>\n",
       "      <th>2</th>\n",
       "      <td>20~40</td>\n",
       "      <td>연예인 무대</td>\n",
       "      <td>8</td>\n",
       "    </tr>\n",
       "    <tr>\n",
       "      <th>10</th>\n",
       "      <td>40~60</td>\n",
       "      <td>연예인 무대, 현장 이벤트(쿠킹클래스, 김동구 찾기(김동구 티 입은 사람 찾기))</td>\n",
       "      <td>7</td>\n",
       "    </tr>\n",
       "  </tbody>\n",
       "</table>\n",
       "</div>"
      ],
      "text/plain": [
       "      연령대                     다음 축제 프로그램중 가장 기대되는 프로그램은?  cnt\n",
       "0    0~19                                   연예인 무대, 푸드트럭   10\n",
       "2   20~40                                         연예인 무대    8\n",
       "10  40~60  연예인 무대, 현장 이벤트(쿠킹클래스, 김동구 찾기(김동구 티 입은 사람 찾기))    7"
      ]
     },
     "execution_count": 79,
     "metadata": {},
     "output_type": "execute_result"
    }
   ],
   "source": [
    "# 연령대별로 10대는  연예인 무대, 푸드트럭\n",
    "        # 20~30대는 연예인 무대\n",
    "        # 40~60대는 연예인무대, 현장이벤트\n",
    "        # 공통적으로 연예인무대를 많이 기대하고 있다 -> 연예인 무대 마켓팅과 프로그램을 좀더 다양하게 짜면 좋을듯하다\n",
    "max_expected_programs = df4.loc[df4.groupby('연령대')['cnt'].idxmax()]\n",
    "max_expected_programs"
   ]
  },
  {
   "cell_type": "code",
   "execution_count": 77,
   "metadata": {},
   "outputs": [
    {
     "data": {
      "text/plain": [
       "<Axes: xlabel='연령대', ylabel='cnt'>"
      ]
     },
     "execution_count": 77,
     "metadata": {},
     "output_type": "execute_result"
    },
    {
     "data": {
      "image/png": "[encoded data removed]",
      "text/plain": [
       "<Figure size 640x480 with 1 Axes>"
      ]
     },
     "metadata": {},
     "output_type": "display_data"
    }
   ],
   "source": [
    "sns.barplot(data = df4, x = '연령대', y='cnt', hue = '다음 축제 프로그램중 가장 기대되는 프로그램은?')"
   ]
  },
  {
   "cell_type": "code",
   "execution_count": 86,
   "metadata": {},
   "outputs": [
    {
     "data": {
      "application/vnd.plotly.v1+json": {
       "config": {
        "plotlyServerURL": "https://plot.ly"
       },
       "data": [
        {
         "alignmentgroup": "True",
         "hovertemplate": "다음 축제 프로그램중 가장 기대되는 프로그램은?=연예인 무대, 푸드트럭<br>연령대=%{x}<br>cnt=%{y}<extra></extra>",
         "legendgroup": "연예인 무대, 푸드트럭",
         "marker": {
          "color": "#636efa",
          "pattern": {
           "shape": ""
          }
         },
         "name": "연예인 무대, 푸드트럭",
         "offsetgroup": "연예인 무대, 푸드트럭",
         "orientation": "v",
         "showlegend": true,
         "textposition": "auto",
         "type": "bar",
         "x": [
          "0~19",
          "20~40"
         ],
         "xaxis": "x",
         "y": [
          10,
          2
         ],
         "yaxis": "y"
        },
        {
         "alignmentgroup": "True",
         "hovertemplate": "다음 축제 프로그램중 가장 기대되는 프로그램은?=푸드트럭<br>연령대=%{x}<br>cnt=%{y}<extra></extra>",
         "legendgroup": "푸드트럭",
         "marker": {
          "color": "#EF553B",
          "pattern": {
           "shape": ""
          }
         },
         "name": "푸드트럭",
         "offsetgroup": "푸드트럭",
         "orientation": "v",
         "showlegend": true,
         "textposition": "auto",
         "type": "bar",
         "x": [
          "0~19",
          "20~40"
         ],
         "xaxis": "x",
         "y": [
          1,
          1
         ],
         "yaxis": "y"
        },
        {
         "alignmentgroup": "True",
         "hovertemplate": "다음 축제 프로그램중 가장 기대되는 프로그램은?=연예인 무대<br>연령대=%{x}<br>cnt=%{y}<extra></extra>",
         "legendgroup": "연예인 무대",
         "marker": {
          "color": "#00cc96",
          "pattern": {
           "shape": ""
          }
         },
         "name": "연예인 무대",
         "offsetgroup": "연예인 무대",
         "orientation": "v",
         "showlegend": true,
         "textposition": "auto",
         "type": "bar",
         "x": [
          "20~40"
         ],
         "xaxis": "x",
         "y": [
          8
         ],
         "yaxis": "y"
        },
        {
         "alignmentgroup": "True",
         "hovertemplate": "다음 축제 프로그램중 가장 기대되는 프로그램은?=연예인 무대, 푸드트럭, _x0008_EDM파티<br>연령대=%{x}<br>cnt=%{y}<extra></extra>",
         "legendgroup": "연예인 무대, 푸드트럭, _x0008_EDM파티",
         "marker": {
          "color": "#ab63fa",
          "pattern": {
           "shape": ""
          }
         },
         "name": "연예인 무대, 푸드트럭, _x0008_EDM파티",
         "offsetgroup": "연예인 무대, 푸드트럭, _x0008_EDM파티",
         "orientation": "v",
         "showlegend": true,
         "textposition": "auto",
         "type": "bar",
         "x": [
          "20~40",
          "40~60"
         ],
         "xaxis": "x",
         "y": [
          2,
          1
         ],
         "yaxis": "y"
        },
        {
         "alignmentgroup": "True",
         "hovertemplate": "다음 축제 프로그램중 가장 기대되는 프로그램은?=연예인 무대, 푸드트럭, 현장 이벤트(쿠킹클래스, 김동구 찾기(김동구 티 입은 사람 찾기))<br>연령대=%{x}<br>cnt=%{y}<extra></extra>",
         "legendgroup": "연예인 무대, 푸드트럭, 현장 이벤트(쿠킹클래스, 김동구 찾기(김동구 티 입은 사람 찾기))",
         "marker": {
          "color": "#FFA15A",
          "pattern": {
           "shape": ""
          }
         },
         "name": "연예인 무대, 푸드트럭, 현장 이벤트(쿠킹클래스, 김동구 찾기(김동구 티 입은 사람 찾기))",
         "offsetgroup": "연예인 무대, 푸드트럭, 현장 이벤트(쿠킹클래스, 김동구 찾기(김동구 티 입은 사람 찾기))",
         "orientation": "v",
         "showlegend": true,
         "textposition": "auto",
         "type": "bar",
         "x": [
          "20~40"
         ],
         "xaxis": "x",
         "y": [
          2
         ],
         "yaxis": "y"
        },
        {
         "alignmentgroup": "True",
         "hovertemplate": "다음 축제 프로그램중 가장 기대되는 프로그램은?=푸드트럭, _x0008_EDM파티<br>연령대=%{x}<br>cnt=%{y}<extra></extra>",
         "legendgroup": "푸드트럭, _x0008_EDM파티",
         "marker": {
          "color": "#19d3f3",
          "pattern": {
           "shape": ""
          }
         },
         "name": "푸드트럭, _x0008_EDM파티",
         "offsetgroup": "푸드트럭, _x0008_EDM파티",
         "orientation": "v",
         "showlegend": true,
         "textposition": "auto",
         "type": "bar",
         "x": [
          "20~40"
         ],
         "xaxis": "x",
         "y": [
          3
         ],
         "yaxis": "y"
        },
        {
         "alignmentgroup": "True",
         "hovertemplate": "다음 축제 프로그램중 가장 기대되는 프로그램은?=현장 이벤트(쿠킹클래스, 김동구 찾기(김동구 티 입은 사람 찾기))<br>연령대=%{x}<br>cnt=%{y}<extra></extra>",
         "legendgroup": "현장 이벤트(쿠킹클래스, 김동구 찾기(김동구 티 입은 사람 찾기))",
         "marker": {
          "color": "#FF6692",
          "pattern": {
           "shape": ""
          }
         },
         "name": "현장 이벤트(쿠킹클래스, 김동구 찾기(김동구 티 입은 사람 찾기))",
         "offsetgroup": "현장 이벤트(쿠킹클래스, 김동구 찾기(김동구 티 입은 사람 찾기))",
         "orientation": "v",
         "showlegend": true,
         "textposition": "auto",
         "type": "bar",
         "x": [
          "20~40",
          "40~60"
         ],
         "xaxis": "x",
         "y": [
          2,
          4
         ],
         "yaxis": "y"
        },
        {
         "alignmentgroup": "True",
         "hovertemplate": "다음 축제 프로그램중 가장 기대되는 프로그램은?=연예인 무대, 현장 이벤트(쿠킹클래스, 김동구 찾기(김동구 티 입은 사람 찾기))<br>연령대=%{x}<br>cnt=%{y}<extra></extra>",
         "legendgroup": "연예인 무대, 현장 이벤트(쿠킹클래스, 김동구 찾기(김동구 티 입은 사람 찾기))",
         "marker": {
          "color": "#B6E880",
          "pattern": {
           "shape": ""
          }
         },
         "name": "연예인 무대, 현장 이벤트(쿠킹클래스, 김동구 찾기(김동구 티 입은 사람 찾기))",
         "offsetgroup": "연예인 무대, 현장 이벤트(쿠킹클래스, 김동구 찾기(김동구 티 입은 사람 찾기))",
         "orientation": "v",
         "showlegend": true,
         "textposition": "auto",
         "type": "bar",
         "x": [
          "40~60"
         ],
         "xaxis": "x",
         "y": [
          7
         ],
         "yaxis": "y"
        }
       ],
       "layout": {
        "barmode": "relative",
        "legend": {
         "title": {
          "text": "다음 축제 프로그램중 가장 기대되는 프로그램은?"
         },
         "tracegroupgap": 0
        },
        "margin": {
         "t": 60
        },
        "template": {
         "data": {
          "bar": [
           {
            "error_x": {
             "color": "#2a3f5f"
            },
            "error_y": {
             "color": "#2a3f5f"
            },
            "marker": {
             "line": {
              "color": "#E5ECF6",
              "width": 0.5
             },
             "pattern": {
              "fillmode": "overlay",
              "size": 10,
              "solidity": 0.2
             }
            },
            "type": "bar"
           }
          ],
          "barpolar": [
           {
            "marker": {
             "line": {
              "color": "#E5ECF6",
              "width": 0.5
             },
             "pattern": {
              "fillmode": "overlay",
              "size": 10,
              "solidity": 0.2
             }
            },
            "type": "barpolar"
           }
          ],
          "carpet": [
           {
            "aaxis": {
             "endlinecolor": "#2a3f5f",
             "gridcolor": "white",
             "linecolor": "white",
             "minorgridcolor": "white",
             "startlinecolor": "#2a3f5f"
            },
            "baxis": {
             "endlinecolor": "#2a3f5f",
             "gridcolor": "white",
             "linecolor": "white",
             "minorgridcolor": "white",
             "startlinecolor": "#2a3f5f"
            },
            "type": "carpet"
           }
          ],
          "choropleth": [
           {
            "colorbar": {
             "outlinewidth": 0,
             "ticks": ""
            },
            "type": "choropleth"
           }
          ],
          "contour": [
           {
            "colorbar": {
             "outlinewidth": 0,
             "ticks": ""
            },
            "colorscale": [
             [
              0,
              "#0d0887"
             ],
             [
              0.1111111111111111,
              "#46039f"
             ],
             [
              0.2222222222222222,
              "#7201a8"
             ],
             [
              0.3333333333333333,
              "#9c179e"
             ],
             [
              0.4444444444444444,
              "#bd3786"
             ],
             [
              0.5555555555555556,
              "#d8576b"
             ],
             [
              0.6666666666666666,
              "#ed7953"
             ],
             [
              0.7777777777777778,
              "#fb9f3a"
             ],
             [
              0.8888888888888888,
              "#fdca26"
             ],
             [
              1,
              "#f0f921"
             ]
            ],
            "type": "contour"
           }
          ],
          "contourcarpet": [
           {
            "colorbar": {
             "outlinewidth": 0,
             "ticks": ""
            },
            "type": "contourcarpet"
           }
          ],
          "heatmap": [
           {
            "colorbar": {
             "outlinewidth": 0,
             "ticks": ""
            },
            "colorscale": [
             [
              0,
              "#0d0887"
             ],
             [
              0.1111111111111111,
              "#46039f"
             ],
             [
              0.2222222222222222,
              "#7201a8"
             ],
             [
              0.3333333333333333,
              "#9c179e"
             ],
             [
              0.4444444444444444,
              "#bd3786"
             ],
             [
              0.5555555555555556,
              "#d8576b"
             ],
             [
              0.6666666666666666,
              "#ed7953"
             ],
             [
              0.7777777777777778,
              "#fb9f3a"
             ],
             [
              0.8888888888888888,
              "#fdca26"
             ],
             [
              1,
              "#f0f921"
             ]
            ],
            "type": "heatmap"
           }
          ],
          "heatmapgl": [
           {
            "colorbar": {
             "outlinewidth": 0,
             "ticks": ""
            },
            "colorscale": [
             [
              0,
              "#0d0887"
             ],
             [
              0.1111111111111111,
              "#46039f"
             ],
             [
              0.2222222222222222,
              "#7201a8"
             ],
             [
              0.3333333333333333,
              "#9c179e"
             ],
             [
              0.4444444444444444,
              "#bd3786"
             ],
             [
              0.5555555555555556,
              "#d8576b"
             ],
             [
              0.6666666666666666,
              "#ed7953"
             ],
             [
              0.7777777777777778,
              "#fb9f3a"
             ],
             [
              0.8888888888888888,
              "#fdca26"
             ],
             [
              1,
              "#f0f921"
             ]
            ],
            "type": "heatmapgl"
           }
          ],
          "histogram": [
           {
            "marker": {
             "pattern": {
              "fillmode": "overlay",
              "size": 10,
              "solidity": 0.2
             }
            },
            "type": "histogram"
           }
          ],
          "histogram2d": [
           {
            "colorbar": {
             "outlinewidth": 0,
             "ticks": ""
            },
            "colorscale": [
             [
              0,
              "#0d0887"
             ],
             [
              0.1111111111111111,
              "#46039f"
             ],
             [
              0.2222222222222222,
              "#7201a8"
             ],
             [
              0.3333333333333333,
              "#9c179e"
             ],
             [
              0.4444444444444444,
              "#bd3786"
             ],
             [
              0.5555555555555556,
              "#d8576b"
             ],
             [
              0.6666666666666666,
              "#ed7953"
             ],
             [
              0.7777777777777778,
              "#fb9f3a"
             ],
             [
              0.8888888888888888,
              "#fdca26"
             ],
             [
              1,
              "#f0f921"
             ]
            ],
            "type": "histogram2d"
           }
          ],
          "histogram2dcontour": [
           {
            "colorbar": {
             "outlinewidth": 0,
             "ticks": ""
            },
            "colorscale": [
             [
              0,
              "#0d0887"
             ],
             [
              0.1111111111111111,
              "#46039f"
             ],
             [
              0.2222222222222222,
              "#7201a8"
             ],
             [
              0.3333333333333333,
              "#9c179e"
             ],
             [
              0.4444444444444444,
              "#bd3786"
             ],
             [
              0.5555555555555556,
              "#d8576b"
             ],
             [
              0.6666666666666666,
              "#ed7953"
             ],
             [
              0.7777777777777778,
              "#fb9f3a"
             ],
             [
              0.8888888888888888,
              "#fdca26"
             ],
             [
              1,
              "#f0f921"
             ]
            ],
            "type": "histogram2dcontour"
           }
          ],
          "mesh3d": [
           {
            "colorbar": {
             "outlinewidth": 0,
             "ticks": ""
            },
            "type": "mesh3d"
           }
          ],
          "parcoords": [
           {
            "line": {
             "colorbar": {
              "outlinewidth": 0,
              "ticks": ""
             }
            },
            "type": "parcoords"
           }
          ],
          "pie": [
           {
            "automargin": true,
            "type": "pie"
           }
          ],
          "scatter": [
           {
            "fillpattern": {
             "fillmode": "overlay",
             "size": 10,
             "solidity": 0.2
            },
            "type": "scatter"
           }
          ],
          "scatter3d": [
           {
            "line": {
             "colorbar": {
              "outlinewidth": 0,
              "ticks": ""
             }
            },
            "marker": {
             "colorbar": {
              "outlinewidth": 0,
              "ticks": ""
             }
            },
            "type": "scatter3d"
           }
          ],
          "scattercarpet": [
           {
            "marker": {
             "colorbar": {
              "outlinewidth": 0,
              "ticks": ""
             }
            },
            "type": "scattercarpet"
           }
          ],
          "scattergeo": [
           {
            "marker": {
             "colorbar": {
              "outlinewidth": 0,
              "ticks": ""
             }
            },
            "type": "scattergeo"
           }
          ],
          "scattergl": [
           {
            "marker": {
             "colorbar": {
              "outlinewidth": 0,
              "ticks": ""
             }
            },
            "type": "scattergl"
           }
          ],
          "scattermapbox": [
           {
            "marker": {
             "colorbar": {
              "outlinewidth": 0,
              "ticks": ""
             }
            },
            "type": "scattermapbox"
           }
          ],
          "scatterpolar": [
           {
            "marker": {
             "colorbar": {
              "outlinewidth": 0,
              "ticks": ""
             }
            },
            "type": "scatterpolar"
           }
          ],
          "scatterpolargl": [
           {
            "marker": {
             "colorbar": {
              "outlinewidth": 0,
              "ticks": ""
             }
            },
            "type": "scatterpolargl"
           }
          ],
          "scatterternary": [
           {
            "marker": {
             "colorbar": {
              "outlinewidth": 0,
              "ticks": ""
             }
            },
            "type": "scatterternary"
           }
          ],
          "surface": [
           {
            "colorbar": {
             "outlinewidth": 0,
             "ticks": ""
            },
            "colorscale": [
             [
              0,
              "#0d0887"
             ],
             [
              0.1111111111111111,
              "#46039f"
             ],
             [
              0.2222222222222222,
              "#7201a8"
             ],
             [
              0.3333333333333333,
              "#9c179e"
             ],
             [
              0.4444444444444444,
              "#bd3786"
             ],
             [
              0.5555555555555556,
              "#d8576b"
             ],
             [
              0.6666666666666666,
              "#ed7953"
             ],
             [
              0.7777777777777778,
              "#fb9f3a"
             ],
             [
              0.8888888888888888,
              "#fdca26"
             ],
             [
              1,
              "#f0f921"
             ]
            ],
            "type": "surface"
           }
          ],
          "table": [
           {
            "cells": {
             "fill": {
              "color": "#EBF0F8"
             },
             "line": {
              "color": "white"
             }
            },
            "header": {
             "fill": {
              "color": "#C8D4E3"
             },
             "line": {
              "color": "white"
             }
            },
            "type": "table"
           }
          ]
         },
         "layout": {
          "annotationdefaults": {
           "arrowcolor": "#2a3f5f",
           "arrowhead": 0,
           "arrowwidth": 1
          },
          "autotypenumbers": "strict",
          "coloraxis": {
           "colorbar": {
            "outlinewidth": 0,
            "ticks": ""
           }
          },
          "colorscale": {
           "diverging": [
            [
             0,
             "#8e0152"
            ],
            [
             0.1,
             "#c51b7d"
            ],
            [
             0.2,
             "#de77ae"
            ],
            [
             0.3,
             "#f1b6da"
            ],
            [
             0.4,
             "#fde0ef"
            ],
            [
             0.5,
             "#f7f7f7"
            ],
            [
             0.6,
             "#e6f5d0"
            ],
            [
             0.7,
             "#b8e186"
            ],
            [
             0.8,
             "#7fbc41"
            ],
            [
             0.9,
             "#4d9221"
            ],
            [
             1,
             "#276419"
            ]
           ],
           "sequential": [
            [
             0,
             "#0d0887"
            ],
            [
             0.1111111111111111,
             "#46039f"
            ],
            [
             0.2222222222222222,
             "#7201a8"
            ],
            [
             0.3333333333333333,
             "#9c179e"
            ],
            [
             0.4444444444444444,
             "#bd3786"
            ],
            [
             0.5555555555555556,
             "#d8576b"
            ],
            [
             0.6666666666666666,
             "#ed7953"
            ],
            [
             0.7777777777777778,
             "#fb9f3a"
            ],
            [
             0.8888888888888888,
             "#fdca26"
            ],
            [
             1,
             "#f0f921"
            ]
           ],
           "sequentialminus": [
            [
             0,
             "#0d0887"
            ],
            [
             0.1111111111111111,
             "#46039f"
            ],
            [
             0.2222222222222222,
             "#7201a8"
            ],
            [
             0.3333333333333333,
             "#9c179e"
            ],
            [
             0.4444444444444444,
             "#bd3786"
            ],
            [
             0.5555555555555556,
             "#d8576b"
            ],
            [
             0.6666666666666666,
             "#ed7953"
            ],
            [
             0.7777777777777778,
             "#fb9f3a"
            ],
            [
             0.8888888888888888,
             "#fdca26"
            ],
            [
             1,
             "#f0f921"
            ]
           ]
          },
          "colorway": [
           "#636efa",
           "#EF553B",
           "#00cc96",
           "#ab63fa",
           "#FFA15A",
           "#19d3f3",
           "#FF6692",
           "#B6E880",
           "#FF97FF",
           "#FECB52"
          ],
          "font": {
           "color": "#2a3f5f"
          },
          "geo": {
           "bgcolor": "white",
           "lakecolor": "white",
           "landcolor": "#E5ECF6",
           "showlakes": true,
           "showland": true,
           "subunitcolor": "white"
          },
          "hoverlabel": {
           "align": "left"
          },
          "hovermode": "closest",
          "mapbox": {
           "style": "light"
          },
          "paper_bgcolor": "white",
          "plot_bgcolor": "#E5ECF6",
          "polar": {
           "angularaxis": {
            "gridcolor": "white",
            "linecolor": "white",
            "ticks": ""
           },
           "bgcolor": "#E5ECF6",
           "radialaxis": {
            "gridcolor": "white",
            "linecolor": "white",
            "ticks": ""
           }
          },
          "scene": {
           "xaxis": {
            "backgroundcolor": "#E5ECF6",
            "gridcolor": "white",
            "gridwidth": 2,
            "linecolor": "white",
            "showbackground": true,
            "ticks": "",
            "zerolinecolor": "white"
           },
           "yaxis": {
            "backgroundcolor": "#E5ECF6",
            "gridcolor": "white",
            "gridwidth": 2,
            "linecolor": "white",
            "showbackground": true,
            "ticks": "",
            "zerolinecolor": "white"
           },
           "zaxis": {
            "backgroundcolor": "#E5ECF6",
            "gridcolor": "white",
            "gridwidth": 2,
            "linecolor": "white",
            "showbackground": true,
            "ticks": "",
            "zerolinecolor": "white"
           }
          },
          "shapedefaults": {
           "line": {
            "color": "#2a3f5f"
           }
          },
          "ternary": {
           "aaxis": {
            "gridcolor": "white",
            "linecolor": "white",
            "ticks": ""
           },
           "baxis": {
            "gridcolor": "white",
            "linecolor": "white",
            "ticks": ""
           },
           "bgcolor": "#E5ECF6",
           "caxis": {
            "gridcolor": "white",
            "linecolor": "white",
            "ticks": ""
           }
          },
          "title": {
           "x": 0.05
          },
          "xaxis": {
           "automargin": true,
           "gridcolor": "white",
           "linecolor": "white",
           "ticks": "",
           "title": {
            "standoff": 15
           },
           "zerolinecolor": "white",
           "zerolinewidth": 2
          },
          "yaxis": {
           "automargin": true,
           "gridcolor": "white",
           "linecolor": "white",
           "ticks": "",
           "title": {
            "standoff": 15
           },
           "zerolinecolor": "white",
           "zerolinewidth": 2
          }
         }
        },
        "xaxis": {
         "anchor": "y",
         "domain": [
          0,
          1
         ],
         "tickfont": {
          "size": 20
         },
         "title": {
          "text": "연령대"
         }
        },
        "yaxis": {
         "anchor": "x",
         "domain": [
          0,
          1
         ],
         "title": {
          "text": "cnt"
         }
        }
       }
      }
     },
     "metadata": {},
     "output_type": "display_data"
    }
   ],
   "source": [
    "import plotly\n",
    "import plotly.express as px\n",
    "fig = px.bar(df4, x = '연령대',y ='cnt',color = '다음 축제 프로그램중 가장 기대되는 프로그램은?')\n",
    "fig.update_xaxes(tickfont=dict(size=20))\n",
    "fig.show()\n",
    "# 골드 등급의 고객 수가 가장 많고, 다이아몬드 등급의 고객 수가 가장 적다."
   ]
  },
  {
   "cell_type": "markdown",
   "metadata": {},
   "source": [
    "# 연령대 별 축제 무대에 왔으면 하는 연예인"
   ]
  },
  {
   "cell_type": "code",
   "execution_count": 177,
   "metadata": {},
   "outputs": [],
   "source": [
    "df6 = df.groupby(['연령대','축제 무대에 왔으면 하는 연예인']).size().to_frame().rename(columns = {0:'cnt'}).sort_values(by=['연령대','cnt'],ascending=True)"
   ]
  },
  {
   "cell_type": "code",
   "execution_count": 178,
   "metadata": {},
   "outputs": [
    {
     "data": {
      "text/html": [
       "<div>\n",
       "<style scoped>\n",
       "    .dataframe tbody tr th:only-of-type {\n",
       "        vertical-align: middle;\n",
       "    }\n",
       "\n",
       "    .dataframe tbody tr th {\n",
       "        vertical-align: top;\n",
       "    }\n",
       "\n",
       "    .dataframe thead th {\n",
       "        text-align: right;\n",
       "    }\n",
       "</style>\n",
       "<table border=\"1\" class=\"dataframe\">\n",
       "  <thead>\n",
       "    <tr style=\"text-align: right;\">\n",
       "      <th></th>\n",
       "      <th></th>\n",
       "      <th>cnt</th>\n",
       "    </tr>\n",
       "    <tr>\n",
       "      <th>연령대</th>\n",
       "      <th>축제 무대에 왔으면 하는 연예인</th>\n",
       "      <th></th>\n",
       "    </tr>\n",
       "  </thead>\n",
       "  <tbody>\n",
       "    <tr>\n",
       "      <th rowspan=\"5\" valign=\"top\">0~19</th>\n",
       "      <th>_x0008_ATEEZ</th>\n",
       "      <td>1</td>\n",
       "    </tr>\n",
       "    <tr>\n",
       "      <th>뉴진스</th>\n",
       "      <td>1</td>\n",
       "    </tr>\n",
       "    <tr>\n",
       "      <th>아이브</th>\n",
       "      <td>1</td>\n",
       "    </tr>\n",
       "    <tr>\n",
       "      <th>에스파</th>\n",
       "      <td>1</td>\n",
       "    </tr>\n",
       "    <tr>\n",
       "      <th>아일릿</th>\n",
       "      <td>7</td>\n",
       "    </tr>\n",
       "    <tr>\n",
       "      <th rowspan=\"15\" valign=\"top\">20~30</th>\n",
       "      <th>10cm</th>\n",
       "      <td>1</td>\n",
       "    </tr>\n",
       "    <tr>\n",
       "      <th>다비치</th>\n",
       "      <td>1</td>\n",
       "    </tr>\n",
       "    <tr>\n",
       "      <th>시그니처 지원/ 여자 아이돌 그룹</th>\n",
       "      <td>1</td>\n",
       "    </tr>\n",
       "    <tr>\n",
       "      <th>아이브</th>\n",
       "      <td>1</td>\n",
       "    </tr>\n",
       "    <tr>\n",
       "      <th>아이브, 대전이 고향인 연예인</th>\n",
       "      <td>1</td>\n",
       "    </tr>\n",
       "    <tr>\n",
       "      <th>에스파</th>\n",
       "      <td>1</td>\n",
       "    </tr>\n",
       "    <tr>\n",
       "      <th>여자아이들</th>\n",
       "      <td>1</td>\n",
       "    </tr>\n",
       "    <tr>\n",
       "      <th>연예인 무대</th>\n",
       "      <td>1</td>\n",
       "    </tr>\n",
       "    <tr>\n",
       "      <th>최예나</th>\n",
       "      <td>1</td>\n",
       "    </tr>\n",
       "    <tr>\n",
       "      <th>카리나</th>\n",
       "      <td>1</td>\n",
       "    </tr>\n",
       "    <tr>\n",
       "      <th>콜드플레이</th>\n",
       "      <td>1</td>\n",
       "    </tr>\n",
       "    <tr>\n",
       "      <th>테일러스위프</th>\n",
       "      <td>1</td>\n",
       "    </tr>\n",
       "    <tr>\n",
       "      <th>싸이</th>\n",
       "      <td>2</td>\n",
       "    </tr>\n",
       "    <tr>\n",
       "      <th>아일릿</th>\n",
       "      <td>2</td>\n",
       "    </tr>\n",
       "    <tr>\n",
       "      <th>뉴진스</th>\n",
       "      <td>4</td>\n",
       "    </tr>\n",
       "    <tr>\n",
       "      <th rowspan=\"3\" valign=\"top\">40~60</th>\n",
       "      <th>싸이</th>\n",
       "      <td>1</td>\n",
       "    </tr>\n",
       "    <tr>\n",
       "      <th>정동원</th>\n",
       "      <td>3</td>\n",
       "    </tr>\n",
       "    <tr>\n",
       "      <th>임영웅</th>\n",
       "      <td>8</td>\n",
       "    </tr>\n",
       "  </tbody>\n",
       "</table>\n",
       "</div>"
      ],
      "text/plain": [
       "                          cnt\n",
       "연령대   축제 무대에 왔으면 하는 연예인      \n",
       "0~19  _x0008_ATEEZ          1\n",
       "      뉴진스                   1\n",
       "      아이브                   1\n",
       "      에스파                   1\n",
       "      아일릿                   7\n",
       "20~30 10cm                  1\n",
       "      다비치                   1\n",
       "      시그니처 지원/ 여자 아이돌 그룹    1\n",
       "      아이브                   1\n",
       "      아이브, 대전이 고향인 연예인      1\n",
       "      에스파                   1\n",
       "      여자아이들                 1\n",
       "      연예인 무대                1\n",
       "      최예나                   1\n",
       "      카리나                   1\n",
       "      콜드플레이                 1\n",
       "      테일러스위프                1\n",
       "      싸이                    2\n",
       "      아일릿                   2\n",
       "      뉴진스                   4\n",
       "40~60 싸이                    1\n",
       "      정동원                   3\n",
       "      임영웅                   8"
      ]
     },
     "execution_count": 178,
     "metadata": {},
     "output_type": "execute_result"
    }
   ],
   "source": [
    "df6"
   ]
  },
  {
   "cell_type": "code",
   "execution_count": 179,
   "metadata": {},
   "outputs": [
    {
     "data": {
      "text/html": [
       "<div>\n",
       "<style scoped>\n",
       "    .dataframe tbody tr th:only-of-type {\n",
       "        vertical-align: middle;\n",
       "    }\n",
       "\n",
       "    .dataframe tbody tr th {\n",
       "        vertical-align: top;\n",
       "    }\n",
       "\n",
       "    .dataframe thead th {\n",
       "        text-align: right;\n",
       "    }\n",
       "</style>\n",
       "<table border=\"1\" class=\"dataframe\">\n",
       "  <thead>\n",
       "    <tr style=\"text-align: right;\">\n",
       "      <th></th>\n",
       "      <th></th>\n",
       "      <th>cnt</th>\n",
       "    </tr>\n",
       "    <tr>\n",
       "      <th>연령대</th>\n",
       "      <th>축제 무대에 왔으면 하는 연예인</th>\n",
       "      <th></th>\n",
       "    </tr>\n",
       "  </thead>\n",
       "  <tbody>\n",
       "    <tr>\n",
       "      <th>0~19</th>\n",
       "      <th>아일릿</th>\n",
       "      <td>7</td>\n",
       "    </tr>\n",
       "    <tr>\n",
       "      <th>20~30</th>\n",
       "      <th>뉴진스</th>\n",
       "      <td>4</td>\n",
       "    </tr>\n",
       "    <tr>\n",
       "      <th>40~60</th>\n",
       "      <th>임영웅</th>\n",
       "      <td>8</td>\n",
       "    </tr>\n",
       "  </tbody>\n",
       "</table>\n",
       "</div>"
      ],
      "text/plain": [
       "                         cnt\n",
       "연령대   축제 무대에 왔으면 하는 연예인     \n",
       "0~19  아일릿                  7\n",
       "20~30 뉴진스                  4\n",
       "40~60 임영웅                  8"
      ]
     },
     "execution_count": 179,
     "metadata": {},
     "output_type": "execute_result"
    }
   ],
   "source": [
    "#10대는 아일릿\n",
    "#20~30대는 뉴진스\n",
    "#40~60대는 임영웅을 기대하고 있다.\n",
    "# 추가적으로 연령대별 선호하는 아이돌 및 가수 리스트 뽑아서 같이 보면서 축제 라인업 정하면 좋을듯\n",
    "max_expected_talent = df6.loc[df6.groupby('연령대')['cnt'].idxmax()]\n",
    "max_expected_talent "
   ]
  },
  {
   "cell_type": "markdown",
   "metadata": {},
   "source": [
    "# 연령대별 축제 동반자"
   ]
  },
  {
   "cell_type": "code",
   "execution_count": 180,
   "metadata": {},
   "outputs": [
    {
     "data": {
      "text/html": [
       "<div>\n",
       "<style scoped>\n",
       "    .dataframe tbody tr th:only-of-type {\n",
       "        vertical-align: middle;\n",
       "    }\n",
       "\n",
       "    .dataframe tbody tr th {\n",
       "        vertical-align: top;\n",
       "    }\n",
       "\n",
       "    .dataframe thead th {\n",
       "        text-align: right;\n",
       "    }\n",
       "</style>\n",
       "<table border=\"1\" class=\"dataframe\">\n",
       "  <thead>\n",
       "    <tr style=\"text-align: right;\">\n",
       "      <th></th>\n",
       "      <th></th>\n",
       "      <th>cnt</th>\n",
       "    </tr>\n",
       "    <tr>\n",
       "      <th>연령대</th>\n",
       "      <th>동반자와의 관계</th>\n",
       "      <th></th>\n",
       "    </tr>\n",
       "  </thead>\n",
       "  <tbody>\n",
       "    <tr>\n",
       "      <th rowspan=\"2\" valign=\"top\">0~19</th>\n",
       "      <th>연인</th>\n",
       "      <td>1</td>\n",
       "    </tr>\n",
       "    <tr>\n",
       "      <th>친구</th>\n",
       "      <td>10</td>\n",
       "    </tr>\n",
       "    <tr>\n",
       "      <th rowspan=\"4\" valign=\"top\">20~30</th>\n",
       "      <th>가족</th>\n",
       "      <td>1</td>\n",
       "    </tr>\n",
       "    <tr>\n",
       "      <th>연인</th>\n",
       "      <td>5</td>\n",
       "    </tr>\n",
       "    <tr>\n",
       "      <th>친구</th>\n",
       "      <td>10</td>\n",
       "    </tr>\n",
       "    <tr>\n",
       "      <th>혼자가용</th>\n",
       "      <td>4</td>\n",
       "    </tr>\n",
       "    <tr>\n",
       "      <th>40~60</th>\n",
       "      <th>친구</th>\n",
       "      <td>2</td>\n",
       "    </tr>\n",
       "  </tbody>\n",
       "</table>\n",
       "</div>"
      ],
      "text/plain": [
       "                cnt\n",
       "연령대   동반자와의 관계     \n",
       "0~19  연인          1\n",
       "      친구         10\n",
       "20~30 가족          1\n",
       "      연인          5\n",
       "      친구         10\n",
       "      혼자가용        4\n",
       "40~60 친구          2"
      ]
     },
     "execution_count": 180,
     "metadata": {},
     "output_type": "execute_result"
    }
   ],
   "source": [
    "df7 = df.groupby(['연령대','동반자와의 관계']).size().to_frame().rename(columns = {0:'cnt'})\n",
    "df7"
   ]
  },
  {
   "cell_type": "code",
   "execution_count": 181,
   "metadata": {},
   "outputs": [
    {
     "data": {
      "text/html": [
       "<div>\n",
       "<style scoped>\n",
       "    .dataframe tbody tr th:only-of-type {\n",
       "        vertical-align: middle;\n",
       "    }\n",
       "\n",
       "    .dataframe tbody tr th {\n",
       "        vertical-align: top;\n",
       "    }\n",
       "\n",
       "    .dataframe thead th {\n",
       "        text-align: right;\n",
       "    }\n",
       "</style>\n",
       "<table border=\"1\" class=\"dataframe\">\n",
       "  <thead>\n",
       "    <tr style=\"text-align: right;\">\n",
       "      <th></th>\n",
       "      <th></th>\n",
       "      <th>cnt</th>\n",
       "    </tr>\n",
       "    <tr>\n",
       "      <th>연령대</th>\n",
       "      <th>동반자와의 관계</th>\n",
       "      <th></th>\n",
       "    </tr>\n",
       "  </thead>\n",
       "  <tbody>\n",
       "    <tr>\n",
       "      <th rowspan=\"2\" valign=\"top\">20~30</th>\n",
       "      <th>가족</th>\n",
       "      <td>1</td>\n",
       "    </tr>\n",
       "    <tr>\n",
       "      <th>연인</th>\n",
       "      <td>5</td>\n",
       "    </tr>\n",
       "    <tr>\n",
       "      <th>0~19</th>\n",
       "      <th>친구</th>\n",
       "      <td>10</td>\n",
       "    </tr>\n",
       "    <tr>\n",
       "      <th>20~30</th>\n",
       "      <th>혼자가용</th>\n",
       "      <td>4</td>\n",
       "    </tr>\n",
       "  </tbody>\n",
       "</table>\n",
       "</div>"
      ],
      "text/plain": [
       "                cnt\n",
       "연령대   동반자와의 관계     \n",
       "20~30 가족          1\n",
       "      연인          5\n",
       "0~19  친구         10\n",
       "20~30 혼자가용        4"
      ]
     },
     "execution_count": 181,
     "metadata": {},
     "output_type": "execute_result"
    }
   ],
   "source": [
    "max_together = df7.loc[df7.groupby('동반자와의 관계')['cnt'].idxmax()]\n",
    "max_together"
   ]
  },
  {
   "cell_type": "code",
   "execution_count": 182,
   "metadata": {},
   "outputs": [
    {
     "data": {
      "text/html": [
       "<div>\n",
       "<style scoped>\n",
       "    .dataframe tbody tr th:only-of-type {\n",
       "        vertical-align: middle;\n",
       "    }\n",
       "\n",
       "    .dataframe tbody tr th {\n",
       "        vertical-align: top;\n",
       "    }\n",
       "\n",
       "    .dataframe thead th {\n",
       "        text-align: right;\n",
       "    }\n",
       "</style>\n",
       "<table border=\"1\" class=\"dataframe\">\n",
       "  <thead>\n",
       "    <tr style=\"text-align: right;\">\n",
       "      <th></th>\n",
       "      <th>타임스탬프</th>\n",
       "      <th>성별</th>\n",
       "      <th>연령대</th>\n",
       "      <th>빵구동구축제 참여의향</th>\n",
       "      <th>알게된 경로</th>\n",
       "      <th>Unnamed: 5</th>\n",
       "      <th>2023년 동구동락 축제 경험이 있으신가요</th>\n",
       "      <th>축제 무대에 왔으면 하는 연예인</th>\n",
       "      <th>'대전'하면 생각나는 이미지</th>\n",
       "      <th>지역축제를 경험 해 본적이 있으신가요?</th>\n",
       "      <th>거주지역</th>\n",
       "      <th>다음 축제 프로그램중 가장 기대되는 프로그램은?</th>\n",
       "      <th>동반자와의 관계</th>\n",
       "      <th>축제 참가 교통수단</th>\n",
       "      <th>'동구동락' 외 기발한 축제 명이 있으면 적어주세요</th>\n",
       "    </tr>\n",
       "  </thead>\n",
       "  <tbody>\n",
       "    <tr>\n",
       "      <th>1</th>\n",
       "      <td>2024-04-23 13:32:37.042</td>\n",
       "      <td>남</td>\n",
       "      <td>20~30</td>\n",
       "      <td>참여한다</td>\n",
       "      <td>sns광고</td>\n",
       "      <td>NaN</td>\n",
       "      <td>아니요</td>\n",
       "      <td>뉴진스</td>\n",
       "      <td>성심당</td>\n",
       "      <td>아니오</td>\n",
       "      <td>대전</td>\n",
       "      <td>푸드트럭, _x0008_EDM파티</td>\n",
       "      <td>친구</td>\n",
       "      <td>대중교통</td>\n",
       "      <td>NaN</td>\n",
       "    </tr>\n",
       "    <tr>\n",
       "      <th>6</th>\n",
       "      <td>2024-04-23 14:46:10.158</td>\n",
       "      <td>남</td>\n",
       "      <td>20~30</td>\n",
       "      <td>불참한다</td>\n",
       "      <td>웹사이트</td>\n",
       "      <td>NaN</td>\n",
       "      <td>아니요</td>\n",
       "      <td>연예인 무대</td>\n",
       "      <td>성심당</td>\n",
       "      <td>아니오</td>\n",
       "      <td>타지역</td>\n",
       "      <td>연예인 무대</td>\n",
       "      <td>혼자가용</td>\n",
       "      <td>자가용</td>\n",
       "      <td>빵구동구</td>\n",
       "    </tr>\n",
       "    <tr>\n",
       "      <th>22</th>\n",
       "      <td>2024-04-24 10:53:15.000</td>\n",
       "      <td>여</td>\n",
       "      <td>0~19</td>\n",
       "      <td>참여한다</td>\n",
       "      <td>지인 추천</td>\n",
       "      <td>NaN</td>\n",
       "      <td>네</td>\n",
       "      <td>아일릿</td>\n",
       "      <td>성심당</td>\n",
       "      <td>예</td>\n",
       "      <td>대전</td>\n",
       "      <td>푸드트럭</td>\n",
       "      <td>친구</td>\n",
       "      <td>도보</td>\n",
       "      <td>2박3일</td>\n",
       "    </tr>\n",
       "    <tr>\n",
       "      <th>4</th>\n",
       "      <td>2024-04-23 14:44:07.771</td>\n",
       "      <td>남</td>\n",
       "      <td>20~30</td>\n",
       "      <td>불참한다</td>\n",
       "      <td>지인 추천</td>\n",
       "      <td>NaN</td>\n",
       "      <td>아니요</td>\n",
       "      <td>아일릿</td>\n",
       "      <td>성심당</td>\n",
       "      <td>예</td>\n",
       "      <td>타지역</td>\n",
       "      <td>연예인 무대, 푸드트럭</td>\n",
       "      <td>연인</td>\n",
       "      <td>대중교통</td>\n",
       "      <td>동구동락 좋다</td>\n",
       "    </tr>\n",
       "  </tbody>\n",
       "</table>\n",
       "</div>"
      ],
      "text/plain": [
       "                     타임스탬프 성별    연령대 빵구동구축제 참여의향 알게된 경로  Unnamed: 5  \\\n",
       "1  2024-04-23 13:32:37.042  남  20~30        참여한다  sns광고         NaN   \n",
       "6  2024-04-23 14:46:10.158  남  20~30        불참한다   웹사이트         NaN   \n",
       "22 2024-04-24 10:53:15.000  여   0~19        참여한다  지인 추천         NaN   \n",
       "4  2024-04-23 14:44:07.771  남  20~30        불참한다  지인 추천         NaN   \n",
       "\n",
       "   2023년 동구동락 축제 경험이 있으신가요 축제 무대에 왔으면 하는 연예인 '대전'하면 생각나는 이미지  \\\n",
       "1                      아니요               뉴진스             성심당   \n",
       "6                      아니요            연예인 무대             성심당   \n",
       "22                       네               아일릿             성심당   \n",
       "4                      아니요               아일릿             성심당   \n",
       "\n",
       "   지역축제를 경험 해 본적이 있으신가요? 거주지역 다음 축제 프로그램중 가장 기대되는 프로그램은? 동반자와의 관계 축제 참가 교통수단  \\\n",
       "1                    아니오   대전         푸드트럭, _x0008_EDM파티       친구       대중교통   \n",
       "6                    아니오  타지역                     연예인 무대     혼자가용        자가용   \n",
       "22                     예   대전                       푸드트럭       친구         도보   \n",
       "4                      예  타지역               연예인 무대, 푸드트럭       연인       대중교통   \n",
       "\n",
       "   '동구동락' 외 기발한 축제 명이 있으면 적어주세요  \n",
       "1                           NaN  \n",
       "6                          빵구동구  \n",
       "22                         2박3일  \n",
       "4                       동구동락 좋다  "
      ]
     },
     "execution_count": 182,
     "metadata": {},
     "output_type": "execute_result"
    }
   ],
   "source": [
    "max_together = df.loc[df.groupby('동반자와의 관계').size()]\n",
    "max_together"
   ]
  },
  {
   "cell_type": "code",
   "execution_count": null,
   "metadata": {},
   "outputs": [],
   "source": []
  },
  {
   "cell_type": "markdown",
   "metadata": {},
   "source": [
    "# 축제 참가 교통수단"
   ]
  },
  {
   "cell_type": "code",
   "execution_count": 183,
   "metadata": {},
   "outputs": [
    {
     "data": {
      "text/plain": [
       "축제 참가 교통수단\n",
       "대중교통    18\n",
       "도보       8\n",
       "자가용      7\n",
       "dtype: int64"
      ]
     },
     "execution_count": 183,
     "metadata": {},
     "output_type": "execute_result"
    }
   ],
   "source": [
    "# 교통수단으로는 대중교통을 제일 많이 이용한다.\n",
    "df.groupby(['축제 참가 교통수단']).size()"
   ]
  },
  {
   "cell_type": "code",
   "execution_count": 184,
   "metadata": {},
   "outputs": [
    {
     "data": {
      "text/html": [
       "<div>\n",
       "<style scoped>\n",
       "    .dataframe tbody tr th:only-of-type {\n",
       "        vertical-align: middle;\n",
       "    }\n",
       "\n",
       "    .dataframe tbody tr th {\n",
       "        vertical-align: top;\n",
       "    }\n",
       "\n",
       "    .dataframe thead th {\n",
       "        text-align: right;\n",
       "    }\n",
       "</style>\n",
       "<table border=\"1\" class=\"dataframe\">\n",
       "  <thead>\n",
       "    <tr style=\"text-align: right;\">\n",
       "      <th></th>\n",
       "      <th>타임스탬프</th>\n",
       "      <th>성별</th>\n",
       "      <th>연령대</th>\n",
       "      <th>빵구동구축제 참여의향</th>\n",
       "      <th>알게된 경로</th>\n",
       "      <th>Unnamed: 5</th>\n",
       "      <th>2023년 동구동락 축제 경험이 있으신가요</th>\n",
       "      <th>축제 무대에 왔으면 하는 연예인</th>\n",
       "      <th>'대전'하면 생각나는 이미지</th>\n",
       "      <th>지역축제를 경험 해 본적이 있으신가요?</th>\n",
       "      <th>거주지역</th>\n",
       "      <th>다음 축제 프로그램중 가장 기대되는 프로그램은?</th>\n",
       "      <th>동반자와의 관계</th>\n",
       "      <th>축제 참가 교통수단</th>\n",
       "      <th>'동구동락' 외 기발한 축제 명이 있으면 적어주세요</th>\n",
       "    </tr>\n",
       "  </thead>\n",
       "  <tbody>\n",
       "    <tr>\n",
       "      <th>0</th>\n",
       "      <td>2024-04-23 13:32:22.444</td>\n",
       "      <td>남</td>\n",
       "      <td>20~30</td>\n",
       "      <td>참여한다</td>\n",
       "      <td>sns광고</td>\n",
       "      <td>NaN</td>\n",
       "      <td>아니요</td>\n",
       "      <td>콜드플레이</td>\n",
       "      <td>성심당</td>\n",
       "      <td>아니오</td>\n",
       "      <td>대전</td>\n",
       "      <td>연예인 무대</td>\n",
       "      <td>친구</td>\n",
       "      <td>대중교통</td>\n",
       "      <td>NaN</td>\n",
       "    </tr>\n",
       "    <tr>\n",
       "      <th>1</th>\n",
       "      <td>2024-04-23 13:32:37.042</td>\n",
       "      <td>남</td>\n",
       "      <td>20~30</td>\n",
       "      <td>참여한다</td>\n",
       "      <td>sns광고</td>\n",
       "      <td>NaN</td>\n",
       "      <td>아니요</td>\n",
       "      <td>뉴진스</td>\n",
       "      <td>성심당</td>\n",
       "      <td>아니오</td>\n",
       "      <td>대전</td>\n",
       "      <td>푸드트럭, _x0008_EDM파티</td>\n",
       "      <td>친구</td>\n",
       "      <td>대중교통</td>\n",
       "      <td>NaN</td>\n",
       "    </tr>\n",
       "    <tr>\n",
       "      <th>2</th>\n",
       "      <td>2024-04-23 13:35:00.714</td>\n",
       "      <td>남</td>\n",
       "      <td>20~30</td>\n",
       "      <td>참여한다</td>\n",
       "      <td>포스터</td>\n",
       "      <td>NaN</td>\n",
       "      <td>아니요</td>\n",
       "      <td>아일릿</td>\n",
       "      <td>성심당</td>\n",
       "      <td>예</td>\n",
       "      <td>대전</td>\n",
       "      <td>푸드트럭, _x0008_EDM파티</td>\n",
       "      <td>친구</td>\n",
       "      <td>대중교통</td>\n",
       "      <td>NaN</td>\n",
       "    </tr>\n",
       "  </tbody>\n",
       "</table>\n",
       "</div>"
      ],
      "text/plain": [
       "                    타임스탬프 성별    연령대 빵구동구축제 참여의향 알게된 경로  Unnamed: 5  \\\n",
       "0 2024-04-23 13:32:22.444  남  20~30        참여한다  sns광고         NaN   \n",
       "1 2024-04-23 13:32:37.042  남  20~30        참여한다  sns광고         NaN   \n",
       "2 2024-04-23 13:35:00.714  남  20~30        참여한다    포스터         NaN   \n",
       "\n",
       "  2023년 동구동락 축제 경험이 있으신가요 축제 무대에 왔으면 하는 연예인 '대전'하면 생각나는 이미지  \\\n",
       "0                     아니요             콜드플레이             성심당   \n",
       "1                     아니요               뉴진스             성심당   \n",
       "2                     아니요               아일릿             성심당   \n",
       "\n",
       "  지역축제를 경험 해 본적이 있으신가요? 거주지역 다음 축제 프로그램중 가장 기대되는 프로그램은? 동반자와의 관계 축제 참가 교통수단  \\\n",
       "0                   아니오   대전                     연예인 무대       친구       대중교통   \n",
       "1                   아니오   대전         푸드트럭, _x0008_EDM파티       친구       대중교통   \n",
       "2                     예   대전         푸드트럭, _x0008_EDM파티       친구       대중교통   \n",
       "\n",
       "  '동구동락' 외 기발한 축제 명이 있으면 적어주세요  \n",
       "0                          NaN  \n",
       "1                          NaN  \n",
       "2                          NaN  "
      ]
     },
     "execution_count": 184,
     "metadata": {},
     "output_type": "execute_result"
    }
   ],
   "source": [
    "df.head(3)"
   ]
  },
  {
   "cell_type": "markdown",
   "metadata": {},
   "source": [
    "# 축제 참여인원 연령대별 거주지역 "
   ]
  },
  {
   "cell_type": "code",
   "execution_count": 185,
   "metadata": {},
   "outputs": [],
   "source": [
    "df5 = df.groupby(['연령대','거주지역']).size().to_frame().rename(columns={0:'cnt'})"
   ]
  },
  {
   "cell_type": "code",
   "execution_count": 186,
   "metadata": {},
   "outputs": [
    {
     "data": {
      "text/html": [
       "<div>\n",
       "<style scoped>\n",
       "    .dataframe tbody tr th:only-of-type {\n",
       "        vertical-align: middle;\n",
       "    }\n",
       "\n",
       "    .dataframe tbody tr th {\n",
       "        vertical-align: top;\n",
       "    }\n",
       "\n",
       "    .dataframe thead th {\n",
       "        text-align: right;\n",
       "    }\n",
       "</style>\n",
       "<table border=\"1\" class=\"dataframe\">\n",
       "  <thead>\n",
       "    <tr style=\"text-align: right;\">\n",
       "      <th></th>\n",
       "      <th></th>\n",
       "      <th>cnt</th>\n",
       "    </tr>\n",
       "    <tr>\n",
       "      <th>연령대</th>\n",
       "      <th>거주지역</th>\n",
       "      <th></th>\n",
       "    </tr>\n",
       "  </thead>\n",
       "  <tbody>\n",
       "    <tr>\n",
       "      <th>0~19</th>\n",
       "      <th>대전</th>\n",
       "      <td>11</td>\n",
       "    </tr>\n",
       "    <tr>\n",
       "      <th rowspan=\"2\" valign=\"top\">20~30</th>\n",
       "      <th>대전</th>\n",
       "      <td>4</td>\n",
       "    </tr>\n",
       "    <tr>\n",
       "      <th>타지역</th>\n",
       "      <td>16</td>\n",
       "    </tr>\n",
       "    <tr>\n",
       "      <th rowspan=\"2\" valign=\"top\">40~60</th>\n",
       "      <th>대전</th>\n",
       "      <td>11</td>\n",
       "    </tr>\n",
       "    <tr>\n",
       "      <th>타지역</th>\n",
       "      <td>1</td>\n",
       "    </tr>\n",
       "  </tbody>\n",
       "</table>\n",
       "</div>"
      ],
      "text/plain": [
       "            cnt\n",
       "연령대   거주지역     \n",
       "0~19  대전     11\n",
       "20~30 대전      4\n",
       "      타지역    16\n",
       "40~60 대전     11\n",
       "      타지역     1"
      ]
     },
     "execution_count": 186,
     "metadata": {},
     "output_type": "execute_result"
    }
   ],
   "source": [
    "df5"
   ]
  },
  {
   "cell_type": "code",
   "execution_count": null,
   "metadata": {},
   "outputs": [],
   "source": []
  }
 ],
 "metadata": {
  "kernelspec": {
   "display_name": "base",
   "language": "python",
   "name": "python3"
  },
  "language_info": {
   "codemirror_mode": {
    "name": "ipython",
    "version": 3
   },
   "file_extension": ".py",
   "mimetype": "text/x-python",
   "name": "python",
   "nbconvert_exporter": "python",
   "pygments_lexer": "ipython3",
   "version": "3.10.9"
  }
 },
 "nbformat": 4,
 "nbformat_minor": 2
}
