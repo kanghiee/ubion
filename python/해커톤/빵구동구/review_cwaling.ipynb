{
 "cells": [
  {
   "cell_type": "code",
   "execution_count": 1,
   "metadata": {},
   "outputs": [],
   "source": [
    "import pandas as pd\n",
    "import seaborn as sns\n",
    "import pandas as pd\n",
    "import numpy as np\n",
    "import matplotlib.pyplot as plt\n",
    "import platform\n",
    "import requests\n",
    "import pprint\n",
    "import json\n",
    "from urllib.parse import urljoin\n",
    "plt.rcParams[\"font.family\"] = 'AppleGothic'  # 사용할 한글 폰트 설정"
   ]
  },
  {
   "cell_type": "code",
   "execution_count": 2,
   "metadata": {},
   "outputs": [],
   "source": [
    "import pyperclip\n",
    "from selenium import webdriver\n",
    "from selenium.webdriver.common.by import By\n",
    "from selenium.webdriver.common.keys import Keys\n",
    "from webdriver_manager.chrome import ChromeDriverManager\n",
    "from selenium.webdriver.chrome.service import Service\n",
    "import requests\n",
    "from bs4 import BeautifulSoup as bs\n",
    "import pandas as pd\n",
    "from selenium.webdriver.support.ui import WebDriverWait\n",
    "from selenium.webdriver.support import expected_conditions as EC"
   ]
  },
  {
   "cell_type": "code",
   "execution_count": 3,
   "metadata": {},
   "outputs": [],
   "source": [
    "# 웹 브라우저를 실행₩\n",
    "driver = webdriver.Chrome()"
   ]
  },
  {
   "cell_type": "code",
   "execution_count": 101,
   "metadata": {},
   "outputs": [],
   "source": []
  },
  {
   "cell_type": "code",
   "execution_count": 102,
   "metadata": {},
   "outputs": [],
   "source": []
  },
  {
   "cell_type": "code",
   "execution_count": 103,
   "metadata": {},
   "outputs": [],
   "source": []
  },
  {
   "cell_type": "code",
   "execution_count": 4,
   "metadata": {},
   "outputs": [],
   "source": [
    "import pandas as pd\n",
    "from selenium import webdriver\n",
    "from selenium.webdriver.common.by import By\n",
    "from selenium.webdriver.chrome.service import Service\n",
    "from selenium.webdriver.chrome.options import Options\n",
    "from webdriver_manager.chrome import ChromeDriverManager\n",
    "from tqdm import trange\n",
    "from tqdm import tqdm\n",
    "import time\n",
    "from selenium.common.exceptions import NoSuchElementException\n",
    "import re\n",
    "import urllib.request\n",
    "import os\n",
    "\n",
    "# # 드라이버 자동 실행을 위한 초기 작업\n",
    "# chrome_options = Options()\n",
    "# chrome_options.add_experimental_option(\"detach\", True)\n",
    "# chrome_options.add_experimental_option(\"excludeSwitches\", [\"enable-logging\"])\n",
    "# service = Service(ChromeDriverManager().install())\n",
    "# driver = webdriver.Chrome(service=service, options=chrome_options)\n",
    "# url = 'https://map.naver.com/p/search/%ED%9A%A1%EC%84%B1%20%ED%95%9C%EC%9A%B0%20%EC%B6%95%EC%A0%9C/place/37830243?c=15.00,0,0,0,dh&placePath=%3Fentry%253Dbmp'\n",
    "# driver.get(url)\n",
    "# driver.switch_to.frame(\"searchIframe\")\n",
    "# driver.find_element(By.CLASS_NAME,'place_bluelink.C6RjW').click()\n",
    "\n",
    "# # iframe 찾기 (예시 id: 'map_home_iframe')\n",
    "# iframe = driver.find_element(By.TAG_NAME, \"iframe\",)\n",
    "\n",
    "# iframe으로 컨텍스트 전환\n",
    "#driver.switch_to.frame(iframe)\n",
    "\n",
    "# iframe 안에서 작업 수행\n",
    "# 예를 들어, iframe 안에서 요소 클릭\n",
    "# button_inside_iframe = WebDriverWait(driver, 10).until(EC.element_to_be_clickable((By.ID, \"_pcmap_list_scroll_container\")))\n",
    "# button_inside_iframe.click()\n",
    "\n",
    "\n",
    "# # iframe 내에서 필요한 작업 수행, 예: 검색창 찾기\n",
    "# search_box = driver.find_element(By.ID, 'search-input')"
   ]
  },
  {
   "cell_type": "code",
   "execution_count": 162,
   "metadata": {},
   "outputs": [],
   "source": [
    "# import pandas as pd\n",
    "# from selenium import webdriver\n",
    "# from selenium.webdriver.common.by import By\n",
    "# from selenium.webdriver.chrome.service import Service\n",
    "# from selenium.webdriver.chrome.options import Options\n",
    "# from webdriver_manager.chrome import ChromeDriverManager\n",
    "# from tqdm import trange\n",
    "# from tqdm import tqdm\n",
    "# import time\n",
    "# from selenium.common.exceptions import NoSuchElementException\n",
    "# import re\n",
    "# import urllib.request\n",
    "# import os\n",
    "\n",
    "# # 드라이버 자동 실행을 위한 초기 작업\n",
    "# chrome_options = Options()\n",
    "# chrome_options.add_experimental_option(\"detach\", True)\n",
    "# chrome_options.add_experimental_option(\"excludeSwitches\", [\"enable-logging\"])\n",
    "# service = Service(ChromeDriverManager().install())\n",
    "# driver = webdriver.Chrome(service=service, options=chrome_options)\n",
    "# url = 'https://map.naver.com/p/search/%ED%9A%A1%EC%84%B1%20%ED%95%9C%EC%9A%B0%20%EC%B6%95%EC%A0%9C/place/37830243?c=15.00,0,0,0,dh&placePath=%3Fentry%253Dbmp'\n",
    "# driver.get(url)\n",
    "# driver.switch_to.frame(\"searchIframe\")\n",
    "# driver.find_element(By.CLASS_NAME,'place_bluelink.C6RjW').click()"
   ]
  },
  {
   "cell_type": "code",
   "execution_count": 24,
   "metadata": {},
   "outputs": [],
   "source": [
    "# 웹 브라우저를 실행₩\n",
    "driver = webdriver.Chrome()\n",
    "url = 'https://map.naver.com/p/search/%ED%9A%A1%EC%84%B1%20%ED%95%9C%EC%9A%B0%20%EC%B6%95%EC%A0%9C/place/37830243?c=15.00,0,0,0,dh&placePath=%3Fentry%253Dbmp'\n",
    "driver.get(url)\n",
    "#driver.switch_to.frame(\"searchIframe\")\n",
    "#driver.find_element(By.CLASS_NAME,'place_bluelink.C6RjW').click()"
   ]
  },
  {
   "cell_type": "code",
   "execution_count": 25,
   "metadata": {},
   "outputs": [],
   "source": [
    "#iframe 접속 코드\n",
    "driver.switch_to.frame(\"searchIframe\")\n",
    "\n",
    "# 횡성한우 축제 클릭하는 코드\n",
    "driver.find_element(By.CLASS_NAME,'place_bluelink.C6RjW').click()"
   ]
  },
  {
   "cell_type": "code",
   "execution_count": 106,
   "metadata": {},
   "outputs": [],
   "source": [
    "# iframe 탈출코드\n",
    "driver.switch_to.parent_frame()"
   ]
  },
  {
   "cell_type": "code",
   "execution_count": 107,
   "metadata": {},
   "outputs": [],
   "source": [
    "# 새로운 iframe 접속\n",
    "driver.switch_to.frame(\"entryIframe\")"
   ]
  },
  {
   "cell_type": "code",
   "execution_count": 109,
   "metadata": {},
   "outputs": [],
   "source": [
    "# 리뷰 클릭\n",
    "driver.find_elements(By.CLASS_NAME,'veBoZ')[1].click()"
   ]
  },
  {
   "cell_type": "code",
   "execution_count": null,
   "metadata": {},
   "outputs": [],
   "source": [
    "# 더보기 클릭\n",
    "driver.find_element(By.CLASS_NAME,'lfH3O').click()"
   ]
  },
  {
   "cell_type": "code",
   "execution_count": 111,
   "metadata": {},
   "outputs": [],
   "source": [
    "arrow = driver.find_elements(By.CLASS_NAME,'place_section_content')[2]"
   ]
  },
  {
   "cell_type": "code",
   "execution_count": 112,
   "metadata": {},
   "outputs": [],
   "source": [
    "arrow_ul = arrow.find_elements(By.TAG_NAME,'ul')"
   ]
  },
  {
   "cell_type": "code",
   "execution_count": 113,
   "metadata": {},
   "outputs": [
    {
     "data": {
      "text/plain": [
       "<selenium.webdriver.remote.webelement.WebElement (session=\"4d088083cf5f003b6a9c710bea7f2d97\", element=\"f.50298A6D9D66FA1D16C3AF894A6D1ABE.d.8849407EF53C87EF71C0EF5D3F051BD3.e.16438\")>"
      ]
     },
     "execution_count": 113,
     "metadata": {},
     "output_type": "execute_result"
    }
   ],
   "source": [
    "arrow_ul[0]"
   ]
  },
  {
   "cell_type": "code",
   "execution_count": 114,
   "metadata": {},
   "outputs": [
    {
     "data": {
      "text/plain": [
       "10"
      ]
     },
     "execution_count": 114,
     "metadata": {},
     "output_type": "execute_result"
    }
   ],
   "source": [
    "# 리뷰 개수\n",
    "len(arrow_ul[0].find_elements(By.TAG_NAME,'li'))"
   ]
  },
  {
   "cell_type": "code",
   "execution_count": 115,
   "metadata": {},
   "outputs": [],
   "source": [
    "# from selenium.webdriver.common.by import By\n",
    "# from selenium.common.exceptions import NoSuchElementException\n",
    "\n",
    "# result = []\n",
    "# review_content = arrow_ul[0].find_elements(By.TAG_NAME, 'li')\n",
    "# review_content\n",
    "# for item in review_content:\n",
    "#     print(item)\n",
    "    # try:\n",
    "    #     # 먼저 'rvCSr' 클래스를 가진 요소를 클릭하려 시도합니다.\n",
    "    #     expand_button = item.find_element(By.CLASS_NAME, 'rvCSr')\n",
    "    #     expand_button.click()  # 클릭하여 내용을 확장\n",
    "    # except NoSuchElementException:\n",
    "    #     # 'rvCSr' 클래스 요소가 없는 경우, 아무것도 하지 않습니다.\n",
    "    #     pass\n",
    "\n",
    "    # try:\n",
    "    #     # 'zPfVt' 클래스를 가진 요소에서 텍스트를 추출합니다.\n",
    "    #     text_content = item.find_element(By.CLASS_NAME, 'zPfVt').text\n",
    "    #     print(text_content)\n",
    "    #     result.append(text_content)\n",
    "    # except NoSuchElementException:\n",
    "    #     # 텍스트 컨텐츠를 찾을 수 없는 경우, 에러를 출력합니다.\n",
    "    #     print(\"텍스트를 찾을 수 없습니다.\")\n",
    "\n",
    "#print(result)\n"
   ]
  },
  {
   "cell_type": "code",
   "execution_count": 118,
   "metadata": {},
   "outputs": [],
   "source": [
    "# 더보기 루프문\n",
    "# review_content = arrow_ul[0].find_elements(By.TAG_NAME, 'li')\n",
    "\n",
    "# for item in review_content:\n",
    "#     # 'lfH3O' 클래스 버튼이 처음에 존재하는지 확인\n",
    "#     expand_buttons = item.find_elements(By.CLASS_NAME, 'lfH3O')\n",
    "#     if expand_buttons:\n",
    "#         # 버튼이 존재하면 클릭 프로세스 시작\n",
    "#         while True:\n",
    "#             try:\n",
    "#                 # 'lfH3O' 클래스 버튼 찾기 및 클릭\n",
    "#                 expand_button = item.find_element(By.CLASS_NAME, 'lfH3O')\n",
    "#                 expand_button[0].click()\n",
    "#                 time.sleep(2)  # 클릭 후 잠시 대기\n",
    "#             except NoSuchElementException:\n",
    "#                 # 버튼이 더 이상 존재하지 않으면 루프 종료\n",
    "#                 break"
   ]
  },
  {
   "cell_type": "code",
   "execution_count": 127,
   "metadata": {},
   "outputs": [],
   "source": [
    "# review_content = arrow_ul[0].find_elements(By.TAG_NAME, 'li')\n",
    "\n",
    "# for item in review_content:\n",
    "#     # 'rvCSr' 클래스가 있는지 확인합니다.\n",
    "#     expand_buttons = item.find_elements(By.CLASS_NAME, 'lfH3O')\n",
    "#     if expand_buttons:\n",
    "#         # 'rvCSr' 클래스가 존재하면 해당 버튼을 클릭합니다.\n",
    "#         expand_buttons.click()"
   ]
  },
  {
   "cell_type": "code",
   "execution_count": 122,
   "metadata": {},
   "outputs": [
    {
     "name": "stdout",
     "output_type": "stream",
     "text": [
      "[]\n"
     ]
    }
   ],
   "source": [
    "result = []\n",
    "review_content = arrow_ul[0].find_elements(By.TAG_NAME, 'li')\n",
    "\n",
    "for item in review_content:\n",
    "    # 'rvCSr' 클래스가 있는지 확인합니다.\n",
    "    expand_buttons = item.find_elements(By.CLASS_NAME, 'rvCSr')\n",
    "    if expand_buttons:\n",
    "        # 'rvCSr' 클래스가 존재하면 해당 버튼을 클릭합니다.\n",
    "        expand_buttons[0].click()\n",
    "\n",
    "    # 'zPfVt' 클래스에서 텍스트를 추출합니다.\n",
    "    text_elements = item.find_elements(By.CLASS_NAME, 'zPfVt')\n",
    "    if text_elements:\n",
    "        text = text_elements[0].text\n",
    "        print(text)\n",
    "        result.append(text)\n",
    "    else:\n",
    "        # 'zPfVt' 클래스 요소가 없을 경우 오류 메시지를 출력합니다.\n",
    "        print(\"텍스트를 찾을 수 없습니다.\")\n",
    "\n",
    "print(result)\n"
   ]
  },
  {
   "cell_type": "code",
   "execution_count": 87,
   "metadata": {},
   "outputs": [],
   "source": [
    "df = pd.DataFrame({'text': result})"
   ]
  },
  {
   "cell_type": "code",
   "execution_count": 89,
   "metadata": {},
   "outputs": [],
   "source": [
    "df['text'] = df['text'].str.replace('\\n',' ')"
   ]
  },
  {
   "cell_type": "code",
   "execution_count": 91,
   "metadata": {},
   "outputs": [
    {
     "data": {
      "text/html": [
       "<div>\n",
       "<style scoped>\n",
       "    .dataframe tbody tr th:only-of-type {\n",
       "        vertical-align: middle;\n",
       "    }\n",
       "\n",
       "    .dataframe tbody tr th {\n",
       "        vertical-align: top;\n",
       "    }\n",
       "\n",
       "    .dataframe thead th {\n",
       "        text-align: right;\n",
       "    }\n",
       "</style>\n",
       "<table border=\"1\" class=\"dataframe\">\n",
       "  <thead>\n",
       "    <tr style=\"text-align: right;\">\n",
       "      <th></th>\n",
       "      <th>text</th>\n",
       "    </tr>\n",
       "  </thead>\n",
       "  <tbody>\n",
       "    <tr>\n",
       "      <th>0</th>\n",
       "      <td>횡성한우축제 좋았어요 특히 웰니스 프로그램 재밌었어요ㅎㅎ 육회비빔밥도 맛있었어요 제...</td>\n",
       "    </tr>\n",
       "    <tr>\n",
       "      <th>1</th>\n",
       "      <td>1인당 15만원인데 3만원도 아까움. 전체적으로 엉망 진창임. 일단 요리가 맛이 너...</td>\n",
       "    </tr>\n",
       "    <tr>\n",
       "      <th>2</th>\n",
       "      <td>1인에 15만원씩이나 내고 헛웃음만 나오는 음식 먹고왔어요. 정말 돈아까운데 어디 ...</td>\n",
       "    </tr>\n",
       "    <tr>\n",
       "      <th>3</th>\n",
       "      <td>행사가 많고 맛있는 음식도 많아요</td>\n",
       "    </tr>\n",
       "    <tr>\n",
       "      <th>4</th>\n",
       "      <td>굿</td>\n",
       "    </tr>\n",
       "    <tr>\n",
       "      <th>5</th>\n",
       "      <td>최고</td>\n",
       "    </tr>\n",
       "  </tbody>\n",
       "</table>\n",
       "</div>"
      ],
      "text/plain": [
       "                                                text\n",
       "0  횡성한우축제 좋았어요 특히 웰니스 프로그램 재밌었어요ㅎㅎ 육회비빔밥도 맛있었어요 제...\n",
       "1  1인당 15만원인데 3만원도 아까움. 전체적으로 엉망 진창임. 일단 요리가 맛이 너...\n",
       "2  1인에 15만원씩이나 내고 헛웃음만 나오는 음식 먹고왔어요. 정말 돈아까운데 어디 ...\n",
       "3                                 행사가 많고 맛있는 음식도 많아요\n",
       "4                                                  굿\n",
       "5                                                 최고"
      ]
     },
     "execution_count": 91,
     "metadata": {},
     "output_type": "execute_result"
    }
   ],
   "source": [
    "df[df['text'].str.strip() != '']\n",
    "df"
   ]
  },
  {
   "cell_type": "code",
   "execution_count": 233,
   "metadata": {},
   "outputs": [
    {
     "data": {
      "text/plain": [
       "'인삼 좋아하시면 한번쯤 가는 것도 괜찮을 것 같습니다. 볼거 리 많았고 재미있는 요소도 많았습니다. 인삼쉐이크는 맛있 지는 않았습니다. 백종원씨가 시장 상인들 돕는다고 ...'"
      ]
     },
     "execution_count": 233,
     "metadata": {},
     "output_type": "execute_result"
    }
   ],
   "source": [
    "#driver.find_element(By.CLASS_NAME,'vg7Fp.CyA_N.CXDUG').text\n",
    "#driver.find_element(By.CLASS_NAME,'zPfVt').text"
   ]
  },
  {
   "cell_type": "code",
   "execution_count": 168,
   "metadata": {},
   "outputs": [
    {
     "data": {
      "text/plain": [
       "'횡성한우축제 좋았어요 특히 웰니스 프로그\\n램 재밌었어요ㅎㅎ 육회비빔밥도 맛있었어\\n요 제로페이(강원상품권)되는데가 ...\\n내용 더보기'"
      ]
     },
     "execution_count": 168,
     "metadata": {},
     "output_type": "execute_result"
    }
   ],
   "source": [
    "#driver.find_element(By.CLASS_NAME,'vg7Fp.CyA_N.CXDUG').text"
   ]
  }
 ],
 "metadata": {
  "kernelspec": {
   "display_name": "base",
   "language": "python",
   "name": "python3"
  },
  "language_info": {
   "codemirror_mode": {
    "name": "ipython",
    "version": 3
   },
   "file_extension": ".py",
   "mimetype": "text/x-python",
   "name": "python",
   "nbconvert_exporter": "python",
   "pygments_lexer": "ipython3",
   "version": "3.10.9"
  }
 },
 "nbformat": 4,
 "nbformat_minor": 2
}
