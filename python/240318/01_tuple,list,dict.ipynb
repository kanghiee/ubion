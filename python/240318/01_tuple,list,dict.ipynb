{
 "cells": [
  {
   "cell_type": "markdown",
   "metadata": {},
   "source": [
    "### 자료형 데이터\n",
    "> 여러개의 데이터를 하나의 변수에 저장시키는 데이터의 타입\n",
    "- tuple\n",
    " - 자료형 데이터 중 가장 기본적인 형태\n",
    " - () 안에 데이터들을 적어서 저장\n",
    " - 한 번 생성이 되면 안에 원소들을 수정, 추가, 삭제 불가능\n",
    "- list\n",
    " - [] 안에 데이터들을 적어서 저장\n",
    " - tuple과는 다르게 안에 원소들을 수정하거나 추가, 삭제가 가능하다.\n",
    " - 내부의 함수들을 이용하여 데이터를 수정\n",
    " - 리스트의 원소의 개수는 0개부터 생성 가능\n",
    "- dict\n",
    " - {} 안에 데이터들을 key : value의 형태로 적어서 저장\n",
    " - list는 위치를 기준으로 데이터가 생성이 된다면, dict는 key값을 기준으로 데이터가 생성.\n",
    " - 딕셔너리의 원소의 개수는 0개부터 생성 가능"
   ]
  },
  {
   "cell_type": "code",
   "execution_count": 3,
   "metadata": {},
   "outputs": [
    {
     "name": "stdout",
     "output_type": "stream",
     "text": [
      "(10, 'test')\n",
      "(3, 3.14)\n",
      "<class 'tuple'>\n",
      "<class 'tuple'>\n"
     ]
    }
   ],
   "source": [
    "# tuple 데이터를 생성\n",
    "tuple_a = (10, 'test')\n",
    "tuple_b = (3, 3.14)\n",
    "print(tuple_a)\n",
    "print(tuple_b)\n",
    "print(type(tuple_a))\n",
    "print(type(tuple_b))"
   ]
  },
  {
   "cell_type": "code",
   "execution_count": 4,
   "metadata": {},
   "outputs": [
    {
     "name": "stdout",
     "output_type": "stream",
     "text": [
      "(10, 'test', 3, 3.14)\n",
      "(10, 'test', 10, 'test', 10, 'test')\n"
     ]
    }
   ],
   "source": [
    "# tuple 간의 결합\n",
    "tuple_c = tuple_a + tuple_b\n",
    "tuple_d = tuple_a * 3\n",
    "# 튜플은 데이터의 수정이 불가능하기 때문에 에러발생\n",
    "#tuple_e = tuple_b + 3\n",
    "print(tuple_c)\n",
    "print(tuple_d)\n",
    "#print(tuple_e)"
   ]
  },
  {
   "cell_type": "code",
   "execution_count": 7,
   "metadata": {},
   "outputs": [
    {
     "name": "stdout",
     "output_type": "stream",
     "text": [
      "test\n",
      "('test', 10)\n",
      "(10, 'test')\n",
      "('test', 10, 'test', 10, 'test')\n",
      "test\n",
      "test\n",
      "test\n"
     ]
    }
   ],
   "source": [
    "# tuple 안에 데이터를 추출\n",
    "print(tuple_d[1])\n",
    "print(tuple_d[1:3])\n",
    "print(tuple_d[:2])\n",
    "print(tuple_d[1:])\n",
    "\n",
    "#마지막 데이터마 ㄴ출력\n",
    "print(tuple_d[5])\n",
    "# len(tuple_d) -> 6\n",
    "print(tuple_d[len(tuple_d)-1])\n",
    "print(tuple_d[-1])"
   ]
  },
  {
   "cell_type": "code",
   "execution_count": 12,
   "metadata": {},
   "outputs": [
    {
     "name": "stdout",
     "output_type": "stream",
     "text": [
      "[20, 10, 40, 30]\n",
      "['abc', 'ade', 'aaa']\n",
      "<class 'list'> <class 'list'>\n"
     ]
    }
   ],
   "source": [
    "# list 데이터 생성\n",
    "list_a = [20, 10, 40, 30]\n",
    "list_b = ['abc', 'ade', 'aaa']\n",
    "print(list_a)\n",
    "print(list_b)\n",
    "print(type(list_a),type(list_b))"
   ]
  },
  {
   "cell_type": "code",
   "execution_count": 13,
   "metadata": {},
   "outputs": [
    {
     "name": "stdout",
     "output_type": "stream",
     "text": [
      "[10, 20, 30, 40]\n"
     ]
    }
   ],
   "source": [
    "## 정렬을 변경\n",
    "# 오름차순 정렬\n",
    "list_a.sort()\n",
    "print(list_a)"
   ]
  },
  {
   "cell_type": "code",
   "execution_count": 18,
   "metadata": {},
   "outputs": [
    {
     "data": {
      "text/plain": [
       "['aaa', 'ade', 'abc']"
      ]
     },
     "execution_count": 18,
     "metadata": {},
     "output_type": "execute_result"
    }
   ],
   "source": [
    "# 역순으로 변경\n",
    "list_b.reverse()\n",
    "list_b"
   ]
  },
  {
   "cell_type": "code",
   "execution_count": 19,
   "metadata": {},
   "outputs": [
    {
     "name": "stdout",
     "output_type": "stream",
     "text": [
      "[40, 30, 20, 10]\n"
     ]
    }
   ],
   "source": [
    "# 내림차순 정렬 (오름차순 정렬 후 역순으로 변경)\n",
    "list_c = [20, 40, 10, 30]\n",
    "list_c.sort()\n",
    "list_c.reverse()\n",
    "print(list_c)"
   ]
  },
  {
   "cell_type": "code",
   "execution_count": 21,
   "metadata": {},
   "outputs": [
    {
     "name": "stdout",
     "output_type": "stream",
     "text": [
      "[40, 30, 20, 10]\n"
     ]
    }
   ],
   "source": [
    "list_d = [20,40,10,30]\n",
    "# 내림차순 정렬\n",
    "list_d.sort(reverse=True)\n",
    "print(list_d)"
   ]
  },
  {
   "cell_type": "code",
   "execution_count": 27,
   "metadata": {},
   "outputs": [],
   "source": [
    "## list에 원소를 추가\n",
    "# 마지막에 원소를 추가\n",
    "list_a.append(22)\n",
    "print(list_a)"
   ]
  },
  {
   "cell_type": "code",
   "execution_count": 29,
   "metadata": {},
   "outputs": [
    {
     "name": "stdout",
     "output_type": "stream",
     "text": [
      "[10, 20, 100, 30, 40, 22]\n"
     ]
    }
   ],
   "source": [
    "# 특정 위치에 데이터를 추가\n",
    "list_a.insert(2, 100)\n",
    "print(list_a)"
   ]
  },
  {
   "cell_type": "code",
   "execution_count": 30,
   "metadata": {},
   "outputs": [
    {
     "name": "stdout",
     "output_type": "stream",
     "text": [
      "[10, 20, 100, 30, 40]\n"
     ]
    }
   ],
   "source": [
    "# 원소를 제거\n",
    "# 가장 마지막 원소를 제거\n",
    "list_a.pop()\n",
    "print(list_a)"
   ]
  },
  {
   "cell_type": "code",
   "execution_count": 31,
   "metadata": {},
   "outputs": [
    {
     "name": "stdout",
     "output_type": "stream",
     "text": [
      "[10, 20, 100, 40]\n"
     ]
    }
   ],
   "source": [
    "# 특정 위치의 원소를 제거\n",
    "del list_a[3]\n",
    "print(list_a)"
   ]
  },
  {
   "cell_type": "code",
   "execution_count": 34,
   "metadata": {},
   "outputs": [
    {
     "name": "stdout",
     "output_type": "stream",
     "text": [
      "[20, 100, 40, 10, 10, 10]\n",
      "[20, 100, 40, 10, 10]\n"
     ]
    }
   ],
   "source": [
    "# 특정 값을 제거\n",
    "# 해당하는 값이 2개 이상이라면 앞에 있는 데이터가 제거\n",
    "list_a.append(10)\n",
    "print(list_a)\n"
   ]
  },
  {
   "cell_type": "code",
   "execution_count": 35,
   "metadata": {},
   "outputs": [
    {
     "name": "stdout",
     "output_type": "stream",
     "text": [
      "[20, 100, 40, 10]\n"
     ]
    }
   ],
   "source": [
    "# 특정 값을 제거\n",
    "# 해당하는 값이 2개 이상이라면 앞에 있는 데이터가 제거\n",
    "# 제거하려는 데이터가 존재하지 않는다면 에러가 발생\n",
    "list_a.remove(10)\n",
    "print(list_a)"
   ]
  },
  {
   "cell_type": "code",
   "execution_count": 37,
   "metadata": {},
   "outputs": [],
   "source": [
    "## 리스트를 확장 (리스트의 결합)\n",
    "list_a += list_b\n",
    "list_a"
   ]
  },
  {
   "cell_type": "code",
   "execution_count": 40,
   "metadata": {},
   "outputs": [
    {
     "name": "stdout",
     "output_type": "stream",
     "text": [
      "[20, 100, 40, 10, 'aaa', 'ade', 'abc', 'aaa', 'ade', 'abc']\n"
     ]
    }
   ],
   "source": [
    "list_a.extend(list_b)\n",
    "print(list_a)"
   ]
  },
  {
   "cell_type": "code",
   "execution_count": 41,
   "metadata": {},
   "outputs": [],
   "source": [
    "a = 10\n",
    "b=a"
   ]
  },
  {
   "cell_type": "code",
   "execution_count": 43,
   "metadata": {},
   "outputs": [
    {
     "name": "stdout",
     "output_type": "stream",
     "text": [
      "10\n",
      "11\n"
     ]
    }
   ],
   "source": [
    "b+=1\n",
    "print(a)\n",
    "print(b)"
   ]
  },
  {
   "cell_type": "code",
   "execution_count": 47,
   "metadata": {},
   "outputs": [
    {
     "name": "stdout",
     "output_type": "stream",
     "text": [
      "[10, 20, 30]\n",
      "[10, 20, 30]\n"
     ]
    }
   ],
   "source": [
    "list_1 = [10,20,30]\n",
    "list_2 = list_1\n",
    "print(list_1)\n",
    "print(list_2)"
   ]
  },
  {
   "cell_type": "code",
   "execution_count": 48,
   "metadata": {},
   "outputs": [
    {
     "name": "stdout",
     "output_type": "stream",
     "text": [
      "[10, 20, 30, 1] , [10, 20, 30, 1]\n"
     ]
    }
   ],
   "source": [
    "list_2.append(1)\n",
    "print(list_1,',', list_2)"
   ]
  },
  {
   "cell_type": "code",
   "execution_count": 49,
   "metadata": {},
   "outputs": [],
   "source": [
    "# copy(): 복사본 생성 (백업 데이터를 생성)\n",
    "list_3 = list_1.copy()"
   ]
  },
  {
   "cell_type": "code",
   "execution_count": 50,
   "metadata": {},
   "outputs": [
    {
     "name": "stdout",
     "output_type": "stream",
     "text": [
      "[10, 20, 30, 1]\n",
      "[10, 20, 30, 1]\n"
     ]
    }
   ],
   "source": [
    "print(list_1)\n",
    "print(list_3)"
   ]
  },
  {
   "cell_type": "code",
   "execution_count": 51,
   "metadata": {},
   "outputs": [
    {
     "name": "stdout",
     "output_type": "stream",
     "text": [
      "[10, 20, 30, 1]\n",
      "[10, 20, 30]\n"
     ]
    }
   ],
   "source": [
    "\n",
    "# list_3에서 마지막 원소를 제거\n",
    "list_3.pop()\n",
    "print(list_1)\n",
    "print(list_3)"
   ]
  },
  {
   "cell_type": "code",
   "execution_count": 57,
   "metadata": {},
   "outputs": [
    {
     "name": "stdout",
     "output_type": "stream",
     "text": [
      "[[10, 20, 30], [50, 60, 70]] / [10, 20, 30] / 10\n"
     ]
    }
   ],
   "source": [
    "## 1차원 데이터가 아닌 2차원 데이터\n",
    "list_4 = [[10,20,30], [50,60,70]]\n",
    "print(list_4,'/', list_4[0],'/', list_4[0][0])"
   ]
  },
  {
   "cell_type": "code",
   "execution_count": 58,
   "metadata": {},
   "outputs": [
    {
     "name": "stdout",
     "output_type": "stream",
     "text": [
      "30\n"
     ]
    }
   ],
   "source": [
    "## list_4에서 30이라는 데이터를 추출\n",
    "print(list_4[0][2])"
   ]
  },
  {
   "cell_type": "code",
   "execution_count": 59,
   "metadata": {},
   "outputs": [
    {
     "name": "stdout",
     "output_type": "stream",
     "text": [
      "[] []\n"
     ]
    }
   ],
   "source": [
    "# 비어있는 리스트를 생성\n",
    "list1 = []\n",
    "list2 = list()\n",
    "print(list1, list2)"
   ]
  },
  {
   "cell_type": "code",
   "execution_count": 66,
   "metadata": {},
   "outputs": [],
   "source": [
    "## 2개의 주사위가 존재\n",
    "## 2개의 주사위를 굴렸을 때 주사위의 합이 5의 배수인 \n",
    "## 경우의 수를 리스틀에 대입\n",
    "li = []\n",
    "for i in range(1,7):\n",
    "    for j in range(1,7):\n",
    "        if (i+j)%5 == 0:\n",
    "            li.append((i,j))"
   ]
  },
  {
   "cell_type": "code",
   "execution_count": 67,
   "metadata": {},
   "outputs": [
    {
     "data": {
      "text/plain": [
       "[(1, 4), (2, 3), (3, 2), (4, 1), (4, 6), (5, 5), (6, 4)]"
      ]
     },
     "execution_count": 67,
     "metadata": {},
     "output_type": "execute_result"
    }
   ],
   "source": [
    "li"
   ]
  },
  {
   "cell_type": "code",
   "execution_count": 81,
   "metadata": {},
   "outputs": [],
   "source": [
    "##리스트 형태를 bool의 형태로 강제 변환\n",
    "list1 = [] ## False, len = 0\n",
    "list2 = ['test'] ##True, len = 1\n",
    "list3 = [''] ## True, len = 1\n",
    "list4 = [0] ## True, len = 1\n",
    "list5 = [50] ## True, len = 1\n",
    "list6 = [12,1] ## True, len = 2"
   ]
  },
  {
   "cell_type": "code",
   "execution_count": 83,
   "metadata": {},
   "outputs": [],
   "source": [
    "## dict 데이터 생성\n",
    "## list와의 차이 : 기준이 다르다\n",
    "## list의 기준은 index(위치)\n",
    "## dict의 기준은 key\n",
    "dict_1 = {\n",
    "    'name' : 'test',\n",
    "    'age' : 20\n",
    "}"
   ]
  },
  {
   "cell_type": "code",
   "execution_count": 87,
   "metadata": {},
   "outputs": [
    {
     "data": {
      "text/plain": [
       "'test'"
      ]
     },
     "execution_count": 87,
     "metadata": {},
     "output_type": "execute_result"
    }
   ],
   "source": [
    "dict_1['name']"
   ]
  },
  {
   "cell_type": "code",
   "execution_count": 90,
   "metadata": {},
   "outputs": [
    {
     "name": "stdout",
     "output_type": "stream",
     "text": [
      "dict_keys(['name', 'age'])\n",
      "dict_values(['test', 20])\n",
      "dict_items([('name', 'test'), ('age', 20)])\n"
     ]
    }
   ],
   "source": [
    "## key값들만 따로 출력\n",
    "print(dict_1.keys())\n",
    "# value 갑들만 따로 출력\n",
    "print(dict_1.values())\n",
    "# dict형태를 list의 형태로 변환 [(key, value), ...]\n",
    "print(dict_1.items())\n"
   ]
  },
  {
   "cell_type": "code",
   "execution_count": 100,
   "metadata": {},
   "outputs": [
    {
     "name": "stdout",
     "output_type": "stream",
     "text": [
      "['name', 'age'] , ['test', 20]\n"
     ]
    }
   ],
   "source": [
    "ke = []\n",
    "va = []\n",
    "for k, v in dict_1.items():\n",
    "    ke.append(k)\n",
    "    va.append(v)\n",
    "print(ke,',',va)"
   ]
  },
  {
   "cell_type": "code",
   "execution_count": 107,
   "metadata": {},
   "outputs": [],
   "source": [
    "## 외부에서 데이터를 로드하는 경우\n",
    "## 데이터의 형태는 [{},{}], {key:[], key2:[]}\n",
    "sample1 = [\n",
    "    {\n",
    "        'name' : 'test',\n",
    "        'age' : 20\n",
    "    },\n",
    "    {\n",
    "        'name' : 'test2',\n",
    "        'age' : 30\n",
    "    },\n",
    "    {\n",
    "        'name' : 'test3',\n",
    "        'age' : 25\n",
    "    }\n",
    "]"
   ]
  },
  {
   "cell_type": "code",
   "execution_count": 108,
   "metadata": {},
   "outputs": [
    {
     "data": {
      "text/plain": [
       "list"
      ]
     },
     "execution_count": 108,
     "metadata": {},
     "output_type": "execute_result"
    }
   ],
   "source": [
    "type(sample1)"
   ]
  },
  {
   "cell_type": "code",
   "execution_count": 109,
   "metadata": {},
   "outputs": [
    {
     "data": {
      "text/plain": [
       "20"
      ]
     },
     "execution_count": 109,
     "metadata": {},
     "output_type": "execute_result"
    }
   ],
   "source": [
    "# sample1에서 20이라는 데이터만 추출\n",
    "sample1[0]['age']"
   ]
  },
  {
   "cell_type": "code",
   "execution_count": 112,
   "metadata": {},
   "outputs": [
    {
     "data": {
      "text/plain": [
       "[20, 30, 25]"
      ]
     },
     "execution_count": 112,
     "metadata": {},
     "output_type": "execute_result"
    }
   ],
   "source": [
    "li = []\n",
    "for i in range(len(sample1)):\n",
    "    li.append(sample1[i]['age'])\n",
    "li"
   ]
  },
  {
   "cell_type": "code",
   "execution_count": 117,
   "metadata": {},
   "outputs": [
    {
     "data": {
      "text/plain": [
       "[20, 30, 25]"
      ]
     },
     "execution_count": 117,
     "metadata": {},
     "output_type": "execute_result"
    }
   ],
   "source": [
    "li2 = []\n",
    "for i in sample1:\n",
    "    li2.append(i['age'])\n",
    "li2"
   ]
  },
  {
   "cell_type": "code",
   "execution_count": 118,
   "metadata": {},
   "outputs": [],
   "source": [
    "sample2 = {\n",
    "    'name' : ['test', 'test2','test3'],\n",
    "    'age' : [20, 30, 25]\n",
    "}"
   ]
  },
  {
   "cell_type": "code",
   "execution_count": 126,
   "metadata": {},
   "outputs": [
    {
     "name": "stdout",
     "output_type": "stream",
     "text": [
      "['test', 'test2', 'test3']\n",
      "[20, 30, 25]\n"
     ]
    }
   ],
   "source": [
    "for i in sample2:\n",
    "    # i가 의미하는것은? sample2의 key값\n",
    "    print(sample2[i])"
   ]
  },
  {
   "cell_type": "code",
   "execution_count": 127,
   "metadata": {},
   "outputs": [
    {
     "name": "stdout",
     "output_type": "stream",
     "text": [
      "test\n",
      "test2\n",
      "test3\n",
      "20\n",
      "30\n",
      "25\n"
     ]
    }
   ],
   "source": [
    "for i in sample2:\n",
    "    for j in sample2[i]:\n",
    "        print(j)"
   ]
  },
  {
   "cell_type": "code",
   "execution_count": 138,
   "metadata": {},
   "outputs": [
    {
     "name": "stdout",
     "output_type": "stream",
     "text": [
      "[{'name': 'test', 'age': 20}, {'name': 'test2', 'age': 30}, {'name': 'test3', 'age': 25}]\n"
     ]
    }
   ],
   "source": [
    "sample3 = []\n",
    "for i in sample2:\n",
    "    # i가 의미하는 것은 sample2의 key값\n",
    "    for j in range(len(sample2[i])):\n",
    "        # print(i,j,sample2[i][j])\n",
    "        # 조건식 : sample2[i]의 길이 > sample3 길이 \n",
    "        if len(sample2[i]) > len(sample3):\n",
    "            sample3.append({})\n",
    "        # 3번 (dict 안에 list의 길이) 만 추가하도록 코드 수정\n",
    "        sample3[j][i] = sample2[i][j]\n",
    "print(sample3)\n",
    "\n",
    "    "
   ]
  },
  {
   "cell_type": "code",
   "execution_count": 143,
   "metadata": {},
   "outputs": [
    {
     "name": "stdout",
     "output_type": "stream",
     "text": [
      "{}\n",
      "{'new': 1}\n",
      "{'new': 3}\n"
     ]
    }
   ],
   "source": [
    "## dict 데이터에서  key:value 추가\n",
    "test_dict = {}\n",
    "print(test_dict)\n",
    "test_dict['new'] = 1 \n",
    "print(test_dict)\n",
    "# 기존에 존재하는 key에 value를 변경\n",
    "test_dict['new'] = 3\n",
    "print(test_dict)"
   ]
  },
  {
   "cell_type": "code",
   "execution_count": null,
   "metadata": {},
   "outputs": [],
   "source": [
    "len"
   ]
  }
 ],
 "metadata": {
  "kernelspec": {
   "display_name": "Python 3",
   "language": "python",
   "name": "python3"
  },
  "language_info": {
   "codemirror_mode": {
    "name": "ipython",
    "version": 3
   },
   "file_extension": ".py",
   "mimetype": "text/x-python",
   "name": "python",
   "nbconvert_exporter": "python",
   "pygments_lexer": "ipython3",
   "version": "3.9.7"
  }
 },
 "nbformat": 4,
 "nbformat_minor": 2
}
