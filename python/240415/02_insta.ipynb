{
 "cells": [
  {
   "cell_type": "code",
   "execution_count": 7,
   "metadata": {},
   "outputs": [],
   "source": [
    "from selenium import webdriver\n",
    "from selenium.webdriver.common.by import By\n",
    "from selenium.webdriver.common.keys import Keys\n",
    "import pandas as pd\n",
    "import time\n",
    "from bs4 import BeautifulSoup as bs\n",
    "import os\n",
    "from dotenv import load_dotenv"
   ]
  },
  {
   "cell_type": "code",
   "execution_count": 8,
   "metadata": {},
   "outputs": [
    {
     "data": {
      "text/plain": [
       "True"
      ]
     },
     "execution_count": 8,
     "metadata": {},
     "output_type": "execute_result"
    }
   ],
   "source": [
    "load_dotenv()"
   ]
  },
  {
   "cell_type": "code",
   "execution_count": 9,
   "metadata": {},
   "outputs": [],
   "source": [
    "# 웹 브라우저를 실행\n",
    "driver = webdriver.Chrome()"
   ]
  },
  {
   "cell_type": "code",
   "execution_count": 10,
   "metadata": {},
   "outputs": [],
   "source": [
    "## 인스타그램에 요청\n",
    "driver.get('https://www.instagram.com')"
   ]
  },
  {
   "cell_type": "code",
   "execution_count": 11,
   "metadata": {},
   "outputs": [],
   "source": [
    "# 인스타그램에 로그인\n",
    "#id_element = driver.find_elements(By.CLASS_NAME, '_aa48')\n",
    "id_element = driver.find_element(\n",
    "    By.CSS_SELECTOR,\n",
    "    'input[name=\"username\"]')\n",
    "# id_element에 아이디 값 (.env에 있는 id) 을 입력\n",
    "id_element.send_keys(os.getenv('id'))\n",
    "pass_element = driver.find_element(\n",
    "    By.CSS_SELECTOR,\n",
    "    'input[name=\"password\"]'\n",
    ")\n",
    "# pass_element에 패스워드(.env에 있는 password)를 입력\n",
    "pass_element.send_keys(os.getenv('password'))\n",
    "#time.sleep(2)\n",
    "# implicitly_wait() : html, css 정보가 모두 로드가 되면 기간에 무관하게 다\n",
    "# 입력한 시간이 초과될 때 로드가 전부 안되어 있으면 에러가 발생\n",
    "driver.implicitly_wait(10)\n",
    "pass_element.send_keys(Keys.ENTER)\n"
   ]
  },
  {
   "cell_type": "code",
   "execution_count": 7,
   "metadata": {},
   "outputs": [],
   "source": [
    "# # 로그인 정보 저장 나중에 하기\n",
    "# later_element = driver.find_element(\n",
    "#     By.XPATH,\n",
    "#     '//*[@id=\"mount_0_0_cv\"]/div/div/div[2]/div/div/div[1]/div[1]/div[2]/section/main/div/div/div/div/div')\n",
    "# later_element.click()"
   ]
  },
  {
   "cell_type": "code",
   "execution_count": 8,
   "metadata": {},
   "outputs": [],
   "source": [
    "# svg 태그 중 aria-label='검색'인 태그를 선택\n",
    "# 돋보기 아이콘\n",
    "driver.implicitly_wait(10)\n",
    "search_element = driver.find_element(By.CSS_SELECTOR,\n",
    "                                     'svg[aria-label=\"검색\"]')\n",
    "# search_element를 클릭\n",
    "search_element.click()"
   ]
  },
  {
   "cell_type": "code",
   "execution_count": 9,
   "metadata": {},
   "outputs": [],
   "source": [
    "# \n",
    "#검색창에 input 태그 중 aria-label='입력검색'인 태그를 선택\n",
    "search_input = driver.find_element(By.CSS_SELECTOR,\n",
    "                                     'input[aria-label=\"입력 검색\"]')\n",
    "# 입력창 클릭\n",
    "search_input.click()"
   ]
  },
  {
   "cell_type": "code",
   "execution_count": 10,
   "metadata": {},
   "outputs": [],
   "source": [
    "search_input.send_keys('구디맛집')"
   ]
  },
  {
   "cell_type": "code",
   "execution_count": 14,
   "metadata": {},
   "outputs": [],
   "source": [
    "driver.implicitly_wait(10)\n",
    "## 검색 리스트 전체를 검색\n",
    "list_element = driver.find_elements(\n",
    "    By.CSS_SELECTOR,\n",
    "    '.x9f619.x78zum5.xdt5ytf.x1iyjqo2.x6ikm8r.x1odjw0f.xh8yej3.xocp1fn a'\n",
    ")\n"
   ]
  },
  {
   "cell_type": "code",
   "execution_count": 15,
   "metadata": {},
   "outputs": [
    {
     "name": "stdout",
     "output_type": "stream",
     "text": [
      "54\n"
     ]
    }
   ],
   "source": [
    "print(len(list_element))\n",
    "# 검색 리스트에서 첫번째를 클릭\n",
    "list_element[2].click()"
   ]
  },
  {
   "cell_type": "code",
   "execution_count": 12,
   "metadata": {},
   "outputs": [],
   "source": [
    "## 게시글 링크를 모두 찾는다.\n",
    "imgs = driver.find_elements(\n",
    "    By.CLASS_NAME,\n",
    "    '_aagw'\n",
    ")\n",
    "# 게시글의 첫번째를 클릭\n",
    "imgs[0].click()"
   ]
  },
  {
   "cell_type": "code",
   "execution_count": 13,
   "metadata": {},
   "outputs": [
    {
     "name": "stdout",
     "output_type": "stream",
     "text": [
      "delln.gc\n",
      "만화에서나 보던 포실포실 수프레를 이제 한국에서도 먹을 수 있다구?  #먹스타그램\n",
      "\n",
      "\n",
      "fgarks19\n",
      "엄청 맛있어 보여요\n",
      "\n",
      "\n",
      "hyeseon_v\n",
      "음식이 맛있어보이네요 😋😋\n",
      "\n",
      "\n"
     ]
    }
   ],
   "source": [
    "# 게시물의 텍스트를 추출\n",
    "\n",
    "# Class가 _a9zc인 태그의 수\n",
    "#len(driver.find_elements(By.CLASS_NAME, '_a9zc'))\n",
    "ids = driver.find_elements(By.CLASS_NAME, '_a9zc')\n",
    "commets = driver.find_elements(By.CLASS_NAME,'_a9zs')\n",
    "\n",
    "# 데이터프레임에 대입할 변수를 생성\n",
    "data = {\n",
    "    'ID':[],\n",
    "    'Commet':[]\n",
    "}\n",
    "\n",
    "# for id in ids:\n",
    "#     print(id.text)\n",
    "# print('\\n')\n",
    "# for commet in commets:\n",
    "#     print(commet.text.replace('\\n',' '))\n",
    "\n",
    "# for i in range(len(ids)):\n",
    "#     print(ids[i].text)\n",
    "#     print(commets[i].text.replace('\\n', ' '))\n",
    "#     print('\\n')\n",
    "\n",
    "for id, commet in zip(ids, commets):\n",
    "    print(id.text)\n",
    "    data['ID'].append(id.text)\n",
    "    print(commet.text.replace('\\n',' '))\n",
    "    data['Commet'].append(commet.text.replace('\\n',' '))\n",
    "    print('\\n')"
   ]
  },
  {
   "cell_type": "code",
   "execution_count": 14,
   "metadata": {},
   "outputs": [
    {
     "data": {
      "text/plain": [
       "{'ID': ['delln.gc', 'fgarks19', 'hyeseon_v'],\n",
       " 'Commet': ['만화에서나 보던 포실포실 수프레를 이제 한국에서도 먹을 수 있다구?  #먹스타그램',\n",
       "  '엄청 맛있어 보여요',\n",
       "  '음식이 맛있어보이네요 😋😋']}"
      ]
     },
     "execution_count": 14,
     "metadata": {},
     "output_type": "execute_result"
    }
   ],
   "source": [
    "data"
   ]
  },
  {
   "cell_type": "code",
   "execution_count": 15,
   "metadata": {},
   "outputs": [
    {
     "data": {
      "text/html": [
       "<div>\n",
       "<style scoped>\n",
       "    .dataframe tbody tr th:only-of-type {\n",
       "        vertical-align: middle;\n",
       "    }\n",
       "\n",
       "    .dataframe tbody tr th {\n",
       "        vertical-align: top;\n",
       "    }\n",
       "\n",
       "    .dataframe thead th {\n",
       "        text-align: right;\n",
       "    }\n",
       "</style>\n",
       "<table border=\"1\" class=\"dataframe\">\n",
       "  <thead>\n",
       "    <tr style=\"text-align: right;\">\n",
       "      <th></th>\n",
       "      <th>ID</th>\n",
       "      <th>Commet</th>\n",
       "    </tr>\n",
       "  </thead>\n",
       "  <tbody>\n",
       "    <tr>\n",
       "      <th>0</th>\n",
       "      <td>delln.gc</td>\n",
       "      <td>만화에서나 보던 포실포실 수프레를 이제 한국에서도 먹을 수 있다구?  #먹스타그램</td>\n",
       "    </tr>\n",
       "    <tr>\n",
       "      <th>1</th>\n",
       "      <td>fgarks19</td>\n",
       "      <td>엄청 맛있어 보여요</td>\n",
       "    </tr>\n",
       "    <tr>\n",
       "      <th>2</th>\n",
       "      <td>hyeseon_v</td>\n",
       "      <td>음식이 맛있어보이네요 😋😋</td>\n",
       "    </tr>\n",
       "  </tbody>\n",
       "</table>\n",
       "</div>"
      ],
      "text/plain": [
       "          ID                                         Commet\n",
       "0   delln.gc  만화에서나 보던 포실포실 수프레를 이제 한국에서도 먹을 수 있다구?  #먹스타그램\n",
       "1   fgarks19                                     엄청 맛있어 보여요\n",
       "2  hyeseon_v                                 음식이 맛있어보이네요 😋😋"
      ]
     },
     "execution_count": 15,
     "metadata": {},
     "output_type": "execute_result"
    }
   ],
   "source": [
    "df = pd.DataFrame(data)\n",
    "df"
   ]
  },
  {
   "cell_type": "code",
   "execution_count": 16,
   "metadata": {},
   "outputs": [],
   "source": [
    "# 다음 게시글로 이동하는 버튼을 선택\n",
    "next_element = driver.find_element(By.CSS_SELECTOR,\n",
    "                                   '._aaqg ._abl-')\n",
    "next_element.click()"
   ]
  },
  {
   "cell_type": "code",
   "execution_count": 17,
   "metadata": {},
   "outputs": [],
   "source": [
    "## 게시글 링크를 모두 찾는다.\n",
    "imgs = driver.find_elements(\n",
    "    By.CLASS_NAME,\n",
    "    '_aagw'\n",
    ")\n",
    "# 게시글의 첫번째를 클릭\n",
    "imgs[0].click()\n",
    "\n",
    "\n",
    "\n",
    "# data를 저장할 공간 생성\n",
    "data = {\n",
    "    'ID' : [],\n",
    "    'Commet' : []\n",
    "}\n",
    "\n",
    "for i in range(3):\n",
    "    # 다음 버튼이 존재하지 않으면? -> 에러 발생\n",
    "    # try 구문을 이용하여 에러 발생시 print로 출력\n",
    "    try:\n",
    "        driver.implicitly_wait(10)\n",
    "        # ids = driver.find_elements(By.CLASS_NAME, '_a9zc')\n",
    "        # commets = driver.find_elements(By.CLASS_NAME, '_a9zs')\n",
    "        ids = driver.find_elements(By.CSS_SELECTOR,\n",
    "                                   'h2[class=\"_a9zc\"]')\n",
    "        ids.extend(\n",
    "            driver.find_elements(By.CSS_SELECTOR,\n",
    "                                 'h3[class=\"_a9zc\"]')\n",
    "        )\n",
    "        commets = driver.find_elements(By.CSS_SELECTOR,\n",
    "                                       'div[class=\"_a9zs\"]')\n",
    "        \n",
    "        for id, commet in zip(ids, commets):\n",
    "            data['ID'].append(id.text)\n",
    "            data['Commet'].append(commet.text.replace('\\n',' '))\n",
    "        next_element = driver.find_element(By.CSS_SELECTOR,\n",
    "                                           '._aaqg ._abl-' )\n",
    "        next_element.click()\n",
    "    except:\n",
    "        print('다음 버튼이 존재하지 않거나 에러 발생')\n",
    "# 게시물을 닫아준다.\n",
    "close_element = driver.find_element(By.CSS_SELECTOR,'svg[aria-label=\"닫기\"]')\n",
    "close_element.click()\n",
    "df = pd.DataFrame(data)"
   ]
  },
  {
   "cell_type": "code",
   "execution_count": 18,
   "metadata": {},
   "outputs": [
    {
     "data": {
      "text/html": [
       "<div>\n",
       "<style scoped>\n",
       "    .dataframe tbody tr th:only-of-type {\n",
       "        vertical-align: middle;\n",
       "    }\n",
       "\n",
       "    .dataframe tbody tr th {\n",
       "        vertical-align: top;\n",
       "    }\n",
       "\n",
       "    .dataframe thead th {\n",
       "        text-align: right;\n",
       "    }\n",
       "</style>\n",
       "<table border=\"1\" class=\"dataframe\">\n",
       "  <thead>\n",
       "    <tr style=\"text-align: right;\">\n",
       "      <th></th>\n",
       "      <th>ID</th>\n",
       "      <th>Commet</th>\n",
       "    </tr>\n",
       "  </thead>\n",
       "  <tbody>\n",
       "    <tr>\n",
       "      <th>0</th>\n",
       "      <td>delln.gc</td>\n",
       "      <td>만화에서나 보던 포실포실 수프레를 이제 한국에서도 먹을 수 있다구?  #먹스타그램</td>\n",
       "    </tr>\n",
       "    <tr>\n",
       "      <th>1</th>\n",
       "      <td>fgarks19</td>\n",
       "      <td>엄청 맛있어 보여요</td>\n",
       "    </tr>\n",
       "    <tr>\n",
       "      <th>2</th>\n",
       "      <td>hyeseon_v</td>\n",
       "      <td>음식이 맛있어보이네요 😋😋</td>\n",
       "    </tr>\n",
       "    <tr>\n",
       "      <th>3</th>\n",
       "      <td>zbxl_07</td>\n",
       "      <td>맞팔해요!❤️</td>\n",
       "    </tr>\n",
       "  </tbody>\n",
       "</table>\n",
       "</div>"
      ],
      "text/plain": [
       "          ID                                         Commet\n",
       "0   delln.gc  만화에서나 보던 포실포실 수프레를 이제 한국에서도 먹을 수 있다구?  #먹스타그램\n",
       "1   fgarks19                                     엄청 맛있어 보여요\n",
       "2  hyeseon_v                                 음식이 맛있어보이네요 😋😋\n",
       "3    zbxl_07                                        맞팔해요!❤️"
      ]
     },
     "execution_count": 18,
     "metadata": {},
     "output_type": "execute_result"
    }
   ],
   "source": [
    "df"
   ]
  },
  {
   "cell_type": "code",
   "execution_count": 19,
   "metadata": {},
   "outputs": [],
   "source": [
    "from konlpy.tag import Okt"
   ]
  },
  {
   "cell_type": "code",
   "execution_count": 20,
   "metadata": {},
   "outputs": [],
   "source": [
    "# 문자에서 형태소를 분석하는 클래스\n",
    "okt = Okt()"
   ]
  },
  {
   "cell_type": "code",
   "execution_count": 21,
   "metadata": {},
   "outputs": [],
   "source": [
    "# 문자의 형태를 분석\n",
    "nouns = okt.nouns(df.loc[0,'Commet'])"
   ]
  },
  {
   "cell_type": "code",
   "execution_count": 24,
   "metadata": {},
   "outputs": [
    {
     "data": {
      "text/plain": [
       "['만화', '프레', '이제', '한국', '수']"
      ]
     },
     "execution_count": 24,
     "metadata": {},
     "output_type": "execute_result"
    }
   ],
   "source": [
    "nouns"
   ]
  },
  {
   "cell_type": "code",
   "execution_count": 25,
   "metadata": {},
   "outputs": [],
   "source": [
    "# nouns에서 글자 수가 1인 데이터를 제외\n",
    "words = [n for n in nouns if len(n) > 1]"
   ]
  },
  {
   "cell_type": "code",
   "execution_count": 27,
   "metadata": {},
   "outputs": [
    {
     "data": {
      "text/plain": [
       "['만화', '프레', '이제', '한국']"
      ]
     },
     "execution_count": 27,
     "metadata": {},
     "output_type": "execute_result"
    }
   ],
   "source": [
    "words"
   ]
  },
  {
   "cell_type": "code",
   "execution_count": 29,
   "metadata": {},
   "outputs": [],
   "source": [
    "# case1(map을 이용)\n",
    "def return_words(x):\n",
    "    nouns = okt.nouns(x)\n",
    "    if nouns:\n",
    "        words = [n for n in nouns if len(n) > 1]\n",
    "    else:\n",
    "        words = \"\"\n",
    "    return words\n",
    "\n",
    "df['words']=df['Commet'].map(return_words)"
   ]
  },
  {
   "cell_type": "code",
   "execution_count": 30,
   "metadata": {},
   "outputs": [
    {
     "data": {
      "text/html": [
       "<div>\n",
       "<style scoped>\n",
       "    .dataframe tbody tr th:only-of-type {\n",
       "        vertical-align: middle;\n",
       "    }\n",
       "\n",
       "    .dataframe tbody tr th {\n",
       "        vertical-align: top;\n",
       "    }\n",
       "\n",
       "    .dataframe thead th {\n",
       "        text-align: right;\n",
       "    }\n",
       "</style>\n",
       "<table border=\"1\" class=\"dataframe\">\n",
       "  <thead>\n",
       "    <tr style=\"text-align: right;\">\n",
       "      <th></th>\n",
       "      <th>ID</th>\n",
       "      <th>Commet</th>\n",
       "      <th>words</th>\n",
       "    </tr>\n",
       "  </thead>\n",
       "  <tbody>\n",
       "    <tr>\n",
       "      <th>0</th>\n",
       "      <td>delln.gc</td>\n",
       "      <td>만화에서나 보던 포실포실 수프레를 이제 한국에서도 먹을 수 있다구?  #먹스타그램</td>\n",
       "      <td>[만화, 프레, 이제, 한국]</td>\n",
       "    </tr>\n",
       "    <tr>\n",
       "      <th>1</th>\n",
       "      <td>fgarks19</td>\n",
       "      <td>엄청 맛있어 보여요</td>\n",
       "      <td></td>\n",
       "    </tr>\n",
       "    <tr>\n",
       "      <th>2</th>\n",
       "      <td>hyeseon_v</td>\n",
       "      <td>음식이 맛있어보이네요 😋😋</td>\n",
       "      <td>[음식]</td>\n",
       "    </tr>\n",
       "    <tr>\n",
       "      <th>3</th>\n",
       "      <td>zbxl_07</td>\n",
       "      <td>맞팔해요!❤️</td>\n",
       "      <td>[맞팔]</td>\n",
       "    </tr>\n",
       "  </tbody>\n",
       "</table>\n",
       "</div>"
      ],
      "text/plain": [
       "          ID                                         Commet             words\n",
       "0   delln.gc  만화에서나 보던 포실포실 수프레를 이제 한국에서도 먹을 수 있다구?  #먹스타그램  [만화, 프레, 이제, 한국]\n",
       "1   fgarks19                                     엄청 맛있어 보여요                  \n",
       "2  hyeseon_v                                 음식이 맛있어보이네요 😋😋              [음식]\n",
       "3    zbxl_07                                        맞팔해요!❤️              [맞팔]"
      ]
     },
     "execution_count": 30,
     "metadata": {},
     "output_type": "execute_result"
    }
   ],
   "source": [
    "df"
   ]
  },
  {
   "cell_type": "code",
   "execution_count": 71,
   "metadata": {},
   "outputs": [],
   "source": [
    "# case2 (for문 이용)\n",
    "col_data = []\n",
    "for i in range(len(df)):\n",
    "    nouns = okt.nouns(df.loc[i,'Commet'])\n",
    "    if nouns:\n",
    "        words = [n for n in nouns if len(n) > 1]\n",
    "    else:\n",
    "        words = \"\"\n",
    "    #print(words)\n",
    "    col_data.append(words)\n",
    "df['words2'] = col_data"
   ]
  },
  {
   "cell_type": "code",
   "execution_count": 73,
   "metadata": {},
   "outputs": [],
   "source": [
    "df.to_csv('test.csv')"
   ]
  },
  {
   "cell_type": "code",
   "execution_count": 74,
   "metadata": {},
   "outputs": [
    {
     "data": {
      "text/html": [
       "<div>\n",
       "<style scoped>\n",
       "    .dataframe tbody tr th:only-of-type {\n",
       "        vertical-align: middle;\n",
       "    }\n",
       "\n",
       "    .dataframe tbody tr th {\n",
       "        vertical-align: top;\n",
       "    }\n",
       "\n",
       "    .dataframe thead th {\n",
       "        text-align: right;\n",
       "    }\n",
       "</style>\n",
       "<table border=\"1\" class=\"dataframe\">\n",
       "  <thead>\n",
       "    <tr style=\"text-align: right;\">\n",
       "      <th></th>\n",
       "      <th>ID</th>\n",
       "      <th>Commet</th>\n",
       "      <th>words</th>\n",
       "      <th>words2</th>\n",
       "    </tr>\n",
       "  </thead>\n",
       "  <tbody>\n",
       "    <tr>\n",
       "      <th>0</th>\n",
       "      <td>delln.gc</td>\n",
       "      <td>만화에서나 보던 포실포실 수프레를 이제 한국에서도 먹을 수 있다구?  #먹스타그램</td>\n",
       "      <td>[만화, 프레, 이제, 한국]</td>\n",
       "      <td>[만화, 프레, 이제, 한국]</td>\n",
       "    </tr>\n",
       "    <tr>\n",
       "      <th>1</th>\n",
       "      <td>fgarks19</td>\n",
       "      <td>엄청 맛있어 보여요</td>\n",
       "      <td></td>\n",
       "      <td></td>\n",
       "    </tr>\n",
       "    <tr>\n",
       "      <th>2</th>\n",
       "      <td>hyeseon_v</td>\n",
       "      <td>음식이 맛있어보이네요 😋😋</td>\n",
       "      <td>[음식]</td>\n",
       "      <td>[음식]</td>\n",
       "    </tr>\n",
       "    <tr>\n",
       "      <th>3</th>\n",
       "      <td>zbxl_07</td>\n",
       "      <td>맞팔해요!❤️</td>\n",
       "      <td>[맞팔]</td>\n",
       "      <td>[맞팔]</td>\n",
       "    </tr>\n",
       "  </tbody>\n",
       "</table>\n",
       "</div>"
      ],
      "text/plain": [
       "          ID                                         Commet             words  \\\n",
       "0   delln.gc  만화에서나 보던 포실포실 수프레를 이제 한국에서도 먹을 수 있다구?  #먹스타그램  [만화, 프레, 이제, 한국]   \n",
       "1   fgarks19                                     엄청 맛있어 보여요                     \n",
       "2  hyeseon_v                                 음식이 맛있어보이네요 😋😋              [음식]   \n",
       "3    zbxl_07                                        맞팔해요!❤️              [맞팔]   \n",
       "\n",
       "             words2  \n",
       "0  [만화, 프레, 이제, 한국]  \n",
       "1                    \n",
       "2              [음식]  \n",
       "3              [맞팔]  "
      ]
     },
     "execution_count": 74,
     "metadata": {},
     "output_type": "execute_result"
    }
   ],
   "source": [
    "df"
   ]
  },
  {
   "cell_type": "code",
   "execution_count": 34,
   "metadata": {},
   "outputs": [
    {
     "name": "stdout",
     "output_type": "stream",
     "text": [
      "파일 저장 완료\n",
      "파일 저장 완료\n",
      "파일 저장 완료\n"
     ]
    }
   ],
   "source": [
    "imgs = driver.find_elements(By.CLASS_NAME, '_aagw')\n",
    "imgs[0].click()\n",
    "\n",
    "#driver.implicitly_wait(10)\n",
    "\n",
    "for i in range(3):\n",
    "    try :\n",
    "        # 이미지를 저장\n",
    "        img_element = driver.find_element(By.CSS_SELECTOR,\n",
    "                                          '._aagu._aato ._aagv .x5yr21d.xu96u03.x10l6tqk.x13vifvy.x87ps6o.xh8yej3')\n",
    "        # 해당하는 이미지 태그에서 src 속성의 값을 출력\n",
    "        img_src = img_element.get_attribute('src')\n",
    "        #print(img_src)\n",
    "        image_save(\n",
    "            img_src,\n",
    "            \"./\",\n",
    "            f\"{i}.png\"\n",
    "        )\n",
    "        \n",
    "        # 다음버튼 클릭\n",
    "        next_element = driver.find_element(By.CSS_SELECTOR, '._aaqg ._abl-')\n",
    "        next_element.click()\n",
    "    except:\n",
    "        print('error')\n",
    "        next_element = driver.find_element(By.CSS_SELECTOR, '._aaqg ._abl-')\n",
    "        next_element.click()"
   ]
  },
  {
   "cell_type": "code",
   "execution_count": 25,
   "metadata": {},
   "outputs": [],
   "source": [
    "import requests"
   ]
  },
  {
   "cell_type": "code",
   "execution_count": 32,
   "metadata": {},
   "outputs": [],
   "source": [
    "# 이미지를 저장하는 함수를 하나 생성\n",
    "def image_save(img_path, save_path, file_name):\n",
    "    html_data = requests.get(img_path)\n",
    "    imageFile = open(\n",
    "        os.path.join(\n",
    "            save_path, \n",
    "            file_name\n",
    "        ),\n",
    "        'wb'\n",
    "    )\n",
    "    # 이미지 데이터의 크기\n",
    "    chunk_size = 100000000\n",
    "    for chunk in html_data.iter_content(chunk_size):\n",
    "        imageFile.write(chunk)\n",
    "        imageFile.close()\n",
    "    print('파일 저장 완료')"
   ]
  },
  {
   "cell_type": "code",
   "execution_count": 7,
   "metadata": {},
   "outputs": [],
   "source": [
    "# 외부의 모듈을 로드\n",
    "import insta\n",
    "import pandas as pd"
   ]
  },
  {
   "cell_type": "code",
   "execution_count": 8,
   "metadata": {},
   "outputs": [
    {
     "name": "stdout",
     "output_type": "stream",
     "text": [
      "다음 버튼이 존재하지 않거나 에러 발생\n",
      "파일 저장 완료\n",
      "다음 버튼이 존재하지 않거나 에러 발생\n"
     ]
    }
   ],
   "source": [
    "insta.search_insta('중랑구 맛집')"
   ]
  },
  {
   "cell_type": "code",
   "execution_count": 9,
   "metadata": {},
   "outputs": [],
   "source": [
    "df1 = pd.read_csv('중랑구 맛집.csv')"
   ]
  },
  {
   "cell_type": "code",
   "execution_count": 18,
   "metadata": {},
   "outputs": [
    {
     "data": {
      "text/html": [
       "<div>\n",
       "<style scoped>\n",
       "    .dataframe tbody tr th:only-of-type {\n",
       "        vertical-align: middle;\n",
       "    }\n",
       "\n",
       "    .dataframe tbody tr th {\n",
       "        vertical-align: top;\n",
       "    }\n",
       "\n",
       "    .dataframe thead th {\n",
       "        text-align: right;\n",
       "    }\n",
       "</style>\n",
       "<table border=\"1\" class=\"dataframe\">\n",
       "  <thead>\n",
       "    <tr style=\"text-align: right;\">\n",
       "      <th></th>\n",
       "      <th>ID</th>\n",
       "      <th>Commet</th>\n",
       "      <th>words2</th>\n",
       "    </tr>\n",
       "  </thead>\n",
       "  <tbody>\n",
       "    <tr>\n",
       "      <th>0</th>\n",
       "      <td>gwangjin00</td>\n",
       "      <td>🌸조만간 보게될 부농분홍한 세상🌸 성동구~동대문구~중랑구~의정부 까지 이어지는 중랑...</td>\n",
       "      <td>['조만간', '부농', '분홍', '세상', '성동구', '동대문구', '중랑구'...</td>\n",
       "    </tr>\n",
       "    <tr>\n",
       "      <th>1</th>\n",
       "      <td>knp9972</td>\n",
       "      <td>아 마져 곧있음 장미축제잔아</td>\n",
       "      <td>['장미', '축제']</td>\n",
       "    </tr>\n",
       "    <tr>\n",
       "      <th>2</th>\n",
       "      <td>knp9972</td>\n",
       "      <td>카메라부대 출동</td>\n",
       "      <td>['카메라', '부대', '출동']</td>\n",
       "    </tr>\n",
       "    <tr>\n",
       "      <th>3</th>\n",
       "      <td>knp9972</td>\n",
       "      <td>팝콘은 딸기맛이지</td>\n",
       "      <td>['팝콘', '딸기']</td>\n",
       "    </tr>\n",
       "    <tr>\n",
       "      <th>4</th>\n",
       "      <td>_eun122o</td>\n",
       "      <td>@rj97.insta.gram 집앞인뎅...😅</td>\n",
       "      <td>['집앞']</td>\n",
       "    </tr>\n",
       "    <tr>\n",
       "      <th>5</th>\n",
       "      <td>s.h______l</td>\n",
       "      <td>@_dain_nabee 다똥델꼬 고고</td>\n",
       "      <td>['다똥델꼬', '고고']</td>\n",
       "    </tr>\n",
       "    <tr>\n",
       "      <th>6</th>\n",
       "      <td>eun_e94</td>\n",
       "      <td>@however_9406 군자교!</td>\n",
       "      <td>['군자']</td>\n",
       "    </tr>\n",
       "    <tr>\n",
       "      <th>7</th>\n",
       "      <td>_neul_.22</td>\n",
       "      <td>@0nerain.o2 구날 의정부에서 본 개 우리 동네부터 이어진게 마자써</td>\n",
       "      <td>['의정부', '우리', '동네', '이어진', '마자']</td>\n",
       "    </tr>\n",
       "    <tr>\n",
       "      <th>8</th>\n",
       "      <td>gj__lolq</td>\n",
       "      <td>@dh__lo3l</td>\n",
       "      <td>NaN</td>\n",
       "    </tr>\n",
       "    <tr>\n",
       "      <th>9</th>\n",
       "      <td>q.taks_</td>\n",
       "      <td>@u.nas_ ❤</td>\n",
       "      <td>NaN</td>\n",
       "    </tr>\n",
       "  </tbody>\n",
       "</table>\n",
       "</div>"
      ],
      "text/plain": [
       "           ID                                             Commet  \\\n",
       "0  gwangjin00  🌸조만간 보게될 부농분홍한 세상🌸 성동구~동대문구~중랑구~의정부 까지 이어지는 중랑...   \n",
       "1     knp9972                                    아 마져 곧있음 장미축제잔아   \n",
       "2     knp9972                                           카메라부대 출동   \n",
       "3     knp9972                                          팝콘은 딸기맛이지   \n",
       "4    _eun122o                          @rj97.insta.gram 집앞인뎅...😅   \n",
       "5  s.h______l                               @_dain_nabee 다똥델꼬 고고   \n",
       "6     eun_e94                                 @however_9406 군자교!   \n",
       "7   _neul_.22          @0nerain.o2 구날 의정부에서 본 개 우리 동네부터 이어진게 마자써   \n",
       "8    gj__lolq                                          @dh__lo3l   \n",
       "9     q.taks_                                          @u.nas_ ❤   \n",
       "\n",
       "                                              words2  \n",
       "0  ['조만간', '부농', '분홍', '세상', '성동구', '동대문구', '중랑구'...  \n",
       "1                                       ['장미', '축제']  \n",
       "2                                ['카메라', '부대', '출동']  \n",
       "3                                       ['팝콘', '딸기']  \n",
       "4                                             ['집앞']  \n",
       "5                                     ['다똥델꼬', '고고']  \n",
       "6                                             ['군자']  \n",
       "7                   ['의정부', '우리', '동네', '이어진', '마자']  \n",
       "8                                                NaN  \n",
       "9                                                NaN  "
      ]
     },
     "execution_count": 18,
     "metadata": {},
     "output_type": "execute_result"
    }
   ],
   "source": [
    "df1"
   ]
  },
  {
   "cell_type": "code",
   "execution_count": null,
   "metadata": {},
   "outputs": [],
   "source": []
  }
 ],
 "metadata": {
  "kernelspec": {
   "display_name": "base",
   "language": "python",
   "name": "python3"
  },
  "language_info": {
   "codemirror_mode": {
    "name": "ipython",
    "version": 3
   },
   "file_extension": ".py",
   "mimetype": "text/x-python",
   "name": "python",
   "nbconvert_exporter": "python",
   "pygments_lexer": "ipython3",
   "version": "3.10.9"
  }
 },
 "nbformat": 4,
 "nbformat_minor": 2
}
