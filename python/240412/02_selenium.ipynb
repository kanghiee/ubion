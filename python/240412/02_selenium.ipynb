{
 "cells": [
  {
   "cell_type": "code",
   "execution_count": 155,
   "metadata": {},
   "outputs": [],
   "source": [
    "# 라이브러리 불러오기\n",
    "from selenium import webdriver"
   ]
  },
  {
   "cell_type": "code",
   "execution_count": 213,
   "metadata": {},
   "outputs": [],
   "source": [
    "# 웹 브라우저를 실행\n",
    "driver = webdriver.Chrome()"
   ]
  },
  {
   "cell_type": "code",
   "execution_count": 214,
   "metadata": {},
   "outputs": [],
   "source": [
    "# 웹 브라우저에 주소를 입력\n",
    "driver.get('https://m.naver.com')"
   ]
  },
  {
   "cell_type": "code",
   "execution_count": 215,
   "metadata": {},
   "outputs": [],
   "source": [
    "## selenium에서 특정 기능을 로드\n",
    "# By : 특정 태그를 찾을 때 ID나 Class, ... 조건으로 검색\n",
    "from selenium.webdriver.common.by import By\n",
    "# Keys : 키보드의 이벤트를 발생 시키는 기능\n",
    "from selenium.webdriver.common.keys import Keys"
   ]
  },
  {
   "cell_type": "code",
   "execution_count": 216,
   "metadata": {},
   "outputs": [],
   "source": [
    "element = driver.find_element(By.XPATH,'//*[@id=\"MM_SEARCH_FAKE\"]')"
   ]
  },
  {
   "cell_type": "code",
   "execution_count": 166,
   "metadata": {},
   "outputs": [],
   "source": [
    "element.send_keys('구로디지털열 맛집')"
   ]
  },
  {
   "cell_type": "code",
   "execution_count": 168,
   "metadata": {},
   "outputs": [],
   "source": [
    "#element.send_keys(Keys.ENTER)\n",
    "element2 = driver.find_element(By.XPATH,'//*[@id=\"sch_w\"]/div/form/button/span[1]')"
   ]
  },
  {
   "cell_type": "code",
   "execution_count": 170,
   "metadata": {},
   "outputs": [],
   "source": [
    "element2.click()"
   ]
  },
  {
   "cell_type": "code",
   "execution_count": 171,
   "metadata": {},
   "outputs": [],
   "source": [
    "map_element = driver.find_element(By.XPATH,'//*[@id=\"place-main-section-root\"]/div/div[2]/a')"
   ]
  },
  {
   "cell_type": "code",
   "execution_count": 172,
   "metadata": {},
   "outputs": [],
   "source": [
    "map_element.click()"
   ]
  },
  {
   "cell_type": "code",
   "execution_count": 173,
   "metadata": {},
   "outputs": [],
   "source": [
    "#리스트버튼\n",
    "list_button = driver.find_element(By.XPATH,'//*[@id=\"_place_portal_root\"]/div/a')"
   ]
  },
  {
   "cell_type": "code",
   "execution_count": 174,
   "metadata": {},
   "outputs": [],
   "source": [
    "list_button.click()"
   ]
  },
  {
   "cell_type": "code",
   "execution_count": 176,
   "metadata": {},
   "outputs": [
    {
     "data": {
      "text/plain": [
       "104"
      ]
     },
     "execution_count": 176,
     "metadata": {},
     "output_type": "execute_result"
    }
   ],
   "source": [
    "len(driver.find_elements(By.CLASS_NAME,'UEzoS'))"
   ]
  },
  {
   "cell_type": "code",
   "execution_count": 182,
   "metadata": {},
   "outputs": [],
   "source": [
    "store = driver.find_element(By.CLASS_NAME,'UEzoS')"
   ]
  },
  {
   "cell_type": "code",
   "execution_count": 183,
   "metadata": {},
   "outputs": [],
   "source": [
    "store.click()"
   ]
  },
  {
   "cell_type": "code",
   "execution_count": 184,
   "metadata": {},
   "outputs": [],
   "source": [
    "reveiw_button = driver.find_element(By.XPATH,'//*[@id=\"app-root\"]/div/div/div/div[4]/div/div/div/div/a[5]')"
   ]
  },
  {
   "cell_type": "code",
   "execution_count": 185,
   "metadata": {},
   "outputs": [],
   "source": [
    "reveiw_button.click()"
   ]
  },
  {
   "cell_type": "code",
   "execution_count": 186,
   "metadata": {},
   "outputs": [],
   "source": [
    "review_add = driver.find_element(By.CLASS_NAME, 'fvwqf')"
   ]
  },
  {
   "cell_type": "code",
   "execution_count": 187,
   "metadata": {},
   "outputs": [],
   "source": [
    "import time"
   ]
  },
  {
   "cell_type": "code",
   "execution_count": 188,
   "metadata": {},
   "outputs": [],
   "source": [
    "for i in range(3):\n",
    "    review_add.click()\n",
    "    # 5초 대기\n",
    "    time.sleep(5)"
   ]
  },
  {
   "cell_type": "code",
   "execution_count": 189,
   "metadata": {},
   "outputs": [],
   "source": [
    "from bs4 import BeautifulSoup as bs\n"
   ]
  },
  {
   "cell_type": "code",
   "execution_count": 190,
   "metadata": {},
   "outputs": [],
   "source": [
    "soup = bs(driver.page_source, 'html.parser')"
   ]
  },
  {
   "cell_type": "code",
   "execution_count": 192,
   "metadata": {},
   "outputs": [],
   "source": [
    "# li 태그 중 class가 owAeM인 모든 태그를 찾는다\n",
    "li_list = soup.find_all('li',attrs={'class':'owAeM'})"
   ]
  },
  {
   "cell_type": "code",
   "execution_count": 193,
   "metadata": {},
   "outputs": [
    {
     "data": {
      "text/plain": [
       "40"
      ]
     },
     "execution_count": 193,
     "metadata": {},
     "output_type": "execute_result"
    }
   ],
   "source": [
    "len(li_list)"
   ]
  },
  {
   "cell_type": "code",
   "execution_count": 194,
   "metadata": {},
   "outputs": [],
   "source": [
    "#리뷰 텍스트\n",
    "li_data = li_list[0]"
   ]
  },
  {
   "cell_type": "code",
   "execution_count": 200,
   "metadata": {},
   "outputs": [],
   "source": [
    "list_data = li_data.find('span',attrs = {'class':'zPfVt'}).get_text()"
   ]
  },
  {
   "cell_type": "code",
   "execution_count": 199,
   "metadata": {},
   "outputs": [
    {
     "data": {
      "text/plain": [
       "['라갈비 맛집이네요 너무 맛있어서 손도 안닦고 마구마구 먹었어요 비냉도 맛있어서 담에도 같은 메뉴로 먹을거 같아요',\n",
       " '진눈꽃살 정말 맛있고 화로숯도 고기를 다 먹을때까지 온도가 잘 유지되어 좋았어요 그리고 직원분들의 친절함에 정말 만족스러운 방문이었고 회식\\n이었습니다. 네이버 예약 후에 별도로 전화주셔서 처리해주신 부분만 봐도 감동이었는데 처음 가봤는데 찐 친절함이 정말 배어있으신,, 매번 기회가\\n된다면 또 가고싶은 곳이 되었어요 좋은 기억, 추억 안고 떠날 수 있게 해주셔서 감사드리고 무엇보다 진눈꽃살 진짜 최고.. 입에서 살살 녹...',\n",
       " '집근처라 자주가는 고기집^^',\n",
       " '주차도 편했고 가게도 크고 깔끔하니 좋았습니다ㅎㅎ 고기도 신선하고 맛있었어요ㅎㅎ 근데 소고기집인데 밑반찬은 고급지다는 느낌을 못 받았어\\n요. 양념게장은 살수율도 너무 별로고, 맛이 없어요.. 양념게장 맛을 보고 예상했었어야 했는데, 비빔냉면도 양념게장 양념 베이스인지 맛없어서 한 \\n젓갈 먹고 다 남겼네요ㅠ',\n",
       " '롯데호텔 2층에 위치하다보니 비지니스 미팅후 식사하기 좋아요. 전망이나 모든면에서 . ^^ ',\n",
       " '점심갈비탕',\n",
       " '조용하고 깔끔한 소고기 전문점, 모임하기 좋아요!',\n",
       " '가족들 저녁 모임이었습니다. 룸 예약 후 방문하였고, 매장도 깨끗하고 직원분들 친절하시고 음식도 맛있었습니다. 음식사진을 한장밖에 못찍었네요. 재방문 할 것 같아요',\n",
       " '고기',\n",
       " '늘 감사드립니다! 행사 잘 마쳤습니다~ \\n다른 메뉴도 맛있지만 LA갈비는 구디에서 여기가 최고! ',\n",
       " '선물세트구매!\\n',\n",
       " '갈때마다 서비스 주시고 친절하고 무엇보다  고기가 너무너무 맛있어요!! 고기 많이 먹으면 물리는데  여기는 아무리 많이 먹어도 물리지도 않고 배\\n가 불러서 더 못먹는거 슬플뿐... 가격도 이정도면 대박!',\n",
       " '구로디지탈단지 가성비좋은 소고기맛집에서 la갈비 먹었는데 양념도 딱이고 숯불위에 구워서 너무 맛있는집이고 회식장소나 가족모임장소로 딱입니다!!!!',\n",
       " '손님 모시고가는거라 미리 예약을 했고 답변까지 받았는데 당일날 가보니 예약도 안되어있고 무엇보다 직원들의 대응도 상당히 미숙했습니다 예약\\n을 알고계시는분 자체가 없었어요 12시에 예약하려다 혹시몰라 11시반에 예약했는데 12시에 했으면 바로 앉지도 못할뻔했어요 바쁘면 그럴수도 \\n있겠다 싶지만 상황이 그렇게 발생했으면 적어도 직원들이 대응을 잘 해주셔야하는데 이러지도 저러지도 못하고 저는 손님들이랑 멀뚱히 계...',\n",
       " '오랜만에 점심 먹으러 갔는데 갈비탕에 고기 다 손질해서 나와서 넘 편하고 좋아요 ! 오징어젓갈도 있어서 같이 먹기 넘 딱이고 만두까지 쫄깃하니 \\n맛있습니다 ~~~~~',\n",
       " '연말 회식으로 예약하고 방문했는데 예약시간보다 일찍가게되었어요 친절하시더라구요 고기도 맛있고 룸으로 되있어서 좋았습니다~분위기도 깔끔하고 청결했고 만족합니다',\n",
       " '순살 갈비탕(?) 이어서 좋네요 ㅋㅋ! ',\n",
       " '4인세트 외 LA갈비도 진짜 맛있게 먹었네요.\\n재방문 할겁니다.',\n",
       " '음식이 맛있어요\\n사장님도\\n직원분들도 넘 친절해서 즣아요',\n",
       " '분위기 좋고 프라이빗 느낌 좋습니다 모임 데이트 하기 좋아요',\n",
       " '룸이 있어 모임에 좋습니다 고기질도 좋습니다. ',\n",
       " '얼큰우거지 맛있어요 ',\n",
       " '개인적으로는 갈비탕이 자극적이지 않고 맛있어서 추천해요 ㅎㅎ  근데 서울페이 가맹점이라고 어플에 확인하고 간건데 서울페이는 안된다고 하더\\n라고요 ㅜㅜ 서울페이 되면 더 좋을 것 같아요!',\n",
       " '맛있어요 ',\n",
       " '음식도 맛있고 룸에서 대화하기 좋았습니다.',\n",
       " '구디맛집 한옥집육곳간 la갈비 진짜 맛있어요\\n분위기도 좋고 단체테이블, 룸도 많아서 구디회식장소로도 좋네요. 사장님도 진짜 친절하시고\\n고기, 냉면 다 맛있어요💛',\n",
       " '우와!!!  진심 제가 다녀본  소고기집 중에 최고이최고입니다!!!  고기가 넘 연하고 맛있어요!! 둘이서 진눈꽃살 2인에 la갈비 1인 먹었는데  진짜 사르르 녹아요!  La갈비후기는 왜 별로없는지!!!  이렇게 맛있는데 말이죠!!  갈비탕은 너무 유명하길래  각 1인분씩 먹었는데, 정말 깔끔하고 고기도 하나도 안 질기고 넘나 맛났어요!!  또 갈꺼에요. 과일야채구이도 대박!!',\n",
       " '매장이 넓어서 회식하기 좋은장소 반찬으로 젓갈 나오는데 젓갈 맛집 갈비탕 먹을때 밥은 무한리필 점심에 종종 먹어요~',\n",
       " '잘 먹었습니다. 서비스도 좋고 프라이빗하게 먹을 수 있어서 회식하기 좋은 곳 같아요!',\n",
       " '어제 친구 생일이라 예약하고 방문 야경에 번쩍~!!고기가맛있는건 기본이고~ 뷰맛집까지~♡ 네이버 예약시,서비스까지♡ 생일이라고 또 서비스\\n를ㅠ 친절+서비스+맛+뷰=한옥집육곳간 강추~!!!',\n",
       " '고기 질고 좋고 야채들이 신선해서 맛있어요!~ ',\n",
       " '고기도 밋있고 갈비탕도 맛있었습니다.',\n",
       " '갈비탕 국물이 진하고 맛있어요\\n뼈가 발라져 살만 나와서 먹기가 편리하네요\\n갈비탕 고기에서 살짝 냄새가 났는데 먹을만 했어요',\n",
       " '친절하고, 고기도 부드러워요',\n",
       " '룸에서 조용히 먹음',\n",
       " '맛있어용',\n",
       " '굿',\n",
       " '꽃살이랑 안창살 먹었데 화로에 구워서 그런지 정말 맛있어요! 식사류 메뉴도 괜찮아서 점심에 와도 좋을 것 같아요!! 서비스로 이것저것 많이 챙겨주시고 맛있게 잘 먹고갑니다ㅎㅎ',\n",
       " '굿',\n",
       " '갈비탕 먹었는데 밥은 식은밥이 나오고 국도 많이 뜨겁지 않고 가격에 비해 맛도 우리가족은 너무 별로였어요ㅠ 매장이 넓고 깔끔하고 통창으로 되어있는건 참 좋았습니다']"
      ]
     },
     "execution_count": 199,
     "metadata": {},
     "output_type": "execute_result"
    }
   ],
   "source": [
    "review_data = []\n",
    "for i in li_list :\n",
    "    review_data.append(i.find('span',attrs={'class':'zPfVt'}).get_text())\n",
    "review_data"
   ]
  },
  {
   "cell_type": "code",
   "execution_count": 204,
   "metadata": {},
   "outputs": [],
   "source": [
    "div_data = li_data.find('div',attrs={'class':'VAvOk'})"
   ]
  },
  {
   "cell_type": "code",
   "execution_count": 205,
   "metadata": {},
   "outputs": [],
   "source": [
    "# 리뷰 이미지 가져오기\n",
    "# list_data에서 이미지 주소를 모두 출력\n",
    "img_list = div_data.find_all('img')"
   ]
  },
  {
   "cell_type": "code",
   "execution_count": 206,
   "metadata": {},
   "outputs": [
    {
     "name": "stdout",
     "output_type": "stream",
     "text": [
      "https://search.pstatic.net/common/?autoRotate=true&quality=95&type=f&size=480x600&src=https%3A%2F%2Fpup-review-phinf.pstatic.net%2FMjAyNDAzMjhfNzMg%2FMDAxNzExNjIxMzE1MTA4.PiUxufnCWt6UfZUsyLcYjTKvw9GDfsOAGK3I1c3MlWQg.yZLe3wGFmCOOQQrT9-h7uUOeIlM6o_Hrp0nG9FAhAYAg.JPEG%2F20240321_185921.jpg.jpg%3Ftype%3Dw1500_60_sharpen\n",
      "https://search.pstatic.net/common/?autoRotate=true&quality=95&type=f&size=480x480&src=https%3A%2F%2Fpup-review-phinf.pstatic.net%2FMjAyNDAzMjhfMjQw%2FMDAxNzExNjIxMzE1NzMz.oG7IV5iZMur743vIJ05EXnpShce1_-gaeMldo6IZtRkg.CSrVKMKPnlT3SuxUjJ9iJ-4880CuSJ-owqZyeFaXw90g.JPEG%2F20240321_190133.jpg.jpg%3Ftype%3Dw1500_60_sharpen\n",
      "https://search.pstatic.net/common/?autoRotate=true&quality=95&type=f&size=480x480&src=https%3A%2F%2Fpup-review-phinf.pstatic.net%2FMjAyNDAzMjhfMjUz%2FMDAxNzExNjIxMzE1NzA3.5iBYWz9UKjYaoO-7uz_MiCGReB0-UYR9ZIDJhr1uVUMg.wanENT14j4KF9XHyRKjqM6k4o7cxeu5NB__y80hH_AMg.JPEG%2F20240321_192225.jpg.jpg%3Ftype%3Dw1500_60_sharpen\n"
     ]
    }
   ],
   "source": [
    "for img in img_list:\n",
    "    print(img['src'])"
   ]
  },
  {
   "cell_type": "code",
   "execution_count": 208,
   "metadata": {},
   "outputs": [],
   "source": [
    "import requests\n",
    "import os"
   ]
  },
  {
   "cell_type": "code",
   "execution_count": 209,
   "metadata": {},
   "outputs": [],
   "source": [
    "# 이미지를 저장하는 함수를 하나 생성\n",
    "def image_save(img_path, save_path, file_name):\n",
    "    html_data = requests.get(img_path)\n",
    "    imageFile = open(\n",
    "        os.path.join(\n",
    "            save_path, \n",
    "            file_name\n",
    "        ),\n",
    "        'wb'\n",
    "    )\n",
    "    # 이미지 데이터의 크기\n",
    "    chunk_size = 100000000\n",
    "    for chunk in html_data.iter_content(chunk_size):\n",
    "        imageFile.write(chunk)\n",
    "        imageFile.close()\n",
    "    print('파일 저장 완료')\n"
   ]
  },
  {
   "cell_type": "code",
   "execution_count": 212,
   "metadata": {},
   "outputs": [
    {
     "name": "stdout",
     "output_type": "stream",
     "text": [
      "파일 저장 완료\n",
      "파일 저장 완료\n",
      "파일 저장 완료\n"
     ]
    }
   ],
   "source": [
    "i=1\n",
    "for img in img_list:\n",
    "    #print(img['src'])\n",
    "    file_name = f\"review_{i}.png\"\n",
    "    save_path = \"./img/\"\n",
    "    image_save(img['src'], save_path, file_name)\n",
    "    i += 1"
   ]
  },
  {
   "cell_type": "code",
   "execution_count": null,
   "metadata": {},
   "outputs": [],
   "source": []
  },
  {
   "cell_type": "code",
   "execution_count": null,
   "metadata": {},
   "outputs": [],
   "source": []
  },
  {
   "cell_type": "code",
   "execution_count": null,
   "metadata": {},
   "outputs": [],
   "source": []
  },
  {
   "cell_type": "code",
   "execution_count": null,
   "metadata": {},
   "outputs": [],
   "source": []
  },
  {
   "cell_type": "code",
   "execution_count": null,
   "metadata": {},
   "outputs": [],
   "source": [
    "###########################"
   ]
  },
  {
   "cell_type": "code",
   "execution_count": 123,
   "metadata": {},
   "outputs": [],
   "source": [
    "element2 = driver.find_element(By.XPATH,'//*[@id=\"place-main-section-root\"]/section/div/div[6]/a')"
   ]
  },
  {
   "cell_type": "code",
   "execution_count": 124,
   "metadata": {},
   "outputs": [],
   "source": [
    "element2.click()"
   ]
  },
  {
   "cell_type": "code",
   "execution_count": 138,
   "metadata": {},
   "outputs": [],
   "source": [
    "# 탭 이동\n",
    "driver.switch_to.window(driver.window_handles[1])\n"
   ]
  },
  {
   "cell_type": "code",
   "execution_count": 139,
   "metadata": {},
   "outputs": [],
   "source": [
    "## iframe 안에 있는 src 속성을 추출\n",
    "from bs4 import BeautifulSoup as bs\n"
   ]
  },
  {
   "cell_type": "code",
   "execution_count": 140,
   "metadata": {},
   "outputs": [],
   "source": [
    "soup = bs(driver.page_source, 'html.parser')"
   ]
  },
  {
   "cell_type": "code",
   "execution_count": 141,
   "metadata": {},
   "outputs": [
    {
     "data": {
      "text/plain": [
       "5"
      ]
     },
     "execution_count": 141,
     "metadata": {},
     "output_type": "execute_result"
    }
   ],
   "source": [
    "# html문서에서 iframe의 개수를 확인\n",
    "len(soup.find_all('iframe'))"
   ]
  },
  {
   "cell_type": "code",
   "execution_count": 142,
   "metadata": {},
   "outputs": [],
   "source": [
    "# iframe들 중에 5번째 태그의 정보에서 src 속성의 값을 추출\n",
    "iframe_data = soup.find_all('iframe')[4]"
   ]
  },
  {
   "cell_type": "code",
   "execution_count": 143,
   "metadata": {},
   "outputs": [
    {
     "data": {
      "text/plain": [
       "'https://pcmap.place.naver.com/place/list?query=%EA%B5%AC%EB%A1%9C%EB%94%94%EC%A7%80%ED%84%B8%EC%97%AD%20%EB%A7%9B%EC%A7%91&x=126.907865&y=37.48263&clientX=126.907865&clientY=37.48263&from=nx&fromNxList=true&x=126.907865&y=37.48263&entry=pll&ts=1712903280579&mapUrl=https%3A%2F%2Fmap.naver.com%2Fp%2Fsearch%2F%EA%B5%AC%EB%A1%9C%EB%94%94%EC%A7%80%ED%84%B8%EC%97%AD%20%EB%A7%9B%EC%A7%91'"
      ]
     },
     "execution_count": 143,
     "metadata": {},
     "output_type": "execute_result"
    }
   ],
   "source": [
    "iframe_data['src']"
   ]
  },
  {
   "cell_type": "code",
   "execution_count": 144,
   "metadata": {},
   "outputs": [],
   "source": [
    "url = iframe_data['src']"
   ]
  },
  {
   "cell_type": "code",
   "execution_count": 145,
   "metadata": {},
   "outputs": [],
   "source": [
    "driver.get(url)"
   ]
  },
  {
   "cell_type": "code",
   "execution_count": 147,
   "metadata": {},
   "outputs": [
    {
     "data": {
      "text/plain": [
       "10"
      ]
     },
     "execution_count": 147,
     "metadata": {},
     "output_type": "execute_result"
    }
   ],
   "source": [
    "len(driver.find_elements(By.CLASS_NAME,'tzwk0'))"
   ]
  },
  {
   "cell_type": "code",
   "execution_count": 149,
   "metadata": {},
   "outputs": [],
   "source": [
    "store_list = driver.find_elements(By.CLASS_NAME,'tzwk0')"
   ]
  },
  {
   "cell_type": "code",
   "execution_count": 150,
   "metadata": {},
   "outputs": [],
   "source": [
    "store = store_list[0]"
   ]
  },
  {
   "cell_type": "code",
   "execution_count": 152,
   "metadata": {},
   "outputs": [],
   "source": [
    "store.click()"
   ]
  },
  {
   "cell_type": "code",
   "execution_count": null,
   "metadata": {},
   "outputs": [],
   "source": []
  },
  {
   "cell_type": "code",
   "execution_count": 80,
   "metadata": {},
   "outputs": [],
   "source": [
    "###############################################"
   ]
  },
  {
   "cell_type": "code",
   "execution_count": 76,
   "metadata": {},
   "outputs": [],
   "source": [
    "element2 = driver.find_element(By.ID, 'query')\n",
    "element2.send_keys('아이패드')"
   ]
  },
  {
   "cell_type": "code",
   "execution_count": 77,
   "metadata": {},
   "outputs": [],
   "source": [
    "element2.send_keys(Keys.ENTER)"
   ]
  },
  {
   "cell_type": "code",
   "execution_count": 60,
   "metadata": {},
   "outputs": [],
   "source": [
    "element3 = driver.find_element(By.XPATH,'//*[@id=\"main_pack\"]/section[2]/div[1]/div[4]/a')"
   ]
  },
  {
   "cell_type": "code",
   "execution_count": 61,
   "metadata": {},
   "outputs": [],
   "source": [
    "element3.click()"
   ]
  },
  {
   "cell_type": "code",
   "execution_count": null,
   "metadata": {},
   "outputs": [],
   "source": [
    "By."
   ]
  },
  {
   "cell_type": "code",
   "execution_count": null,
   "metadata": {},
   "outputs": [],
   "source": []
  },
  {
   "cell_type": "code",
   "execution_count": null,
   "metadata": {},
   "outputs": [],
   "source": []
  },
  {
   "cell_type": "code",
   "execution_count": null,
   "metadata": {},
   "outputs": [],
   "source": []
  },
  {
   "cell_type": "code",
   "execution_count": null,
   "metadata": {},
   "outputs": [],
   "source": [
    "###### 아래코드는 쇼피에서"
   ]
  },
  {
   "cell_type": "code",
   "execution_count": 72,
   "metadata": {},
   "outputs": [],
   "source": [
    "element = driver.find_element(By.XPATH,'//*[@id=\"shortcutArea\"]/ul/li[4]/a/span[1]')"
   ]
  },
  {
   "cell_type": "code",
   "execution_count": 73,
   "metadata": {},
   "outputs": [
    {
     "ename": "ElementClickInterceptedException",
     "evalue": "Message: element click intercepted: Element <span class=\"service_icon type_shopping\"></span> is not clickable at point (598, 166). Other element would receive the click: <span class=\"fix\">...</span>\n  (Session info: chrome=123.0.6312.124)\nStacktrace:\n0   chromedriver                        0x00000001028444a4 chromedriver + 4326564\n1   chromedriver                        0x000000010283c96c chromedriver + 4295020\n2   chromedriver                        0x0000000102468088 chromedriver + 278664\n3   chromedriver                        0x00000001024b0554 chromedriver + 574804\n4   chromedriver                        0x00000001024aead8 chromedriver + 568024\n5   chromedriver                        0x00000001024acc58 chromedriver + 560216\n6   chromedriver                        0x00000001024ac188 chromedriver + 557448\n7   chromedriver                        0x00000001024a13ac chromedriver + 512940\n8   chromedriver                        0x00000001024a0dd0 chromedriver + 511440\n9   chromedriver                        0x00000001024e34f8 chromedriver + 783608\n10  chromedriver                        0x000000010249f4e4 chromedriver + 505060\n11  chromedriver                        0x000000010249ff5c chromedriver + 507740\n12  chromedriver                        0x0000000102807a40 chromedriver + 4078144\n13  chromedriver                        0x000000010280c7f8 chromedriver + 4098040\n14  chromedriver                        0x00000001027ee5e4 chromedriver + 3974628\n15  chromedriver                        0x000000010280d110 chromedriver + 4100368\n16  chromedriver                        0x00000001027dfbd4 chromedriver + 3914708\n17  chromedriver                        0x000000010282d718 chromedriver + 4232984\n18  chromedriver                        0x000000010282d894 chromedriver + 4233364\n19  chromedriver                        0x000000010283c5e0 chromedriver + 4294112\n20  libsystem_pthread.dylib             0x000000018c89e034 _pthread_start + 136\n21  libsystem_pthread.dylib             0x000000018c898e3c thread_start + 8\n",
     "output_type": "error",
     "traceback": [
      "\u001b[0;31m---------------------------------------------------------------------------\u001b[0m",
      "\u001b[0;31mElementClickInterceptedException\u001b[0m          Traceback (most recent call last)",
      "\u001b[0;32m/var/folders/j6/txnqzgpx1wx4nmdw439z1jn80000gn/T/ipykernel_7966/2777886189.py\u001b[0m in \u001b[0;36m<module>\u001b[0;34m\u001b[0m\n\u001b[0;32m----> 1\u001b[0;31m \u001b[0melement\u001b[0m\u001b[0;34m.\u001b[0m\u001b[0mclick\u001b[0m\u001b[0;34m(\u001b[0m\u001b[0;34m)\u001b[0m\u001b[0;34m\u001b[0m\u001b[0;34m\u001b[0m\u001b[0m\n\u001b[0m",
      "\u001b[0;32m~/opt/anaconda3/lib/python3.9/site-packages/selenium/webdriver/remote/webelement.py\u001b[0m in \u001b[0;36mclick\u001b[0;34m(self)\u001b[0m\n\u001b[1;32m     92\u001b[0m     \u001b[0;32mdef\u001b[0m \u001b[0mclick\u001b[0m\u001b[0;34m(\u001b[0m\u001b[0mself\u001b[0m\u001b[0;34m)\u001b[0m \u001b[0;34m->\u001b[0m \u001b[0;32mNone\u001b[0m\u001b[0;34m:\u001b[0m\u001b[0;34m\u001b[0m\u001b[0;34m\u001b[0m\u001b[0m\n\u001b[1;32m     93\u001b[0m         \u001b[0;34m\"\"\"Clicks the element.\"\"\"\u001b[0m\u001b[0;34m\u001b[0m\u001b[0;34m\u001b[0m\u001b[0m\n\u001b[0;32m---> 94\u001b[0;31m         \u001b[0mself\u001b[0m\u001b[0;34m.\u001b[0m\u001b[0m_execute\u001b[0m\u001b[0;34m(\u001b[0m\u001b[0mCommand\u001b[0m\u001b[0;34m.\u001b[0m\u001b[0mCLICK_ELEMENT\u001b[0m\u001b[0;34m)\u001b[0m\u001b[0;34m\u001b[0m\u001b[0;34m\u001b[0m\u001b[0m\n\u001b[0m\u001b[1;32m     95\u001b[0m \u001b[0;34m\u001b[0m\u001b[0m\n\u001b[1;32m     96\u001b[0m     \u001b[0;32mdef\u001b[0m \u001b[0msubmit\u001b[0m\u001b[0;34m(\u001b[0m\u001b[0mself\u001b[0m\u001b[0;34m)\u001b[0m \u001b[0;34m->\u001b[0m \u001b[0;32mNone\u001b[0m\u001b[0;34m:\u001b[0m\u001b[0;34m\u001b[0m\u001b[0;34m\u001b[0m\u001b[0m\n",
      "\u001b[0;32m~/opt/anaconda3/lib/python3.9/site-packages/selenium/webdriver/remote/webelement.py\u001b[0m in \u001b[0;36m_execute\u001b[0;34m(self, command, params)\u001b[0m\n\u001b[1;32m    393\u001b[0m             \u001b[0mparams\u001b[0m \u001b[0;34m=\u001b[0m \u001b[0;34m{\u001b[0m\u001b[0;34m}\u001b[0m\u001b[0;34m\u001b[0m\u001b[0;34m\u001b[0m\u001b[0m\n\u001b[1;32m    394\u001b[0m         \u001b[0mparams\u001b[0m\u001b[0;34m[\u001b[0m\u001b[0;34m\"id\"\u001b[0m\u001b[0;34m]\u001b[0m \u001b[0;34m=\u001b[0m \u001b[0mself\u001b[0m\u001b[0;34m.\u001b[0m\u001b[0m_id\u001b[0m\u001b[0;34m\u001b[0m\u001b[0;34m\u001b[0m\u001b[0m\n\u001b[0;32m--> 395\u001b[0;31m         \u001b[0;32mreturn\u001b[0m \u001b[0mself\u001b[0m\u001b[0;34m.\u001b[0m\u001b[0m_parent\u001b[0m\u001b[0;34m.\u001b[0m\u001b[0mexecute\u001b[0m\u001b[0;34m(\u001b[0m\u001b[0mcommand\u001b[0m\u001b[0;34m,\u001b[0m \u001b[0mparams\u001b[0m\u001b[0;34m)\u001b[0m\u001b[0;34m\u001b[0m\u001b[0;34m\u001b[0m\u001b[0m\n\u001b[0m\u001b[1;32m    396\u001b[0m \u001b[0;34m\u001b[0m\u001b[0m\n\u001b[1;32m    397\u001b[0m     \u001b[0;32mdef\u001b[0m \u001b[0mfind_element\u001b[0m\u001b[0;34m(\u001b[0m\u001b[0mself\u001b[0m\u001b[0;34m,\u001b[0m \u001b[0mby\u001b[0m\u001b[0;34m=\u001b[0m\u001b[0mBy\u001b[0m\u001b[0;34m.\u001b[0m\u001b[0mID\u001b[0m\u001b[0;34m,\u001b[0m \u001b[0mvalue\u001b[0m\u001b[0;34m=\u001b[0m\u001b[0;32mNone\u001b[0m\u001b[0;34m)\u001b[0m \u001b[0;34m->\u001b[0m \u001b[0mWebElement\u001b[0m\u001b[0;34m:\u001b[0m\u001b[0;34m\u001b[0m\u001b[0;34m\u001b[0m\u001b[0m\n",
      "\u001b[0;32m~/opt/anaconda3/lib/python3.9/site-packages/selenium/webdriver/remote/webdriver.py\u001b[0m in \u001b[0;36mexecute\u001b[0;34m(self, driver_command, params)\u001b[0m\n\u001b[1;32m    345\u001b[0m         \u001b[0mresponse\u001b[0m \u001b[0;34m=\u001b[0m \u001b[0mself\u001b[0m\u001b[0;34m.\u001b[0m\u001b[0mcommand_executor\u001b[0m\u001b[0;34m.\u001b[0m\u001b[0mexecute\u001b[0m\u001b[0;34m(\u001b[0m\u001b[0mdriver_command\u001b[0m\u001b[0;34m,\u001b[0m \u001b[0mparams\u001b[0m\u001b[0;34m)\u001b[0m\u001b[0;34m\u001b[0m\u001b[0;34m\u001b[0m\u001b[0m\n\u001b[1;32m    346\u001b[0m         \u001b[0;32mif\u001b[0m \u001b[0mresponse\u001b[0m\u001b[0;34m:\u001b[0m\u001b[0;34m\u001b[0m\u001b[0;34m\u001b[0m\u001b[0m\n\u001b[0;32m--> 347\u001b[0;31m             \u001b[0mself\u001b[0m\u001b[0;34m.\u001b[0m\u001b[0merror_handler\u001b[0m\u001b[0;34m.\u001b[0m\u001b[0mcheck_response\u001b[0m\u001b[0;34m(\u001b[0m\u001b[0mresponse\u001b[0m\u001b[0;34m)\u001b[0m\u001b[0;34m\u001b[0m\u001b[0;34m\u001b[0m\u001b[0m\n\u001b[0m\u001b[1;32m    348\u001b[0m             \u001b[0mresponse\u001b[0m\u001b[0;34m[\u001b[0m\u001b[0;34m\"value\"\u001b[0m\u001b[0;34m]\u001b[0m \u001b[0;34m=\u001b[0m \u001b[0mself\u001b[0m\u001b[0;34m.\u001b[0m\u001b[0m_unwrap_value\u001b[0m\u001b[0;34m(\u001b[0m\u001b[0mresponse\u001b[0m\u001b[0;34m.\u001b[0m\u001b[0mget\u001b[0m\u001b[0;34m(\u001b[0m\u001b[0;34m\"value\"\u001b[0m\u001b[0;34m,\u001b[0m \u001b[0;32mNone\u001b[0m\u001b[0;34m)\u001b[0m\u001b[0;34m)\u001b[0m\u001b[0;34m\u001b[0m\u001b[0;34m\u001b[0m\u001b[0m\n\u001b[1;32m    349\u001b[0m             \u001b[0;32mreturn\u001b[0m \u001b[0mresponse\u001b[0m\u001b[0;34m\u001b[0m\u001b[0;34m\u001b[0m\u001b[0m\n",
      "\u001b[0;32m~/opt/anaconda3/lib/python3.9/site-packages/selenium/webdriver/remote/errorhandler.py\u001b[0m in \u001b[0;36mcheck_response\u001b[0;34m(self, response)\u001b[0m\n\u001b[1;32m    227\u001b[0m                 \u001b[0malert_text\u001b[0m \u001b[0;34m=\u001b[0m \u001b[0mvalue\u001b[0m\u001b[0;34m[\u001b[0m\u001b[0;34m\"alert\"\u001b[0m\u001b[0;34m]\u001b[0m\u001b[0;34m.\u001b[0m\u001b[0mget\u001b[0m\u001b[0;34m(\u001b[0m\u001b[0;34m\"text\"\u001b[0m\u001b[0;34m)\u001b[0m\u001b[0;34m\u001b[0m\u001b[0;34m\u001b[0m\u001b[0m\n\u001b[1;32m    228\u001b[0m             \u001b[0;32mraise\u001b[0m \u001b[0mexception_class\u001b[0m\u001b[0;34m(\u001b[0m\u001b[0mmessage\u001b[0m\u001b[0;34m,\u001b[0m \u001b[0mscreen\u001b[0m\u001b[0;34m,\u001b[0m \u001b[0mstacktrace\u001b[0m\u001b[0;34m,\u001b[0m \u001b[0malert_text\u001b[0m\u001b[0;34m)\u001b[0m  \u001b[0;31m# type: ignore[call-arg]  # mypy is not smart enough here\u001b[0m\u001b[0;34m\u001b[0m\u001b[0;34m\u001b[0m\u001b[0m\n\u001b[0;32m--> 229\u001b[0;31m         \u001b[0;32mraise\u001b[0m \u001b[0mexception_class\u001b[0m\u001b[0;34m(\u001b[0m\u001b[0mmessage\u001b[0m\u001b[0;34m,\u001b[0m \u001b[0mscreen\u001b[0m\u001b[0;34m,\u001b[0m \u001b[0mstacktrace\u001b[0m\u001b[0;34m)\u001b[0m\u001b[0;34m\u001b[0m\u001b[0;34m\u001b[0m\u001b[0m\n\u001b[0m",
      "\u001b[0;31mElementClickInterceptedException\u001b[0m: Message: element click intercepted: Element <span class=\"service_icon type_shopping\"></span> is not clickable at point (598, 166). Other element would receive the click: <span class=\"fix\">...</span>\n  (Session info: chrome=123.0.6312.124)\nStacktrace:\n0   chromedriver                        0x00000001028444a4 chromedriver + 4326564\n1   chromedriver                        0x000000010283c96c chromedriver + 4295020\n2   chromedriver                        0x0000000102468088 chromedriver + 278664\n3   chromedriver                        0x00000001024b0554 chromedriver + 574804\n4   chromedriver                        0x00000001024aead8 chromedriver + 568024\n5   chromedriver                        0x00000001024acc58 chromedriver + 560216\n6   chromedriver                        0x00000001024ac188 chromedriver + 557448\n7   chromedriver                        0x00000001024a13ac chromedriver + 512940\n8   chromedriver                        0x00000001024a0dd0 chromedriver + 511440\n9   chromedriver                        0x00000001024e34f8 chromedriver + 783608\n10  chromedriver                        0x000000010249f4e4 chromedriver + 505060\n11  chromedriver                        0x000000010249ff5c chromedriver + 507740\n12  chromedriver                        0x0000000102807a40 chromedriver + 4078144\n13  chromedriver                        0x000000010280c7f8 chromedriver + 4098040\n14  chromedriver                        0x00000001027ee5e4 chromedriver + 3974628\n15  chromedriver                        0x000000010280d110 chromedriver + 4100368\n16  chromedriver                        0x00000001027dfbd4 chromedriver + 3914708\n17  chromedriver                        0x000000010282d718 chromedriver + 4232984\n18  chromedriver                        0x000000010282d894 chromedriver + 4233364\n19  chromedriver                        0x000000010283c5e0 chromedriver + 4294112\n20  libsystem_pthread.dylib             0x000000018c89e034 _pthread_start + 136\n21  libsystem_pthread.dylib             0x000000018c898e3c thread_start + 8\n"
     ]
    }
   ],
   "source": [
    "element.click()"
   ]
  },
  {
   "cell_type": "code",
   "execution_count": 30,
   "metadata": {},
   "outputs": [],
   "source": [
    "# 탭 이동\n",
    "# 탭 정보를 확인\n",
    "driver.window_handles\n",
    "driver.switch_to.window(driver.window_handles[1])"
   ]
  },
  {
   "cell_type": "code",
   "execution_count": 31,
   "metadata": {},
   "outputs": [
    {
     "data": {
      "text/plain": [
       "198"
      ]
     },
     "execution_count": 31,
     "metadata": {},
     "output_type": "execute_result"
    }
   ],
   "source": [
    "driver.page_source.find('쇼핑')"
   ]
  },
  {
   "cell_type": "code",
   "execution_count": 32,
   "metadata": {},
   "outputs": [],
   "source": [
    "popup_element = driver.find_element(By.XPATH,'//*[@id=\"__next\"]/div/div[1]/div/div/div[2]/div[2]/div/div/div/div/div[2]/button[2]')"
   ]
  },
  {
   "cell_type": "code",
   "execution_count": 33,
   "metadata": {},
   "outputs": [],
   "source": [
    "popup_element.click()"
   ]
  },
  {
   "cell_type": "code",
   "execution_count": 35,
   "metadata": {},
   "outputs": [],
   "source": [
    "search_element = driver.find_element(By.CLASS_NAME,'_searchInput_search_text_3CUDs')"
   ]
  },
  {
   "cell_type": "code",
   "execution_count": 36,
   "metadata": {},
   "outputs": [],
   "source": [
    "search_element.send_keys('아이패드') \n"
   ]
  },
  {
   "cell_type": "code",
   "execution_count": 37,
   "metadata": {},
   "outputs": [],
   "source": [
    "search_element.send_keys(Keys.ENTER)"
   ]
  },
  {
   "cell_type": "code",
   "execution_count": null,
   "metadata": {},
   "outputs": [],
   "source": []
  }
 ],
 "metadata": {
  "kernelspec": {
   "display_name": "Python 3",
   "language": "python",
   "name": "python3"
  },
  "language_info": {
   "codemirror_mode": {
    "name": "ipython",
    "version": 3
   },
   "file_extension": ".py",
   "mimetype": "text/x-python",
   "name": "python",
   "nbconvert_exporter": "python",
   "pygments_lexer": "ipython3",
   "version": "3.12.2"
  }
 },
 "nbformat": 4,
 "nbformat_minor": 2
}
