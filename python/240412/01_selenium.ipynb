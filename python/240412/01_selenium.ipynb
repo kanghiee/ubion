{
 "cells": [
  {
   "cell_type": "markdown",
   "metadata": {},
   "source": [
    "## selenium 라이브러리\n",
    "1. 웹 어플리케이션을 테스트하기 위한 라이브러리\n",
    "2. python code를 이용하여 웹 브라우저를 제어\n",
    "3. 구글 크롬의 구버전을 사용 시 별도의 소프트웨워를 필요"
   ]
  },
  {
   "cell_type": "code",
   "execution_count": 2,
   "metadata": {},
   "outputs": [
    {
     "name": "stdout",
     "output_type": "stream",
     "text": [
      "Collecting selenium\n",
      "  Using cached selenium-4.19.0-py3-none-any.whl.metadata (6.9 kB)\n",
      "Requirement already satisfied: urllib3<3,>=1.26 in /opt/homebrew/lib/python3.12/site-packages (from urllib3[socks]<3,>=1.26->selenium) (2.2.1)\n",
      "Collecting trio~=0.17 (from selenium)\n",
      "  Using cached trio-0.25.0-py3-none-any.whl.metadata (8.7 kB)\n",
      "Collecting trio-websocket~=0.9 (from selenium)\n",
      "  Using cached trio_websocket-0.11.1-py3-none-any.whl.metadata (4.7 kB)\n",
      "Requirement already satisfied: certifi>=2021.10.8 in /opt/homebrew/lib/python3.12/site-packages (from selenium) (2024.2.2)\n",
      "Collecting typing_extensions>=4.9.0 (from selenium)\n",
      "  Using cached typing_extensions-4.11.0-py3-none-any.whl.metadata (3.0 kB)\n",
      "Requirement already satisfied: attrs>=23.2.0 in /opt/homebrew/lib/python3.12/site-packages (from trio~=0.17->selenium) (23.2.0)\n",
      "Collecting sortedcontainers (from trio~=0.17->selenium)\n",
      "  Using cached sortedcontainers-2.4.0-py2.py3-none-any.whl.metadata (10 kB)\n",
      "Requirement already satisfied: idna in /opt/homebrew/lib/python3.12/site-packages (from trio~=0.17->selenium) (3.6)\n",
      "Collecting outcome (from trio~=0.17->selenium)\n",
      "  Using cached outcome-1.3.0.post0-py2.py3-none-any.whl.metadata (2.6 kB)\n",
      "Requirement already satisfied: sniffio>=1.3.0 in /opt/homebrew/lib/python3.12/site-packages (from trio~=0.17->selenium) (1.3.1)\n",
      "Collecting wsproto>=0.14 (from trio-websocket~=0.9->selenium)\n",
      "  Using cached wsproto-1.2.0-py3-none-any.whl.metadata (5.6 kB)\n",
      "Collecting pysocks!=1.5.7,<2.0,>=1.5.6 (from urllib3[socks]<3,>=1.26->selenium)\n",
      "  Using cached PySocks-1.7.1-py3-none-any.whl.metadata (13 kB)\n",
      "Requirement already satisfied: h11<1,>=0.9.0 in /opt/homebrew/lib/python3.12/site-packages (from wsproto>=0.14->trio-websocket~=0.9->selenium) (0.14.0)\n",
      "Using cached selenium-4.19.0-py3-none-any.whl (10.5 MB)\n",
      "Using cached trio-0.25.0-py3-none-any.whl (467 kB)\n",
      "Using cached trio_websocket-0.11.1-py3-none-any.whl (17 kB)\n",
      "Using cached typing_extensions-4.11.0-py3-none-any.whl (34 kB)\n",
      "Using cached PySocks-1.7.1-py3-none-any.whl (16 kB)\n",
      "Using cached wsproto-1.2.0-py3-none-any.whl (24 kB)\n",
      "Using cached outcome-1.3.0.post0-py2.py3-none-any.whl (10 kB)\n",
      "Using cached sortedcontainers-2.4.0-py2.py3-none-any.whl (29 kB)\n",
      "Installing collected packages: sortedcontainers, wsproto, typing_extensions, pysocks, outcome, trio, trio-websocket, selenium\n",
      "Successfully installed outcome-1.3.0.post0 pysocks-1.7.1 selenium-4.19.0 sortedcontainers-2.4.0 trio-0.25.0 trio-websocket-0.11.1 typing_extensions-4.11.0 wsproto-1.2.0\n",
      "Note: you may need to restart the kernel to use updated packages.\n"
     ]
    }
   ],
   "source": [
    "pip install selenium\n"
   ]
  },
  {
   "cell_type": "code",
   "execution_count": 3,
   "metadata": {},
   "outputs": [],
   "source": [
    "# 라이브러리 불러오기\n",
    "from selenium import webdriver"
   ]
  },
  {
   "cell_type": "code",
   "execution_count": 4,
   "metadata": {},
   "outputs": [],
   "source": [
    "# 웹 브라우저를 실행\n",
    "driver = webdriver.Chrome()"
   ]
  },
  {
   "cell_type": "code",
   "execution_count": 5,
   "metadata": {},
   "outputs": [],
   "source": [
    "# 웹 브라우저에 주소를 입력\n",
    "driver.get('https://www.naver.com')"
   ]
  },
  {
   "cell_type": "code",
   "execution_count": 8,
   "metadata": {},
   "outputs": [],
   "source": [
    "## selenium에서 특정 기능을 로드\n",
    "# By : 특정 태그를 찾을 때 ID나 Class, ... 조건으로 검색\n",
    "from selenium.webdriver.common.by import By\n",
    "# Keys : 키보드의 이벤트를 발생 시키는 기능\n",
    "from selenium.webdriver.common.keys import Keys"
   ]
  },
  {
   "cell_type": "markdown",
   "metadata": {},
   "source": [
    "- find_element()\n",
    "    - HTML문서에서 특정 태그를 검색 -> 첫번째 태그를 선택\n",
    "    - bs4에서 find()와 같은 기능\n",
    "- find_elements()\n",
    "    - HTML문서에서 특정 태그와 같은 모든 태그를 검색\n",
    "    - bs4에서 find_all()과 같은 기능"
   ]
  },
  {
   "cell_type": "code",
   "execution_count": 9,
   "metadata": {},
   "outputs": [],
   "source": [
    "# 네이버 메인 화면에 있는 검색어를 입력하는 input 태그를 선택\n",
    "element = driver.find_element(By.ID, 'query')"
   ]
  },
  {
   "cell_type": "code",
   "execution_count": 10,
   "metadata": {},
   "outputs": [],
   "source": [
    "# 검색어를 입력 (특정 문자열을 보낸다.)\n",
    "element.send_keys(\"토요일\")"
   ]
  },
  {
   "cell_type": "code",
   "execution_count": 16,
   "metadata": {},
   "outputs": [
    {
     "ename": "StaleElementReferenceException",
     "evalue": "Message: stale element reference: stale element not found\n  (Session info: chrome=123.0.6312.124); For documentation on this error, please visit: https://www.selenium.dev/documentation/webdriver/troubleshooting/errors#stale-element-reference-exception\nStacktrace:\n0   chromedriver                        0x00000001007b44a4 chromedriver + 4326564\n1   chromedriver                        0x00000001007ac96c chromedriver + 4295020\n2   chromedriver                        0x00000001003d8088 chromedriver + 278664\n3   chromedriver                        0x00000001003e5db8 chromedriver + 335288\n4   chromedriver                        0x00000001003dd370 chromedriver + 299888\n5   chromedriver                        0x00000001003dbc14 chromedriver + 293908\n6   chromedriver                        0x00000001003de428 chromedriver + 304168\n7   chromedriver                        0x00000001003de4a0 chromedriver + 304288\n8   chromedriver                        0x000000010041b6e4 chromedriver + 554724\n9   chromedriver                        0x000000010041b794 chromedriver + 554900\n10  chromedriver                        0x0000000100413714 chromedriver + 522004\n11  chromedriver                        0x0000000100410dd0 chromedriver + 511440\n12  chromedriver                        0x00000001004534f8 chromedriver + 783608\n13  chromedriver                        0x000000010040f4e4 chromedriver + 505060\n14  chromedriver                        0x000000010040ff5c chromedriver + 507740\n15  chromedriver                        0x0000000100777a40 chromedriver + 4078144\n16  chromedriver                        0x000000010077c7f8 chromedriver + 4098040\n17  chromedriver                        0x000000010075e5e4 chromedriver + 3974628\n18  chromedriver                        0x000000010077d110 chromedriver + 4100368\n19  chromedriver                        0x000000010074fbd4 chromedriver + 3914708\n20  chromedriver                        0x000000010079d718 chromedriver + 4232984\n21  chromedriver                        0x000000010079d894 chromedriver + 4233364\n22  chromedriver                        0x00000001007ac5e0 chromedriver + 4294112\n23  libsystem_pthread.dylib             0x000000018c89e034 _pthread_start + 136\n24  libsystem_pthread.dylib             0x000000018c898e3c thread_start + 8\n",
     "output_type": "error",
     "traceback": [
      "\u001b[0;31m---------------------------------------------------------------------------\u001b[0m",
      "\u001b[0;31mStaleElementReferenceException\u001b[0m            Traceback (most recent call last)",
      "Cell \u001b[0;32mIn[16], line 2\u001b[0m\n\u001b[1;32m      1\u001b[0m \u001b[38;5;66;03m# element에서 키보드의 ENTER 이벤트를 발생 \u001b[39;00m\n\u001b[0;32m----> 2\u001b[0m \u001b[43melement\u001b[49m\u001b[38;5;241;43m.\u001b[39;49m\u001b[43msend_keys\u001b[49m\u001b[43m(\u001b[49m\u001b[43mKeys\u001b[49m\u001b[38;5;241;43m.\u001b[39;49m\u001b[43mENTER\u001b[49m\u001b[43m)\u001b[49m\n",
      "File \u001b[0;32m/opt/homebrew/lib/python3.12/site-packages/selenium/webdriver/remote/webelement.py:231\u001b[0m, in \u001b[0;36mWebElement.send_keys\u001b[0;34m(self, *value)\u001b[0m\n\u001b[1;32m    228\u001b[0m             remote_files\u001b[38;5;241m.\u001b[39mappend(\u001b[38;5;28mself\u001b[39m\u001b[38;5;241m.\u001b[39m_upload(file))\n\u001b[1;32m    229\u001b[0m         value \u001b[38;5;241m=\u001b[39m \u001b[38;5;124m\"\u001b[39m\u001b[38;5;130;01m\\n\u001b[39;00m\u001b[38;5;124m\"\u001b[39m\u001b[38;5;241m.\u001b[39mjoin(remote_files)\n\u001b[0;32m--> 231\u001b[0m \u001b[38;5;28;43mself\u001b[39;49m\u001b[38;5;241;43m.\u001b[39;49m\u001b[43m_execute\u001b[49m\u001b[43m(\u001b[49m\n\u001b[1;32m    232\u001b[0m \u001b[43m    \u001b[49m\u001b[43mCommand\u001b[49m\u001b[38;5;241;43m.\u001b[39;49m\u001b[43mSEND_KEYS_TO_ELEMENT\u001b[49m\u001b[43m,\u001b[49m\u001b[43m \u001b[49m\u001b[43m{\u001b[49m\u001b[38;5;124;43m\"\u001b[39;49m\u001b[38;5;124;43mtext\u001b[39;49m\u001b[38;5;124;43m\"\u001b[39;49m\u001b[43m:\u001b[49m\u001b[43m \u001b[49m\u001b[38;5;124;43m\"\u001b[39;49m\u001b[38;5;124;43m\"\u001b[39;49m\u001b[38;5;241;43m.\u001b[39;49m\u001b[43mjoin\u001b[49m\u001b[43m(\u001b[49m\u001b[43mkeys_to_typing\u001b[49m\u001b[43m(\u001b[49m\u001b[43mvalue\u001b[49m\u001b[43m)\u001b[49m\u001b[43m)\u001b[49m\u001b[43m,\u001b[49m\u001b[43m \u001b[49m\u001b[38;5;124;43m\"\u001b[39;49m\u001b[38;5;124;43mvalue\u001b[39;49m\u001b[38;5;124;43m\"\u001b[39;49m\u001b[43m:\u001b[49m\u001b[43m \u001b[49m\u001b[43mkeys_to_typing\u001b[49m\u001b[43m(\u001b[49m\u001b[43mvalue\u001b[49m\u001b[43m)\u001b[49m\u001b[43m}\u001b[49m\n\u001b[1;32m    233\u001b[0m \u001b[43m\u001b[49m\u001b[43m)\u001b[49m\n",
      "File \u001b[0;32m/opt/homebrew/lib/python3.12/site-packages/selenium/webdriver/remote/webelement.py:395\u001b[0m, in \u001b[0;36mWebElement._execute\u001b[0;34m(self, command, params)\u001b[0m\n\u001b[1;32m    393\u001b[0m     params \u001b[38;5;241m=\u001b[39m {}\n\u001b[1;32m    394\u001b[0m params[\u001b[38;5;124m\"\u001b[39m\u001b[38;5;124mid\u001b[39m\u001b[38;5;124m\"\u001b[39m] \u001b[38;5;241m=\u001b[39m \u001b[38;5;28mself\u001b[39m\u001b[38;5;241m.\u001b[39m_id\n\u001b[0;32m--> 395\u001b[0m \u001b[38;5;28;01mreturn\u001b[39;00m \u001b[38;5;28;43mself\u001b[39;49m\u001b[38;5;241;43m.\u001b[39;49m\u001b[43m_parent\u001b[49m\u001b[38;5;241;43m.\u001b[39;49m\u001b[43mexecute\u001b[49m\u001b[43m(\u001b[49m\u001b[43mcommand\u001b[49m\u001b[43m,\u001b[49m\u001b[43m \u001b[49m\u001b[43mparams\u001b[49m\u001b[43m)\u001b[49m\n",
      "File \u001b[0;32m/opt/homebrew/lib/python3.12/site-packages/selenium/webdriver/remote/webdriver.py:347\u001b[0m, in \u001b[0;36mWebDriver.execute\u001b[0;34m(self, driver_command, params)\u001b[0m\n\u001b[1;32m    345\u001b[0m response \u001b[38;5;241m=\u001b[39m \u001b[38;5;28mself\u001b[39m\u001b[38;5;241m.\u001b[39mcommand_executor\u001b[38;5;241m.\u001b[39mexecute(driver_command, params)\n\u001b[1;32m    346\u001b[0m \u001b[38;5;28;01mif\u001b[39;00m response:\n\u001b[0;32m--> 347\u001b[0m     \u001b[38;5;28;43mself\u001b[39;49m\u001b[38;5;241;43m.\u001b[39;49m\u001b[43merror_handler\u001b[49m\u001b[38;5;241;43m.\u001b[39;49m\u001b[43mcheck_response\u001b[49m\u001b[43m(\u001b[49m\u001b[43mresponse\u001b[49m\u001b[43m)\u001b[49m\n\u001b[1;32m    348\u001b[0m     response[\u001b[38;5;124m\"\u001b[39m\u001b[38;5;124mvalue\u001b[39m\u001b[38;5;124m\"\u001b[39m] \u001b[38;5;241m=\u001b[39m \u001b[38;5;28mself\u001b[39m\u001b[38;5;241m.\u001b[39m_unwrap_value(response\u001b[38;5;241m.\u001b[39mget(\u001b[38;5;124m\"\u001b[39m\u001b[38;5;124mvalue\u001b[39m\u001b[38;5;124m\"\u001b[39m, \u001b[38;5;28;01mNone\u001b[39;00m))\n\u001b[1;32m    349\u001b[0m     \u001b[38;5;28;01mreturn\u001b[39;00m response\n",
      "File \u001b[0;32m/opt/homebrew/lib/python3.12/site-packages/selenium/webdriver/remote/errorhandler.py:229\u001b[0m, in \u001b[0;36mErrorHandler.check_response\u001b[0;34m(self, response)\u001b[0m\n\u001b[1;32m    227\u001b[0m         alert_text \u001b[38;5;241m=\u001b[39m value[\u001b[38;5;124m\"\u001b[39m\u001b[38;5;124malert\u001b[39m\u001b[38;5;124m\"\u001b[39m]\u001b[38;5;241m.\u001b[39mget(\u001b[38;5;124m\"\u001b[39m\u001b[38;5;124mtext\u001b[39m\u001b[38;5;124m\"\u001b[39m)\n\u001b[1;32m    228\u001b[0m     \u001b[38;5;28;01mraise\u001b[39;00m exception_class(message, screen, stacktrace, alert_text)  \u001b[38;5;66;03m# type: ignore[call-arg]  # mypy is not smart enough here\u001b[39;00m\n\u001b[0;32m--> 229\u001b[0m \u001b[38;5;28;01mraise\u001b[39;00m exception_class(message, screen, stacktrace)\n",
      "\u001b[0;31mStaleElementReferenceException\u001b[0m: Message: stale element reference: stale element not found\n  (Session info: chrome=123.0.6312.124); For documentation on this error, please visit: https://www.selenium.dev/documentation/webdriver/troubleshooting/errors#stale-element-reference-exception\nStacktrace:\n0   chromedriver                        0x00000001007b44a4 chromedriver + 4326564\n1   chromedriver                        0x00000001007ac96c chromedriver + 4295020\n2   chromedriver                        0x00000001003d8088 chromedriver + 278664\n3   chromedriver                        0x00000001003e5db8 chromedriver + 335288\n4   chromedriver                        0x00000001003dd370 chromedriver + 299888\n5   chromedriver                        0x00000001003dbc14 chromedriver + 293908\n6   chromedriver                        0x00000001003de428 chromedriver + 304168\n7   chromedriver                        0x00000001003de4a0 chromedriver + 304288\n8   chromedriver                        0x000000010041b6e4 chromedriver + 554724\n9   chromedriver                        0x000000010041b794 chromedriver + 554900\n10  chromedriver                        0x0000000100413714 chromedriver + 522004\n11  chromedriver                        0x0000000100410dd0 chromedriver + 511440\n12  chromedriver                        0x00000001004534f8 chromedriver + 783608\n13  chromedriver                        0x000000010040f4e4 chromedriver + 505060\n14  chromedriver                        0x000000010040ff5c chromedriver + 507740\n15  chromedriver                        0x0000000100777a40 chromedriver + 4078144\n16  chromedriver                        0x000000010077c7f8 chromedriver + 4098040\n17  chromedriver                        0x000000010075e5e4 chromedriver + 3974628\n18  chromedriver                        0x000000010077d110 chromedriver + 4100368\n19  chromedriver                        0x000000010074fbd4 chromedriver + 3914708\n20  chromedriver                        0x000000010079d718 chromedriver + 4232984\n21  chromedriver                        0x000000010079d894 chromedriver + 4233364\n22  chromedriver                        0x00000001007ac5e0 chromedriver + 4294112\n23  libsystem_pthread.dylib             0x000000018c89e034 _pthread_start + 136\n24  libsystem_pthread.dylib             0x000000018c898e3c thread_start + 8\n"
     ]
    }
   ],
   "source": [
    "# element에서 키보드의 ENTER 이벤트를 발생 \n",
    "element.send_keys(Keys.ENTER)\n"
   ]
  },
  {
   "cell_type": "code",
   "execution_count": 19,
   "metadata": {},
   "outputs": [],
   "source": [
    "# class가 link_tit인 태그를 검색\n",
    "len(driver.find_elements(By.CLASS_NAME, 'link_tit'))\n",
    "links = driver.find_elements(By.CLASS_NAME, 'link_tit')\n"
   ]
  },
  {
   "cell_type": "code",
   "execution_count": 20,
   "metadata": {},
   "outputs": [],
   "source": [
    "# 특정 태그를 클릭 이벤트 발생\n",
    "links[0].click()\n"
   ]
  },
  {
   "cell_type": "code",
   "execution_count": 21,
   "metadata": {},
   "outputs": [],
   "source": [
    "# 웹 브라우져에 있는 HTML 문서를 출력\n",
    "driver.page_source  # 문자열\n",
    "## BeatifulSoup을 로드 \n",
    "from bs4 import BeautifulSoup as bs\n"
   ]
  },
  {
   "cell_type": "code",
   "execution_count": 22,
   "metadata": {},
   "outputs": [
    {
     "data": {
      "text/plain": [
       "<title>토요일 : 네이버 통합검색</title>"
      ]
     },
     "execution_count": 22,
     "metadata": {},
     "output_type": "execute_result"
    }
   ],
   "source": [
    "## HTML 문서를 parsing\n",
    "soup = bs(driver.page_source, 'html.parser')\n",
    "soup.find('title')\n"
   ]
  },
  {
   "cell_type": "code",
   "execution_count": 23,
   "metadata": {},
   "outputs": [
    {
     "data": {
      "text/plain": [
       "['8DCE134A1B5612D90D46FF46EC42094B',\n",
       " 'BC902D912540D7DB3ADBB7E45FBFB479',\n",
       " 'C35241A8E1E4F486848D838BE594913E',\n",
       " 'F555F37CCA85194E7BC2E8FB95D86FEC']"
      ]
     },
     "execution_count": 23,
     "metadata": {},
     "output_type": "execute_result"
    }
   ],
   "source": [
    "## 웹 브라우져의 탭의 정보를 출력 \n",
    "driver.window_handles\n"
   ]
  },
  {
   "cell_type": "code",
   "execution_count": 24,
   "metadata": {},
   "outputs": [
    {
     "data": {
      "text/plain": [
       "<title>토요일 - 위키백과, 우리 모두의 백과사전</title>"
      ]
     },
     "execution_count": 24,
     "metadata": {},
     "output_type": "execute_result"
    }
   ],
   "source": [
    "## driver에서 탭을 이동\n",
    "driver.switch_to.window(driver.window_handles[1])\n",
    "soup2 = bs(driver.page_source, 'html.parser')\n",
    "soup2.find('title')\n"
   ]
  },
  {
   "cell_type": "code",
   "execution_count": 25,
   "metadata": {},
   "outputs": [],
   "source": [
    "# soup2에서 div태그중 id가 'mw-content-text' 태그를 추출 \n",
    "div_data = soup2.find('div', attrs={\n",
    "    'id' : 'mw-content-text'\n",
    "})\n"
   ]
  },
  {
   "cell_type": "code",
   "execution_count": 26,
   "metadata": {},
   "outputs": [
    {
     "data": {
      "text/plain": [
       "[<p><span class=\"nowrap\"></span>\n",
       " </p>,\n",
       " <p><b>토요일</b>(土曜日)은 금요일 뒤의 날, 일요일 앞의 날이다. 토요일은 대부분의 서방 국가에서 <a href=\"/wiki/%EC%A3%BC%EB%A7%90\" title=\"주말\">주말</a>의 일부로 취급한다.\n",
       " </p>,\n",
       " <p>일부 <a href=\"/wiki/%EA%B2%8C%EB%A5%B4%EB%A7%8C%EC%96%B4%ED%8C%8C\" title=\"게르만어파\">게르만어파</a> 언어에서 토요일은 '<a href=\"/wiki/%EC%82%AC%ED%88%AC%EB%A5%B4%EB%88%84%EC%8A%A4\" title=\"사투르누스\">사투르누스</a>의 날'(<span style=\"font-size: smaller;\"><a href=\"/wiki/%EC%98%81%EC%96%B4\" title=\"영어\">영어</a>: </span><span lang=\"en\">Saturday</span>, <span style=\"font-size: smaller;\"><a href=\"/wiki/%EB%84%A4%EB%8D%9C%EB%9E%80%EB%93%9C%EC%96%B4\" title=\"네덜란드어\">네덜란드어</a>: </span><span lang=\"nl\">Zaterdag</span>)을 어원으로 하고 있는데, 사투르누스는 <a href=\"/wiki/%ED%86%A0%EC%84%B1\" title=\"토성\">토성</a>을 상징하는 신이므로, <a href=\"/wiki/%EB%8C%80%ED%95%9C%EB%AF%BC%EA%B5%AD\" title=\"대한민국\">대한민국</a>과 <a href=\"/wiki/%EC%9D%BC%EB%B3%B8\" title=\"일본\">일본</a>에서는 '토요일'로 불린다. 나머지 대부분의 경우 <a class=\"mw-redirect\" href=\"/wiki/%EB%B6%81%EA%B2%8C%EB%A5%B4%EB%A7%8C%EC%96%B4\" title=\"북게르만어\">북게르만어</a> 즉 <a href=\"/wiki/%EB%85%B8%EB%A5%B4%EB%A7%8C%EC%96%B4\" title=\"노르만어\">노르만어</a> 위주로는 lördag이라고 한다. 그러나 게르만어의 중심인 독일어는 Samstag[zámsta:k]라고 다르게 부른다. 잠(Sam)이라는 위인/신이 있는가 혹은 아래 라틴어파 sabato 특히 불어를 접해 들어온 것이 아닐까 하는 의견이 있다.\n",
       " </p>,\n",
       " <p>남부 유럽 언어 및 동남아 언어에서 '토요일'이란 낱말은 <a href=\"/wiki/%EC%95%88%EC%8B%9D%EC%9D%BC\" title=\"안식일\">안식일</a>(샤밭)을 어원으로 하고 있다. 그 예로는 <a href=\"/wiki/%EA%B7%B8%EB%A6%AC%EC%8A%A4%EC%96%B4\" title=\"그리스어\">그리스어</a> <span lang=\"el\">Σάββατο</span>, <a href=\"/wiki/%EC%9D%B4%ED%83%88%EB%A6%AC%EC%95%84%EC%96%B4\" title=\"이탈리아어\">이탈리아어</a> <span lang=\"it\">sabato</span>, <a href=\"/wiki/%EC%9D%B8%EB%8F%84%EB%84%A4%EC%8B%9C%EC%95%84%EC%96%B4\" title=\"인도네시아어\">인도네시아어</a> <span lang=\"id\">sabtu</span> 등이 있다.\n",
       " </p>]"
      ]
     },
     "execution_count": 26,
     "metadata": {},
     "output_type": "execute_result"
    }
   ],
   "source": [
    "# div_data에서 p태그의 개수를 확인 \n",
    "len(div_data.find_all('p'))\n",
    "p_list = div_data.find_all('p')\n",
    "p_list\n"
   ]
  },
  {
   "cell_type": "code",
   "execution_count": 50,
   "metadata": {},
   "outputs": [
    {
     "data": {
      "text/plain": [
       "['토요일(土曜日)은 금요일 뒤의 날, 일요일 앞의 날이다. 토요일은 대부분의 서방 국가에서 주말의 일부로 취급한다.',\n",
       " \"일부 게르만어파 언어에서 토요일은 '사투르누스의 날'(영어: Saturday, 네덜란드어: Zaterdag)을 어원으로 하고 있는데, 사투르누스는 토성을 상징하는 신이므로, 대한민국과 일본에서는 '토요일'로 불린다. 나머지 대부분의 경우 북게르만어 즉 노르만어 위주로는 lördag이라고 한다. 그러나 게르만어의 중심인 독일어는 Samstag[zámsta:k]라고 다르게 부른다. 잠(Sam)이라는 위인/신이 있는가 혹은 아래 라틴어파 sabato 특히 불어를 접해 들어온 것이 아닐까 하는 의견이 있다.\",\n",
       " \"남부 유럽 언어 및 동남아 언어에서 '토요일'이란 낱말은 안식일(샤밭)을 어원으로 하고 있다. 그 예로는 그리스어 Σάββατο, 이탈리아어 sabato, 인도네시아어 sabtu 등이 있다.\"]"
      ]
     },
     "execution_count": 50,
     "metadata": {},
     "output_type": "execute_result"
    }
   ],
   "source": [
    "## p_list에서 각각의 원소에서 텍스트를 추출하여 새로운 리스트에 추가 \n",
    "## 만약에 텍스트가 존재하지 않는다면 추가하지 않는다. \n",
    "_val = []\n",
    "\n",
    "for p in p_list:\n",
    "    # print(p.get_text(strip=True))\n",
    "    data = p.get_text().strip()\n",
    "    if len(data) != 0:\n",
    "        _val.append(data)\n",
    "_val"
   ]
  },
  {
   "cell_type": "code",
   "execution_count": 56,
   "metadata": {},
   "outputs": [
    {
     "data": {
      "text/plain": [
       "[\"중국에서는 토요일을 한 주의 여섯째 날이라는 의미로 '星期六'이라고 한다.\",\n",
       " \"이란에서는 일반적인 요일을 뜻하는 샴베(شنبه)라고 부른다. 이란은 이슬람교를 믿는 국가이므로, 토요일이 한 주의 첫번째 날이다. 당나라 대의 점성술 서적인 수요경에서는 토요일을 '흡삼물(翕森勿)'이라고 했다고 했는데, 이는 7번째 날이라는 것을 뜻한다.\",\n",
       " '대한민국의 초·중·고등학교는 2012학년도부터 주5일제를 전면 실시하여 토요일에 등교를 하지 않게 되었다.\\n대한민국의 기업체에서는 2005년 1월 1일부터 주5일제를 적용하면서 토요일에는 근무하지 않게 되었다. 공식적으로는 토요일에 휴무지만 일부 중소기업 등에서는 토요일에도 사실상 근무한다.\\n일본에서는 1월 14일 이후 첫 토요일에 센터시험의 지리역사•공민, 국어, 외국어 시험을 본다.\\n2009-10시즌부터 UEFA 챔피언스리그와 UEFA 유로파리그의 결승전이 토요일에 열린다.\\n프리미어리그 등 프로 축구 리그는 대체로 토요일에 경기를 한다.\\n중화인민공화국이나 헝가리는 공휴일이 화요일이나 목요일이면 연휴를 만들고 직전 토요일을 평일로 한다.']"
      ]
     },
     "execution_count": 56,
     "metadata": {},
     "output_type": "execute_result"
    }
   ],
   "source": [
    "# version 1\n",
    "ul_data = div_data.find_all('ul')\n",
    "for i in range(3):\n",
    "    _val.append(ul_data[i].get_text().strip())\n",
    "_val\n",
    "\n",
    "li = []\n",
    "#version 2\n",
    "for data in ul_data[:3]:\n",
    "    li.append(data.get_text().strip())\n",
    "li"
   ]
  },
  {
   "cell_type": "code",
   "execution_count": 58,
   "metadata": {},
   "outputs": [
    {
     "name": "stdout",
     "output_type": "stream",
     "text": [
      "0\n",
      "0\n",
      "0\n"
     ]
    }
   ],
   "source": [
    "## div_data에서 ul태그를 모두 찾는다.\n",
    "j =[]\n",
    "for i in range(3):\n",
    "    ul_list = ul_data[i]\n",
    "    li_list = ul_list.find_all('il')\n",
    "    print(len(li_list))\n",
    "    for li in li_list:\n",
    "        j.append(li.get_text())"
   ]
  },
  {
   "cell_type": "code",
   "execution_count": 62,
   "metadata": {},
   "outputs": [
    {
     "data": {
      "text/plain": [
       "[<ul><li><a href=\"/wiki/%EC%A4%91%EA%B5%AD\" title=\"중국\">중국</a>에서는 토요일을 한 주의 여섯째 날이라는 의미로 '星期六'이라고 한다.</li></ul>,\n",
       " <ul><li><a href=\"/wiki/%EC%9D%B4%EB%9E%80\" title=\"이란\">이란</a>에서는 일반적인 요일을 뜻하는 샴베(شنبه)라고 부른다. 이란은 이슬람교를 믿는 국가이므로, 토요일이 한 주의 첫번째 날이다. <a href=\"/wiki/%EB%8B%B9%EB%82%98%EB%9D%BC\" title=\"당나라\">당나라</a> 대의 점성술 서적인 수요경에서는 토요일을 '흡삼물(翕森勿)'이라고 했다고 했는데, 이는 7번째 날이라는 것을 뜻한다.</li></ul>,\n",
       " <ul><li><a href=\"/wiki/%EB%8C%80%ED%95%9C%EB%AF%BC%EA%B5%AD\" title=\"대한민국\">대한민국</a>의 초·중·고등학교는 2012학년도부터 주5일제를 전면 실시하여 토요일에 등교를 하지 않게 되었다.</li>\n",
       " <li><a href=\"/wiki/%EB%8C%80%ED%95%9C%EB%AF%BC%EA%B5%AD\" title=\"대한민국\">대한민국</a>의 기업체에서는 <a href=\"/wiki/2005%EB%85%84\" title=\"2005년\">2005년</a> <a href=\"/wiki/1%EC%9B%94_1%EC%9D%BC\" title=\"1월 1일\">1월 1일</a>부터 주5일제를 적용하면서 토요일에는 근무하지 않게 되었다. 공식적으로는 토요일에 휴무지만 일부 중소기업 등에서는 토요일에도 사실상 근무한다.</li>\n",
       " <li><a href=\"/wiki/%EC%9D%BC%EB%B3%B8\" title=\"일본\">일본</a>에서는 1월 14일 이후 첫 토요일에 <a class=\"mw-redirect\" href=\"/wiki/%EC%84%BC%ED%84%B0%EC%8B%9C%ED%97%98\" title=\"센터시험\">센터시험</a>의 지리역사•공민, 국어, 외국어 시험을 본다.</li>\n",
       " <li>2009-10시즌부터 <a href=\"/wiki/UEFA_%EC%B1%94%ED%94%BC%EC%96%B8%EC%8A%A4%EB%A6%AC%EA%B7%B8\" title=\"UEFA 챔피언스리그\">UEFA 챔피언스리그</a>와 <a href=\"/wiki/UEFA_%EC%9C%A0%EB%A1%9C%ED%8C%8C%EB%A6%AC%EA%B7%B8\" title=\"UEFA 유로파리그\">UEFA 유로파리그</a>의 결승전이 토요일에 열린다.</li>\n",
       " <li><a href=\"/wiki/%ED%94%84%EB%A6%AC%EB%AF%B8%EC%96%B4%EB%A6%AC%EA%B7%B8\" title=\"프리미어리그\">프리미어리그</a> 등 프로 축구 리그는 대체로 토요일에 경기를 한다.</li>\n",
       " <li><a href=\"/wiki/%EC%A4%91%ED%99%94%EC%9D%B8%EB%AF%BC%EA%B3%B5%ED%99%94%EA%B5%AD\" title=\"중화인민공화국\">중화인민공화국</a>이나 <a href=\"/wiki/%ED%97%9D%EA%B0%80%EB%A6%AC\" title=\"헝가리\">헝가리</a>는 공휴일이 <a href=\"/wiki/%ED%99%94%EC%9A%94%EC%9D%BC\" title=\"화요일\">화요일</a>이나 <a href=\"/wiki/%EB%AA%A9%EC%9A%94%EC%9D%BC\" title=\"목요일\">목요일</a>이면 연휴를 만들고 직전 토요일을 평일로 한다.</li></ul>,\n",
       " <ul><li><a href=\"/wiki/%ED%86%A0%EC%9A%94%EC%9D%BC%EB%A1%9C_%EC%8B%9C%EC%9E%91%ED%95%98%EB%8A%94_%ED%8F%89%EB%85%84\" title=\"토요일로 시작하는 평년\">토요일로 시작하는 평년</a></li>\n",
       " <li><a href=\"/wiki/%ED%86%A0%EC%9A%94%EC%9D%BC%EB%A1%9C_%EC%8B%9C%EC%9E%91%ED%95%98%EB%8A%94_%EC%9C%A4%EB%85%84\" title=\"토요일로 시작하는 윤년\">토요일로 시작하는 윤년</a></li></ul>,\n",
       " <ul><li><span class=\"uid\"><abbr title=\"Samstag\"><a class=\"external text\" href=\"https://d-nb.info/gnd/4275830-0\" rel=\"nofollow\">독일</a></abbr></span></li>\n",
       " <li><span class=\"uid\"><a class=\"external text\" href=\"http://uli.nli.org.il/F/?func=find-b&amp;local_base=NLX10&amp;find_code=UID&amp;request=987007548640705171\" rel=\"nofollow\">이스라엘</a></span></li></ul>]"
      ]
     },
     "execution_count": 62,
     "metadata": {},
     "output_type": "execute_result"
    }
   ],
   "source": [
    "ul_data"
   ]
  },
  {
   "cell_type": "code",
   "execution_count": null,
   "metadata": {},
   "outputs": [],
   "source": []
  }
 ],
 "metadata": {
  "kernelspec": {
   "display_name": "Python 3",
   "language": "python",
   "name": "python3"
  },
  "language_info": {
   "codemirror_mode": {
    "name": "ipython",
    "version": 3
   },
   "file_extension": ".py",
   "mimetype": "text/x-python",
   "name": "python",
   "nbconvert_exporter": "python",
   "pygments_lexer": "ipython3",
   "version": "3.9.7"
  }
 },
 "nbformat": 4,
 "nbformat_minor": 2
}
