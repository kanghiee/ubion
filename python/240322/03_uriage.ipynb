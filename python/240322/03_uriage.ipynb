{
 "cells": [
  {
   "cell_type": "code",
   "execution_count": 1,
   "metadata": {},
   "outputs": [],
   "source": [
    "import pandas as pd"
   ]
  },
  {
   "cell_type": "code",
   "execution_count": 2,
   "metadata": {},
   "outputs": [],
   "source": [
    "df = pd.read_csv('../csv/uriage.csv')"
   ]
  },
  {
   "cell_type": "code",
   "execution_count": 3,
   "metadata": {},
   "outputs": [
    {
     "data": {
      "text/html": [
       "<div>\n",
       "<style scoped>\n",
       "    .dataframe tbody tr th:only-of-type {\n",
       "        vertical-align: middle;\n",
       "    }\n",
       "\n",
       "    .dataframe tbody tr th {\n",
       "        vertical-align: top;\n",
       "    }\n",
       "\n",
       "    .dataframe thead th {\n",
       "        text-align: right;\n",
       "    }\n",
       "</style>\n",
       "<table border=\"1\" class=\"dataframe\">\n",
       "  <thead>\n",
       "    <tr style=\"text-align: right;\">\n",
       "      <th></th>\n",
       "      <th>purchase_date</th>\n",
       "      <th>item_name</th>\n",
       "      <th>item_price</th>\n",
       "      <th>customer_name</th>\n",
       "    </tr>\n",
       "  </thead>\n",
       "  <tbody>\n",
       "    <tr>\n",
       "      <th>0</th>\n",
       "      <td>2019-06-13 18:02</td>\n",
       "      <td>상품A</td>\n",
       "      <td>100.0</td>\n",
       "      <td>김가온</td>\n",
       "    </tr>\n",
       "    <tr>\n",
       "      <th>1</th>\n",
       "      <td>2019-07-13 13:05</td>\n",
       "      <td>상 품 S</td>\n",
       "      <td>NaN</td>\n",
       "      <td>김우찬</td>\n",
       "    </tr>\n",
       "    <tr>\n",
       "      <th>2</th>\n",
       "      <td>2019-05-11 19:42</td>\n",
       "      <td>상 품 a</td>\n",
       "      <td>NaN</td>\n",
       "      <td>김유찬</td>\n",
       "    </tr>\n",
       "    <tr>\n",
       "      <th>3</th>\n",
       "      <td>2019-02-12 23:40</td>\n",
       "      <td>상품Z</td>\n",
       "      <td>2600.0</td>\n",
       "      <td>김재현</td>\n",
       "    </tr>\n",
       "    <tr>\n",
       "      <th>4</th>\n",
       "      <td>2019-04-22 3:09</td>\n",
       "      <td>상품a</td>\n",
       "      <td>NaN</td>\n",
       "      <td>김강현</td>\n",
       "    </tr>\n",
       "    <tr>\n",
       "      <th>5</th>\n",
       "      <td>2019-03-20 19:16</td>\n",
       "      <td>상품S</td>\n",
       "      <td>1900.0</td>\n",
       "      <td>김우진</td>\n",
       "    </tr>\n",
       "    <tr>\n",
       "      <th>6</th>\n",
       "      <td>2019-05-18 19:16</td>\n",
       "      <td>상품 a</td>\n",
       "      <td>NaN</td>\n",
       "      <td>김재준</td>\n",
       "    </tr>\n",
       "    <tr>\n",
       "      <th>7</th>\n",
       "      <td>2019-04-18 0:14</td>\n",
       "      <td>상품V</td>\n",
       "      <td>2200.0</td>\n",
       "      <td>김민혁</td>\n",
       "    </tr>\n",
       "    <tr>\n",
       "      <th>8</th>\n",
       "      <td>2019-01-10 15:51</td>\n",
       "      <td>상품O</td>\n",
       "      <td>1500.0</td>\n",
       "      <td>김선우</td>\n",
       "    </tr>\n",
       "    <tr>\n",
       "      <th>9</th>\n",
       "      <td>2019-01-28 10:47</td>\n",
       "      <td>상품A</td>\n",
       "      <td>100.0</td>\n",
       "      <td>김태윤</td>\n",
       "    </tr>\n",
       "  </tbody>\n",
       "</table>\n",
       "</div>"
      ],
      "text/plain": [
       "      purchase_date item_name  item_price customer_name\n",
       "0  2019-06-13 18:02       상품A       100.0           김가온\n",
       "1  2019-07-13 13:05     상 품 S         NaN           김우찬\n",
       "2  2019-05-11 19:42     상 품 a         NaN           김유찬\n",
       "3  2019-02-12 23:40       상품Z      2600.0           김재현\n",
       "4   2019-04-22 3:09       상품a         NaN           김강현\n",
       "5  2019-03-20 19:16       상품S      1900.0           김우진\n",
       "6  2019-05-18 19:16      상품 a         NaN           김재준\n",
       "7   2019-04-18 0:14       상품V      2200.0           김민혁\n",
       "8  2019-01-10 15:51       상품O      1500.0           김선우\n",
       "9  2019-01-28 10:47       상품A       100.0           김태윤"
      ]
     },
     "execution_count": 3,
     "metadata": {},
     "output_type": "execute_result"
    }
   ],
   "source": [
    "df.head(10)"
   ]
  },
  {
   "cell_type": "markdown",
   "metadata": {},
   "source": [
    "#### uriage 데이터에서 문제점\n",
    "1. item_name이 대/소문자 문제\n",
    "    - 모든 문자를 대문자(소문자) 변환\n",
    "    - upper(), lower()\n",
    "2. item_name이 공백 존재\n",
    "    - 공백을 제거\n",
    "    - strip(), replace()"
   ]
  },
  {
   "cell_type": "code",
   "execution_count": 4,
   "metadata": {},
   "outputs": [
    {
     "data": {
      "text/plain": [
       "'상 품 A'"
      ]
     },
     "execution_count": 4,
     "metadata": {},
     "output_type": "execute_result"
    }
   ],
   "source": [
    "## item_name에 문자들을 모두 대문자로 변환\n",
    "df['item_name'][2].upper()"
   ]
  },
  {
   "cell_type": "code",
   "execution_count": 5,
   "metadata": {},
   "outputs": [],
   "source": [
    "df2 = df.copy()\n"
   ]
  },
  {
   "cell_type": "code",
   "execution_count": 6,
   "metadata": {},
   "outputs": [],
   "source": [
    "## case1 (반복문을 이용)\n",
    "for i in range(len(df2)):\n",
    "    df2.loc[i,'item_name'] = df2.loc[i,'item_name'].upper()"
   ]
  },
  {
   "cell_type": "code",
   "execution_count": 7,
   "metadata": {},
   "outputs": [
    {
     "data": {
      "text/html": [
       "<div>\n",
       "<style scoped>\n",
       "    .dataframe tbody tr th:only-of-type {\n",
       "        vertical-align: middle;\n",
       "    }\n",
       "\n",
       "    .dataframe tbody tr th {\n",
       "        vertical-align: top;\n",
       "    }\n",
       "\n",
       "    .dataframe thead th {\n",
       "        text-align: right;\n",
       "    }\n",
       "</style>\n",
       "<table border=\"1\" class=\"dataframe\">\n",
       "  <thead>\n",
       "    <tr style=\"text-align: right;\">\n",
       "      <th></th>\n",
       "      <th>purchase_date</th>\n",
       "      <th>item_name</th>\n",
       "      <th>item_price</th>\n",
       "      <th>customer_name</th>\n",
       "    </tr>\n",
       "  </thead>\n",
       "  <tbody>\n",
       "    <tr>\n",
       "      <th>0</th>\n",
       "      <td>2019-06-13 18:02</td>\n",
       "      <td>상품A</td>\n",
       "      <td>100.0</td>\n",
       "      <td>김가온</td>\n",
       "    </tr>\n",
       "    <tr>\n",
       "      <th>1</th>\n",
       "      <td>2019-07-13 13:05</td>\n",
       "      <td>상 품 S</td>\n",
       "      <td>NaN</td>\n",
       "      <td>김우찬</td>\n",
       "    </tr>\n",
       "    <tr>\n",
       "      <th>2</th>\n",
       "      <td>2019-05-11 19:42</td>\n",
       "      <td>상 품 A</td>\n",
       "      <td>NaN</td>\n",
       "      <td>김유찬</td>\n",
       "    </tr>\n",
       "    <tr>\n",
       "      <th>3</th>\n",
       "      <td>2019-02-12 23:40</td>\n",
       "      <td>상품Z</td>\n",
       "      <td>2600.0</td>\n",
       "      <td>김재현</td>\n",
       "    </tr>\n",
       "    <tr>\n",
       "      <th>4</th>\n",
       "      <td>2019-04-22 3:09</td>\n",
       "      <td>상품A</td>\n",
       "      <td>NaN</td>\n",
       "      <td>김강현</td>\n",
       "    </tr>\n",
       "  </tbody>\n",
       "</table>\n",
       "</div>"
      ],
      "text/plain": [
       "      purchase_date item_name  item_price customer_name\n",
       "0  2019-06-13 18:02       상품A       100.0           김가온\n",
       "1  2019-07-13 13:05     상 품 S         NaN           김우찬\n",
       "2  2019-05-11 19:42     상 품 A         NaN           김유찬\n",
       "3  2019-02-12 23:40       상품Z      2600.0           김재현\n",
       "4   2019-04-22 3:09       상품A         NaN           김강현"
      ]
     },
     "execution_count": 7,
     "metadata": {},
     "output_type": "execute_result"
    }
   ],
   "source": [
    "df2.head()"
   ]
  },
  {
   "cell_type": "code",
   "execution_count": 8,
   "metadata": {},
   "outputs": [
    {
     "data": {
      "text/plain": [
       "[2, 3, 4, 5]"
      ]
     },
     "execution_count": 8,
     "metadata": {},
     "output_type": "execute_result"
    }
   ],
   "source": [
    "# case2 (map() -> 자료형 구조 데이터에서 \n",
    "# 각 데이터들을 하나씩 추출하여 작업(함수))\n",
    "\n",
    "## Base(python) : map(함수, 1차원 리스트명)\n",
    "_list = [1,2,3,4]\n",
    "# map(), lambda 결합\n",
    "list(map(\n",
    "    lambda x : x+1,\n",
    "    _list\n",
    "))\n",
    "# map(), 일반 함수 결합\n",
    "def change(x):\n",
    "    return x+1\n",
    "list(\n",
    "    map(\n",
    "        change,\n",
    "        _list\n",
    "    )\n",
    ")"
   ]
  },
  {
   "cell_type": "markdown",
   "metadata": {},
   "source": [
    "##### lambda 함수 \n",
    "- 일반함수는 선언 -> 호출 2가지의 과정으로 나눠지는데\n",
    "lambda 함수는 선언함과 동시에 호출\n",
    "    - lambda 매개변수명 : 실행이 될 코드\n",
    "- 일반함수로 사용을 하기에는 너무 간단한 작업은 lambda로 생성"
   ]
  },
  {
   "cell_type": "code",
   "execution_count": 9,
   "metadata": {},
   "outputs": [],
   "source": [
    "## Series에 내장된 map() 함수\n",
    "df3 = df.copy()"
   ]
  },
  {
   "cell_type": "code",
   "execution_count": 10,
   "metadata": {},
   "outputs": [
    {
     "data": {
      "text/plain": [
       "0         상품A\n",
       "1       상 품 S\n",
       "2       상 품 a\n",
       "3         상품Z\n",
       "4         상품a\n",
       "        ...  \n",
       "2994      상품Y\n",
       "2995      상품M\n",
       "2996      상품Q\n",
       "2997      상품H\n",
       "2998      상품D\n",
       "Name: item_name, Length: 2999, dtype: object"
      ]
     },
     "execution_count": 10,
     "metadata": {},
     "output_type": "execute_result"
    }
   ],
   "source": [
    "df3['item_name']"
   ]
  },
  {
   "cell_type": "code",
   "execution_count": 11,
   "metadata": {},
   "outputs": [
    {
     "data": {
      "text/plain": [
       "0         상품A\n",
       "1       상 품 S\n",
       "2       상 품 A\n",
       "3         상품Z\n",
       "4         상품A\n",
       "        ...  \n",
       "2994      상품Y\n",
       "2995      상품M\n",
       "2996      상품Q\n",
       "2997      상품H\n",
       "2998      상품D\n",
       "Name: item_name, Length: 2999, dtype: object"
      ]
     },
     "execution_count": 11,
     "metadata": {},
     "output_type": "execute_result"
    }
   ],
   "source": [
    "# map + lambda\n",
    "df3['item_name'].map(lambda x : x.upper())"
   ]
  },
  {
   "cell_type": "code",
   "execution_count": 12,
   "metadata": {},
   "outputs": [],
   "source": [
    "# map + 일반함수\n",
    "def change2(x):\n",
    "    result = x.upper()\n",
    "    return result\n"
   ]
  },
  {
   "cell_type": "code",
   "execution_count": 13,
   "metadata": {},
   "outputs": [],
   "source": [
    "df3['item_name'] = df3['item_name'].map(change2)"
   ]
  },
  {
   "cell_type": "code",
   "execution_count": 14,
   "metadata": {},
   "outputs": [
    {
     "data": {
      "text/plain": [
       "0           A\n",
       "1       상 품 S\n",
       "2       상 품 A\n",
       "3         상품Z\n",
       "4           A\n",
       "        ...  \n",
       "2994      상품Y\n",
       "2995      상품M\n",
       "2996      상품Q\n",
       "2997      상품H\n",
       "2998      상품D\n",
       "Name: item_name, Length: 2999, dtype: object"
      ]
     },
     "execution_count": 14,
     "metadata": {},
     "output_type": "execute_result"
    }
   ],
   "source": [
    "# Series에 내장된 replace()함수는 각 데이터들을 기준으로 치환하는 함수\n",
    "df2['item_name'].replace('상품A', 'A')"
   ]
  },
  {
   "cell_type": "code",
   "execution_count": 15,
   "metadata": {},
   "outputs": [
    {
     "data": {
      "text/plain": [
       "0         상품A\n",
       "1       상 품 S\n",
       "2       상 품 A\n",
       "3         상품Z\n",
       "4         상품A\n",
       "        ...  \n",
       "2994      상품Y\n",
       "2995      상품M\n",
       "2996      상품Q\n",
       "2997      상품H\n",
       "2998      상품D\n",
       "Name: item_name, Length: 2999, dtype: object"
      ]
     },
     "execution_count": 15,
     "metadata": {},
     "output_type": "execute_result"
    }
   ],
   "source": [
    "df2['item_name']"
   ]
  },
  {
   "cell_type": "code",
   "execution_count": 16,
   "metadata": {},
   "outputs": [
    {
     "name": "stderr",
     "output_type": "stream",
     "text": [
      "/var/folders/j6/txnqzgpx1wx4nmdw439z1jn80000gn/T/ipykernel_2273/1763430528.py:3: SettingWithCopyWarning: \n",
      "A value is trying to be set on a copy of a slice from a DataFrame\n",
      "\n",
      "See the caveats in the documentation: https://pandas.pydata.org/pandas-docs/stable/user_guide/indexing.html#returning-a-view-versus-a-copy\n",
      "  df2['item_name'][i] = df2['item_name'][i].replace(' ','')\n"
     ]
    },
    {
     "data": {
      "text/plain": [
       "0       상품A\n",
       "1       상품S\n",
       "2       상품A\n",
       "3       상품Z\n",
       "4       상품A\n",
       "       ... \n",
       "2994    상품Y\n",
       "2995    상품M\n",
       "2996    상품Q\n",
       "2997    상품H\n",
       "2998    상품D\n",
       "Name: item_name, Length: 2999, dtype: object"
      ]
     },
     "execution_count": 16,
     "metadata": {},
     "output_type": "execute_result"
    }
   ],
   "source": [
    "## 반복문을 이용하여 Series 안에 데이터들의 공백을 제거\n",
    "for i in range(len(df2)):\n",
    "    df2['item_name'][i] = df2['item_name'][i].replace(' ','')\n",
    "df2['item_name']"
   ]
  },
  {
   "cell_type": "code",
   "execution_count": 17,
   "metadata": {},
   "outputs": [
    {
     "data": {
      "text/plain": [
       "0       상품A\n",
       "1       상품S\n",
       "2       상품A\n",
       "3       상품Z\n",
       "4       상품A\n",
       "       ... \n",
       "2994    상품Y\n",
       "2995    상품M\n",
       "2996    상품Q\n",
       "2997    상품H\n",
       "2998    상품D\n",
       "Name: item_name, Length: 2999, dtype: object"
      ]
     },
     "execution_count": 17,
     "metadata": {},
     "output_type": "execute_result"
    }
   ],
   "source": [
    "# df3의 item_name 데이터를 map 함수를 이용하여 공백을 제거\n",
    "# map + lambda사용\n",
    "df3['item_name'].map(lambda x : x.replace(' ',''))"
   ]
  },
  {
   "cell_type": "code",
   "execution_count": 18,
   "metadata": {},
   "outputs": [
    {
     "data": {
      "text/plain": [
       "0       상품A\n",
       "1       상품S\n",
       "2       상품A\n",
       "3       상품Z\n",
       "4       상품A\n",
       "       ... \n",
       "2994    상품Y\n",
       "2995    상품M\n",
       "2996    상품Q\n",
       "2997    상품H\n",
       "2998    상품D\n",
       "Name: item_name, Length: 2999, dtype: object"
      ]
     },
     "execution_count": 18,
     "metadata": {},
     "output_type": "execute_result"
    }
   ],
   "source": [
    "# map + 일반 함수\n",
    "def change3(x):\n",
    "    result = x.replace(' ','')\n",
    "    return result\n",
    "\n",
    "df3['item_name'].map(\n",
    "    change3\n",
    ")"
   ]
  },
  {
   "cell_type": "code",
   "execution_count": 19,
   "metadata": {},
   "outputs": [],
   "source": [
    "# Series 데이터에서 문자열 함수를 호출\n",
    "df['item_name'] = df['item_name'].str.replace(' ','').str.upper()"
   ]
  },
  {
   "cell_type": "markdown",
   "metadata": {},
   "source": [
    "- 결측치를 다른 값으로 대체\n",
    "    1. 상품명에 따라 상품 가격들이 고정\n",
    "    2. 결측치를 상품명에 맞춰서 해당 상품의 결측치가 아닌 상품 가격을 결측치에 대체\n",
    "\n",
    "        - ex) 상품A인 데이터 중 item_price가 결측치가 아닌 데이터의 평균 값을 구하고 \n",
    "              해당 평균 값을 상품A인 데이터 중 item_price가 결측치인 부분에 대입"
   ]
  },
  {
   "cell_type": "code",
   "execution_count": 20,
   "metadata": {},
   "outputs": [
    {
     "data": {
      "text/html": [
       "<div>\n",
       "<style scoped>\n",
       "    .dataframe tbody tr th:only-of-type {\n",
       "        vertical-align: middle;\n",
       "    }\n",
       "\n",
       "    .dataframe tbody tr th {\n",
       "        vertical-align: top;\n",
       "    }\n",
       "\n",
       "    .dataframe thead th {\n",
       "        text-align: right;\n",
       "    }\n",
       "</style>\n",
       "<table border=\"1\" class=\"dataframe\">\n",
       "  <thead>\n",
       "    <tr style=\"text-align: right;\">\n",
       "      <th></th>\n",
       "      <th>purchase_date</th>\n",
       "      <th>item_name</th>\n",
       "      <th>item_price</th>\n",
       "      <th>customer_name</th>\n",
       "    </tr>\n",
       "  </thead>\n",
       "  <tbody>\n",
       "    <tr>\n",
       "      <th>0</th>\n",
       "      <td>2019-06-13 18:02</td>\n",
       "      <td>상품A</td>\n",
       "      <td>100.0</td>\n",
       "      <td>김가온</td>\n",
       "    </tr>\n",
       "    <tr>\n",
       "      <th>2</th>\n",
       "      <td>2019-05-11 19:42</td>\n",
       "      <td>상품A</td>\n",
       "      <td>NaN</td>\n",
       "      <td>김유찬</td>\n",
       "    </tr>\n",
       "    <tr>\n",
       "      <th>4</th>\n",
       "      <td>2019-04-22 3:09</td>\n",
       "      <td>상품A</td>\n",
       "      <td>NaN</td>\n",
       "      <td>김강현</td>\n",
       "    </tr>\n",
       "    <tr>\n",
       "      <th>6</th>\n",
       "      <td>2019-05-18 19:16</td>\n",
       "      <td>상품A</td>\n",
       "      <td>NaN</td>\n",
       "      <td>김재준</td>\n",
       "    </tr>\n",
       "    <tr>\n",
       "      <th>9</th>\n",
       "      <td>2019-01-28 10:47</td>\n",
       "      <td>상품A</td>\n",
       "      <td>100.0</td>\n",
       "      <td>김태윤</td>\n",
       "    </tr>\n",
       "    <tr>\n",
       "      <th>...</th>\n",
       "      <td>...</td>\n",
       "      <td>...</td>\n",
       "      <td>...</td>\n",
       "      <td>...</td>\n",
       "    </tr>\n",
       "    <tr>\n",
       "      <th>2875</th>\n",
       "      <td>2019-06-03 17:33</td>\n",
       "      <td>상품A</td>\n",
       "      <td>100.0</td>\n",
       "      <td>김서진</td>\n",
       "    </tr>\n",
       "    <tr>\n",
       "      <th>2886</th>\n",
       "      <td>2019-04-25 17:15</td>\n",
       "      <td>상품A</td>\n",
       "      <td>100.0</td>\n",
       "      <td>김강현</td>\n",
       "    </tr>\n",
       "    <tr>\n",
       "      <th>2897</th>\n",
       "      <td>2019-05-20 14:05</td>\n",
       "      <td>상품A</td>\n",
       "      <td>100.0</td>\n",
       "      <td>김지안</td>\n",
       "    </tr>\n",
       "    <tr>\n",
       "      <th>2951</th>\n",
       "      <td>2019-05-06 2:24</td>\n",
       "      <td>상품A</td>\n",
       "      <td>100.0</td>\n",
       "      <td>김주혁</td>\n",
       "    </tr>\n",
       "    <tr>\n",
       "      <th>2973</th>\n",
       "      <td>2019-07-13 21:38</td>\n",
       "      <td>상품A</td>\n",
       "      <td>100.0</td>\n",
       "      <td>김태윤</td>\n",
       "    </tr>\n",
       "  </tbody>\n",
       "</table>\n",
       "<p>139 rows × 4 columns</p>\n",
       "</div>"
      ],
      "text/plain": [
       "         purchase_date item_name  item_price customer_name\n",
       "0     2019-06-13 18:02       상품A       100.0           김가온\n",
       "2     2019-05-11 19:42       상품A         NaN           김유찬\n",
       "4      2019-04-22 3:09       상품A         NaN           김강현\n",
       "6     2019-05-18 19:16       상품A         NaN           김재준\n",
       "9     2019-01-28 10:47       상품A       100.0           김태윤\n",
       "...                ...       ...         ...           ...\n",
       "2875  2019-06-03 17:33       상품A       100.0           김서진\n",
       "2886  2019-04-25 17:15       상품A       100.0           김강현\n",
       "2897  2019-05-20 14:05       상품A       100.0           김지안\n",
       "2951   2019-05-06 2:24       상품A       100.0           김주혁\n",
       "2973  2019-07-13 21:38       상품A       100.0           김태윤\n",
       "\n",
       "[139 rows x 4 columns]"
      ]
     },
     "execution_count": 20,
     "metadata": {},
     "output_type": "execute_result"
    }
   ],
   "source": [
    "## 상품A인 데이터만 출력\n",
    "df2.loc[df2['item_name'] == '상품A']"
   ]
  },
  {
   "cell_type": "code",
   "execution_count": 21,
   "metadata": {},
   "outputs": [
    {
     "data": {
      "text/html": [
       "<div>\n",
       "<style scoped>\n",
       "    .dataframe tbody tr th:only-of-type {\n",
       "        vertical-align: middle;\n",
       "    }\n",
       "\n",
       "    .dataframe tbody tr th {\n",
       "        vertical-align: top;\n",
       "    }\n",
       "\n",
       "    .dataframe thead th {\n",
       "        text-align: right;\n",
       "    }\n",
       "</style>\n",
       "<table border=\"1\" class=\"dataframe\">\n",
       "  <thead>\n",
       "    <tr style=\"text-align: right;\">\n",
       "      <th></th>\n",
       "      <th>purchase_date</th>\n",
       "      <th>item_name</th>\n",
       "      <th>item_price</th>\n",
       "      <th>customer_name</th>\n",
       "    </tr>\n",
       "  </thead>\n",
       "  <tbody>\n",
       "    <tr>\n",
       "      <th>1</th>\n",
       "      <td>2019-07-13 13:05</td>\n",
       "      <td>상품S</td>\n",
       "      <td>NaN</td>\n",
       "      <td>김우찬</td>\n",
       "    </tr>\n",
       "    <tr>\n",
       "      <th>2</th>\n",
       "      <td>2019-05-11 19:42</td>\n",
       "      <td>상품A</td>\n",
       "      <td>NaN</td>\n",
       "      <td>김유찬</td>\n",
       "    </tr>\n",
       "    <tr>\n",
       "      <th>4</th>\n",
       "      <td>2019-04-22 3:09</td>\n",
       "      <td>상품A</td>\n",
       "      <td>NaN</td>\n",
       "      <td>김강현</td>\n",
       "    </tr>\n",
       "    <tr>\n",
       "      <th>6</th>\n",
       "      <td>2019-05-18 19:16</td>\n",
       "      <td>상품A</td>\n",
       "      <td>NaN</td>\n",
       "      <td>김재준</td>\n",
       "    </tr>\n",
       "    <tr>\n",
       "      <th>14</th>\n",
       "      <td>2019-06-11 12:57</td>\n",
       "      <td>상품A</td>\n",
       "      <td>NaN</td>\n",
       "      <td>김재호</td>\n",
       "    </tr>\n",
       "    <tr>\n",
       "      <th>...</th>\n",
       "      <td>...</td>\n",
       "      <td>...</td>\n",
       "      <td>...</td>\n",
       "      <td>...</td>\n",
       "    </tr>\n",
       "    <tr>\n",
       "      <th>2987</th>\n",
       "      <td>2019-01-04 13:05</td>\n",
       "      <td>상품K</td>\n",
       "      <td>NaN</td>\n",
       "      <td>김정훈</td>\n",
       "    </tr>\n",
       "    <tr>\n",
       "      <th>2990</th>\n",
       "      <td>2019-07-16 11:34</td>\n",
       "      <td>상품O</td>\n",
       "      <td>NaN</td>\n",
       "      <td>김서준</td>\n",
       "    </tr>\n",
       "    <tr>\n",
       "      <th>2992</th>\n",
       "      <td>2019-07-27 10:13</td>\n",
       "      <td>상품C</td>\n",
       "      <td>NaN</td>\n",
       "      <td>김동하</td>\n",
       "    </tr>\n",
       "    <tr>\n",
       "      <th>2996</th>\n",
       "      <td>2019-03-29 11:14</td>\n",
       "      <td>상품Q</td>\n",
       "      <td>NaN</td>\n",
       "      <td>김지율</td>\n",
       "    </tr>\n",
       "    <tr>\n",
       "      <th>2997</th>\n",
       "      <td>2019-07-14 12:56</td>\n",
       "      <td>상품H</td>\n",
       "      <td>NaN</td>\n",
       "      <td>김승주</td>\n",
       "    </tr>\n",
       "  </tbody>\n",
       "</table>\n",
       "<p>387 rows × 4 columns</p>\n",
       "</div>"
      ],
      "text/plain": [
       "         purchase_date item_name  item_price customer_name\n",
       "1     2019-07-13 13:05       상품S         NaN           김우찬\n",
       "2     2019-05-11 19:42       상품A         NaN           김유찬\n",
       "4      2019-04-22 3:09       상품A         NaN           김강현\n",
       "6     2019-05-18 19:16       상품A         NaN           김재준\n",
       "14    2019-06-11 12:57       상품A         NaN           김재호\n",
       "...                ...       ...         ...           ...\n",
       "2987  2019-01-04 13:05       상품K         NaN           김정훈\n",
       "2990  2019-07-16 11:34       상품O         NaN           김서준\n",
       "2992  2019-07-27 10:13       상품C         NaN           김동하\n",
       "2996  2019-03-29 11:14       상품Q         NaN           김지율\n",
       "2997  2019-07-14 12:56       상품H         NaN           김승주\n",
       "\n",
       "[387 rows x 4 columns]"
      ]
     },
     "execution_count": 21,
     "metadata": {},
     "output_type": "execute_result"
    }
   ],
   "source": [
    "## item_price가 결측칭딘 데이터만 출력\n",
    "import numpy as np\n",
    "# 인덱스 조건식 ( item_price가 결측치인 )\n",
    "# 결측치는 연산이 되지 않으므로 비교연산자를 사용해도 False 출력\n",
    "df2['item_price'] == np.nan\n",
    "# 결측치의 유무를 판단하는 isna() 함수를 이용\n",
    "df2.loc[df2['item_price'].isna()]"
   ]
  },
  {
   "cell_type": "code",
   "execution_count": 22,
   "metadata": {},
   "outputs": [
    {
     "data": {
      "text/html": [
       "<div>\n",
       "<style scoped>\n",
       "    .dataframe tbody tr th:only-of-type {\n",
       "        vertical-align: middle;\n",
       "    }\n",
       "\n",
       "    .dataframe tbody tr th {\n",
       "        vertical-align: top;\n",
       "    }\n",
       "\n",
       "    .dataframe thead th {\n",
       "        text-align: right;\n",
       "    }\n",
       "</style>\n",
       "<table border=\"1\" class=\"dataframe\">\n",
       "  <thead>\n",
       "    <tr style=\"text-align: right;\">\n",
       "      <th></th>\n",
       "      <th>purchase_date</th>\n",
       "      <th>item_name</th>\n",
       "      <th>item_price</th>\n",
       "      <th>customer_name</th>\n",
       "    </tr>\n",
       "  </thead>\n",
       "  <tbody>\n",
       "    <tr>\n",
       "      <th>2</th>\n",
       "      <td>2019-05-11 19:42</td>\n",
       "      <td>상품A</td>\n",
       "      <td>NaN</td>\n",
       "      <td>김유찬</td>\n",
       "    </tr>\n",
       "    <tr>\n",
       "      <th>4</th>\n",
       "      <td>2019-04-22 3:09</td>\n",
       "      <td>상품A</td>\n",
       "      <td>NaN</td>\n",
       "      <td>김강현</td>\n",
       "    </tr>\n",
       "    <tr>\n",
       "      <th>6</th>\n",
       "      <td>2019-05-18 19:16</td>\n",
       "      <td>상품A</td>\n",
       "      <td>NaN</td>\n",
       "      <td>김재준</td>\n",
       "    </tr>\n",
       "    <tr>\n",
       "      <th>14</th>\n",
       "      <td>2019-06-11 12:57</td>\n",
       "      <td>상품A</td>\n",
       "      <td>NaN</td>\n",
       "      <td>김재호</td>\n",
       "    </tr>\n",
       "    <tr>\n",
       "      <th>300</th>\n",
       "      <td>2019-04-06 11:06</td>\n",
       "      <td>상품A</td>\n",
       "      <td>NaN</td>\n",
       "      <td>김태인</td>\n",
       "    </tr>\n",
       "    <tr>\n",
       "      <th>361</th>\n",
       "      <td>2019-01-21 3:33</td>\n",
       "      <td>상품A</td>\n",
       "      <td>NaN</td>\n",
       "      <td>김진우</td>\n",
       "    </tr>\n",
       "    <tr>\n",
       "      <th>667</th>\n",
       "      <td>2019-03-16 17:23</td>\n",
       "      <td>상품A</td>\n",
       "      <td>NaN</td>\n",
       "      <td>김주원</td>\n",
       "    </tr>\n",
       "    <tr>\n",
       "      <th>838</th>\n",
       "      <td>2019-06-24 5:06</td>\n",
       "      <td>상품A</td>\n",
       "      <td>NaN</td>\n",
       "      <td>김시호</td>\n",
       "    </tr>\n",
       "    <tr>\n",
       "      <th>844</th>\n",
       "      <td>2019-03-15 9:14</td>\n",
       "      <td>상품A</td>\n",
       "      <td>NaN</td>\n",
       "      <td>김강현</td>\n",
       "    </tr>\n",
       "    <tr>\n",
       "      <th>957</th>\n",
       "      <td>2019-07-19 14:12</td>\n",
       "      <td>상품A</td>\n",
       "      <td>NaN</td>\n",
       "      <td>김서윤</td>\n",
       "    </tr>\n",
       "    <tr>\n",
       "      <th>1260</th>\n",
       "      <td>2019-01-15 22:59</td>\n",
       "      <td>상품A</td>\n",
       "      <td>NaN</td>\n",
       "      <td>김하진</td>\n",
       "    </tr>\n",
       "    <tr>\n",
       "      <th>1394</th>\n",
       "      <td>2019-07-07 21:49</td>\n",
       "      <td>상품A</td>\n",
       "      <td>NaN</td>\n",
       "      <td>김은우</td>\n",
       "    </tr>\n",
       "    <tr>\n",
       "      <th>1474</th>\n",
       "      <td>2019-04-11 2:22</td>\n",
       "      <td>상품A</td>\n",
       "      <td>NaN</td>\n",
       "      <td>김선우</td>\n",
       "    </tr>\n",
       "    <tr>\n",
       "      <th>1892</th>\n",
       "      <td>2019-07-31 1:32</td>\n",
       "      <td>상품A</td>\n",
       "      <td>NaN</td>\n",
       "      <td>김윤찬</td>\n",
       "    </tr>\n",
       "    <tr>\n",
       "      <th>1937</th>\n",
       "      <td>2019-02-13 7:28</td>\n",
       "      <td>상품A</td>\n",
       "      <td>NaN</td>\n",
       "      <td>김시환</td>\n",
       "    </tr>\n",
       "    <tr>\n",
       "      <th>1977</th>\n",
       "      <td>2019-02-28 4:11</td>\n",
       "      <td>상품A</td>\n",
       "      <td>NaN</td>\n",
       "      <td>김서준</td>\n",
       "    </tr>\n",
       "    <tr>\n",
       "      <th>2063</th>\n",
       "      <td>2019-05-25 12:51</td>\n",
       "      <td>상품A</td>\n",
       "      <td>NaN</td>\n",
       "      <td>김재민</td>\n",
       "    </tr>\n",
       "    <tr>\n",
       "      <th>2278</th>\n",
       "      <td>2019-07-14 3:39</td>\n",
       "      <td>상품A</td>\n",
       "      <td>NaN</td>\n",
       "      <td>김시우</td>\n",
       "    </tr>\n",
       "    <tr>\n",
       "      <th>2636</th>\n",
       "      <td>2019-03-09 14:20</td>\n",
       "      <td>상품A</td>\n",
       "      <td>NaN</td>\n",
       "      <td>김우찬</td>\n",
       "    </tr>\n",
       "    <tr>\n",
       "      <th>2669</th>\n",
       "      <td>2019-03-05 20:21</td>\n",
       "      <td>상품A</td>\n",
       "      <td>NaN</td>\n",
       "      <td>김주혁</td>\n",
       "    </tr>\n",
       "    <tr>\n",
       "      <th>2732</th>\n",
       "      <td>2019-01-28 22:13</td>\n",
       "      <td>상품A</td>\n",
       "      <td>NaN</td>\n",
       "      <td>김윤호</td>\n",
       "    </tr>\n",
       "    <tr>\n",
       "      <th>2821</th>\n",
       "      <td>2019-06-21 11:09</td>\n",
       "      <td>상품A</td>\n",
       "      <td>NaN</td>\n",
       "      <td>김승훈</td>\n",
       "    </tr>\n",
       "  </tbody>\n",
       "</table>\n",
       "</div>"
      ],
      "text/plain": [
       "         purchase_date item_name  item_price customer_name\n",
       "2     2019-05-11 19:42       상품A         NaN           김유찬\n",
       "4      2019-04-22 3:09       상품A         NaN           김강현\n",
       "6     2019-05-18 19:16       상품A         NaN           김재준\n",
       "14    2019-06-11 12:57       상품A         NaN           김재호\n",
       "300   2019-04-06 11:06       상품A         NaN           김태인\n",
       "361    2019-01-21 3:33       상품A         NaN           김진우\n",
       "667   2019-03-16 17:23       상품A         NaN           김주원\n",
       "838    2019-06-24 5:06       상품A         NaN           김시호\n",
       "844    2019-03-15 9:14       상품A         NaN           김강현\n",
       "957   2019-07-19 14:12       상품A         NaN           김서윤\n",
       "1260  2019-01-15 22:59       상품A         NaN           김하진\n",
       "1394  2019-07-07 21:49       상품A         NaN           김은우\n",
       "1474   2019-04-11 2:22       상품A         NaN           김선우\n",
       "1892   2019-07-31 1:32       상품A         NaN           김윤찬\n",
       "1937   2019-02-13 7:28       상품A         NaN           김시환\n",
       "1977   2019-02-28 4:11       상품A         NaN           김서준\n",
       "2063  2019-05-25 12:51       상품A         NaN           김재민\n",
       "2278   2019-07-14 3:39       상품A         NaN           김시우\n",
       "2636  2019-03-09 14:20       상품A         NaN           김우찬\n",
       "2669  2019-03-05 20:21       상품A         NaN           김주혁\n",
       "2732  2019-01-28 22:13       상품A         NaN           김윤호\n",
       "2821  2019-06-21 11:09       상품A         NaN           김승훈"
      ]
     },
     "execution_count": 22,
     "metadata": {},
     "output_type": "execute_result"
    }
   ],
   "source": [
    "## item_name이 상품A이고 item_price가 결측치인 데이터를 출력\n",
    "df2.loc[(df2['item_name']=='상품A') & (df2['item_price'].isna())]"
   ]
  },
  {
   "cell_type": "code",
   "execution_count": 23,
   "metadata": {},
   "outputs": [
    {
     "data": {
      "text/html": [
       "<div>\n",
       "<style scoped>\n",
       "    .dataframe tbody tr th:only-of-type {\n",
       "        vertical-align: middle;\n",
       "    }\n",
       "\n",
       "    .dataframe tbody tr th {\n",
       "        vertical-align: top;\n",
       "    }\n",
       "\n",
       "    .dataframe thead th {\n",
       "        text-align: right;\n",
       "    }\n",
       "</style>\n",
       "<table border=\"1\" class=\"dataframe\">\n",
       "  <thead>\n",
       "    <tr style=\"text-align: right;\">\n",
       "      <th></th>\n",
       "      <th>purchase_date</th>\n",
       "      <th>item_name</th>\n",
       "      <th>item_price</th>\n",
       "      <th>customer_name</th>\n",
       "    </tr>\n",
       "  </thead>\n",
       "  <tbody>\n",
       "    <tr>\n",
       "      <th>0</th>\n",
       "      <td>2019-06-13 18:02</td>\n",
       "      <td>상품A</td>\n",
       "      <td>100.0</td>\n",
       "      <td>김가온</td>\n",
       "    </tr>\n",
       "    <tr>\n",
       "      <th>9</th>\n",
       "      <td>2019-01-28 10:47</td>\n",
       "      <td>상품A</td>\n",
       "      <td>100.0</td>\n",
       "      <td>김태윤</td>\n",
       "    </tr>\n",
       "    <tr>\n",
       "      <th>31</th>\n",
       "      <td>2019-06-29 10:01</td>\n",
       "      <td>상품A</td>\n",
       "      <td>100.0</td>\n",
       "      <td>김하민</td>\n",
       "    </tr>\n",
       "    <tr>\n",
       "      <th>35</th>\n",
       "      <td>2019-01-12 3:26</td>\n",
       "      <td>상품A</td>\n",
       "      <td>100.0</td>\n",
       "      <td>김건희</td>\n",
       "    </tr>\n",
       "    <tr>\n",
       "      <th>61</th>\n",
       "      <td>2019-02-11 17:00</td>\n",
       "      <td>상품A</td>\n",
       "      <td>100.0</td>\n",
       "      <td>김성윤</td>\n",
       "    </tr>\n",
       "    <tr>\n",
       "      <th>...</th>\n",
       "      <td>...</td>\n",
       "      <td>...</td>\n",
       "      <td>...</td>\n",
       "      <td>...</td>\n",
       "    </tr>\n",
       "    <tr>\n",
       "      <th>2875</th>\n",
       "      <td>2019-06-03 17:33</td>\n",
       "      <td>상품A</td>\n",
       "      <td>100.0</td>\n",
       "      <td>김서진</td>\n",
       "    </tr>\n",
       "    <tr>\n",
       "      <th>2886</th>\n",
       "      <td>2019-04-25 17:15</td>\n",
       "      <td>상품A</td>\n",
       "      <td>100.0</td>\n",
       "      <td>김강현</td>\n",
       "    </tr>\n",
       "    <tr>\n",
       "      <th>2897</th>\n",
       "      <td>2019-05-20 14:05</td>\n",
       "      <td>상품A</td>\n",
       "      <td>100.0</td>\n",
       "      <td>김지안</td>\n",
       "    </tr>\n",
       "    <tr>\n",
       "      <th>2951</th>\n",
       "      <td>2019-05-06 2:24</td>\n",
       "      <td>상품A</td>\n",
       "      <td>100.0</td>\n",
       "      <td>김주혁</td>\n",
       "    </tr>\n",
       "    <tr>\n",
       "      <th>2973</th>\n",
       "      <td>2019-07-13 21:38</td>\n",
       "      <td>상품A</td>\n",
       "      <td>100.0</td>\n",
       "      <td>김태윤</td>\n",
       "    </tr>\n",
       "  </tbody>\n",
       "</table>\n",
       "<p>117 rows × 4 columns</p>\n",
       "</div>"
      ],
      "text/plain": [
       "         purchase_date item_name  item_price customer_name\n",
       "0     2019-06-13 18:02       상품A       100.0           김가온\n",
       "9     2019-01-28 10:47       상품A       100.0           김태윤\n",
       "31    2019-06-29 10:01       상품A       100.0           김하민\n",
       "35     2019-01-12 3:26       상품A       100.0           김건희\n",
       "61    2019-02-11 17:00       상품A       100.0           김성윤\n",
       "...                ...       ...         ...           ...\n",
       "2875  2019-06-03 17:33       상품A       100.0           김서진\n",
       "2886  2019-04-25 17:15       상품A       100.0           김강현\n",
       "2897  2019-05-20 14:05       상품A       100.0           김지안\n",
       "2951   2019-05-06 2:24       상품A       100.0           김주혁\n",
       "2973  2019-07-13 21:38       상품A       100.0           김태윤\n",
       "\n",
       "[117 rows x 4 columns]"
      ]
     },
     "execution_count": 23,
     "metadata": {},
     "output_type": "execute_result"
    }
   ],
   "source": [
    "## item_naem이 상품A이고 item_price가 결측치가 아닌 데이터를 출력\n",
    "df2.loc[(df2['item_name']=='상품A') & (df2['item_price'].notna())]\n",
    "\n",
    "# 비트연산자(~)\n",
    "# 2진수로 이루어진 데이터에서 0과 1을 반대로 교체\n",
    "# 인덱스의 조건식에 부정형 연산자로 사용이 가능"
   ]
  },
  {
   "cell_type": "code",
   "execution_count": 24,
   "metadata": {},
   "outputs": [],
   "source": [
    "## 상품A이고 가격이 결측치가 아닌 데이터의 평균을 구한다.\n",
    "mean_data = df2.loc[(df2['item_name']=='상품A')&(df2['item_price'].notna()),'item_price'].mean()"
   ]
  },
  {
   "cell_type": "code",
   "execution_count": 25,
   "metadata": {},
   "outputs": [
    {
     "data": {
      "text/plain": [
       "100.0"
      ]
     },
     "execution_count": 25,
     "metadata": {},
     "output_type": "execute_result"
    }
   ],
   "source": [
    "\n",
    "mean_data"
   ]
  },
  {
   "cell_type": "code",
   "execution_count": 26,
   "metadata": {},
   "outputs": [],
   "source": [
    "# mean_data를 상품A이고 가격이 결측치인 데이터에 결측치를 대체\n",
    "df2.loc[(df2['item_name']=='상품A')&(df2['item_price'].isna())].fillna(mean_data)\n",
    "#Series 데이터에 특정 데이터를 대입\n",
    "df2.loc[(df2['item_name']=='상품A')&(df2['item_price'].isna()), 'item_price'] = mean_data"
   ]
  },
  {
   "cell_type": "code",
   "execution_count": 27,
   "metadata": {},
   "outputs": [
    {
     "data": {
      "text/html": [
       "<div>\n",
       "<style scoped>\n",
       "    .dataframe tbody tr th:only-of-type {\n",
       "        vertical-align: middle;\n",
       "    }\n",
       "\n",
       "    .dataframe tbody tr th {\n",
       "        vertical-align: top;\n",
       "    }\n",
       "\n",
       "    .dataframe thead th {\n",
       "        text-align: right;\n",
       "    }\n",
       "</style>\n",
       "<table border=\"1\" class=\"dataframe\">\n",
       "  <thead>\n",
       "    <tr style=\"text-align: right;\">\n",
       "      <th></th>\n",
       "      <th>purchase_date</th>\n",
       "      <th>item_name</th>\n",
       "      <th>item_price</th>\n",
       "      <th>customer_name</th>\n",
       "    </tr>\n",
       "  </thead>\n",
       "  <tbody>\n",
       "    <tr>\n",
       "      <th>0</th>\n",
       "      <td>2019-06-13 18:02</td>\n",
       "      <td>상품A</td>\n",
       "      <td>100.0</td>\n",
       "      <td>김가온</td>\n",
       "    </tr>\n",
       "    <tr>\n",
       "      <th>2</th>\n",
       "      <td>2019-05-11 19:42</td>\n",
       "      <td>상품A</td>\n",
       "      <td>100.0</td>\n",
       "      <td>김유찬</td>\n",
       "    </tr>\n",
       "    <tr>\n",
       "      <th>4</th>\n",
       "      <td>2019-04-22 3:09</td>\n",
       "      <td>상품A</td>\n",
       "      <td>100.0</td>\n",
       "      <td>김강현</td>\n",
       "    </tr>\n",
       "    <tr>\n",
       "      <th>6</th>\n",
       "      <td>2019-05-18 19:16</td>\n",
       "      <td>상품A</td>\n",
       "      <td>100.0</td>\n",
       "      <td>김재준</td>\n",
       "    </tr>\n",
       "    <tr>\n",
       "      <th>9</th>\n",
       "      <td>2019-01-28 10:47</td>\n",
       "      <td>상품A</td>\n",
       "      <td>100.0</td>\n",
       "      <td>김태윤</td>\n",
       "    </tr>\n",
       "    <tr>\n",
       "      <th>...</th>\n",
       "      <td>...</td>\n",
       "      <td>...</td>\n",
       "      <td>...</td>\n",
       "      <td>...</td>\n",
       "    </tr>\n",
       "    <tr>\n",
       "      <th>2875</th>\n",
       "      <td>2019-06-03 17:33</td>\n",
       "      <td>상품A</td>\n",
       "      <td>100.0</td>\n",
       "      <td>김서진</td>\n",
       "    </tr>\n",
       "    <tr>\n",
       "      <th>2886</th>\n",
       "      <td>2019-04-25 17:15</td>\n",
       "      <td>상품A</td>\n",
       "      <td>100.0</td>\n",
       "      <td>김강현</td>\n",
       "    </tr>\n",
       "    <tr>\n",
       "      <th>2897</th>\n",
       "      <td>2019-05-20 14:05</td>\n",
       "      <td>상품A</td>\n",
       "      <td>100.0</td>\n",
       "      <td>김지안</td>\n",
       "    </tr>\n",
       "    <tr>\n",
       "      <th>2951</th>\n",
       "      <td>2019-05-06 2:24</td>\n",
       "      <td>상품A</td>\n",
       "      <td>100.0</td>\n",
       "      <td>김주혁</td>\n",
       "    </tr>\n",
       "    <tr>\n",
       "      <th>2973</th>\n",
       "      <td>2019-07-13 21:38</td>\n",
       "      <td>상품A</td>\n",
       "      <td>100.0</td>\n",
       "      <td>김태윤</td>\n",
       "    </tr>\n",
       "  </tbody>\n",
       "</table>\n",
       "<p>139 rows × 4 columns</p>\n",
       "</div>"
      ],
      "text/plain": [
       "         purchase_date item_name  item_price customer_name\n",
       "0     2019-06-13 18:02       상품A       100.0           김가온\n",
       "2     2019-05-11 19:42       상품A       100.0           김유찬\n",
       "4      2019-04-22 3:09       상품A       100.0           김강현\n",
       "6     2019-05-18 19:16       상품A       100.0           김재준\n",
       "9     2019-01-28 10:47       상품A       100.0           김태윤\n",
       "...                ...       ...         ...           ...\n",
       "2875  2019-06-03 17:33       상품A       100.0           김서진\n",
       "2886  2019-04-25 17:15       상품A       100.0           김강현\n",
       "2897  2019-05-20 14:05       상품A       100.0           김지안\n",
       "2951   2019-05-06 2:24       상품A       100.0           김주혁\n",
       "2973  2019-07-13 21:38       상품A       100.0           김태윤\n",
       "\n",
       "[139 rows x 4 columns]"
      ]
     },
     "execution_count": 27,
     "metadata": {},
     "output_type": "execute_result"
    }
   ],
   "source": [
    "df2.loc[(df2['item_name']=='상품A')&(df2['item_price'].notna())]"
   ]
  },
  {
   "cell_type": "code",
   "execution_count": 28,
   "metadata": {},
   "outputs": [
    {
     "data": {
      "text/plain": [
       "array(['상품A', '상품S', '상품Z', '상품V', '상품O', '상품U', '상품L', '상품C', '상품I',\n",
       "       '상품R', '상품X', '상품G', '상품P', '상품Q', '상품Y', '상품N', '상품W', '상품E',\n",
       "       '상품K', '상품B', '상품F', '상품D', '상품M', '상품H', '상품T', '상품J'],\n",
       "      dtype=object)"
      ]
     },
     "execution_count": 28,
     "metadata": {},
     "output_type": "execute_result"
    }
   ],
   "source": [
    "# item_name데이터들의 고유한 값들을 출력\n",
    "df2['item_name'].unique()"
   ]
  },
  {
   "cell_type": "code",
   "execution_count": 29,
   "metadata": {},
   "outputs": [
    {
     "data": {
      "text/plain": [
       "['상품H',\n",
       " '상품W',\n",
       " '상품R',\n",
       " '상품D',\n",
       " '상품N',\n",
       " '상품V',\n",
       " '상품Y',\n",
       " '상품B',\n",
       " '상품U',\n",
       " '상품L',\n",
       " '상품Q',\n",
       " '상품A',\n",
       " '상품I',\n",
       " '상품J',\n",
       " '상품E',\n",
       " '상품O',\n",
       " '상품X',\n",
       " '상품K',\n",
       " '상품Z',\n",
       " '상품S',\n",
       " '상품P',\n",
       " '상품C',\n",
       " '상품G',\n",
       " '상품T',\n",
       " '상품M',\n",
       " '상품F']"
      ]
     },
     "execution_count": 29,
     "metadata": {},
     "output_type": "execute_result"
    }
   ],
   "source": [
    "# 집합의 형태로 데이터를 변환\n",
    "# {} -> dict, set(집합)\n",
    "list(set(df2['item_name']))"
   ]
  },
  {
   "cell_type": "code",
   "execution_count": 30,
   "metadata": {},
   "outputs": [
    {
     "data": {
      "text/plain": [
       "Index(['상품S', '상품A', '상품R', '상품P', '상품V', '상품C', '상품F', '상품D', '상품Q', '상품O',\n",
       "       '상품W', '상품N', '상품T', '상품J', '상품X', '상품I', '상품B', '상품M', '상품L', '상품G',\n",
       "       '상품K', '상품H', '상품U', '상품E', '상품Y', '상품Z'],\n",
       "      dtype='object')"
      ]
     },
     "execution_count": 30,
     "metadata": {},
     "output_type": "execute_result"
    }
   ],
   "source": [
    "# 빈도 수를 체크하는 함수\n",
    "# 값(value) + 갯수(count) - value_counts()\n",
    "df2['item_name'].value_counts().index"
   ]
  },
  {
   "cell_type": "code",
   "execution_count": 31,
   "metadata": {},
   "outputs": [
    {
     "name": "stdout",
     "output_type": "stream",
     "text": [
      "['상품A', '상품S', '상품A', '상품Z', '상품A', '상품S', '상품A', '상품V', '상품O', '상품A', '상품U', '상품L', '상품V', '상품O', '상품A', '상품C', '상품V', '상품I', '상품R', '상품X', '상품O', '상품G', '상품X', '상품R', '상품P', '상품Q', '상품Y', '상품P', '상품P', '상품R', '상품P', '상품A', '상품N', '상품R', '상품W', '상품A', '상품E', '상품K', '상품O', '상품W', '상품O', '상품K', '상품B', '상품F', '상품P', '상품X', '상품B', '상품S', '상품F', '상품X', '상품W', '상품N', '상품Q', '상품P', '상품I', '상품F', '상품D', '상품R', '상품M', '상품M', '상품Q', '상품A', '상품Y', '상품I', '상품U', '상품H', '상품P', '상품P', '상품T', '상품Y', '상품W', '상품M', '상품V', '상품D', '상품J', '상품O', '상품L', '상품F', '상품U', '상품N', '상품P', '상품S', '상품X', '상품O', '상품V', '상품K', '상품N', '상품I', '상품O', '상품R', '상품V', '상품Y', '상품E', '상품E', '상품H', '상품S', '상품W', '상품Y', '상품O', '상품F', '상품K', '상품B', '상품W', '상품Q', '상품Q', '상품N', '상품S', '상품M', '상품I', '상품T', '상품I', '상품H', '상품Y', '상품R', '상품C', '상품V', '상품T', '상품A', '상품T', '상품Q', '상품P', '상품W', '상품I', '상품T', '상품G', '상품N', '상품U', '상품S', '상품U', '상품M', '상품A', '상품P', '상품U', '상품X', '상품I', '상품U', '상품X', '상품L', '상품F', '상품G', '상품D', '상품X', '상품U', '상품N', '상품C', '상품W', '상품S', '상품U', '상품K', '상품G', '상품Q', '상품I', '상품L', '상품T', '상품P', '상품T', '상품V', '상품E', '상품P', '상품G', '상품L', '상품P', '상품M', '상품D', '상품O', '상품N', '상품X', '상품W', '상품J', '상품X', '상품R', '상품A', '상품W', '상품C', '상품O', '상품V', '상품U', '상품F', '상품K', '상품W', '상품E', '상품S', '상품N', '상품C', '상품I', '상품W', '상품D', '상품E', '상품V', '상품Y', '상품V', '상품X', '상품F', '상품F', '상품B', '상품C', '상품K', '상품M', '상품Y', '상품Q', '상품I', '상품G', '상품T', '상품D', '상품D', '상품Y', '상품E', '상품N', '상품F', '상품N', '상품A', '상품A', '상품B', '상품X', '상품Y', '상품S', '상품P', '상품V', '상품I', '상품O', '상품J', '상품J', '상품C', '상품A', '상품U', '상품J', '상품M', '상품F', '상품B', '상품N', '상품Q', '상품T', '상품L', '상품O', '상품A', '상품R', '상품R', '상품F', '상품Y', '상품R', '상품L', '상품B', '상품V', '상품P', '상품X', '상품B', '상품Q', '상품U', '상품W', '상품U', '상품C', '상품V', '상품Q', '상품N', '상품X', '상품P', '상품B', '상품C', '상품Q', '상품S', '상품E', '상품F', '상품F', '상품F', '상품E', '상품G', '상품U', '상품L', '상품U', '상품I', '상품F', '상품W', '상품K', '상품V', '상품A', '상품F', '상품L', '상품O', '상품S', '상품D', '상품V', '상품J', '상품E', '상품U', '상품W', '상품B', '상품J', '상품L', '상품W', '상품K', '상품B', '상품F', '상품B', '상품M', '상품C', '상품A', '상품N', '상품P', '상품C', '상품X', '상품A', '상품L', '상품K', '상품P', '상품S', '상품Q', '상품M', '상품R', '상품K', '상품X', '상품X', '상품H', '상품G', '상품G', '상품E', '상품O', '상품E', '상품R', '상품Y', '상품M', '상품P', '상품B', '상품E', '상품U', '상품V', '상품L', '상품T', '상품W', '상품V', '상품W', '상품B', '상품R', '상품V', '상품W', '상품M', '상품G', '상품G', '상품G', '상품G', '상품M', '상품F', '상품V', '상품W', '상품N', '상품J', '상품H', '상품A', '상품A', '상품F', '상품M', '상품G', '상품D', '상품I', '상품O', '상품W', '상품S', '상품Q', '상품C', '상품P', '상품I', '상품A', '상품A', '상품S', '상품A', '상품M', '상품D', '상품G', '상품G', '상품T', '상품E', '상품O', '상품T', '상품S', '상품T', '상품X', '상품V', '상품Q', '상품F', '상품H', '상품B', '상품B', '상품M', '상품I', '상품R', '상품L', '상품D', '상품K', '상품V', '상품K', '상품F', '상품B', '상품V', '상품T', '상품K', '상품J', '상품A', '상품O', '상품J', '상품H', '상품I', '상품S', '상품S', '상품E', '상품N', '상품O', '상품R', '상품Q', '상품E', '상품Y', '상품F', '상품D', '상품A', '상품R', '상품W', '상품P', '상품F', '상품Y', '상품C', '상품R', '상품Q', '상품V', '상품E', '상품F', '상품O', '상품V', '상품S', '상품M', '상품E', '상품J', '상품P', '상품F', '상품S', '상품T', '상품W', '상품W', '상품U', '상품L', '상품Q', '상품S', '상품Q', '상품Q', '상품D', '상품G', '상품U', '상품E', '상품S', '상품F', '상품B', '상품N', '상품F', '상품Y', '상품D', '상품X', '상품C', '상품S', '상품S', '상품L', '상품B', '상품D', '상품B', '상품M', '상품D', '상품J', '상품I', '상품J', '상품R', '상품C', '상품J', '상품D', '상품R', '상품O', '상품Q', '상품P', '상품A', '상품F', '상품D', '상품D', '상품K', '상품D', '상품C', '상품V', '상품M', '상품O', '상품M', '상품P', '상품A', '상품K', '상품N', '상품A', '상품X', '상품V', '상품E', '상품P', '상품H', '상품P', '상품X', '상품H', '상품A', '상품U', '상품K', '상품C', '상품R', '상품W', '상품E', '상품V', '상품C', '상품T', '상품D', '상품N', '상품W', '상품P', '상품U', '상품P', '상품N', '상품P', '상품E', '상품T', '상품W', '상품L', '상품C', '상품H', '상품O', '상품W', '상품D', '상품N', '상품N', '상품P', '상품K', '상품C', '상품F', '상품V', '상품U', '상품K', '상품H', '상품E', '상품F', '상품E', '상품C', '상품C', '상품G', '상품X', '상품J', '상품T', '상품H', '상품B', '상품R', '상품R', '상품V', '상품K', '상품I', '상품B', '상품B', '상품U', '상품I', '상품X', '상품S', '상품F', '상품V', '상품O', '상품S', '상품J', '상품X', '상품Q', '상품D', '상품V', '상품J', '상품H', '상품H', '상품A', '상품I', '상품L', '상품I', '상품R', '상품G', '상품V', '상품C', '상품E', '상품A', '상품U', '상품X', '상품N', '상품O', '상품K', '상품V', '상품V', '상품B', '상품M', '상품T', '상품Q', '상품U', '상품R', '상품F', '상품F', '상품R', '상품R', '상품G', '상품C', '상품C', '상품F', '상품T', '상품Y', '상품D', '상품A', '상품Y', '상품F', '상품F', '상품M', '상품B', '상품H', '상품I', '상품F', '상품O', '상품A', '상품Q', '상품D', '상품F', '상품G', '상품O', '상품S', '상품T', '상품D', '상품I', '상품P', '상품K', '상품R', '상품V', '상품D', '상품C', '상품B', '상품C', '상품D', '상품F', '상품R', '상품H', '상품A', '상품S', '상품X', '상품P', '상품I', '상품Y', '상품C', '상품B', '상품A', '상품V', '상품W', '상품G', '상품V', '상품C', '상품N', '상품L', '상품I', '상품R', '상품B', '상품W', '상품E', '상품R', '상품N', '상품G', '상품U', '상품N', '상품Y', '상품L', '상품W', '상품D', '상품O', '상품N', '상품J', '상품A', '상품H', '상품D', '상품K', '상품B', '상품C', '상품M', '상품T', '상품X', '상품V', '상품L', '상품A', '상품Y', '상품T', '상품N', '상품G', '상품M', '상품T', '상품F', '상품M', '상품M', '상품I', '상품Y', '상품G', '상품B', '상품U', '상품X', '상품F', '상품J', '상품A', '상품R', '상품V', '상품P', '상품A', '상품O', '상품Y', '상품R', '상품X', '상품R', '상품A', '상품Y', '상품Q', '상품V', '상품O', '상품O', '상품M', '상품G', '상품S', '상품K', '상품J', '상품O', '상품R', '상품Q', '상품M', '상품C', '상품W', '상품G', '상품C', '상품P', '상품N', '상품N', '상품A', '상품E', '상품V', '상품D', '상품U', '상품S', '상품N', '상품Y', '상품R', '상품N', '상품W', '상품J', '상품L', '상품D', '상품S', '상품Y', '상품W', '상품T', '상품L', '상품V', '상품R', '상품H', '상품E', '상품O', '상품E', '상품V', '상품Q', '상품H', '상품I', '상품M', '상품M', '상품X', '상품L', '상품F', '상품E', '상품S', '상품N', '상품I', '상품O', '상품F', '상품B', '상품N', '상품O', '상품P', '상품V', '상품L', '상품I', '상품N', '상품U', '상품J', '상품X', '상품E', '상품O', '상품D', '상품C', '상품K', '상품K', '상품R', '상품X', '상품S', '상품W', '상품U', '상품J', '상품C', '상품I', '상품Q', '상품E', '상품V', '상품D', '상품R', '상품F', '상품B', '상품K', '상품A', '상품T', '상품A', '상품U', '상품Y', '상품Q', '상품L', '상품R', '상품H', '상품S', '상품Q', '상품S', '상품W', '상품H', '상품G', '상품M', '상품A', '상품M', '상품M', '상품Q', '상품T', '상품X', '상품U', '상품O', '상품S', '상품E', '상품C', '상품C', '상품R', '상품J', '상품G', '상품L', '상품Y', '상품P', '상품O', '상품K', '상품C', '상품A', '상품N', '상품J', '상품N', '상품X', '상품U', '상품A', '상품J', '상품G', '상품S', '상품J', '상품Q', '상품X', '상품R', '상품C', '상품Y', '상품U', '상품L', '상품B', '상품Q', '상품R', '상품A', '상품P', '상품L', '상품L', '상품H', '상품D', '상품D', '상품R', '상품A', '상품S', '상품Y', '상품C', '상품V', '상품A', '상품N', '상품M', '상품E', '상품C', '상품A', '상품A', '상품N', '상품W', '상품X', '상품I', '상품L', '상품Y', '상품P', '상품D', '상품V', '상품O', '상품L', '상품B', '상품J', '상품S', '상품X', '상품D', '상품B', '상품K', '상품R', '상품V', '상품N', '상품A', '상품Q', '상품I', '상품P', '상품E', '상품B', '상품S', '상품Q', '상품O', '상품W', '상품D', '상품K', '상품J', '상품X', '상품J', '상품C', '상품V', '상품C', '상품D', '상품H', '상품O', '상품K', '상품U', '상품N', '상품E', '상품D', '상품Y', '상품B', '상품G', '상품X', '상품X', '상품B', '상품S', '상품T', '상품O', '상품W', '상품Q', '상품M', '상품Q', '상품O', '상품J', '상품B', '상품K', '상품S', '상품F', '상품C', '상품O', '상품S', '상품T', '상품H', '상품R', '상품P', '상품A', '상품U', '상품H', '상품J', '상품S', '상품A', '상품Q', '상품G', '상품P', '상품Q', '상품R', '상품X', '상품Y', '상품R', '상품P', '상품Q', '상품I', '상품D', '상품F', '상품X', '상품Y', '상품O', '상품D', '상품S', '상품O', '상품F', '상품S', '상품F', '상품G', '상품T', '상품J', '상품B', '상품O', '상품M', '상품O', '상품O', '상품F', '상품J', '상품V', '상품I', '상품S', '상품H', '상품C', '상품I', '상품B', '상품W', '상품J', '상품B', '상품N', '상품N', '상품V', '상품X', '상품R', '상품H', '상품U', '상품E', '상품L', '상품A', '상품F', '상품V', '상품E', '상품L', '상품K', '상품I', '상품C', '상품R', '상품F', '상품L', '상품X', '상품G', '상품I', '상품H', '상품P', '상품L', '상품X', '상품H', '상품C', '상품Y', '상품S', '상품X', '상품R', '상품B', '상품I', '상품J', '상품A', '상품P', '상품A', '상품H', '상품I', '상품K', '상품R', '상품F', '상품S', '상품R', '상품K', '상품C', '상품V', '상품U', '상품N', '상품G', '상품J', '상품A', '상품J', '상품L', '상품X', '상품F', '상품V', '상품T', '상품F', '상품F', '상품G', '상품X', '상품M', '상품I', '상품Q', '상품O', '상품E', '상품M', '상품O', '상품C', '상품R', '상품F', '상품N', '상품F', '상품W', '상품E', '상품L', '상품I', '상품V', '상품N', '상품E', '상품P', '상품N', '상품U', '상품Q', '상품K', '상품K', '상품U', '상품C', '상품S', '상품H', '상품J', '상품Q', '상품O', '상품N', '상품K', '상품I', '상품H', '상품B', '상품L', '상품L', '상품U', '상품B', '상품P', '상품L', '상품U', '상품S', '상품I', '상품I', '상품A', '상품C', '상품C', '상품H', '상품C', '상품H', '상품J', '상품K', '상품Q', '상품W', '상품U', '상품S', '상품T', '상품H', '상품F', '상품B', '상품N', '상품K', '상품S', '상품W', '상품L', '상품G', '상품R', '상품V', '상품P', '상품U', '상품J', '상품W', '상품W', '상품B', '상품Q', '상품I', '상품B', '상품O', '상품P', '상품H', '상품R', '상품O', '상품Q', '상품B', '상품R', '상품O', '상품J', '상품B', '상품E', '상품B', '상품C', '상품U', '상품Q', '상품A', '상품W', '상품V', '상품F', '상품X', '상품H', '상품Q', '상품Q', '상품S', '상품E', '상품T', '상품T', '상품B', '상품T', '상품N', '상품V', '상품K', '상품N', '상품V', '상품T', '상품F', '상품B', '상품O', '상품B', '상품B', '상품D', '상품O', '상품L', '상품C', '상품A', '상품S', '상품H', '상품L', '상품S', '상품V', '상품O', '상품P', '상품P', '상품V', '상품X', '상품C', '상품X', '상품C', '상품U', '상품T', '상품B', '상품C', '상품Q', '상품T', '상품B', '상품S', '상품F', '상품S', '상품S', '상품A', '상품M', '상품T', '상품A', '상품T', '상품W', '상품G', '상품V', '상품Y', '상품M', '상품J', '상품O', '상품P', '상품S', '상품A', '상품T', '상품M', '상품R', '상품I', '상품P', '상품B', '상품O', '상품M', '상품F', '상품B', '상품H', '상품Q', '상품U', '상품H', '상품Q', '상품T', '상품V', '상품G', '상품V', '상품E', '상품V', '상품X', '상품Q', '상품F', '상품L', '상품G', '상품I', '상품G', '상품Q', '상품Y', '상품T', '상품A', '상품P', '상품L', '상품T', '상품B', '상품T', '상품D', '상품L', '상품Q', '상품D', '상품H', '상품C', '상품O', '상품A', '상품P', '상품Q', '상품Q', '상품A', '상품X', '상품T', '상품J', '상품N', '상품V', '상품P', '상품R', '상품N', '상품C', '상품Q', '상품A', '상품W', '상품Q', '상품L', '상품J', '상품X', '상품C', '상품E', '상품H', '상품J', '상품O', '상품R', '상품F', '상품T', '상품M', '상품D', '상품N', '상품D', '상품C', '상품B', '상품C', '상품M', '상품W', '상품O', '상품B', '상품U', '상품T', '상품K', '상품U', '상품P', '상품T', '상품M', '상품A', '상품P', '상품P', '상품L', '상품P', '상품Q', '상품S', '상품O', '상품M', '상품N', '상품D', '상품K', '상품C', '상품I', '상품Q', '상품G', '상품V', '상품S', '상품D', '상품D', '상품A', '상품G', '상품M', '상품A', '상품A', '상품Q', '상품S', '상품H', '상품D', '상품M', '상품T', '상품G', '상품E', '상품K', '상품Y', '상품G', '상품C', '상품V', '상품G', '상품X', '상품K', '상품Y', '상품S', '상품C', '상품H', '상품B', '상품S', '상품W', '상품L', '상품V', '상품M', '상품R', '상품S', '상품O', '상품N', '상품G', '상품J', '상품M', '상품H', '상품Y', '상품G', '상품T', '상품T', '상품V', '상품J', '상품W', '상품Y', '상품T', '상품U', '상품P', '상품W', '상품S', '상품H', '상품R', '상품A', '상품H', '상품Q', '상품V', '상품A', '상품I', '상품G', '상품N', '상품T', '상품E', '상품L', '상품T', '상품L', '상품B', '상품J', '상품N', '상품D', '상품N', '상품V', '상품B', '상품Y', '상품D', '상품V', '상품T', '상품F', '상품N', '상품I', '상품I', '상품C', '상품W', '상품W', '상품H', '상품O', '상품P', '상품C', '상품J', '상품M', '상품Y', '상품O', '상품X', '상품Y', '상품M', '상품G', '상품N', '상품J', '상품Q', '상품D', '상품F', '상품C', '상품D', '상품P', '상품K', '상품W', '상품D', '상품R', '상품B', '상품P', '상품M', '상품T', '상품V', '상품A', '상품G', '상품C', '상품S', '상품N', '상품D', '상품S', '상품S', '상품I', '상품E', '상품I', '상품I', '상품V', '상품W', '상품E', '상품B', '상품S', '상품B', '상품X', '상품W', '상품A', '상품G', '상품U', '상품H', '상품P', '상품C', '상품X', '상품A', '상품W', '상품P', '상품C', '상품U', '상품V', '상품P', '상품K', '상품X', '상품F', '상품W', '상품Q', '상품X', '상품Q', '상품C', '상품I', '상품B', '상품A', '상품S', '상품A', '상품U', '상품K', '상품H', '상품L', '상품K', '상품W', '상품P', '상품Y', '상품U', '상품Q', '상품W', '상품I', '상품A', '상품V', '상품C', '상품S', '상품U', '상품N', '상품T', '상품F', '상품L', '상품J', '상품O', '상품T', '상품Y', '상품F', '상품K', '상품E', '상품R', '상품L', '상품M', '상품N', '상품O', '상품K', '상품J', '상품V', '상품E', '상품I', '상품I', '상품E', '상품E', '상품U', '상품K', '상품A', '상품P', '상품S', '상품J', '상품T', '상품X', '상품G', '상품S', '상품D', '상품I', '상품F', '상품K', '상품K', '상품F', '상품H', '상품M', '상품S', '상품G', '상품W', '상품O', '상품H', '상품L', '상품O', '상품J', '상품R', '상품H', '상품G', '상품Y', '상품W', '상품E', '상품G', '상품S', '상품A', '상품V', '상품V', '상품M', '상품R', '상품P', '상품C', '상품Y', '상품W', '상품S', '상품I', '상품G', '상품T', '상품C', '상품T', '상품Q', '상품S', '상품H', '상품I', '상품T', '상품S', '상품R', '상품Q', '상품M', '상품O', '상품B', '상품D', '상품Y', '상품N', '상품K', '상품R', '상품L', '상품C', '상품C', '상품X', '상품P', '상품E', '상품M', '상품X', '상품M', '상품V', '상품J', '상품X', '상품J', '상품K', '상품N', '상품Q', '상품O', '상품M', '상품V', '상품T', '상품S', '상품I', '상품K', '상품D', '상품D', '상품V', '상품X', '상품V', '상품T', '상품F', '상품P', '상품Y', '상품N', '상품E', '상품Q', '상품P', '상품F', '상품I', '상품T', '상품O', '상품X', '상품G', '상품P', '상품E', '상품S', '상품S', '상품E', '상품B', '상품O', '상품S', '상품I', '상품A', '상품L', '상품W', '상품L', '상품I', '상품M', '상품V', '상품F', '상품M', '상품U', '상품D', '상품D', '상품N', '상품G', '상품E', '상품F', '상품V', '상품E', '상품R', '상품E', '상품S', '상품Q', '상품X', '상품B', '상품Q', '상품N', '상품A', '상품K', '상품T', '상품S', '상품L', '상품S', '상품P', '상품J', '상품Y', '상품D', '상품C', '상품D', '상품D', '상품L', '상품B', '상품G', '상품V', '상품J', '상품L', '상품S', '상품R', '상품R', '상품M', '상품A', '상품A', '상품B', '상품U', '상품I', '상품K', '상품H', '상품I', '상품T', '상품W', '상품E', '상품Y', '상품K', '상품K', '상품A', '상품F', '상품J', '상품O', '상품X', '상품C', '상품V', '상품P', '상품M', '상품X', '상품H', '상품Y', '상품F', '상품X', '상품D', '상품N', '상품Y', '상품A', '상품K', '상품M', '상품C', '상품A', '상품D', '상품O', '상품J', '상품R', '상품I', '상품A', '상품M', '상품J', '상품S', '상품Q', '상품K', '상품N', '상품H', '상품P', '상품T', '상품Q', '상품C', '상품V', '상품A', '상품N', '상품X', '상품R', '상품N', '상품I', '상품F', '상품U', '상품G', '상품C', '상품G', '상품N', '상품T', '상품M', '상품R', '상품O', '상품D', '상품C', '상품E', '상품C', '상품P', '상품J', '상품C', '상품H', '상품W', '상품X', '상품B', '상품M', '상품X', '상품P', '상품Q', '상품V', '상품E', '상품N', '상품S', '상품I', '상품P', '상품C', '상품W', '상품F', '상품W', '상품Q', '상품E', '상품R', '상품G', '상품G', '상품X', '상품Q', '상품H', '상품V', '상품B', '상품I', '상품Y', '상품D', '상품U', '상품P', '상품K', '상품O', '상품N', '상품Q', '상품F', '상품Q', '상품U', '상품C', '상품J', '상품L', '상품I', '상품W', '상품L', '상품P', '상품V', '상품V', '상품M', '상품I', '상품A', '상품G', '상품D', '상품M', '상품M', '상품U', '상품I', '상품P', '상품M', '상품D', '상품W', '상품D', '상품U', '상품B', '상품R', '상품C', '상품D', '상품R', '상품P', '상품G', '상품W', '상품Q', '상품N', '상품W', '상품R', '상품B', '상품N', '상품D', '상품A', '상품E', '상품G', '상품H', '상품O', '상품H', '상품Q', '상품X', '상품T', '상품J', '상품T', '상품G', '상품Q', '상품Q', '상품R', '상품Y', '상품L', '상품F', '상품D', '상품Y', '상품U', '상품K', '상품M', '상품O', '상품V', '상품E', '상품K', '상품C', '상품N', '상품A', '상품K', '상품F', '상품T', '상품H', '상품I', '상품X', '상품J', '상품T', '상품E', '상품A', '상품Q', '상품O', '상품H', '상품L', '상품Y', '상품F', '상품M', '상품Q', '상품F', '상품D', '상품U', '상품E', '상품K', '상품Q', '상품P', '상품F', '상품I', '상품O', '상품N', '상품K', '상품T', '상품Q', '상품L', '상품M', '상품X', '상품J', '상품W', '상품H', '상품K', '상품J', '상품F', '상품N', '상품M', '상품D', '상품A', '상품E', '상품R', '상품K', '상품Q', '상품M', '상품U', '상품S', '상품X', '상품C', '상품C', '상품V', '상품S', '상품U', '상품V', '상품H', '상품L', '상품A', '상품K', '상품C', '상품Q', '상품R', '상품J', '상품Q', '상품S', '상품U', '상품H', '상품L', '상품I', '상품R', '상품X', '상품R', '상품J', '상품K', '상품P', '상품O', '상품W', '상품L', '상품B', '상품R', '상품A', '상품O', '상품J', '상품B', '상품P', '상품H', '상품H', '상품V', '상품O', '상품G', '상품I', '상품B', '상품F', '상품H', '상품G', '상품M', '상품P', '상품T', '상품O', '상품C', '상품H', '상품U', '상품B', '상품S', '상품W', '상품A', '상품W', '상품L', '상품M', '상품W', '상품I', '상품I', '상품Y', '상품L', '상품W', '상품E', '상품T', '상품P', '상품A', '상품H', '상품I', '상품W', '상품N', '상품T', '상품G', '상품R', '상품M', '상품C', '상품W', '상품R', '상품L', '상품O', '상품M', '상품F', '상품X', '상품L', '상품G', '상품E', '상품U', '상품R', '상품B', '상품C', '상품A', '상품U', '상품U', '상품J', '상품K', '상품P', '상품Q', '상품K', '상품M', '상품J', '상품U', '상품S', '상품X', '상품V', '상품F', '상품E', '상품P', '상품T', '상품X', '상품L', '상품A', '상품L', '상품Y', '상품M', '상품A', '상품X', '상품S', '상품K', '상품G', '상품D', '상품E', '상품B', '상품R', '상품T', '상품D', '상품R', '상품O', '상품R', '상품G', '상품F', '상품I', '상품R', '상품U', '상품L', '상품G', '상품R', '상품J', '상품B', '상품Q', '상품V', '상품Y', '상품Y', '상품D', '상품J', '상품H', '상품K', '상품H', '상품G', '상품G', '상품O', '상품K', '상품Y', '상품U', '상품G', '상품G', '상품K', '상품R', '상품J', '상품S', '상품R', '상품V', '상품S', '상품W', '상품F', '상품S', '상품G', '상품O', '상품O', '상품G', '상품U', '상품D', '상품H', '상품T', '상품U', '상품Y', '상품C', '상품O', '상품A', '상품F', '상품U', '상품J', '상품D', '상품W', '상품U', '상품M', '상품T', '상품M', '상품U', '상품I', '상품E', '상품Y', '상품W', '상품U', '상품J', '상품R', '상품D', '상품F', '상품G', '상품K', '상품G', '상품G', '상품J', '상품N', '상품W', '상품G', '상품J', '상품T', '상품L', '상품E', '상품G', '상품Y', '상품I', '상품N', '상품M', '상품A', '상품W', '상품Q', '상품U', '상품P', '상품X', '상품E', '상품F', '상품A', '상품F', '상품N', '상품P', '상품P', '상품J', '상품V', '상품F', '상품T', '상품C', '상품E', '상품R', '상품J', '상품K', '상품P', '상품V', '상품H', '상품G', '상품P', '상품J', '상품L', '상품C', '상품D', '상품H', '상품B', '상품M', '상품S', '상품J', '상품U', '상품H', '상품Q', '상품W', '상품B', '상품U', '상품W', '상품U', '상품T', '상품I', '상품Q', '상품D', '상품J', '상품J', '상품E', '상품Y', '상품Q', '상품P', '상품Q', '상품R', '상품U', '상품V', '상품W', '상품I', '상품H', '상품K', '상품R', '상품X', '상품S', '상품X', '상품J', '상품T', '상품S', '상품Y', '상품T', '상품R', '상품C', '상품H', '상품V', '상품R', '상품V', '상품H', '상품J', '상품H', '상품L', '상품D', '상품Q', '상품R', '상품R', '상품N', '상품F', '상품W', '상품H', '상품M', '상품U', '상품A', '상품R', '상품G', '상품F', '상품T', '상품K', '상품X', '상품S', '상품F', '상품D', '상품D', '상품A', '상품B', '상품B', '상품O', '상품W', '상품L', '상품E', '상품P', '상품E', '상품X', '상품T', '상품K', '상품X', '상품A', '상품Y', '상품C', '상품X', '상품I', '상품S', '상품S', '상품D', '상품Q', '상품Q', '상품K', '상품M', '상품T', '상품C', '상품C', '상품C', '상품W', '상품L', '상품I', '상품A', '상품T', '상품C', '상품W', '상품C', '상품J', '상품U', '상품P', '상품X', '상품R', '상품F', '상품K', '상품O', '상품M', '상품J', '상품T', '상품I', '상품W', '상품W', '상품B', '상품U', '상품W', '상품N', '상품G', '상품C', '상품E', '상품G', '상품B', '상품I', '상품P', '상품O', '상품M', '상품C', '상품B', '상품O', '상품N', '상품W', '상품R', '상품H', '상품W', '상품C', '상품E', '상품X', '상품B', '상품U', '상품F', '상품V', '상품S', '상품U', '상품S', '상품S', '상품D', '상품T', '상품G', '상품Q', '상품A', '상품F', '상품L', '상품S', '상품M', '상품X', '상품X', '상품B', '상품F', '상품D', '상품E', '상품S', '상품F', '상품Y', '상품V', '상품U', '상품W', '상품J', '상품J', '상품L', '상품O', '상품I', '상품K', '상품E', '상품J', '상품Y', '상품Q', '상품M', '상품N', '상품C', '상품V', '상품D', '상품A', '상품R', '상품N', '상품A', '상품C', '상품O', '상품L', '상품M', '상품C', '상품O', '상품S', '상품A', '상품F', '상품P', '상품B', '상품O', '상품S', '상품M', '상품R', '상품V', '상품S', '상품O', '상품U', '상품R', '상품E', '상품N', '상품F', '상품L', '상품P', '상품S', '상품D', '상품W', '상품B', '상품F', '상품O', '상품F', '상품C', '상품P', '상품Y', '상품I', '상품D', '상품B', '상품T', '상품D', '상품H', '상품S', '상품G', '상품A', '상품V', '상품E', '상품K', '상품D', '상품L', '상품K', '상품P', '상품V', '상품R', '상품Y', '상품J', '상품L', '상품Y', '상품I', '상품Y', '상품T', '상품T', '상품T', '상품M', '상품P', '상품Y', '상품J', '상품P', '상품R', '상품G', '상품F', '상품S', '상품L', '상품C', '상품C', '상품S', '상품N', '상품A', '상품R', '상품M', '상품V', '상품X', '상품Y', '상품Q', '상품N', '상품X', '상품Y', '상품E', '상품W', '상품N', '상품V', '상품I', '상품H', '상품Y', '상품R', '상품T', '상품T', '상품P', '상품R', '상품Y', '상품Y', '상품S', '상품S', '상품B', '상품V', '상품P', '상품A', '상품T', '상품W', '상품J', '상품X', '상품P', '상품I', '상품X', '상품P', '상품D', '상품J', '상품A', '상품S', '상품Q', '상품J', '상품F', '상품F', '상품P', '상품N', '상품P', '상품D', '상품R', '상품W', '상품I', '상품I', '상품A', '상품M', '상품W', '상품U', '상품T', '상품A', '상품Q', '상품S', '상품Y', '상품Y', '상품K', '상품Q', '상품R', '상품J', '상품O', '상품C', '상품P', '상품D', '상품F', '상품U', '상품H', '상품W', '상품R', '상품H', '상품J', '상품H', '상품R', '상품N', '상품F', '상품V', '상품M', '상품O', '상품N', '상품T', '상품S', '상품N', '상품O', '상품X', '상품F', '상품I', '상품R', '상품T', '상품H', '상품D', '상품T', '상품V', '상품D', '상품B', '상품O', '상품R', '상품Q', '상품J', '상품U', '상품G', '상품L', '상품T', '상품V', '상품P', '상품H', '상품E', '상품X', '상품H', '상품D', '상품W', '상품L', '상품N', '상품P', '상품S', '상품S', '상품C', '상품L', '상품E', '상품E', '상품I', '상품P', '상품U', '상품P', '상품E', '상품T', '상품L', '상품A', '상품W', '상품R', '상품K', '상품P', '상품O', '상품T', '상품B', '상품X', '상품R', '상품M', '상품A', '상품P', '상품T', '상품R', '상품D', '상품P', '상품U', '상품E', '상품W', '상품V', '상품S', '상품V', '상품E', '상품L', '상품C', '상품U', '상품W', '상품E', '상품O', '상품B', '상품I', '상품P', '상품H', '상품B', '상품I', '상품S', '상품Y', '상품A', '상품J', '상품R', '상품R', '상품X', '상품P', '상품W', '상품P', '상품P', '상품G', '상품T', '상품G', '상품X', '상품N', '상품S', '상품B', '상품Y', '상품J', '상품V', '상품Q', '상품E', '상품O', '상품J', '상품H', '상품T', '상품I', '상품W', '상품D', '상품P', '상품X', '상품K', '상품K', '상품V', '상품A', '상품W', '상품K', '상품O', '상품F', '상품I', '상품L', '상품W', '상품R', '상품E', '상품Y', '상품I', '상품U', '상품A', '상품M', '상품L', '상품D', '상품C', '상품L', '상품D', '상품N', '상품G', '상품W', '상품P', '상품Q', '상품S', '상품G', '상품N', '상품X', '상품N', '상품N', '상품F', '상품L', '상품N', '상품G', '상품G', '상품E', '상품P', '상품O', '상품T', '상품K', '상품P', '상품C', '상품C', '상품V', '상품D', '상품R', '상품K', '상품X', '상품X', '상품K', '상품O', '상품H', '상품Q', '상품W', '상품K', '상품L', '상품C', '상품V', '상품Y', '상품X', '상품M', '상품L', '상품A', '상품T', '상품M', '상품Y', '상품V', '상품I', '상품I', '상품G', '상품Y', '상품Y', '상품M', '상품A', '상품I', '상품K', '상품T', '상품D', '상품D', '상품G', '상품X', '상품L', '상품U', '상품A', '상품R', '상품B', '상품F', '상품M', '상품F', '상품B', '상품E', '상품J', '상품P', '상품J', '상품A', '상품J', '상품J', '상품O', '상품U', '상품F', '상품D', '상품E', '상품G', '상품N', '상품H', '상품T', '상품Q', '상품U', '상품V', '상품H', '상품K', '상품P', '상품A', '상품H', '상품H', '상품Q', '상품E', '상품Y', '상품V', '상품L', '상품Q', '상품W', '상품W', '상품N', '상품S', '상품S', '상품V', '상품T', '상품H', '상품Q', '상품M', '상품I', '상품S', '상품D', '상품G', '상품S', '상품C', '상품E', '상품D', '상품I', '상품N', '상품U', '상품E', '상품K', '상품J', '상품Q', '상품S', '상품N', '상품C', '상품X', '상품L', '상품A', '상품Q', '상품H', '상품D', '상품H', '상품D', '상품L', '상품V', '상품K', '상품R', '상품J', '상품K', '상품F', '상품L', '상품B', '상품B', '상품O', '상품T', '상품Y', '상품D', '상품L', '상품R', '상품R', '상품R', '상품U', '상품R', '상품H', '상품V', '상품A', '상품S', '상품Q', '상품N', '상품X', '상품P', '상품X', '상품S', '상품Y', '상품B', '상품J', '상품C', '상품N', '상품W', '상품H', '상품V', '상품N', '상품Q', '상품C', '상품A', '상품M', '상품M', '상품J', '상품C', '상품X', '상품Q', '상품A', '상품M', '상품D', '상품H', '상품C', '상품Y', '상품Y', '상품B', '상품O', '상품D', '상품Q', '상품A', '상품G', '상품O', '상품Y', '상품J', '상품G', '상품N', '상품O', '상품N', '상품M', '상품R', '상품A', '상품Y', '상품K', '상품I', '상품I', '상품K', '상품E', '상품D', '상품V', '상품C', '상품G', '상품U', '상품Y', '상품Y', '상품P', '상품N', '상품B', '상품I', '상품P', '상품D', '상품H', '상품N', '상품D', '상품L', '상품F', '상품B', '상품S', '상품Q', '상품F', '상품W', '상품F', '상품K', '상품V', '상품B', '상품Q', '상품J', '상품W', '상품G', '상품B', '상품C', '상품I', '상품L', '상품V', '상품C', '상품E', '상품M', '상품J', '상품O', '상품G', '상품S', '상품K', '상품U', '상품S', '상품Y', '상품A', '상품H', '상품T', '상품F', '상품Y', '상품F', '상품O', '상품S', '상품O', '상품D', '상품D', '상품O', '상품J', '상품K', '상품N', '상품Q', '상품X', '상품H', '상품O', '상품L', '상품S', '상품R', '상품A', '상품P', '상품Y', '상품L', '상품X', '상품N', '상품N', '상품P', '상품R', '상품L', '상품H', '상품G', '상품X', '상품C', '상품K', '상품R', '상품M', '상품O', '상품W', '상품C', '상품C', '상품Y', '상품M', '상품Q', '상품H', '상품D']\n"
     ]
    }
   ],
   "source": [
    "# item_name에 중복데이터를 제거한 새로운 리스트를 출력\n",
    "# for문을 이용한다.\n",
    "\n",
    "# 새로운 빈 리스트(result)생성\n",
    "# item_name의 값들을 기준으로 반복문을 실행(변수i)\n",
    "\n",
    "# case1\n",
    "name_list = list(df2['item_name']) \n",
    "result = []\n",
    "for i in name_list:\n",
    "    if name_list not in result:\n",
    "        result.append(i)\n",
    "print(result)"
   ]
  },
  {
   "cell_type": "code",
   "execution_count": 32,
   "metadata": {},
   "outputs": [
    {
     "name": "stdout",
     "output_type": "stream",
     "text": [
      "['상품A', '상품S', '상품A', '상품Z', '상품A', '상품S', '상품A', '상품V', '상품O', '상품A', '상품U', '상품L', '상품V', '상품O', '상품A', '상품C', '상품V', '상품I', '상품R', '상품X', '상품O', '상품G', '상품X', '상품R', '상품P', '상품Q', '상품Y', '상품P', '상품P', '상품R', '상품P', '상품A', '상품N', '상품R', '상품W', '상품A', '상품E', '상품K', '상품O', '상품W', '상품O', '상품K', '상품B', '상품F', '상품P', '상품X', '상품B', '상품S', '상품F', '상품X', '상품W', '상품N', '상품Q', '상품P', '상품I', '상품F', '상품D', '상품R', '상품M', '상품M', '상품Q', '상품A', '상품Y', '상품I', '상품U', '상품H', '상품P', '상품P', '상품T', '상품Y', '상품W', '상품M', '상품V', '상품D', '상품J', '상품O', '상품L', '상품F', '상품U', '상품N', '상품P', '상품S', '상품X', '상품O', '상품V', '상품K', '상품N', '상품I', '상품O', '상품R', '상품V', '상품Y', '상품E', '상품E', '상품H', '상품S', '상품W', '상품Y', '상품O', '상품F', '상품K', '상품B', '상품W', '상품Q', '상품Q', '상품N', '상품S', '상품M', '상품I', '상품T', '상품I', '상품H', '상품Y', '상품R', '상품C', '상품V', '상품T', '상품A', '상품T', '상품Q', '상품P', '상품W', '상품I', '상품T', '상품G', '상품N', '상품U', '상품S', '상품U', '상품M', '상품A', '상품P', '상품U', '상품X', '상품I', '상품U', '상품X', '상품L', '상품F', '상품G', '상품D', '상품X', '상품U', '상품N', '상품C', '상품W', '상품S', '상품U', '상품K', '상품G', '상품Q', '상품I', '상품L', '상품T', '상품P', '상품T', '상품V', '상품E', '상품P', '상품G', '상품L', '상품P', '상품M', '상품D', '상품O', '상품N', '상품X', '상품W', '상품J', '상품X', '상품R', '상품A', '상품W', '상품C', '상품O', '상품V', '상품U', '상품F', '상품K', '상품W', '상품E', '상품S', '상품N', '상품C', '상품I', '상품W', '상품D', '상품E', '상품V', '상품Y', '상품V', '상품X', '상품F', '상품F', '상품B', '상품C', '상품K', '상품M', '상품Y', '상품Q', '상품I', '상품G', '상품T', '상품D', '상품D', '상품Y', '상품E', '상품N', '상품F', '상품N', '상품A', '상품A', '상품B', '상품X', '상품Y', '상품S', '상품P', '상품V', '상품I', '상품O', '상품J', '상품J', '상품C', '상품A', '상품U', '상품J', '상품M', '상품F', '상품B', '상품N', '상품Q', '상품T', '상품L', '상품O', '상품A', '상품R', '상품R', '상품F', '상품Y', '상품R', '상품L', '상품B', '상품V', '상품P', '상품X', '상품B', '상품Q', '상품U', '상품W', '상품U', '상품C', '상품V', '상품Q', '상품N', '상품X', '상품P', '상품B', '상품C', '상품Q', '상품S', '상품E', '상품F', '상품F', '상품F', '상품E', '상품G', '상품U', '상품L', '상품U', '상품I', '상품F', '상품W', '상품K', '상품V', '상품A', '상품F', '상품L', '상품O', '상품S', '상품D', '상품V', '상품J', '상품E', '상품U', '상품W', '상품B', '상품J', '상품L', '상품W', '상품K', '상품B', '상품F', '상품B', '상품M', '상품C', '상품A', '상품N', '상품P', '상품C', '상품X', '상품A', '상품L', '상품K', '상품P', '상품S', '상품Q', '상품M', '상품R', '상품K', '상품X', '상품X', '상품H', '상품G', '상품G', '상품E', '상품O', '상품E', '상품R', '상품Y', '상품M', '상품P', '상품B', '상품E', '상품U', '상품V', '상품L', '상품T', '상품W', '상품V', '상품W', '상품B', '상품R', '상품V', '상품W', '상품M', '상품G', '상품G', '상품G', '상품G', '상품M', '상품F', '상품V', '상품W', '상품N', '상품J', '상품H', '상품A', '상품A', '상품F', '상품M', '상품G', '상품D', '상품I', '상품O', '상품W', '상품S', '상품Q', '상품C', '상품P', '상품I', '상품A', '상품A', '상품S', '상품A', '상품M', '상품D', '상품G', '상품G', '상품T', '상품E', '상품O', '상품T', '상품S', '상품T', '상품X', '상품V', '상품Q', '상품F', '상품H', '상품B', '상품B', '상품M', '상품I', '상품R', '상품L', '상품D', '상품K', '상품V', '상품K', '상품F', '상품B', '상품V', '상품T', '상품K', '상품J', '상품A', '상품O', '상품J', '상품H', '상품I', '상품S', '상품S', '상품E', '상품N', '상품O', '상품R', '상품Q', '상품E', '상품Y', '상품F', '상품D', '상품A', '상품R', '상품W', '상품P', '상품F', '상품Y', '상품C', '상품R', '상품Q', '상품V', '상품E', '상품F', '상품O', '상품V', '상품S', '상품M', '상품E', '상품J', '상품P', '상품F', '상품S', '상품T', '상품W', '상품W', '상품U', '상품L', '상품Q', '상품S', '상품Q', '상품Q', '상품D', '상품G', '상품U', '상품E', '상품S', '상품F', '상품B', '상품N', '상품F', '상품Y', '상품D', '상품X', '상품C', '상품S', '상품S', '상품L', '상품B', '상품D', '상품B', '상품M', '상품D', '상품J', '상품I', '상품J', '상품R', '상품C', '상품J', '상품D', '상품R', '상품O', '상품Q', '상품P', '상품A', '상품F', '상품D', '상품D', '상품K', '상품D', '상품C', '상품V', '상품M', '상품O', '상품M', '상품P', '상품A', '상품K', '상품N', '상품A', '상품X', '상품V', '상품E', '상품P', '상품H', '상품P', '상품X', '상품H', '상품A', '상품U', '상품K', '상품C', '상품R', '상품W', '상품E', '상품V', '상품C', '상품T', '상품D', '상품N', '상품W', '상품P', '상품U', '상품P', '상품N', '상품P', '상품E', '상품T', '상품W', '상품L', '상품C', '상품H', '상품O', '상품W', '상품D', '상품N', '상품N', '상품P', '상품K', '상품C', '상품F', '상품V', '상품U', '상품K', '상품H', '상품E', '상품F', '상품E', '상품C', '상품C', '상품G', '상품X', '상품J', '상품T', '상품H', '상품B', '상품R', '상품R', '상품V', '상품K', '상품I', '상품B', '상품B', '상품U', '상품I', '상품X', '상품S', '상품F', '상품V', '상품O', '상품S', '상품J', '상품X', '상품Q', '상품D', '상품V', '상품J', '상품H', '상품H', '상품A', '상품I', '상품L', '상품I', '상품R', '상품G', '상품V', '상품C', '상품E', '상품A', '상품U', '상품X', '상품N', '상품O', '상품K', '상품V', '상품V', '상품B', '상품M', '상품T', '상품Q', '상품U', '상품R', '상품F', '상품F', '상품R', '상품R', '상품G', '상품C', '상품C', '상품F', '상품T', '상품Y', '상품D', '상품A', '상품Y', '상품F', '상품F', '상품M', '상품B', '상품H', '상품I', '상품F', '상품O', '상품A', '상품Q', '상품D', '상품F', '상품G', '상품O', '상품S', '상품T', '상품D', '상품I', '상품P', '상품K', '상품R', '상품V', '상품D', '상품C', '상품B', '상품C', '상품D', '상품F', '상품R', '상품H', '상품A', '상품S', '상품X', '상품P', '상품I', '상품Y', '상품C', '상품B', '상품A', '상품V', '상품W', '상품G', '상품V', '상품C', '상품N', '상품L', '상품I', '상품R', '상품B', '상품W', '상품E', '상품R', '상품N', '상품G', '상품U', '상품N', '상품Y', '상품L', '상품W', '상품D', '상품O', '상품N', '상품J', '상품A', '상품H', '상품D', '상품K', '상품B', '상품C', '상품M', '상품T', '상품X', '상품V', '상품L', '상품A', '상품Y', '상품T', '상품N', '상품G', '상품M', '상품T', '상품F', '상품M', '상품M', '상품I', '상품Y', '상품G', '상품B', '상품U', '상품X', '상품F', '상품J', '상품A', '상품R', '상품V', '상품P', '상품A', '상품O', '상품Y', '상품R', '상품X', '상품R', '상품A', '상품Y', '상품Q', '상품V', '상품O', '상품O', '상품M', '상품G', '상품S', '상품K', '상품J', '상품O', '상품R', '상품Q', '상품M', '상품C', '상품W', '상품G', '상품C', '상품P', '상품N', '상품N', '상품A', '상품E', '상품V', '상품D', '상품U', '상품S', '상품N', '상품Y', '상품R', '상품N', '상품W', '상품J', '상품L', '상품D', '상품S', '상품Y', '상품W', '상품T', '상품L', '상품V', '상품R', '상품H', '상품E', '상품O', '상품E', '상품V', '상품Q', '상품H', '상품I', '상품M', '상품M', '상품X', '상품L', '상품F', '상품E', '상품S', '상품N', '상품I', '상품O', '상품F', '상품B', '상품N', '상품O', '상품P', '상품V', '상품L', '상품I', '상품N', '상품U', '상품J', '상품X', '상품E', '상품O', '상품D', '상품C', '상품K', '상품K', '상품R', '상품X', '상품S', '상품W', '상품U', '상품J', '상품C', '상품I', '상품Q', '상품E', '상품V', '상품D', '상품R', '상품F', '상품B', '상품K', '상품A', '상품T', '상품A', '상품U', '상품Y', '상품Q', '상품L', '상품R', '상품H', '상품S', '상품Q', '상품S', '상품W', '상품H', '상품G', '상품M', '상품A', '상품M', '상품M', '상품Q', '상품T', '상품X', '상품U', '상품O', '상품S', '상품E', '상품C', '상품C', '상품R', '상품J', '상품G', '상품L', '상품Y', '상품P', '상품O', '상품K', '상품C', '상품A', '상품N', '상품J', '상품N', '상품X', '상품U', '상품A', '상품J', '상품G', '상품S', '상품J', '상품Q', '상품X', '상품R', '상품C', '상품Y', '상품U', '상품L', '상품B', '상품Q', '상품R', '상품A', '상품P', '상품L', '상품L', '상품H', '상품D', '상품D', '상품R', '상품A', '상품S', '상품Y', '상품C', '상품V', '상품A', '상품N', '상품M', '상품E', '상품C', '상품A', '상품A', '상품N', '상품W', '상품X', '상품I', '상품L', '상품Y', '상품P', '상품D', '상품V', '상품O', '상품L', '상품B', '상품J', '상품S', '상품X', '상품D', '상품B', '상품K', '상품R', '상품V', '상품N', '상품A', '상품Q', '상품I', '상품P', '상품E', '상품B', '상품S', '상품Q', '상품O', '상품W', '상품D', '상품K', '상품J', '상품X', '상품J', '상품C', '상품V', '상품C', '상품D', '상품H', '상품O', '상품K', '상품U', '상품N', '상품E', '상품D', '상품Y', '상품B', '상품G', '상품X', '상품X', '상품B', '상품S', '상품T', '상품O', '상품W', '상품Q', '상품M', '상품Q', '상품O', '상품J', '상품B', '상품K', '상품S', '상품F', '상품C', '상품O', '상품S', '상품T', '상품H', '상품R', '상품P', '상품A', '상품U', '상품H', '상품J', '상품S', '상품A', '상품Q', '상품G', '상품P', '상품Q', '상품R', '상품X', '상품Y', '상품R', '상품P', '상품Q', '상품I', '상품D', '상품F', '상품X', '상품Y', '상품O', '상품D', '상품S', '상품O', '상품F', '상품S', '상품F', '상품G', '상품T', '상품J', '상품B', '상품O', '상품M', '상품O', '상품O', '상품F', '상품J', '상품V', '상품I', '상품S', '상품H', '상품C', '상품I', '상품B', '상품W', '상품J', '상품B', '상품N', '상품N', '상품V', '상품X', '상품R', '상품H', '상품U', '상품E', '상품L', '상품A', '상품F', '상품V', '상품E', '상품L', '상품K', '상품I', '상품C', '상품R', '상품F', '상품L', '상품X', '상품G', '상품I', '상품H', '상품P', '상품L', '상품X', '상품H', '상품C', '상품Y', '상품S', '상품X', '상품R', '상품B', '상품I', '상품J', '상품A', '상품P', '상품A', '상품H', '상품I', '상품K', '상품R', '상품F', '상품S', '상품R', '상품K', '상품C', '상품V', '상품U', '상품N', '상품G', '상품J', '상품A', '상품J', '상품L', '상품X', '상품F', '상품V', '상품T', '상품F', '상품F', '상품G', '상품X', '상품M', '상품I', '상품Q', '상품O', '상품E', '상품M', '상품O', '상품C', '상품R', '상품F', '상품N', '상품F', '상품W', '상품E', '상품L', '상품I', '상품V', '상품N', '상품E', '상품P', '상품N', '상품U', '상품Q', '상품K', '상품K', '상품U', '상품C', '상품S', '상품H', '상품J', '상품Q', '상품O', '상품N', '상품K', '상품I', '상품H', '상품B', '상품L', '상품L', '상품U', '상품B', '상품P', '상품L', '상품U', '상품S', '상품I', '상품I', '상품A', '상품C', '상품C', '상품H', '상품C', '상품H', '상품J', '상품K', '상품Q', '상품W', '상품U', '상품S', '상품T', '상품H', '상품F', '상품B', '상품N', '상품K', '상품S', '상품W', '상품L', '상품G', '상품R', '상품V', '상품P', '상품U', '상품J', '상품W', '상품W', '상품B', '상품Q', '상품I', '상품B', '상품O', '상품P', '상품H', '상품R', '상품O', '상품Q', '상품B', '상품R', '상품O', '상품J', '상품B', '상품E', '상품B', '상품C', '상품U', '상품Q', '상품A', '상품W', '상품V', '상품F', '상품X', '상품H', '상품Q', '상품Q', '상품S', '상품E', '상품T', '상품T', '상품B', '상품T', '상품N', '상품V', '상품K', '상품N', '상품V', '상품T', '상품F', '상품B', '상품O', '상품B', '상품B', '상품D', '상품O', '상품L', '상품C', '상품A', '상품S', '상품H', '상품L', '상품S', '상품V', '상품O', '상품P', '상품P', '상품V', '상품X', '상품C', '상품X', '상품C', '상품U', '상품T', '상품B', '상품C', '상품Q', '상품T', '상품B', '상품S', '상품F', '상품S', '상품S', '상품A', '상품M', '상품T', '상품A', '상품T', '상품W', '상품G', '상품V', '상품Y', '상품M', '상품J', '상품O', '상품P', '상품S', '상품A', '상품T', '상품M', '상품R', '상품I', '상품P', '상품B', '상품O', '상품M', '상품F', '상품B', '상품H', '상품Q', '상품U', '상품H', '상품Q', '상품T', '상품V', '상품G', '상품V', '상품E', '상품V', '상품X', '상품Q', '상품F', '상품L', '상품G', '상품I', '상품G', '상품Q', '상품Y', '상품T', '상품A', '상품P', '상품L', '상품T', '상품B', '상품T', '상품D', '상품L', '상품Q', '상품D', '상품H', '상품C', '상품O', '상품A', '상품P', '상품Q', '상품Q', '상품A', '상품X', '상품T', '상품J', '상품N', '상품V', '상품P', '상품R', '상품N', '상품C', '상품Q', '상품A', '상품W', '상품Q', '상품L', '상품J', '상품X', '상품C', '상품E', '상품H', '상품J', '상품O', '상품R', '상품F', '상품T', '상품M', '상품D', '상품N', '상품D', '상품C', '상품B', '상품C', '상품M', '상품W', '상품O', '상품B', '상품U', '상품T', '상품K', '상품U', '상품P', '상품T', '상품M', '상품A', '상품P', '상품P', '상품L', '상품P', '상품Q', '상품S', '상품O', '상품M', '상품N', '상품D', '상품K', '상품C', '상품I', '상품Q', '상품G', '상품V', '상품S', '상품D', '상품D', '상품A', '상품G', '상품M', '상품A', '상품A', '상품Q', '상품S', '상품H', '상품D', '상품M', '상품T', '상품G', '상품E', '상품K', '상품Y', '상품G', '상품C', '상품V', '상품G', '상품X', '상품K', '상품Y', '상품S', '상품C', '상품H', '상품B', '상품S', '상품W', '상품L', '상품V', '상품M', '상품R', '상품S', '상품O', '상품N', '상품G', '상품J', '상품M', '상품H', '상품Y', '상품G', '상품T', '상품T', '상품V', '상품J', '상품W', '상품Y', '상품T', '상품U', '상품P', '상품W', '상품S', '상품H', '상품R', '상품A', '상품H', '상품Q', '상품V', '상품A', '상품I', '상품G', '상품N', '상품T', '상품E', '상품L', '상품T', '상품L', '상품B', '상품J', '상품N', '상품D', '상품N', '상품V', '상품B', '상품Y', '상품D', '상품V', '상품T', '상품F', '상품N', '상품I', '상품I', '상품C', '상품W', '상품W', '상품H', '상품O', '상품P', '상품C', '상품J', '상품M', '상품Y', '상품O', '상품X', '상품Y', '상품M', '상품G', '상품N', '상품J', '상품Q', '상품D', '상품F', '상품C', '상품D', '상품P', '상품K', '상품W', '상품D', '상품R', '상품B', '상품P', '상품M', '상품T', '상품V', '상품A', '상품G', '상품C', '상품S', '상품N', '상품D', '상품S', '상품S', '상품I', '상품E', '상품I', '상품I', '상품V', '상품W', '상품E', '상품B', '상품S', '상품B', '상품X', '상품W', '상품A', '상품G', '상품U', '상품H', '상품P', '상품C', '상품X', '상품A', '상품W', '상품P', '상품C', '상품U', '상품V', '상품P', '상품K', '상품X', '상품F', '상품W', '상품Q', '상품X', '상품Q', '상품C', '상품I', '상품B', '상품A', '상품S', '상품A', '상품U', '상품K', '상품H', '상품L', '상품K', '상품W', '상품P', '상품Y', '상품U', '상품Q', '상품W', '상품I', '상품A', '상품V', '상품C', '상품S', '상품U', '상품N', '상품T', '상품F', '상품L', '상품J', '상품O', '상품T', '상품Y', '상품F', '상품K', '상품E', '상품R', '상품L', '상품M', '상품N', '상품O', '상품K', '상품J', '상품V', '상품E', '상품I', '상품I', '상품E', '상품E', '상품U', '상품K', '상품A', '상품P', '상품S', '상품J', '상품T', '상품X', '상품G', '상품S', '상품D', '상품I', '상품F', '상품K', '상품K', '상품F', '상품H', '상품M', '상품S', '상품G', '상품W', '상품O', '상품H', '상품L', '상품O', '상품J', '상품R', '상품H', '상품G', '상품Y', '상품W', '상품E', '상품G', '상품S', '상품A', '상품V', '상품V', '상품M', '상품R', '상품P', '상품C', '상품Y', '상품W', '상품S', '상품I', '상품G', '상품T', '상품C', '상품T', '상품Q', '상품S', '상품H', '상품I', '상품T', '상품S', '상품R', '상품Q', '상품M', '상품O', '상품B', '상품D', '상품Y', '상품N', '상품K', '상품R', '상품L', '상품C', '상품C', '상품X', '상품P', '상품E', '상품M', '상품X', '상품M', '상품V', '상품J', '상품X', '상품J', '상품K', '상품N', '상품Q', '상품O', '상품M', '상품V', '상품T', '상품S', '상품I', '상품K', '상품D', '상품D', '상품V', '상품X', '상품V', '상품T', '상품F', '상품P', '상품Y', '상품N', '상품E', '상품Q', '상품P', '상품F', '상품I', '상품T', '상품O', '상품X', '상품G', '상품P', '상품E', '상품S', '상품S', '상품E', '상품B', '상품O', '상품S', '상품I', '상품A', '상품L', '상품W', '상품L', '상품I', '상품M', '상품V', '상품F', '상품M', '상품U', '상품D', '상품D', '상품N', '상품G', '상품E', '상품F', '상품V', '상품E', '상품R', '상품E', '상품S', '상품Q', '상품X', '상품B', '상품Q', '상품N', '상품A', '상품K', '상품T', '상품S', '상품L', '상품S', '상품P', '상품J', '상품Y', '상품D', '상품C', '상품D', '상품D', '상품L', '상품B', '상품G', '상품V', '상품J', '상품L', '상품S', '상품R', '상품R', '상품M', '상품A', '상품A', '상품B', '상품U', '상품I', '상품K', '상품H', '상품I', '상품T', '상품W', '상품E', '상품Y', '상품K', '상품K', '상품A', '상품F', '상품J', '상품O', '상품X', '상품C', '상품V', '상품P', '상품M', '상품X', '상품H', '상품Y', '상품F', '상품X', '상품D', '상품N', '상품Y', '상품A', '상품K', '상품M', '상품C', '상품A', '상품D', '상품O', '상품J', '상품R', '상품I', '상품A', '상품M', '상품J', '상품S', '상품Q', '상품K', '상품N', '상품H', '상품P', '상품T', '상품Q', '상품C', '상품V', '상품A', '상품N', '상품X', '상품R', '상품N', '상품I', '상품F', '상품U', '상품G', '상품C', '상품G', '상품N', '상품T', '상품M', '상품R', '상품O', '상품D', '상품C', '상품E', '상품C', '상품P', '상품J', '상품C', '상품H', '상품W', '상품X', '상품B', '상품M', '상품X', '상품P', '상품Q', '상품V', '상품E', '상품N', '상품S', '상품I', '상품P', '상품C', '상품W', '상품F', '상품W', '상품Q', '상품E', '상품R', '상품G', '상품G', '상품X', '상품Q', '상품H', '상품V', '상품B', '상품I', '상품Y', '상품D', '상품U', '상품P', '상품K', '상품O', '상품N', '상품Q', '상품F', '상품Q', '상품U', '상품C', '상품J', '상품L', '상품I', '상품W', '상품L', '상품P', '상품V', '상품V', '상품M', '상품I', '상품A', '상품G', '상품D', '상품M', '상품M', '상품U', '상품I', '상품P', '상품M', '상품D', '상품W', '상품D', '상품U', '상품B', '상품R', '상품C', '상품D', '상품R', '상품P', '상품G', '상품W', '상품Q', '상품N', '상품W', '상품R', '상품B', '상품N', '상품D', '상품A', '상품E', '상품G', '상품H', '상품O', '상품H', '상품Q', '상품X', '상품T', '상품J', '상품T', '상품G', '상품Q', '상품Q', '상품R', '상품Y', '상품L', '상품F', '상품D', '상품Y', '상품U', '상품K', '상품M', '상품O', '상품V', '상품E', '상품K', '상품C', '상품N', '상품A', '상품K', '상품F', '상품T', '상품H', '상품I', '상품X', '상품J', '상품T', '상품E', '상품A', '상품Q', '상품O', '상품H', '상품L', '상품Y', '상품F', '상품M', '상품Q', '상품F', '상품D', '상품U', '상품E', '상품K', '상품Q', '상품P', '상품F', '상품I', '상품O', '상품N', '상품K', '상품T', '상품Q', '상품L', '상품M', '상품X', '상품J', '상품W', '상품H', '상품K', '상품J', '상품F', '상품N', '상품M', '상품D', '상품A', '상품E', '상품R', '상품K', '상품Q', '상품M', '상품U', '상품S', '상품X', '상품C', '상품C', '상품V', '상품S', '상품U', '상품V', '상품H', '상품L', '상품A', '상품K', '상품C', '상품Q', '상품R', '상품J', '상품Q', '상품S', '상품U', '상품H', '상품L', '상품I', '상품R', '상품X', '상품R', '상품J', '상품K', '상품P', '상품O', '상품W', '상품L', '상품B', '상품R', '상품A', '상품O', '상품J', '상품B', '상품P', '상품H', '상품H', '상품V', '상품O', '상품G', '상품I', '상품B', '상품F', '상품H', '상품G', '상품M', '상품P', '상품T', '상품O', '상품C', '상품H', '상품U', '상품B', '상품S', '상품W', '상품A', '상품W', '상품L', '상품M', '상품W', '상품I', '상품I', '상품Y', '상품L', '상품W', '상품E', '상품T', '상품P', '상품A', '상품H', '상품I', '상품W', '상품N', '상품T', '상품G', '상품R', '상품M', '상품C', '상품W', '상품R', '상품L', '상품O', '상품M', '상품F', '상품X', '상품L', '상품G', '상품E', '상품U', '상품R', '상품B', '상품C', '상품A', '상품U', '상품U', '상품J', '상품K', '상품P', '상품Q', '상품K', '상품M', '상품J', '상품U', '상품S', '상품X', '상품V', '상품F', '상품E', '상품P', '상품T', '상품X', '상품L', '상품A', '상품L', '상품Y', '상품M', '상품A', '상품X', '상품S', '상품K', '상품G', '상품D', '상품E', '상품B', '상품R', '상품T', '상품D', '상품R', '상품O', '상품R', '상품G', '상품F', '상품I', '상품R', '상품U', '상품L', '상품G', '상품R', '상품J', '상품B', '상품Q', '상품V', '상품Y', '상품Y', '상품D', '상품J', '상품H', '상품K', '상품H', '상품G', '상품G', '상품O', '상품K', '상품Y', '상품U', '상품G', '상품G', '상품K', '상품R', '상품J', '상품S', '상품R', '상품V', '상품S', '상품W', '상품F', '상품S', '상품G', '상품O', '상품O', '상품G', '상품U', '상품D', '상품H', '상품T', '상품U', '상품Y', '상품C', '상품O', '상품A', '상품F', '상품U', '상품J', '상품D', '상품W', '상품U', '상품M', '상품T', '상품M', '상품U', '상품I', '상품E', '상품Y', '상품W', '상품U', '상품J', '상품R', '상품D', '상품F', '상품G', '상품K', '상품G', '상품G', '상품J', '상품N', '상품W', '상품G', '상품J', '상품T', '상품L', '상품E', '상품G', '상품Y', '상품I', '상품N', '상품M', '상품A', '상품W', '상품Q', '상품U', '상품P', '상품X', '상품E', '상품F', '상품A', '상품F', '상품N', '상품P', '상품P', '상품J', '상품V', '상품F', '상품T', '상품C', '상품E', '상품R', '상품J', '상품K', '상품P', '상품V', '상품H', '상품G', '상품P', '상품J', '상품L', '상품C', '상품D', '상품H', '상품B', '상품M', '상품S', '상품J', '상품U', '상품H', '상품Q', '상품W', '상품B', '상품U', '상품W', '상품U', '상품T', '상품I', '상품Q', '상품D', '상품J', '상품J', '상품E', '상품Y', '상품Q', '상품P', '상품Q', '상품R', '상품U', '상품V', '상품W', '상품I', '상품H', '상품K', '상품R', '상품X', '상품S', '상품X', '상품J', '상품T', '상품S', '상품Y', '상품T', '상품R', '상품C', '상품H', '상품V', '상품R', '상품V', '상품H', '상품J', '상품H', '상품L', '상품D', '상품Q', '상품R', '상품R', '상품N', '상품F', '상품W', '상품H', '상품M', '상품U', '상품A', '상품R', '상품G', '상품F', '상품T', '상품K', '상품X', '상품S', '상품F', '상품D', '상품D', '상품A', '상품B', '상품B', '상품O', '상품W', '상품L', '상품E', '상품P', '상품E', '상품X', '상품T', '상품K', '상품X', '상품A', '상품Y', '상품C', '상품X', '상품I', '상품S', '상품S', '상품D', '상품Q', '상품Q', '상품K', '상품M', '상품T', '상품C', '상품C', '상품C', '상품W', '상품L', '상품I', '상품A', '상품T', '상품C', '상품W', '상품C', '상품J', '상품U', '상품P', '상품X', '상품R', '상품F', '상품K', '상품O', '상품M', '상품J', '상품T', '상품I', '상품W', '상품W', '상품B', '상품U', '상품W', '상품N', '상품G', '상품C', '상품E', '상품G', '상품B', '상품I', '상품P', '상품O', '상품M', '상품C', '상품B', '상품O', '상품N', '상품W', '상품R', '상품H', '상품W', '상품C', '상품E', '상품X', '상품B', '상품U', '상품F', '상품V', '상품S', '상품U', '상품S', '상품S', '상품D', '상품T', '상품G', '상품Q', '상품A', '상품F', '상품L', '상품S', '상품M', '상품X', '상품X', '상품B', '상품F', '상품D', '상품E', '상품S', '상품F', '상품Y', '상품V', '상품U', '상품W', '상품J', '상품J', '상품L', '상품O', '상품I', '상품K', '상품E', '상품J', '상품Y', '상품Q', '상품M', '상품N', '상품C', '상품V', '상품D', '상품A', '상품R', '상품N', '상품A', '상품C', '상품O', '상품L', '상품M', '상품C', '상품O', '상품S', '상품A', '상품F', '상품P', '상품B', '상품O', '상품S', '상품M', '상품R', '상품V', '상품S', '상품O', '상품U', '상품R', '상품E', '상품N', '상품F', '상품L', '상품P', '상품S', '상품D', '상품W', '상품B', '상품F', '상품O', '상품F', '상품C', '상품P', '상품Y', '상품I', '상품D', '상품B', '상품T', '상품D', '상품H', '상품S', '상품G', '상품A', '상품V', '상품E', '상품K', '상품D', '상품L', '상품K', '상품P', '상품V', '상품R', '상품Y', '상품J', '상품L', '상품Y', '상품I', '상품Y', '상품T', '상품T', '상품T', '상품M', '상품P', '상품Y', '상품J', '상품P', '상품R', '상품G', '상품F', '상품S', '상품L', '상품C', '상품C', '상품S', '상품N', '상품A', '상품R', '상품M', '상품V', '상품X', '상품Y', '상품Q', '상품N', '상품X', '상품Y', '상품E', '상품W', '상품N', '상품V', '상품I', '상품H', '상품Y', '상품R', '상품T', '상품T', '상품P', '상품R', '상품Y', '상품Y', '상품S', '상품S', '상품B', '상품V', '상품P', '상품A', '상품T', '상품W', '상품J', '상품X', '상품P', '상품I', '상품X', '상품P', '상품D', '상품J', '상품A', '상품S', '상품Q', '상품J', '상품F', '상품F', '상품P', '상품N', '상품P', '상품D', '상품R', '상품W', '상품I', '상품I', '상품A', '상품M', '상품W', '상품U', '상품T', '상품A', '상품Q', '상품S', '상품Y', '상품Y', '상품K', '상품Q', '상품R', '상품J', '상품O', '상품C', '상품P', '상품D', '상품F', '상품U', '상품H', '상품W', '상품R', '상품H', '상품J', '상품H', '상품R', '상품N', '상품F', '상품V', '상품M', '상품O', '상품N', '상품T', '상품S', '상품N', '상품O', '상품X', '상품F', '상품I', '상품R', '상품T', '상품H', '상품D', '상품T', '상품V', '상품D', '상품B', '상품O', '상품R', '상품Q', '상품J', '상품U', '상품G', '상품L', '상품T', '상품V', '상품P', '상품H', '상품E', '상품X', '상품H', '상품D', '상품W', '상품L', '상품N', '상품P', '상품S', '상품S', '상품C', '상품L', '상품E', '상품E', '상품I', '상품P', '상품U', '상품P', '상품E', '상품T', '상품L', '상품A', '상품W', '상품R', '상품K', '상품P', '상품O', '상품T', '상품B', '상품X', '상품R', '상품M', '상품A', '상품P', '상품T', '상품R', '상품D', '상품P', '상품U', '상품E', '상품W', '상품V', '상품S', '상품V', '상품E', '상품L', '상품C', '상품U', '상품W', '상품E', '상품O', '상품B', '상품I', '상품P', '상품H', '상품B', '상품I', '상품S', '상품Y', '상품A', '상품J', '상품R', '상품R', '상품X', '상품P', '상품W', '상품P', '상품P', '상품G', '상품T', '상품G', '상품X', '상품N', '상품S', '상품B', '상품Y', '상품J', '상품V', '상품Q', '상품E', '상품O', '상품J', '상품H', '상품T', '상품I', '상품W', '상품D', '상품P', '상품X', '상품K', '상품K', '상품V', '상품A', '상품W', '상품K', '상품O', '상품F', '상품I', '상품L', '상품W', '상품R', '상품E', '상품Y', '상품I', '상품U', '상품A', '상품M', '상품L', '상품D', '상품C', '상품L', '상품D', '상품N', '상품G', '상품W', '상품P', '상품Q', '상품S', '상품G', '상품N', '상품X', '상품N', '상품N', '상품F', '상품L', '상품N', '상품G', '상품G', '상품E', '상품P', '상품O', '상품T', '상품K', '상품P', '상품C', '상품C', '상품V', '상품D', '상품R', '상품K', '상품X', '상품X', '상품K', '상품O', '상품H', '상품Q', '상품W', '상품K', '상품L', '상품C', '상품V', '상품Y', '상품X', '상품M', '상품L', '상품A', '상품T', '상품M', '상품Y', '상품V', '상품I', '상품I', '상품G', '상품Y', '상품Y', '상품M', '상품A', '상품I', '상품K', '상품T', '상품D', '상품D', '상품G', '상품X', '상품L', '상품U', '상품A', '상품R', '상품B', '상품F', '상품M', '상품F', '상품B', '상품E', '상품J', '상품P', '상품J', '상품A', '상품J', '상품J', '상품O', '상품U', '상품F', '상품D', '상품E', '상품G', '상품N', '상품H', '상품T', '상품Q', '상품U', '상품V', '상품H', '상품K', '상품P', '상품A', '상품H', '상품H', '상품Q', '상품E', '상품Y', '상품V', '상품L', '상품Q', '상품W', '상품W', '상품N', '상품S', '상품S', '상품V', '상품T', '상품H', '상품Q', '상품M', '상품I', '상품S', '상품D', '상품G', '상품S', '상품C', '상품E', '상품D', '상품I', '상품N', '상품U', '상품E', '상품K', '상품J', '상품Q', '상품S', '상품N', '상품C', '상품X', '상품L', '상품A', '상품Q', '상품H', '상품D', '상품H', '상품D', '상품L', '상품V', '상품K', '상품R', '상품J', '상품K', '상품F', '상품L', '상품B', '상품B', '상품O', '상품T', '상품Y', '상품D', '상품L', '상품R', '상품R', '상품R', '상품U', '상품R', '상품H', '상품V', '상품A', '상품S', '상품Q', '상품N', '상품X', '상품P', '상품X', '상품S', '상품Y', '상품B', '상품J', '상품C', '상품N', '상품W', '상품H', '상품V', '상품N', '상품Q', '상품C', '상품A', '상품M', '상품M', '상품J', '상품C', '상품X', '상품Q', '상품A', '상품M', '상품D', '상품H', '상품C', '상품Y', '상품Y', '상품B', '상품O', '상품D', '상품Q', '상품A', '상품G', '상품O', '상품Y', '상품J', '상품G', '상품N', '상품O', '상품N', '상품M', '상품R', '상품A', '상품Y', '상품K', '상품I', '상품I', '상품K', '상품E', '상품D', '상품V', '상품C', '상품G', '상품U', '상품Y', '상품Y', '상품P', '상품N', '상품B', '상품I', '상품P', '상품D', '상품H', '상품N', '상품D', '상품L', '상품F', '상품B', '상품S', '상품Q', '상품F', '상품W', '상품F', '상품K', '상품V', '상품B', '상품Q', '상품J', '상품W', '상품G', '상품B', '상품C', '상품I', '상품L', '상품V', '상품C', '상품E', '상품M', '상품J', '상품O', '상품G', '상품S', '상품K', '상품U', '상품S', '상품Y', '상품A', '상품H', '상품T', '상품F', '상품Y', '상품F', '상품O', '상품S', '상품O', '상품D', '상품D', '상품O', '상품J', '상품K', '상품N', '상품Q', '상품X', '상품H', '상품O', '상품L', '상품S', '상품R', '상품A', '상품P', '상품Y', '상품L', '상품X', '상품N', '상품N', '상품P', '상품R', '상품L', '상품H', '상품G', '상품X', '상품C', '상품K', '상품R', '상품M', '상품O', '상품W', '상품C', '상품C', '상품Y', '상품M', '상품Q', '상품H', '상품D']\n"
     ]
    }
   ],
   "source": [
    "#case2\n",
    "#count() 사용\n",
    "for i in name_list:\n",
    "    if result.count(i) == 0:\n",
    "        result.append(i)\n",
    "\n",
    "print(result)\n"
   ]
  },
  {
   "cell_type": "code",
   "execution_count": 33,
   "metadata": {},
   "outputs": [
    {
     "name": "stdout",
     "output_type": "stream",
     "text": [
      "['상품A', '상품S', '상품Z', '상품V', '상품O', '상품U', '상품L', '상품C', '상품I', '상품R', '상품X', '상품G', '상품P', '상품Q', '상품Y', '상품N', '상품W', '상품E', '상품K', '상품B', '상품F', '상품D', '상품M', '상품H', '상품T', '상품J']\n"
     ]
    }
   ],
   "source": [
    "# case3( list 내장함수 중 index())\n",
    "# index() : 특정 데이터의 위치를 출력 -> 데이터가 존재하지않으면 error발생\n",
    "result = []\n",
    "\n",
    "for i in name_list:\n",
    "    try: \n",
    "        # 시도할 코드\n",
    "        result.index(i)\n",
    "    except:\n",
    "        # try 코드가 에러가 발생한다면\n",
    "        result.append(i)\n",
    "print(result)"
   ]
  },
  {
   "cell_type": "code",
   "execution_count": 34,
   "metadata": {},
   "outputs": [],
   "source": [
    "item_list = df2['item_name'].unique()\n",
    "\n",
    "for item in item_list:\n",
    "    #print(item)\n",
    "    #item: item_list에 원소들이 하나씩 대입\n",
    "    #item 변수를 이용하여 인덱스의 조건식 생성\n",
    "    #상품A부터 상품Z까지의 조건식을 반복적으로 생성\n",
    "    flag = df2['item_name'] == item\n",
    "    #print(flag.head(3))\n",
    "    #item_price가 결측치인 인덱스 조건식\n",
    "    flag_null = df2['item_price'].isna()\n",
    "\n",
    "    #flag 조건식과 flag_null의 부정 조건식에 item_price의 평균\n",
    "    mean_data = df2.loc[flag & ~flag_null,'item_price'].mean()\n",
    "    #mean_data를 flag 조건식과 flag_null 조건식에 item_price 대입\n",
    "    df2.loc[flag & flag_null, 'item_pricㅌ  e'] = mean_data"
   ]
  },
  {
   "cell_type": "code",
   "execution_count": 35,
   "metadata": {},
   "outputs": [
    {
     "data": {
      "text/plain": [
       "purchase_date       0\n",
       "item_name           0\n",
       "item_price        365\n",
       "customer_name       0\n",
       "item_pricㅌ  e    2634\n",
       "dtype: int64"
      ]
     },
     "execution_count": 35,
     "metadata": {},
     "output_type": "execute_result"
    }
   ],
   "source": [
    "df2.isna().sum()"
   ]
  },
  {
   "cell_type": "code",
   "execution_count": 36,
   "metadata": {},
   "outputs": [
    {
     "data": {
      "text/html": [
       "<div>\n",
       "<style scoped>\n",
       "    .dataframe tbody tr th:only-of-type {\n",
       "        vertical-align: middle;\n",
       "    }\n",
       "\n",
       "    .dataframe tbody tr th {\n",
       "        vertical-align: top;\n",
       "    }\n",
       "\n",
       "    .dataframe thead th {\n",
       "        text-align: right;\n",
       "    }\n",
       "</style>\n",
       "<table border=\"1\" class=\"dataframe\">\n",
       "  <thead>\n",
       "    <tr style=\"text-align: right;\">\n",
       "      <th></th>\n",
       "      <th>item_price</th>\n",
       "    </tr>\n",
       "    <tr>\n",
       "      <th>item_name</th>\n",
       "      <th></th>\n",
       "    </tr>\n",
       "  </thead>\n",
       "  <tbody>\n",
       "    <tr>\n",
       "      <th>상품A</th>\n",
       "      <td>100.0</td>\n",
       "    </tr>\n",
       "    <tr>\n",
       "      <th>상품B</th>\n",
       "      <td>200.0</td>\n",
       "    </tr>\n",
       "    <tr>\n",
       "      <th>상품C</th>\n",
       "      <td>300.0</td>\n",
       "    </tr>\n",
       "    <tr>\n",
       "      <th>상품D</th>\n",
       "      <td>400.0</td>\n",
       "    </tr>\n",
       "    <tr>\n",
       "      <th>상품E</th>\n",
       "      <td>500.0</td>\n",
       "    </tr>\n",
       "  </tbody>\n",
       "</table>\n",
       "</div>"
      ],
      "text/plain": [
       "           item_price\n",
       "item_name            \n",
       "상품A             100.0\n",
       "상품B             200.0\n",
       "상품C             300.0\n",
       "상품D             400.0\n",
       "상품E             500.0"
      ]
     },
     "execution_count": 36,
     "metadata": {},
     "output_type": "execute_result"
    }
   ],
   "source": [
    "df2[['item_name','item_price']].groupby(['item_name']).mean().head()"
   ]
  },
  {
   "cell_type": "code",
   "execution_count": 37,
   "metadata": {},
   "outputs": [],
   "source": [
    "## fillna()를 이용하여 결측치를 대체\n",
    "flag = df['item_name'] == '상품A'\n",
    "test_df = df.loc[flag]"
   ]
  },
  {
   "cell_type": "code",
   "execution_count": 38,
   "metadata": {},
   "outputs": [],
   "source": [
    "# test_df에 item_price를 기준으로 오름차순 정렬\n",
    "test_df.loc[flag].sort_values(by = 'item_price', inplace = True)"
   ]
  },
  {
   "cell_type": "code",
   "execution_count": 39,
   "metadata": {},
   "outputs": [
    {
     "name": "stderr",
     "output_type": "stream",
     "text": [
      "/var/folders/j6/txnqzgpx1wx4nmdw439z1jn80000gn/T/ipykernel_2273/363064152.py:2: SettingWithCopyWarning: \n",
      "A value is trying to be set on a copy of a slice from a DataFrame.\n",
      "Try using .loc[row_indexer,col_indexer] = value instead\n",
      "\n",
      "See the caveats in the documentation: https://pandas.pydata.org/pandas-docs/stable/user_guide/indexing.html#returning-a-view-versus-a-copy\n",
      "  test_df['item_price'] = test_df['item_price'].fillna(method = 'ffill')\n"
     ]
    }
   ],
   "source": [
    "## test_df에서 item_price가 결측치인 데이터를 전의 데이터로 치환\n",
    "test_df['item_price'] = test_df['item_price'].fillna(method = 'ffill')"
   ]
  },
  {
   "cell_type": "code",
   "execution_count": 40,
   "metadata": {},
   "outputs": [
    {
     "data": {
      "text/plain": [
       "purchase_date    0\n",
       "item_name        0\n",
       "item_price       0\n",
       "customer_name    0\n",
       "dtype: int64"
      ]
     },
     "execution_count": 40,
     "metadata": {},
     "output_type": "execute_result"
    }
   ],
   "source": [
    "test_df.isna().sum()"
   ]
  },
  {
   "cell_type": "code",
   "execution_count": 41,
   "metadata": {},
   "outputs": [
    {
     "data": {
      "text/plain": [
       "100.0"
      ]
     },
     "execution_count": 41,
     "metadata": {},
     "output_type": "execute_result"
    }
   ],
   "source": [
    "test_df['item_price'].mean()"
   ]
  },
  {
   "cell_type": "code",
   "execution_count": 42,
   "metadata": {},
   "outputs": [
    {
     "name": "stderr",
     "output_type": "stream",
     "text": [
      "/var/folders/j6/txnqzgpx1wx4nmdw439z1jn80000gn/T/ipykernel_2273/4124099415.py:1: UserWarning: Boolean Series key will be reindexed to match DataFrame index.\n",
      "  df[flag] = test_df[flag]\n"
     ]
    }
   ],
   "source": [
    "df[flag] = test_df[flag]"
   ]
  },
  {
   "cell_type": "code",
   "execution_count": 43,
   "metadata": {},
   "outputs": [
    {
     "name": "stdout",
     "output_type": "stream",
     "text": [
      "         purchase_date item_name  item_price customer_name\n",
      "74     2019-06-17 2:32       상품J      1000.0           김태민\n",
      "168   2019-07-10 16:09       상품J      1000.0           김서후\n",
      "220   2019-06-15 10:43       상품J      1000.0           김지율\n",
      "221   2019-03-27 23:49       상품J      1000.0           김은우\n",
      "225   2019-03-02 19:49       상품J      1000.0           김태경\n",
      "...                ...       ...         ...           ...\n",
      "2871   2019-02-13 9:17       상품J      1000.0           김태양\n",
      "2890  2019-01-18 20:25       상품J      1000.0           김지율\n",
      "2932  2019-06-14 21:48       상품J      1000.0           김하윤\n",
      "2943  2019-03-25 18:43       상품J      1000.0           김민서\n",
      "2963  2019-04-16 16:13       상품J      1000.0           김하율\n",
      "\n",
      "[116 rows x 4 columns]\n"
     ]
    }
   ],
   "source": [
    "item_list = df['item_name'].unique()\n",
    "for item in item_list:\n",
    "    flag = df['item_name'] == item\n",
    "    test_df = df.loc[flag]\n",
    "    #test_df.sort_values(['item_price'], inplace = True)\n",
    "    #test_df['item_price'] = test_df['item_price'].fillna(method = 'ffill')\n",
    "    #df.loc[flag] = test_df\n",
    "print(test_df)"
   ]
  },
  {
   "cell_type": "code",
   "execution_count": 44,
   "metadata": {},
   "outputs": [
    {
     "data": {
      "text/plain": [
       "purchase_date      0\n",
       "item_name          0\n",
       "item_price       365\n",
       "customer_name      0\n",
       "dtype: int64"
      ]
     },
     "execution_count": 44,
     "metadata": {},
     "output_type": "execute_result"
    }
   ],
   "source": [
    "df.isna().sum()"
   ]
  }
 ],
 "metadata": {
  "kernelspec": {
   "display_name": "Python 3",
   "language": "python",
   "name": "python3"
  },
  "language_info": {
   "codemirror_mode": {
    "name": "ipython",
    "version": 3
   },
   "file_extension": ".py",
   "mimetype": "text/x-python",
   "name": "python",
   "nbconvert_exporter": "python",
   "pygments_lexer": "ipython3",
   "version": "3.9.7"
  }
 },
 "nbformat": 4,
 "nbformat_minor": 2
}
