{
 "cells": [
  {
   "cell_type": "markdown",
   "metadata": {},
   "source": [
    "# 01. Overview"
   ]
  },
  {
   "cell_type": "markdown",
   "metadata": {},
   "source": [
    "#### 가설\n",
    "* 가설1 : 거주 인구가 많은 지역에 스타벅스 매장이 많이 입지해 있을 것이다.\n",
    "* 가설2 : 직장이 많은 지역에 스타벅스 매장이 많이 입지해 있을 것이다.\n",
    "* 가설3 : 유동인구가 많은 지역에 스타벅스 매장이 많이 입지해 있을 것이다.\n",
    "* 가설4 : 역 근처에 스타벅스 매장이 많이 입지해 있을 것이다.\n",
    "* 가설5 : 땅값이 비싼지역에 스타벅스 매장이 많이 입지해 있을 것이다.\n",
    "* 가설6 : 대학교 근처에 스타벅스 매장이 많이 입지해 있을것이다.\n",
    "* 가설7 : 인근 카페가 많을 수록 스타벅스 매장이 많이 입지해 있을 것이다.\n",
    "* 가설8 : 거주 인구가 20~30대가 많은 지역에 스타벅스 매장이 많이 입지해 있을 것이다.\n",
    "* 가설9 : 교통편이 편리한(지하철, 버스 등) 지역에 스타벅스 매장이 많을 입지해 있을 것이다.\n",
    "\n",
    "* 스타벅스 입지전략을 분석 : 가설1,2에 대한 검증 진행"
   ]
  },
  {
   "cell_type": "markdown",
   "metadata": {},
   "source": [
    "#### 데이터 수집\n",
    "* 1. 스타벅스 사이트에서 서울시에 존재하는 매장의 정보 수집\n",
    "    * 매장명, 위도, 경도, 매장타입, 주소, 전화번호\n",
    "    * https://www.starbucks.co.kr/\n",
    "\n",
    "* 2. 서울시 주민등록 인구(구별)통계 정보 수집\n",
    "    * 서울시 열린 데이터 광장\n",
    "        * https://data.seoul.go.kr/dataList/419/S/2/datasetView.do\n",
    "* 3. 서울시 사업체 현황(산업대분류별/동별) 통계 정보\n",
    "    * 서울시 열린 데이터 광장\n",
    "        * https://data.seoul.go.kr/dataList/104/S/2/datasetView.do"
   ]
  },
  {
   "cell_type": "markdown",
   "metadata": {},
   "source": [
    "## 02.데이터 수집"
   ]
  },
  {
   "cell_type": "markdown",
   "metadata": {},
   "source": [
    "### 2-1.서울시 스타벅스 매장 목록 데이터 수집:크롤링\n",
    "* www.istarbucks.co.kr"
   ]
  },
  {
   "cell_type": "code",
   "execution_count": 12,
   "metadata": {},
   "outputs": [],
   "source": [
    "import pyperclip\n",
    "from selenium import webdriver\n",
    "from selenium.webdriver.common.by import By\n",
    "from selenium.webdriver.common.keys import Keys\n",
    "from webdriver_manager.chrome import ChromeDriverManager\n",
    "from selenium.webdriver.chrome.service import Service\n",
    "import requests\n",
    "from bs4 import BeautifulSoup as bs\n",
    "import pandas as pd\n",
    "from selenium.webdriver.support.ui import WebDriverWait\n",
    "from selenium.webdriver.support import expected_conditions as EC\n",
    "service = Service()\n",
    "options = webdriver.ChromeOptions()\n",
    "driver = webdriver.Chrome(service=service, options=options)\n",
    "\n",
    "url = 'https://www.starbucks.co.kr/store/store_map.do?disp=locale'\n",
    "driver.get(url)\n",
    "driver.implicitly_wait(10)\n",
    "seoul_btn = '#container > div > form > fieldset > div > section > article.find_store_cont > article > article:nth-child(4) > div.loca_step1 > div.loca_step1_cont > ul > li:nth-child(1) > a'\n",
    "\n",
    "# WebDricerWait는 driver를 20초동안 대기시킴\n",
    "# 조건 element_to_be_clickable : 클릭가능한 요소(seoul_btn)가 나타날때까지에 대한 조건\n",
    "# 조건이 나타나면 seoul_btn를 클릭\n",
    "try:\n",
    "    WebDriverWait(driver, 20).until(EC.element_to_be_clickable((By.CSS_SELECTOR,seoul_btn))).click()\n",
    "except TimeoutError:\n",
    "    print('해당 페이지가 20초내에 열리지 않았음')"
   ]
  },
  {
   "cell_type": "code",
   "execution_count": 13,
   "metadata": {},
   "outputs": [],
   "source": [
    "# '전체' 버튼 요소를 찾아 클릭\n",
    "all_btn = '#mCSB_2_container > ul > li:nth-child(1) > a'\n",
    "try:\n",
    "    WebDriverWait(driver, 20).until(EC.element_to_be_clickable((By.CSS_SELECTOR,all_btn))).click()\n",
    "except TimeoutError:\n",
    "    print('해당 페이지가 20초내에 열리지 않았음')"
   ]
  },
  {
   "cell_type": "code",
   "execution_count": 15,
   "metadata": {},
   "outputs": [],
   "source": [
    "# BeautifulSoup으로 HTML 파서 만들기\n",
    "html = driver.page_source\n",
    "soup = bs(html,'html.parser')"
   ]
  },
  {
   "cell_type": "code",
   "execution_count": null,
   "metadata": {},
   "outputs": [],
   "source": [
    "#교수님버전\n",
    "starbucks_soup_list = soup.select('li.quickResultLstCon')\n",
    "print(len(starbucks_soup_list))\n",
    "#강희 버전\n",
    "st_li= soup.find('div',{'id':'mCSB_3_container'})\n",
    "st_li.find_all('li',{'class':'quickResultLstCon'})#[0].text.strip().split('   ')"
   ]
  },
  {
   "cell_type": "code",
   "execution_count": 91,
   "metadata": {},
   "outputs": [
    {
     "name": "stdout",
     "output_type": "stream",
     "text": [
      "역삼아레나빌딩\n",
      "37.501087\n",
      "127.043069\n",
      "pin_general\n",
      "서울특별시 강남구 언주로 425 (역삼동)\n",
      "1522-3232\n"
     ]
    }
   ],
   "source": [
    "name = starbucks_soup_list[0].find('strong').text.strip() #건물명\n",
    "lat = starbucks_soup_list[0]['data-lat'].strip() # 위도\n",
    "lng = starbucks_soup_list[0]['data-long'].strip() # 경도\n",
    "store_type = starbucks_soup_list[0].select('i')[0]['class'][0] #매장타입\n",
    "add_tel = str(starbucks_soup_list[0].select('p.result_details')[0]).split('<br/>')\n",
    "address = add_tel[0].split('>')[1]\n",
    "tel = add_tel[1].split('<')[0]\n",
    "print(name)\n",
    "print(lat)\n",
    "print(lng)\n",
    "print(store_type)\n",
    "print(address)\n",
    "print(tel)"
   ]
  },
  {
   "cell_type": "code",
   "execution_count": 84,
   "metadata": {},
   "outputs": [
    {
     "data": {
      "text/plain": [
       "'pin_general'"
      ]
     },
     "execution_count": 84,
     "metadata": {},
     "output_type": "execute_result"
    }
   ],
   "source": [
    "starbucks_soup_list[0].select('i')[0]['class'][0] #매장타입"
   ]
  },
  {
   "cell_type": "code",
   "execution_count": 80,
   "metadata": {},
   "outputs": [
    {
     "name": "stdout",
     "output_type": "stream",
     "text": [
      "[<i class=\"pin_general\">리저브 매장 2번</i>]\n"
     ]
    }
   ],
   "source": [
    "print(starbucks_soup_list[0].select('i'))"
   ]
  },
  {
   "cell_type": "code",
   "execution_count": null,
   "metadata": {},
   "outputs": [],
   "source": [
    "for i in "
   ]
  }
 ],
 "metadata": {
  "kernelspec": {
   "display_name": "base",
   "language": "python",
   "name": "python3"
  },
  "language_info": {
   "codemirror_mode": {
    "name": "ipython",
    "version": 3
   },
   "file_extension": ".py",
   "mimetype": "text/x-python",
   "name": "python",
   "nbconvert_exporter": "python",
   "pygments_lexer": "ipython3",
   "version": "3.10.9"
  }
 },
 "nbformat": 4,
 "nbformat_minor": 2
}
