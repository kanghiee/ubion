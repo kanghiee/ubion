{
 "cells": [
  {
   "cell_type": "code",
   "execution_count": 1,
   "metadata": {},
   "outputs": [],
   "source": [
    "from selenium import webdriver\n",
    "from selenium.webdriver.common.by import By\n",
    "from selenium.webdriver.common.keys import Keys\n",
    "import pandas as pd\n",
    "import time\n",
    "from bs4 import BeautifulSoup as bs\n",
    "import os\n",
    "from dotenv import load_dotenv"
   ]
  },
  {
   "cell_type": "code",
   "execution_count": 3,
   "metadata": {},
   "outputs": [],
   "source": [
    "driver = webdriver.Chrome()"
   ]
  },
  {
   "cell_type": "code",
   "execution_count": 5,
   "metadata": {},
   "outputs": [],
   "source": [
    "driver.get('https://www.instagram.com')"
   ]
  },
  {
   "cell_type": "code",
   "execution_count": 7,
   "metadata": {},
   "outputs": [],
   "source": [
    "id_element = driver.find_element(By.CSS_SELECTOR,'input[name=\"username\"]')\n",
    "id_element.send_keys('kang_hiee')"
   ]
  },
  {
   "cell_type": "code",
   "execution_count": 14,
   "metadata": {},
   "outputs": [],
   "source": [
    "id_element = driver.find_element(By.XPATH,'//*[@id=\"loginForm\"]/div/div[1]/div/label/input')\n",
    "id_element.send_keys('kang_hiee')\n",
    "pwd_element = driver.find_element(By.XPATH, '//*[@id=\"loginForm\"]/div/div[2]/div/label/input')\n",
    "pwd_element.send_keys('kang_hiee')\n",
    "pwd_element.send_keys(Keys.ENTER)\n",
    "driver.implicitly_wait(10)"
   ]
  },
  {
   "cell_type": "code",
   "execution_count": 22,
   "metadata": {},
   "outputs": [
    {
     "ename": "ElementClickInterceptedException",
     "evalue": "Message: element click intercepted: Element <svg aria-label=\"Direct\" class=\"x1lliihq x1n2onr6 x5n08af\" fill=\"currentColor\" height=\"24\" role=\"img\" viewBox=\"0 0 24 24\" width=\"24\">...</svg> is not clickable at point (36, 352). Other element would receive the click: <div class=\"x1hnuoi9 xmn1u35 x10l6tqk xn0lweg x1vjfegm\">...</div>\n  (Session info: chrome=123.0.6312.124)\nStacktrace:\n0   chromedriver                        0x0000000100a7c4a4 chromedriver + 4326564\n1   chromedriver                        0x0000000100a7496c chromedriver + 4295020\n2   chromedriver                        0x00000001006a0088 chromedriver + 278664\n3   chromedriver                        0x00000001006e8554 chromedriver + 574804\n4   chromedriver                        0x00000001006e6ad8 chromedriver + 568024\n5   chromedriver                        0x00000001006e4c58 chromedriver + 560216\n6   chromedriver                        0x00000001006e4188 chromedriver + 557448\n7   chromedriver                        0x00000001006d93ac chromedriver + 512940\n8   chromedriver                        0x00000001006d8dd0 chromedriver + 511440\n9   chromedriver                        0x000000010071b4f8 chromedriver + 783608\n10  chromedriver                        0x00000001006d74e4 chromedriver + 505060\n11  chromedriver                        0x00000001006d7f5c chromedriver + 507740\n12  chromedriver                        0x0000000100a3fa40 chromedriver + 4078144\n13  chromedriver                        0x0000000100a447f8 chromedriver + 4098040\n14  chromedriver                        0x0000000100a265e4 chromedriver + 3974628\n15  chromedriver                        0x0000000100a45110 chromedriver + 4100368\n16  chromedriver                        0x0000000100a17bd4 chromedriver + 3914708\n17  chromedriver                        0x0000000100a65718 chromedriver + 4232984\n18  chromedriver                        0x0000000100a65894 chromedriver + 4233364\n19  chromedriver                        0x0000000100a745e0 chromedriver + 4294112\n20  libsystem_pthread.dylib             0x000000019d6bef94 _pthread_start + 136\n21  libsystem_pthread.dylib             0x000000019d6b9d34 thread_start + 8\n",
     "output_type": "error",
     "traceback": [
      "\u001b[0;31m---------------------------------------------------------------------------\u001b[0m",
      "\u001b[0;31mElementClickInterceptedException\u001b[0m          Traceback (most recent call last)",
      "Cell \u001b[0;32mIn[22], line 3\u001b[0m\n\u001b[1;32m      1\u001b[0m dm_icon \u001b[38;5;241m=\u001b[39m driver\u001b[38;5;241m.\u001b[39mfind_element(By\u001b[38;5;241m.\u001b[39mCSS_SELECTOR,\n\u001b[1;32m      2\u001b[0m                               \u001b[38;5;124m'\u001b[39m\u001b[38;5;124msvg[aria-label=\u001b[39m\u001b[38;5;124m\"\u001b[39m\u001b[38;5;124mDirect\u001b[39m\u001b[38;5;124m\"\u001b[39m\u001b[38;5;124m]\u001b[39m\u001b[38;5;124m'\u001b[39m)\n\u001b[0;32m----> 3\u001b[0m \u001b[43mdm_icon\u001b[49m\u001b[38;5;241;43m.\u001b[39;49m\u001b[43mclick\u001b[49m\u001b[43m(\u001b[49m\u001b[43m)\u001b[49m\n",
      "File \u001b[0;32m~/miniforge3/lib/python3.10/site-packages/selenium/webdriver/remote/webelement.py:94\u001b[0m, in \u001b[0;36mWebElement.click\u001b[0;34m(self)\u001b[0m\n\u001b[1;32m     92\u001b[0m \u001b[38;5;28;01mdef\u001b[39;00m \u001b[38;5;21mclick\u001b[39m(\u001b[38;5;28mself\u001b[39m) \u001b[38;5;241m-\u001b[39m\u001b[38;5;241m>\u001b[39m \u001b[38;5;28;01mNone\u001b[39;00m:\n\u001b[1;32m     93\u001b[0m \u001b[38;5;250m    \u001b[39m\u001b[38;5;124;03m\"\"\"Clicks the element.\"\"\"\u001b[39;00m\n\u001b[0;32m---> 94\u001b[0m     \u001b[38;5;28;43mself\u001b[39;49m\u001b[38;5;241;43m.\u001b[39;49m\u001b[43m_execute\u001b[49m\u001b[43m(\u001b[49m\u001b[43mCommand\u001b[49m\u001b[38;5;241;43m.\u001b[39;49m\u001b[43mCLICK_ELEMENT\u001b[49m\u001b[43m)\u001b[49m\n",
      "File \u001b[0;32m~/miniforge3/lib/python3.10/site-packages/selenium/webdriver/remote/webelement.py:395\u001b[0m, in \u001b[0;36mWebElement._execute\u001b[0;34m(self, command, params)\u001b[0m\n\u001b[1;32m    393\u001b[0m     params \u001b[38;5;241m=\u001b[39m {}\n\u001b[1;32m    394\u001b[0m params[\u001b[38;5;124m\"\u001b[39m\u001b[38;5;124mid\u001b[39m\u001b[38;5;124m\"\u001b[39m] \u001b[38;5;241m=\u001b[39m \u001b[38;5;28mself\u001b[39m\u001b[38;5;241m.\u001b[39m_id\n\u001b[0;32m--> 395\u001b[0m \u001b[38;5;28;01mreturn\u001b[39;00m \u001b[38;5;28;43mself\u001b[39;49m\u001b[38;5;241;43m.\u001b[39;49m\u001b[43m_parent\u001b[49m\u001b[38;5;241;43m.\u001b[39;49m\u001b[43mexecute\u001b[49m\u001b[43m(\u001b[49m\u001b[43mcommand\u001b[49m\u001b[43m,\u001b[49m\u001b[43m \u001b[49m\u001b[43mparams\u001b[49m\u001b[43m)\u001b[49m\n",
      "File \u001b[0;32m~/miniforge3/lib/python3.10/site-packages/selenium/webdriver/remote/webdriver.py:347\u001b[0m, in \u001b[0;36mWebDriver.execute\u001b[0;34m(self, driver_command, params)\u001b[0m\n\u001b[1;32m    345\u001b[0m response \u001b[38;5;241m=\u001b[39m \u001b[38;5;28mself\u001b[39m\u001b[38;5;241m.\u001b[39mcommand_executor\u001b[38;5;241m.\u001b[39mexecute(driver_command, params)\n\u001b[1;32m    346\u001b[0m \u001b[38;5;28;01mif\u001b[39;00m response:\n\u001b[0;32m--> 347\u001b[0m     \u001b[38;5;28;43mself\u001b[39;49m\u001b[38;5;241;43m.\u001b[39;49m\u001b[43merror_handler\u001b[49m\u001b[38;5;241;43m.\u001b[39;49m\u001b[43mcheck_response\u001b[49m\u001b[43m(\u001b[49m\u001b[43mresponse\u001b[49m\u001b[43m)\u001b[49m\n\u001b[1;32m    348\u001b[0m     response[\u001b[38;5;124m\"\u001b[39m\u001b[38;5;124mvalue\u001b[39m\u001b[38;5;124m\"\u001b[39m] \u001b[38;5;241m=\u001b[39m \u001b[38;5;28mself\u001b[39m\u001b[38;5;241m.\u001b[39m_unwrap_value(response\u001b[38;5;241m.\u001b[39mget(\u001b[38;5;124m\"\u001b[39m\u001b[38;5;124mvalue\u001b[39m\u001b[38;5;124m\"\u001b[39m, \u001b[38;5;28;01mNone\u001b[39;00m))\n\u001b[1;32m    349\u001b[0m     \u001b[38;5;28;01mreturn\u001b[39;00m response\n",
      "File \u001b[0;32m~/miniforge3/lib/python3.10/site-packages/selenium/webdriver/remote/errorhandler.py:229\u001b[0m, in \u001b[0;36mErrorHandler.check_response\u001b[0;34m(self, response)\u001b[0m\n\u001b[1;32m    227\u001b[0m         alert_text \u001b[38;5;241m=\u001b[39m value[\u001b[38;5;124m\"\u001b[39m\u001b[38;5;124malert\u001b[39m\u001b[38;5;124m\"\u001b[39m]\u001b[38;5;241m.\u001b[39mget(\u001b[38;5;124m\"\u001b[39m\u001b[38;5;124mtext\u001b[39m\u001b[38;5;124m\"\u001b[39m)\n\u001b[1;32m    228\u001b[0m     \u001b[38;5;28;01mraise\u001b[39;00m exception_class(message, screen, stacktrace, alert_text)  \u001b[38;5;66;03m# type: ignore[call-arg]  # mypy is not smart enough here\u001b[39;00m\n\u001b[0;32m--> 229\u001b[0m \u001b[38;5;28;01mraise\u001b[39;00m exception_class(message, screen, stacktrace)\n",
      "\u001b[0;31mElementClickInterceptedException\u001b[0m: Message: element click intercepted: Element <svg aria-label=\"Direct\" class=\"x1lliihq x1n2onr6 x5n08af\" fill=\"currentColor\" height=\"24\" role=\"img\" viewBox=\"0 0 24 24\" width=\"24\">...</svg> is not clickable at point (36, 352). Other element would receive the click: <div class=\"x1hnuoi9 xmn1u35 x10l6tqk xn0lweg x1vjfegm\">...</div>\n  (Session info: chrome=123.0.6312.124)\nStacktrace:\n0   chromedriver                        0x0000000100a7c4a4 chromedriver + 4326564\n1   chromedriver                        0x0000000100a7496c chromedriver + 4295020\n2   chromedriver                        0x00000001006a0088 chromedriver + 278664\n3   chromedriver                        0x00000001006e8554 chromedriver + 574804\n4   chromedriver                        0x00000001006e6ad8 chromedriver + 568024\n5   chromedriver                        0x00000001006e4c58 chromedriver + 560216\n6   chromedriver                        0x00000001006e4188 chromedriver + 557448\n7   chromedriver                        0x00000001006d93ac chromedriver + 512940\n8   chromedriver                        0x00000001006d8dd0 chromedriver + 511440\n9   chromedriver                        0x000000010071b4f8 chromedriver + 783608\n10  chromedriver                        0x00000001006d74e4 chromedriver + 505060\n11  chromedriver                        0x00000001006d7f5c chromedriver + 507740\n12  chromedriver                        0x0000000100a3fa40 chromedriver + 4078144\n13  chromedriver                        0x0000000100a447f8 chromedriver + 4098040\n14  chromedriver                        0x0000000100a265e4 chromedriver + 3974628\n15  chromedriver                        0x0000000100a45110 chromedriver + 4100368\n16  chromedriver                        0x0000000100a17bd4 chromedriver + 3914708\n17  chromedriver                        0x0000000100a65718 chromedriver + 4232984\n18  chromedriver                        0x0000000100a65894 chromedriver + 4233364\n19  chromedriver                        0x0000000100a745e0 chromedriver + 4294112\n20  libsystem_pthread.dylib             0x000000019d6bef94 _pthread_start + 136\n21  libsystem_pthread.dylib             0x000000019d6b9d34 thread_start + 8\n"
     ]
    }
   ],
   "source": [
    "dm_icon = driver.find_element(By.CSS_SELECTOR,\n",
    "                              'svg[aria-label=\"Direct\"]')\n",
    "dm_icon.click()"
   ]
  },
  {
   "cell_type": "code",
   "execution_count": null,
   "metadata": {},
   "outputs": [],
   "source": []
  }
 ],
 "metadata": {
  "kernelspec": {
   "display_name": "base",
   "language": "python",
   "name": "python3"
  },
  "language_info": {
   "codemirror_mode": {
    "name": "ipython",
    "version": 3
   },
   "file_extension": ".py",
   "mimetype": "text/x-python",
   "name": "python",
   "nbconvert_exporter": "python",
   "pygments_lexer": "ipython3",
   "version": "3.10.9"
  }
 },
 "nbformat": 4,
 "nbformat_minor": 2
}
